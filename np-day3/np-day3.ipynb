{
 "cells": [
  {
   "cell_type": "code",
   "execution_count": 1,
   "id": "9f22031f-ad06-4b16-b4f7-d21d914c33cd",
   "metadata": {},
   "outputs": [],
   "source": [
    "import numpy as np"
   ]
  },
  {
   "cell_type": "code",
   "execution_count": 3,
   "id": "801c42a9-fd81-42f1-bd25-cd43772225eb",
   "metadata": {},
   "outputs": [
    {
     "data": {
      "text/plain": [
       "array([[ 0,  1,  2,  3],\n",
       "       [ 4,  5,  6,  7],\n",
       "       [ 8,  9, 10, 11]])"
      ]
     },
     "execution_count": 3,
     "metadata": {},
     "output_type": "execute_result"
    }
   ],
   "source": [
    "arr=np.arange(12).reshape(3,4)\n",
    "arr"
   ]
  },
  {
   "cell_type": "code",
   "execution_count": 4,
   "id": "bb4ffbe4-32ca-4561-acc8-4750753b56cf",
   "metadata": {},
   "outputs": [
    {
     "data": {
      "text/plain": [
       "array([ 0,  1,  2,  3,  4,  5,  6,  7,  8,  9, 10, 11])"
      ]
     },
     "execution_count": 4,
     "metadata": {},
     "output_type": "execute_result"
    }
   ],
   "source": [
    "arr.reshape(12)\n",
    "arr.reshape(3*4)"
   ]
  },
  {
   "cell_type": "code",
   "execution_count": 5,
   "id": "05a386af-59d0-4755-a466-a1691c59b9ec",
   "metadata": {},
   "outputs": [
    {
     "data": {
      "text/plain": [
       "array([ 0,  1,  2,  3,  4,  5,  6,  7,  8,  9, 10, 11])"
      ]
     },
     "execution_count": 5,
     "metadata": {},
     "output_type": "execute_result"
    }
   ],
   "source": [
    "arr.flatten() # 다차원 배열을 1차원 배열로 만들어줌"
   ]
  },
  {
   "cell_type": "code",
   "execution_count": 6,
   "id": "9b17d047-b2ec-458f-8a94-c54a2601f54a",
   "metadata": {},
   "outputs": [
    {
     "data": {
      "text/plain": [
       "array([ 0,  1,  2,  3,  4,  5,  6,  7,  8,  9, 10, 11])"
      ]
     },
     "execution_count": 6,
     "metadata": {},
     "output_type": "execute_result"
    }
   ],
   "source": [
    "arr.ravel() #다차원 배열을 1차원 배열로 변환"
   ]
  },
  {
   "cell_type": "code",
   "execution_count": 7,
   "id": "cbe9bea6-f00f-4b92-a8e6-cc786435aa3f",
   "metadata": {},
   "outputs": [
    {
     "data": {
      "text/plain": [
       "array([0, 1, 2])"
      ]
     },
     "execution_count": 7,
     "metadata": {},
     "output_type": "execute_result"
    }
   ],
   "source": [
    "x=np.arange(3) #x는 1차원 배열\n",
    "x"
   ]
  },
  {
   "cell_type": "code",
   "execution_count": 10,
   "id": "8aecdbc1-48b3-4f34-a85c-845b199f0225",
   "metadata": {},
   "outputs": [
    {
     "data": {
      "text/plain": [
       "array([[0, 1, 2]])"
      ]
     },
     "execution_count": 10,
     "metadata": {},
     "output_type": "execute_result"
    }
   ],
   "source": [
    "x.reshape(1,3) #x는 2차원 배열 (행렬) 대괄호가 하나 더 있음 1행 3열짜리 배열\n"
   ]
  },
  {
   "cell_type": "code",
   "execution_count": 11,
   "id": "c201adce-b109-4518-aad3-103271794ff5",
   "metadata": {},
   "outputs": [
    {
     "data": {
      "text/plain": [
       "array([[0],\n",
       "       [1],\n",
       "       [2]])"
      ]
     },
     "execution_count": 11,
     "metadata": {},
     "output_type": "execute_result"
    }
   ],
   "source": [
    "x.reshape(3,1) #x는 2차원 3행 1열 짜리 배열"
   ]
  },
  {
   "cell_type": "code",
   "execution_count": 12,
   "id": "5299caa0-afe2-4529-ab67-354318198a99",
   "metadata": {},
   "outputs": [
    {
     "data": {
      "text/plain": [
       "array([[[0],\n",
       "        [1],\n",
       "        [2]]])"
      ]
     },
     "execution_count": 12,
     "metadata": {},
     "output_type": "execute_result"
    }
   ],
   "source": [
    "x.reshape(1,3,1)"
   ]
  },
  {
   "cell_type": "code",
   "execution_count": 13,
   "id": "52834145-c32e-496d-9a29-e7ff412bef2c",
   "metadata": {},
   "outputs": [
    {
     "data": {
      "text/plain": [
       "array([0, 1, 2])"
      ]
     },
     "execution_count": 13,
     "metadata": {},
     "output_type": "execute_result"
    }
   ],
   "source": [
    "x=np.arange(3)\n",
    "x"
   ]
  },
  {
   "cell_type": "code",
   "execution_count": 14,
   "id": "935995df-dc0a-4506-929d-eb5f035401cc",
   "metadata": {},
   "outputs": [
    {
     "data": {
      "text/plain": [
       "array([0, 1, 2])"
      ]
     },
     "execution_count": 14,
     "metadata": {},
     "output_type": "execute_result"
    }
   ],
   "source": [
    "x[:,]"
   ]
  },
  {
   "cell_type": "code",
   "execution_count": 26,
   "id": "b06df2cc-f8fb-4ee8-803a-834303cf4322",
   "metadata": {},
   "outputs": [
    {
     "data": {
      "text/plain": [
       "(3, 1)"
      ]
     },
     "execution_count": 26,
     "metadata": {},
     "output_type": "execute_result"
    }
   ],
   "source": [
    "x[:,np.newaxis].shape #2차원 3행 1열로 차원 추가"
   ]
  },
  {
   "cell_type": "code",
   "execution_count": 32,
   "id": "d0d23a3d-7d54-4648-a24a-6f1e29b0bbd7",
   "metadata": {},
   "outputs": [
    {
     "data": {
      "text/plain": [
       "array([ 0,  1,  2,  3,  4,  5,  6,  7,  8,  9, 10, 11])"
      ]
     },
     "execution_count": 32,
     "metadata": {},
     "output_type": "execute_result"
    }
   ],
   "source": [
    "arr=np.arange(12).reshape(3,4)\n",
    "arr=arr.flatten()\n",
    "arr"
   ]
  },
  {
   "cell_type": "code",
   "execution_count": 34,
   "id": "08a0a1a6-0f75-4875-9e9b-cecb0502f857",
   "metadata": {},
   "outputs": [
    {
     "name": "stdout",
     "output_type": "stream",
     "text": [
      "0\n",
      "1\n",
      "2\n",
      "3\n",
      "4\n",
      "5\n",
      "6\n",
      "7\n",
      "8\n",
      "9\n",
      "10\n",
      "11\n"
     ]
    }
   ],
   "source": [
    "for i in arr:\n",
    "    print(i)"
   ]
  },
  {
   "cell_type": "code",
   "execution_count": 38,
   "id": "0fb5c020-e5c8-49f1-a857-11e554f8dc85",
   "metadata": {},
   "outputs": [
    {
     "data": {
      "text/plain": [
       "array([[ 0,  1,  2],\n",
       "       [ 3,  4,  5],\n",
       "       [ 6,  7,  8],\n",
       "       [ 9, 10, 11]])"
      ]
     },
     "execution_count": 38,
     "metadata": {},
     "output_type": "execute_result"
    }
   ],
   "source": [
    "arr=arr.reshape(4,3)\n",
    "arr"
   ]
  },
  {
   "cell_type": "code",
   "execution_count": 39,
   "id": "29a0baba-f4a8-4a64-8a54-1497f505b771",
   "metadata": {},
   "outputs": [
    {
     "name": "stdout",
     "output_type": "stream",
     "text": [
      "[0 1 2]\n",
      "[3 4 5]\n",
      "[6 7 8]\n",
      "[ 9 10 11]\n"
     ]
    }
   ],
   "source": [
    "for i in arr:\n",
    "    print(i)"
   ]
  },
  {
   "cell_type": "code",
   "execution_count": 41,
   "id": "fc8553e5-ebd0-4a13-ac88-4460287c4c75",
   "metadata": {},
   "outputs": [
    {
     "name": "stdout",
     "output_type": "stream",
     "text": [
      "0\n",
      "1\n",
      "2\n",
      "3\n",
      "4\n",
      "5\n",
      "6\n",
      "7\n",
      "8\n",
      "9\n",
      "10\n",
      "11\n"
     ]
    }
   ],
   "source": [
    "for i in arr:\n",
    "    for j in i:\n",
    "        print(j)"
   ]
  },
  {
   "cell_type": "code",
   "execution_count": 44,
   "id": "1072af7f-069f-4a73-9a2b-1f217b1a92e2",
   "metadata": {},
   "outputs": [
    {
     "data": {
      "text/plain": [
       "array([[[ 0,  1],\n",
       "        [ 2,  3],\n",
       "        [ 4,  5]],\n",
       "\n",
       "       [[ 6,  7],\n",
       "        [ 8,  9],\n",
       "        [10, 11]]])"
      ]
     },
     "execution_count": 44,
     "metadata": {},
     "output_type": "execute_result"
    }
   ],
   "source": [
    "arr=arr.reshape(2,3,2)\n",
    "arr"
   ]
  },
  {
   "cell_type": "code",
   "execution_count": 49,
   "id": "ec904e85-d433-4c0e-88f5-c9d7feea396a",
   "metadata": {},
   "outputs": [
    {
     "name": "stdout",
     "output_type": "stream",
     "text": [
      "0\n",
      "1\n",
      "2\n",
      "3\n",
      "4\n",
      "5\n",
      "6\n",
      "7\n",
      "8\n",
      "9\n",
      "10\n",
      "11\n"
     ]
    }
   ],
   "source": [
    "for i in arr:\n",
    "    for j in i:\n",
    "        for k in j:\n",
    "            print(k)"
   ]
  },
  {
   "cell_type": "code",
   "execution_count": 50,
   "id": "ff3b0d6d-da85-4f87-84f6-5fb63e50473e",
   "metadata": {},
   "outputs": [],
   "source": [
    "# 파이썬:리스트,튜플,딕셔너리,집합\n",
    "# 넘파이: 배열(ndarray) :동일한 타입에 대한 자료가 저장\n",
    "# 판다스:데이터프레임,시리즈\n",
    "# 데이터 수집(크롤링,db) -> 전처리(넘파이,판다스)->분석(판다스)"
   ]
  },
  {
   "cell_type": "code",
   "execution_count": 65,
   "id": "4ede0090-1fb2-4aeb-b69f-10f6565d2195",
   "metadata": {},
   "outputs": [
    {
     "data": {
      "text/plain": [
       "array([[1., 1., 1.],\n",
       "       [1., 1., 1.],\n",
       "       [1., 1., 1.]])"
      ]
     },
     "execution_count": 65,
     "metadata": {},
     "output_type": "execute_result"
    }
   ],
   "source": [
    "a1=np.ones((3,3))\n",
    "a1"
   ]
  },
  {
   "cell_type": "code",
   "execution_count": 66,
   "id": "29721b02-273f-4a96-a93c-d893e0fc4e68",
   "metadata": {},
   "outputs": [
    {
     "data": {
      "text/plain": [
       "array([[0., 0., 0.],\n",
       "       [0., 0., 0.],\n",
       "       [0., 0., 0.]])"
      ]
     },
     "execution_count": 66,
     "metadata": {},
     "output_type": "execute_result"
    }
   ],
   "source": [
    "a2=np.zeros((3,3))\n",
    "a2"
   ]
  },
  {
   "cell_type": "code",
   "execution_count": 67,
   "id": "3cd16493-b4ac-43ce-870e-725c0c0c3017",
   "metadata": {},
   "outputs": [
    {
     "data": {
      "text/plain": [
       "array([[1., 1., 1., 0., 0., 0.],\n",
       "       [1., 1., 1., 0., 0., 0.],\n",
       "       [1., 1., 1., 0., 0., 0.]])"
      ]
     },
     "execution_count": 67,
     "metadata": {},
     "output_type": "execute_result"
    }
   ],
   "source": [
    "np.hstack([a1,a2]) #행의 개수가 다를때 hstack()은 불가 hstack은 행으로 붙이는 함수이기 때문 (horizontal: 수평)"
   ]
  },
  {
   "cell_type": "code",
   "execution_count": 68,
   "id": "ff25587d-cce7-4c62-9fb7-3a081939f33b",
   "metadata": {},
   "outputs": [
    {
     "data": {
      "text/plain": [
       "array([[1., 1., 1.],\n",
       "       [1., 1., 1.],\n",
       "       [1., 1., 1.],\n",
       "       [0., 0., 0.],\n",
       "       [0., 0., 0.],\n",
       "       [0., 0., 0.]])"
      ]
     },
     "execution_count": 68,
     "metadata": {},
     "output_type": "execute_result"
    }
   ],
   "source": [
    "np.vstack([a1,a2]) #vertical 열로 합쳐지는 함수 vstack() "
   ]
  },
  {
   "cell_type": "code",
   "execution_count": 69,
   "id": "e9a42029-5a31-4bab-9fbc-d4359f550f86",
   "metadata": {},
   "outputs": [
    {
     "data": {
      "text/plain": [
       "array([[[1., 0.],\n",
       "        [1., 0.],\n",
       "        [1., 0.]],\n",
       "\n",
       "       [[1., 0.],\n",
       "        [1., 0.],\n",
       "        [1., 0.]],\n",
       "\n",
       "       [[1., 0.],\n",
       "        [1., 0.],\n",
       "        [1., 0.]]])"
      ]
     },
     "execution_count": 69,
     "metadata": {},
     "output_type": "execute_result"
    }
   ],
   "source": [
    "np.dstack([a1,a2]) #깊이방향으로 더해지는 (depth:깊이) dstack()함수"
   ]
  },
  {
   "cell_type": "code",
   "execution_count": 70,
   "id": "e0a6568e-1fb8-4b4f-9d08-0405b9531456",
   "metadata": {},
   "outputs": [],
   "source": [
    "a1=np.ones((3,4))\n",
    "a2=np.zeros((3,4))"
   ]
  },
  {
   "cell_type": "code",
   "execution_count": 71,
   "id": "ee7a7605-3a6a-45ae-a522-3deba7b19fb6",
   "metadata": {},
   "outputs": [
    {
     "data": {
      "text/plain": [
       "(array([[1., 1., 1., 1.],\n",
       "        [1., 1., 1., 1.],\n",
       "        [1., 1., 1., 1.]]),\n",
       " array([[0., 0., 0., 0.],\n",
       "        [0., 0., 0., 0.],\n",
       "        [0., 0., 0., 0.]]))"
      ]
     },
     "execution_count": 71,
     "metadata": {},
     "output_type": "execute_result"
    }
   ],
   "source": [
    "a1,a2"
   ]
  },
  {
   "cell_type": "code",
   "execution_count": 72,
   "id": "119d3e20-02b7-4c47-858a-06cb59475a2f",
   "metadata": {},
   "outputs": [
    {
     "data": {
      "text/plain": [
       "array([[[1., 0.],\n",
       "        [1., 0.],\n",
       "        [1., 0.],\n",
       "        [1., 0.]],\n",
       "\n",
       "       [[1., 0.],\n",
       "        [1., 0.],\n",
       "        [1., 0.],\n",
       "        [1., 0.]],\n",
       "\n",
       "       [[1., 0.],\n",
       "        [1., 0.],\n",
       "        [1., 0.],\n",
       "        [1., 0.]]])"
      ]
     },
     "execution_count": 72,
     "metadata": {},
     "output_type": "execute_result"
    }
   ],
   "source": [
    "np.dstack([a1,a2])"
   ]
  },
  {
   "cell_type": "code",
   "execution_count": 74,
   "id": "4a2a424a-dd7c-428e-b08d-520fb4882489",
   "metadata": {},
   "outputs": [
    {
     "data": {
      "text/plain": [
       "(3, 4, 3)"
      ]
     },
     "execution_count": 74,
     "metadata": {},
     "output_type": "execute_result"
    }
   ],
   "source": [
    "np.dstack([a1,a2,a2]).shape #3,4 가 두개 합쳐지는 2,3,4가 아니라 3,4,2 로 합쳐짐 2개의 3*4배열 => 1개의 3*4*2배열이 됨"
   ]
  },
  {
   "cell_type": "code",
   "execution_count": 75,
   "id": "0118841d-e5c0-4651-80c6-c1efde921ec6",
   "metadata": {},
   "outputs": [
    {
     "data": {
      "text/plain": [
       "array([[[1., 0., 0.],\n",
       "        [1., 0., 0.],\n",
       "        [1., 0., 0.],\n",
       "        [1., 0., 0.]],\n",
       "\n",
       "       [[1., 0., 0.],\n",
       "        [1., 0., 0.],\n",
       "        [1., 0., 0.],\n",
       "        [1., 0., 0.]],\n",
       "\n",
       "       [[1., 0., 0.],\n",
       "        [1., 0., 0.],\n",
       "        [1., 0., 0.],\n",
       "        [1., 0., 0.]]])"
      ]
     },
     "execution_count": 75,
     "metadata": {},
     "output_type": "execute_result"
    }
   ],
   "source": [
    "np.dstack([a1,a2,a2]) #뒤에 숫자가 붙으며 합쳐져 dstack()은 잘 사용하지 않으며,stack()을 주로 사용"
   ]
  },
  {
   "cell_type": "code",
   "execution_count": 77,
   "id": "444daaf7-32d0-44e5-9068-dc1cd6d39bc8",
   "metadata": {},
   "outputs": [
    {
     "data": {
      "text/plain": [
       "array([[[1., 1., 1., 1.],\n",
       "        [1., 1., 1., 1.],\n",
       "        [1., 1., 1., 1.]],\n",
       "\n",
       "       [[0., 0., 0., 0.],\n",
       "        [0., 0., 0., 0.],\n",
       "        [0., 0., 0., 0.]]])"
      ]
     },
     "execution_count": 77,
     "metadata": {},
     "output_type": "execute_result"
    }
   ],
   "source": [
    "np.stack([a1,a2]) #2개 3*4=> 1개의 2*3*4 로 됨 숫자가 앞에 붙으면서 합쳐짐"
   ]
  },
  {
   "cell_type": "code",
   "execution_count": 79,
   "id": "d28a901d-7586-40f4-a99a-58529308214d",
   "metadata": {},
   "outputs": [
    {
     "data": {
      "text/plain": [
       "(2, 3, 4)"
      ]
     },
     "execution_count": 79,
     "metadata": {},
     "output_type": "execute_result"
    }
   ],
   "source": [
    "np.stack([a1,a2]).shape  #axis(축)를 지정, 기본값 0이기 때문에 가장 왼쪽에 축이 지정되서 추가됨 3,4 앞에 2가 추가되어 2,3,4가됨"
   ]
  },
  {
   "cell_type": "code",
   "execution_count": 80,
   "id": "1bc45a78-97e9-4140-ae1a-becc50e95e5d",
   "metadata": {},
   "outputs": [
    {
     "data": {
      "text/plain": [
       "array([[[1., 1., 1., 1.],\n",
       "        [1., 1., 1., 1.],\n",
       "        [1., 1., 1., 1.]],\n",
       "\n",
       "       [[0., 0., 0., 0.],\n",
       "        [0., 0., 0., 0.],\n",
       "        [0., 0., 0., 0.]]])"
      ]
     },
     "execution_count": 80,
     "metadata": {},
     "output_type": "execute_result"
    }
   ],
   "source": [
    "np.stack([a1,a2], axis=0) #위에 기본값형태"
   ]
  },
  {
   "cell_type": "code",
   "execution_count": 81,
   "id": "fbf3c762-2679-4933-9208-2010a3e9d4c0",
   "metadata": {},
   "outputs": [
    {
     "data": {
      "text/plain": [
       "array([[[1., 1., 1., 1.],\n",
       "        [0., 0., 0., 0.]],\n",
       "\n",
       "       [[1., 1., 1., 1.],\n",
       "        [0., 0., 0., 0.]],\n",
       "\n",
       "       [[1., 1., 1., 1.],\n",
       "        [0., 0., 0., 0.]]])"
      ]
     },
     "execution_count": 81,
     "metadata": {},
     "output_type": "execute_result"
    }
   ],
   "source": [
    "np.stack([a1,a2], axis=1)"
   ]
  },
  {
   "cell_type": "code",
   "execution_count": 82,
   "id": "0366d0f1-7e91-473c-ae0c-420fa00cb34b",
   "metadata": {},
   "outputs": [
    {
     "data": {
      "text/plain": [
       "(3, 2, 4)"
      ]
     },
     "execution_count": 82,
     "metadata": {},
     "output_type": "execute_result"
    }
   ],
   "source": [
    "np.stack([a1,a2], axis=1).shape #새로운 축이 중간에 추가"
   ]
  },
  {
   "cell_type": "code",
   "execution_count": 83,
   "id": "bef0d0a9-1d0e-490d-b74e-a578ebfc5f1a",
   "metadata": {},
   "outputs": [
    {
     "data": {
      "text/plain": [
       "array([[[1., 0.],\n",
       "        [1., 0.],\n",
       "        [1., 0.],\n",
       "        [1., 0.]],\n",
       "\n",
       "       [[1., 0.],\n",
       "        [1., 0.],\n",
       "        [1., 0.],\n",
       "        [1., 0.]],\n",
       "\n",
       "       [[1., 0.],\n",
       "        [1., 0.],\n",
       "        [1., 0.],\n",
       "        [1., 0.]]])"
      ]
     },
     "execution_count": 83,
     "metadata": {},
     "output_type": "execute_result"
    }
   ],
   "source": [
    "np.stack([a1,a2], axis=2) #axis (축)을 2로 지정하면 3,4,2가 됨\n",
    "#두 행렬 3,4 를 stack함수로 연결할 때 axis 값에 따라 shape이 달라짐"
   ]
  },
  {
   "cell_type": "code",
   "execution_count": 84,
   "id": "33f6832c-715a-4f81-8b9b-b7353529cee6",
   "metadata": {},
   "outputs": [],
   "source": [
    "a1=np.array([1,2,3])\n",
    "a2=np.array([11,12,13])"
   ]
  },
  {
   "cell_type": "code",
   "execution_count": 85,
   "id": "92cab54e-ca7f-47e3-9213-37d95bc807a2",
   "metadata": {},
   "outputs": [
    {
     "data": {
      "text/plain": [
       "array([ 1,  2,  3, 11, 12, 13])"
      ]
     },
     "execution_count": 85,
     "metadata": {},
     "output_type": "execute_result"
    }
   ],
   "source": [
    "np.hstack([a1,a2])"
   ]
  },
  {
   "cell_type": "code",
   "execution_count": 86,
   "id": "3902f58e-710a-4715-9f57-51001c4a47f5",
   "metadata": {},
   "outputs": [
    {
     "data": {
      "text/plain": [
       "array([ 1,  2,  3, 11, 12, 13])"
      ]
     },
     "execution_count": 86,
     "metadata": {},
     "output_type": "execute_result"
    }
   ],
   "source": [
    "np.r_[a1,a2] #특별한 함수, 인덱서함수 ,r(row: 행)"
   ]
  },
  {
   "cell_type": "code",
   "execution_count": 87,
   "id": "34b3edf8-b465-4b72-99e3-5b7d2858eb5c",
   "metadata": {},
   "outputs": [
    {
     "data": {
      "text/plain": [
       "array([[ 1, 11],\n",
       "       [ 2, 12],\n",
       "       [ 3, 13]])"
      ]
     },
     "execution_count": 87,
     "metadata": {},
     "output_type": "execute_result"
    }
   ],
   "source": [
    "np.c_[a1,a2] #c(column : 열 )"
   ]
  },
  {
   "cell_type": "code",
   "execution_count": 88,
   "id": "64aee84f-fd7d-4f35-838d-c96384859a37",
   "metadata": {},
   "outputs": [
    {
     "data": {
      "text/plain": [
       "array([[ 1,  2,  3],\n",
       "       [11, 12, 13]])"
      ]
     },
     "execution_count": 88,
     "metadata": {},
     "output_type": "execute_result"
    }
   ],
   "source": [
    "np.vstack([a1,a2])"
   ]
  },
  {
   "cell_type": "code",
   "execution_count": 90,
   "id": "09e96d36-8d91-4677-83c1-9aeab052c633",
   "metadata": {},
   "outputs": [
    {
     "data": {
      "text/plain": [
       "array([[0, 1, 2],\n",
       "       [3, 4, 5]])"
      ]
     },
     "execution_count": 90,
     "metadata": {},
     "output_type": "execute_result"
    }
   ],
   "source": [
    "#tile 함수: 동일한 배열을 반복해서 연결\n",
    "arr=np.arange(6).reshape(2,3)\n",
    "arr"
   ]
  },
  {
   "cell_type": "code",
   "execution_count": 95,
   "id": "8324586b-b522-46e6-b118-2f71adb36ee7",
   "metadata": {},
   "outputs": [
    {
     "data": {
      "text/plain": [
       "array([[0, 1, 2, 0, 1, 2, 0, 1, 2],\n",
       "       [3, 4, 5, 3, 4, 5, 3, 4, 5]])"
      ]
     },
     "execution_count": 95,
     "metadata": {},
     "output_type": "execute_result"
    }
   ],
   "source": [
    "np.tile(arr,3) #좌우 방향으로 3번 반복"
   ]
  },
  {
   "cell_type": "code",
   "execution_count": 96,
   "id": "e9418d29-e5f3-4bc4-9155-899f50456d03",
   "metadata": {},
   "outputs": [
    {
     "data": {
      "text/plain": [
       "array([[0, 1, 2],\n",
       "       [3, 4, 5],\n",
       "       [0, 1, 2],\n",
       "       [3, 4, 5],\n",
       "       [0, 1, 2],\n",
       "       [3, 4, 5]])"
      ]
     },
     "execution_count": 96,
     "metadata": {},
     "output_type": "execute_result"
    }
   ],
   "source": [
    "np.tile(arr,(3,1)) #위아래로 3번 반복, 좌우방향으로 1번반복"
   ]
  },
  {
   "cell_type": "code",
   "execution_count": 97,
   "id": "7eb9c026-79d5-455b-bc48-594c3859a048",
   "metadata": {},
   "outputs": [
    {
     "data": {
      "text/plain": [
       "array([[0, 1, 2, 0, 1, 2],\n",
       "       [3, 4, 5, 3, 4, 5],\n",
       "       [0, 1, 2, 0, 1, 2],\n",
       "       [3, 4, 5, 3, 4, 5],\n",
       "       [0, 1, 2, 0, 1, 2],\n",
       "       [3, 4, 5, 3, 4, 5]])"
      ]
     },
     "execution_count": 97,
     "metadata": {},
     "output_type": "execute_result"
    }
   ],
   "source": [
    "np.tile(arr,(3,2)) #위아래로 3번 반복, 좌우방향으로 2번반복"
   ]
  },
  {
   "cell_type": "code",
   "execution_count": 99,
   "id": "dfeb1fe2-6d08-4034-a120-425b1d6e98d3",
   "metadata": {},
   "outputs": [
    {
     "data": {
      "text/plain": [
       "array([[0, 0, 0, 1, 1],\n",
       "       [0, 0, 0, 1, 1],\n",
       "       [0, 0, 0, 1, 1]])"
      ]
     },
     "execution_count": 99,
     "metadata": {},
     "output_type": "execute_result"
    }
   ],
   "source": [
    "arr1=np.array([0,0,0,1,1])\n",
    "np.tile(arr1,(3,1))"
   ]
  },
  {
   "cell_type": "code",
   "execution_count": 113,
   "id": "c4aa2618-f836-4039-801c-a0de207cd58e",
   "metadata": {},
   "outputs": [],
   "source": [
    "x=np.arange(3)\n",
    "y=np.arange(5)"
   ]
  },
  {
   "cell_type": "code",
   "execution_count": 114,
   "id": "d97a3293-4a06-4075-b623-573eb598e0d0",
   "metadata": {},
   "outputs": [],
   "source": [
    "x,y=np.meshgrid(x,y)\n"
   ]
  },
  {
   "cell_type": "code",
   "execution_count": 115,
   "id": "4b62a846-ecc4-461e-9fb7-a4ba54b1c12a",
   "metadata": {},
   "outputs": [
    {
     "data": {
      "text/plain": [
       "[[(0, 0), (1, 0), (2, 0)],\n",
       " [(0, 1), (1, 1), (2, 1)],\n",
       " [(0, 2), (1, 2), (2, 2)],\n",
       " [(0, 3), (1, 3), (2, 3)],\n",
       " [(0, 4), (1, 4), (2, 4)]]"
      ]
     },
     "execution_count": 115,
     "metadata": {},
     "output_type": "execute_result"
    }
   ],
   "source": [
    "[list(zip(x,y)) for x,y in zip(x,y)]"
   ]
  },
  {
   "cell_type": "code",
   "execution_count": 116,
   "id": "ebe5628b-c30e-42c7-81d2-6d0c7279148c",
   "metadata": {},
   "outputs": [],
   "source": [
    "arr1=np.array([1,2,3])\n",
    "arr2=np.array([11,21,31])"
   ]
  },
  {
   "cell_type": "code",
   "execution_count": 117,
   "id": "b2b46e9e-f013-45a3-a6a2-afed65848600",
   "metadata": {},
   "outputs": [
    {
     "data": {
      "text/plain": [
       "array([ 1,  2,  3, 11, 21, 31])"
      ]
     },
     "execution_count": 117,
     "metadata": {},
     "output_type": "execute_result"
    }
   ],
   "source": [
    "np.concatenate([arr1,arr2])"
   ]
  },
  {
   "cell_type": "code",
   "execution_count": 118,
   "id": "d9c6f0b4-78c1-4b68-bd67-244453c4c4a9",
   "metadata": {},
   "outputs": [
    {
     "name": "stdout",
     "output_type": "stream",
     "text": [
      "[[ 0  1  2  3  4  5]\n",
      " [10 11 12 13 14 15]\n",
      " [20 21 22 23 24 25]\n",
      " [30 31 32 33 34 35]\n",
      " [40 41 42 43 44 45]\n",
      " [50 51 52 53 54 55]]\n"
     ]
    }
   ],
   "source": [
    "arr=np.arange(6)\n",
    "arr_f= [arr + i*10 for i in range(6)]\n",
    "arr_f=np.array(arr_f)\n",
    "print(arr_f)"
   ]
  },
  {
   "cell_type": "code",
   "execution_count": 119,
   "id": "c19fcb30-093f-4ad5-9488-e60ac7a7e95b",
   "metadata": {},
   "outputs": [],
   "source": [
    "arr1=np.arange(6)\n",
    "arr2=np.arange(0,51,10)"
   ]
  },
  {
   "cell_type": "code",
   "execution_count": 123,
   "id": "657e1028-eea1-4ac7-b952-7574b2bb7537",
   "metadata": {},
   "outputs": [],
   "source": [
    "ar1,ar2=np.meshgrid(arr1,arr2)"
   ]
  },
  {
   "cell_type": "code",
   "execution_count": 124,
   "id": "e30ecda1-ab92-4e6f-aa94-3fd3140b238f",
   "metadata": {},
   "outputs": [
    {
     "data": {
      "text/plain": [
       "array([[ 0,  1,  2,  3,  4,  5],\n",
       "       [10, 11, 12, 13, 14, 15],\n",
       "       [20, 21, 22, 23, 24, 25],\n",
       "       [30, 31, 32, 33, 34, 35],\n",
       "       [40, 41, 42, 43, 44, 45],\n",
       "       [50, 51, 52, 53, 54, 55]])"
      ]
     },
     "execution_count": 124,
     "metadata": {},
     "output_type": "execute_result"
    }
   ],
   "source": [
    "ar1+ar2"
   ]
  },
  {
   "cell_type": "code",
   "execution_count": 125,
   "id": "4c5d92f1-8875-49c6-a6f8-53f1c7b4ed5d",
   "metadata": {},
   "outputs": [
    {
     "data": {
      "text/plain": [
       "array([0, 1, 2, 3, 4, 5])"
      ]
     },
     "execution_count": 125,
     "metadata": {},
     "output_type": "execute_result"
    }
   ],
   "source": [
    "x=np.arange(6)\n",
    "x"
   ]
  },
  {
   "cell_type": "code",
   "execution_count": 129,
   "id": "a6e79ae5-8e8c-4472-912f-a6ba7e5756db",
   "metadata": {},
   "outputs": [
    {
     "data": {
      "text/plain": [
       "[array([[0, 1, 2, 3, 4, 5],\n",
       "        [0, 1, 2, 3, 4, 5],\n",
       "        [0, 1, 2, 3, 4, 5],\n",
       "        [0, 1, 2, 3, 4, 5],\n",
       "        [0, 1, 2, 3, 4, 5],\n",
       "        [0, 1, 2, 3, 4, 5]]),\n",
       " array([[0, 0, 0, 0, 0, 0],\n",
       "        [1, 1, 1, 1, 1, 1],\n",
       "        [2, 2, 2, 2, 2, 2],\n",
       "        [3, 3, 3, 3, 3, 3],\n",
       "        [4, 4, 4, 4, 4, 4],\n",
       "        [5, 5, 5, 5, 5, 5]])]"
      ]
     },
     "execution_count": 129,
     "metadata": {},
     "output_type": "execute_result"
    }
   ],
   "source": [
    "y=np.vstack(x)\n",
    "np.meshgrid(x,y)"
   ]
  },
  {
   "cell_type": "code",
   "execution_count": 131,
   "id": "363a8c6f-6304-4d56-93a9-80ba8c1050fd",
   "metadata": {},
   "outputs": [
    {
     "data": {
      "text/plain": [
       "array([[ 0,  1,  2,  3,  4,  5],\n",
       "       [10, 11, 12, 13, 14, 15],\n",
       "       [20, 21, 22, 23, 24, 25],\n",
       "       [30, 31, 32, 33, 34, 35],\n",
       "       [40, 41, 42, 43, 44, 45],\n",
       "       [50, 51, 52, 53, 54, 55]])"
      ]
     },
     "execution_count": 131,
     "metadata": {},
     "output_type": "execute_result"
    }
   ],
   "source": [
    "x+y*10"
   ]
  },
  {
   "cell_type": "code",
   "execution_count": 133,
   "id": "904063e4-c83d-4a17-8bec-b6a03dec8bf7",
   "metadata": {},
   "outputs": [
    {
     "data": {
      "text/plain": [
       "(array([1, 2, 3, 4]), array([4, 2, 2, 4]))"
      ]
     },
     "execution_count": 133,
     "metadata": {},
     "output_type": "execute_result"
    }
   ],
   "source": [
    "a=np.arange(1,5)\n",
    "b=np.array([4,2,2,4])\n",
    "a,b"
   ]
  },
  {
   "cell_type": "code",
   "execution_count": 134,
   "id": "5c6ff5c4-a7e4-4acc-a2d7-af4443337c0c",
   "metadata": {},
   "outputs": [
    {
     "data": {
      "text/plain": [
       "array([False,  True,  True,  True])"
      ]
     },
     "execution_count": 134,
     "metadata": {},
     "output_type": "execute_result"
    }
   ],
   "source": [
    "a>=b"
   ]
  },
  {
   "cell_type": "code",
   "execution_count": 136,
   "id": "ed3b03ab-68f1-4435-bebc-8f54aa9106ba",
   "metadata": {},
   "outputs": [
    {
     "data": {
      "text/plain": [
       "False"
      ]
     },
     "execution_count": 136,
     "metadata": {},
     "output_type": "execute_result"
    }
   ],
   "source": [
    "np.all(a>=b) #각 요소들을 일일이 비교하는게 아니라 ,배열의 모든 요소에 대해 조건만족하는지 모두 확인"
   ]
  },
  {
   "cell_type": "code",
   "execution_count": 137,
   "id": "ef819462-36bd-4754-ae0c-f459eb371130",
   "metadata": {},
   "outputs": [],
   "source": [
    "#벡터(행렬)끼리 연산하려면 크기가 동일해야 함\n",
    "#브로드캐스팅: 벡터(행렬)의 크기가 서로 다르더라도 연산이 가능하도록 크기를 동일하게 맞춰주는 작업\n",
    "# 벡터         스칼라\n",
    "# 1                        11\n",
    "# 2                        12\n",
    "# 3       +       10 =      13\n",
    "# 4                       14\n",
    "x=np.arange(1,5)"
   ]
  },
  {
   "cell_type": "code",
   "execution_count": 138,
   "id": "bb63f994-872a-40d4-8dc5-4b98f1e57155",
   "metadata": {},
   "outputs": [
    {
     "data": {
      "text/plain": [
       "array([0, 1, 2, 3, 4])"
      ]
     },
     "execution_count": 138,
     "metadata": {},
     "output_type": "execute_result"
    }
   ],
   "source": [
    "# 행렬(2) 벡터(1)-> 행렬(2)\n",
    "# 012      10 10 10\n",
    "# 123   +  11 11  11\n",
    "# 234      12 12 12 \n",
    "x=np.arange(5)\n",
    "x"
   ]
  },
  {
   "cell_type": "code",
   "execution_count": 139,
   "id": "66ae38d7-a23b-4e41-9886-4690fc530707",
   "metadata": {},
   "outputs": [],
   "source": [
    "y=1 #스칼라였던 y=1이 [1,1,1,1,1] 벡터로 바뀐후 요소간 덧셈이 됨 (브로드캐스팅)"
   ]
  },
  {
   "cell_type": "code",
   "execution_count": 140,
   "id": "87af50a7-a603-4001-9a8e-a500efdc03b5",
   "metadata": {},
   "outputs": [
    {
     "data": {
      "text/plain": [
       "array([1, 2, 3, 4, 5])"
      ]
     },
     "execution_count": 140,
     "metadata": {},
     "output_type": "execute_result"
    }
   ],
   "source": [
    "x+y"
   ]
  },
  {
   "cell_type": "code",
   "execution_count": 146,
   "id": "445d02c5-17f7-4034-889c-558294d9187b",
   "metadata": {},
   "outputs": [],
   "source": [
    "y=np.ones_like(x)"
   ]
  },
  {
   "cell_type": "code",
   "execution_count": 144,
   "id": "df20fb40-4d51-44b1-9185-ff1dfd8589dd",
   "metadata": {},
   "outputs": [
    {
     "data": {
      "text/plain": [
       "array([1, 2, 3, 4, 5])"
      ]
     },
     "execution_count": 144,
     "metadata": {},
     "output_type": "execute_result"
    }
   ],
   "source": [
    "x+y"
   ]
  },
  {
   "cell_type": "code",
   "execution_count": 147,
   "id": "f78b8ff2-f7a9-4664-8481-47cfb52d6673",
   "metadata": {},
   "outputs": [],
   "source": [
    "x=np.arange(5)"
   ]
  },
  {
   "cell_type": "code",
   "execution_count": 154,
   "id": "797732ee-7e9b-471e-b2f1-ee4b3ce64900",
   "metadata": {},
   "outputs": [
    {
     "data": {
      "text/plain": [
       "array([[0, 1, 2],\n",
       "       [1, 2, 3],\n",
       "       [2, 3, 4],\n",
       "       [3, 4, 5],\n",
       "       [4, 5, 6]])"
      ]
     },
     "execution_count": 154,
     "metadata": {},
     "output_type": "execute_result"
    }
   ],
   "source": [
    "x=np.arange(3)\n",
    "y=np.arange(5)\n",
    "x,y=np.meshgrid(x,y)\n",
    "x+y"
   ]
  },
  {
   "cell_type": "code",
   "execution_count": 151,
   "id": "6c5d847f-e84d-4601-9f7f-e28a89452ebe",
   "metadata": {},
   "outputs": [
    {
     "data": {
      "text/plain": [
       "array([[0, 1, 2],\n",
       "       [1, 2, 3],\n",
       "       [2, 3, 4],\n",
       "       [3, 4, 5],\n",
       "       [4, 5, 6]])"
      ]
     },
     "execution_count": 151,
     "metadata": {},
     "output_type": "execute_result"
    }
   ],
   "source": []
  },
  {
   "cell_type": "code",
   "execution_count": 161,
   "id": "4fb876a2-3444-4cad-8f7b-86f9cdbeda47",
   "metadata": {},
   "outputs": [
    {
     "data": {
      "text/plain": [
       "array([[0, 1, 2],\n",
       "       [1, 2, 3],\n",
       "       [2, 3, 4],\n",
       "       [3, 4, 5],\n",
       "       [4, 5, 6]])"
      ]
     },
     "execution_count": 161,
     "metadata": {},
     "output_type": "execute_result"
    }
   ],
   "source": [
    "x = np.arange(3)\n",
    "y=np.arange(5).reshape(5,1)\n",
    "x+y"
   ]
  },
  {
   "cell_type": "code",
   "execution_count": 164,
   "id": "c83df5d4-ff73-4e71-a0a4-754602e85843",
   "metadata": {},
   "outputs": [
    {
     "data": {
      "text/plain": [
       "array([[0, 1, 2],\n",
       "       [1, 2, 3],\n",
       "       [2, 3, 4],\n",
       "       [3, 4, 5],\n",
       "       [4, 5, 6]])"
      ]
     },
     "execution_count": 164,
     "metadata": {},
     "output_type": "execute_result"
    }
   ],
   "source": [
    "np.vstack([range(7)[i:i+3] for i in range(5)])"
   ]
  },
  {
   "cell_type": "code",
   "execution_count": null,
   "id": "6915ba1b-cd00-4db3-842b-0c1a1c6c9ccc",
   "metadata": {},
   "outputs": [],
   "source": []
  }
 ],
 "metadata": {
  "kernelspec": {
   "display_name": "Python 3 (ipykernel)",
   "language": "python",
   "name": "python3"
  },
  "language_info": {
   "codemirror_mode": {
    "name": "ipython",
    "version": 3
   },
   "file_extension": ".py",
   "mimetype": "text/x-python",
   "name": "python",
   "nbconvert_exporter": "python",
   "pygments_lexer": "ipython3",
   "version": "3.11.7"
  }
 },
 "nbformat": 4,
 "nbformat_minor": 5
}
