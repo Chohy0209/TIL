{
 "cells": [
  {
   "cell_type": "code",
   "execution_count": 6,
   "id": "ecd120b5-9343-4350-be51-c80d37d34ece",
   "metadata": {},
   "outputs": [],
   "source": [
    "import pandas as pd \n",
    "import numpy as np\n",
    "import matplotlib.pyplot as plt\n",
    "import seaborn as sns"
   ]
  },
  {
   "cell_type": "code",
   "execution_count": 2,
   "id": "04598b0d-51ba-4971-8720-9666a87807ff",
   "metadata": {},
   "outputs": [],
   "source": [
    "col = ['X','Y']\n",
    "data1 = [[-6,-3],[-4,-1],[-2,-3],[0,1],[2,2]]\n",
    "data2 = [[7,-4],[4,-1],[2,0],[-1,3],[-4,9]]\n",
    "data3 = [[3,-4],[3,-1],[3,0],[3,3],[3,9]]\n",
    "df1 = pd.DataFrame(data=data1, columns=col)\n",
    "df2 = pd.DataFrame(data=data2, columns=col)\n",
    "df3 = pd.DataFrame(data=data3, columns=col)"
   ]
  },
  {
   "cell_type": "code",
   "execution_count": 3,
   "id": "27e4804d-31ba-4ce9-a611-c767c14585a0",
   "metadata": {},
   "outputs": [
    {
     "data": {
      "text/html": [
       "<div>\n",
       "<style scoped>\n",
       "    .dataframe tbody tr th:only-of-type {\n",
       "        vertical-align: middle;\n",
       "    }\n",
       "\n",
       "    .dataframe tbody tr th {\n",
       "        vertical-align: top;\n",
       "    }\n",
       "\n",
       "    .dataframe thead th {\n",
       "        text-align: right;\n",
       "    }\n",
       "</style>\n",
       "<table border=\"1\" class=\"dataframe\">\n",
       "  <thead>\n",
       "    <tr style=\"text-align: right;\">\n",
       "      <th></th>\n",
       "      <th>X</th>\n",
       "      <th>Y</th>\n",
       "    </tr>\n",
       "  </thead>\n",
       "  <tbody>\n",
       "    <tr>\n",
       "      <th>0</th>\n",
       "      <td>-6</td>\n",
       "      <td>-3</td>\n",
       "    </tr>\n",
       "    <tr>\n",
       "      <th>1</th>\n",
       "      <td>-4</td>\n",
       "      <td>-1</td>\n",
       "    </tr>\n",
       "    <tr>\n",
       "      <th>2</th>\n",
       "      <td>-2</td>\n",
       "      <td>-3</td>\n",
       "    </tr>\n",
       "    <tr>\n",
       "      <th>3</th>\n",
       "      <td>0</td>\n",
       "      <td>1</td>\n",
       "    </tr>\n",
       "    <tr>\n",
       "      <th>4</th>\n",
       "      <td>2</td>\n",
       "      <td>2</td>\n",
       "    </tr>\n",
       "  </tbody>\n",
       "</table>\n",
       "</div>"
      ],
      "text/plain": [
       "   X  Y\n",
       "0 -6 -3\n",
       "1 -4 -1\n",
       "2 -2 -3\n",
       "3  0  1\n",
       "4  2  2"
      ]
     },
     "execution_count": 3,
     "metadata": {},
     "output_type": "execute_result"
    }
   ],
   "source": [
    "df1\n"
   ]
  },
  {
   "cell_type": "code",
   "execution_count": 4,
   "id": "5ad01197-876e-462d-bf1b-321de5be0f86",
   "metadata": {},
   "outputs": [
    {
     "data": {
      "text/html": [
       "<div>\n",
       "<style scoped>\n",
       "    .dataframe tbody tr th:only-of-type {\n",
       "        vertical-align: middle;\n",
       "    }\n",
       "\n",
       "    .dataframe tbody tr th {\n",
       "        vertical-align: top;\n",
       "    }\n",
       "\n",
       "    .dataframe thead th {\n",
       "        text-align: right;\n",
       "    }\n",
       "</style>\n",
       "<table border=\"1\" class=\"dataframe\">\n",
       "  <thead>\n",
       "    <tr style=\"text-align: right;\">\n",
       "      <th></th>\n",
       "      <th>X</th>\n",
       "      <th>Y</th>\n",
       "    </tr>\n",
       "  </thead>\n",
       "  <tbody>\n",
       "    <tr>\n",
       "      <th>X</th>\n",
       "      <td>10.0</td>\n",
       "      <td>6.0</td>\n",
       "    </tr>\n",
       "    <tr>\n",
       "      <th>Y</th>\n",
       "      <td>6.0</td>\n",
       "      <td>5.2</td>\n",
       "    </tr>\n",
       "  </tbody>\n",
       "</table>\n",
       "</div>"
      ],
      "text/plain": [
       "      X    Y\n",
       "X  10.0  6.0\n",
       "Y   6.0  5.2"
      ]
     },
     "execution_count": 4,
     "metadata": {},
     "output_type": "execute_result"
    }
   ],
   "source": [
    "df1.cov() #Covariance: 공분산  cov->데이터프레임에서 공분산 구할때 쓰는 함수 0행 1열이 두 변수에 대한 공분산 값"
   ]
  },
  {
   "cell_type": "code",
   "execution_count": 7,
   "id": "6f39368f-8dbd-4506-bd0a-f03dd5751b8e",
   "metadata": {},
   "outputs": [
    {
     "data": {
      "text/html": [
       "<div>\n",
       "<style scoped>\n",
       "    .dataframe tbody tr th:only-of-type {\n",
       "        vertical-align: middle;\n",
       "    }\n",
       "\n",
       "    .dataframe tbody tr th {\n",
       "        vertical-align: top;\n",
       "    }\n",
       "\n",
       "    .dataframe thead th {\n",
       "        text-align: right;\n",
       "    }\n",
       "</style>\n",
       "<table border=\"1\" class=\"dataframe\">\n",
       "  <thead>\n",
       "    <tr style=\"text-align: right;\">\n",
       "      <th></th>\n",
       "      <th>X</th>\n",
       "      <th>Y</th>\n",
       "    </tr>\n",
       "  </thead>\n",
       "  <tbody>\n",
       "    <tr>\n",
       "      <th>0</th>\n",
       "      <td>7</td>\n",
       "      <td>-4</td>\n",
       "    </tr>\n",
       "    <tr>\n",
       "      <th>1</th>\n",
       "      <td>4</td>\n",
       "      <td>-1</td>\n",
       "    </tr>\n",
       "    <tr>\n",
       "      <th>2</th>\n",
       "      <td>2</td>\n",
       "      <td>0</td>\n",
       "    </tr>\n",
       "    <tr>\n",
       "      <th>3</th>\n",
       "      <td>-1</td>\n",
       "      <td>3</td>\n",
       "    </tr>\n",
       "    <tr>\n",
       "      <th>4</th>\n",
       "      <td>-4</td>\n",
       "      <td>9</td>\n",
       "    </tr>\n",
       "  </tbody>\n",
       "</table>\n",
       "</div>"
      ],
      "text/plain": [
       "   X  Y\n",
       "0  7 -4\n",
       "1  4 -1\n",
       "2  2  0\n",
       "3 -1  3\n",
       "4 -4  9"
      ]
     },
     "execution_count": 7,
     "metadata": {},
     "output_type": "execute_result"
    }
   ],
   "source": [
    "df2\n"
   ]
  },
  {
   "cell_type": "code",
   "execution_count": 8,
   "id": "383c136c-480e-47ad-bfef-e8d7890f5d41",
   "metadata": {},
   "outputs": [
    {
     "data": {
      "text/html": [
       "<div>\n",
       "<style scoped>\n",
       "    .dataframe tbody tr th:only-of-type {\n",
       "        vertical-align: middle;\n",
       "    }\n",
       "\n",
       "    .dataframe tbody tr th {\n",
       "        vertical-align: top;\n",
       "    }\n",
       "\n",
       "    .dataframe thead th {\n",
       "        text-align: right;\n",
       "    }\n",
       "</style>\n",
       "<table border=\"1\" class=\"dataframe\">\n",
       "  <thead>\n",
       "    <tr style=\"text-align: right;\">\n",
       "      <th></th>\n",
       "      <th>X</th>\n",
       "      <th>Y</th>\n",
       "    </tr>\n",
       "  </thead>\n",
       "  <tbody>\n",
       "    <tr>\n",
       "      <th>X</th>\n",
       "      <td>18.30</td>\n",
       "      <td>-20.55</td>\n",
       "    </tr>\n",
       "    <tr>\n",
       "      <th>Y</th>\n",
       "      <td>-20.55</td>\n",
       "      <td>24.30</td>\n",
       "    </tr>\n",
       "  </tbody>\n",
       "</table>\n",
       "</div>"
      ],
      "text/plain": [
       "       X      Y\n",
       "X  18.30 -20.55\n",
       "Y -20.55  24.30"
      ]
     },
     "execution_count": 8,
     "metadata": {},
     "output_type": "execute_result"
    }
   ],
   "source": [
    "df2.cov()"
   ]
  },
  {
   "cell_type": "code",
   "execution_count": 11,
   "id": "dcf15feb-9c22-417f-9311-6c7f5088e204",
   "metadata": {},
   "outputs": [
    {
     "data": {
      "text/html": [
       "<div>\n",
       "<style scoped>\n",
       "    .dataframe tbody tr th:only-of-type {\n",
       "        vertical-align: middle;\n",
       "    }\n",
       "\n",
       "    .dataframe tbody tr th {\n",
       "        vertical-align: top;\n",
       "    }\n",
       "\n",
       "    .dataframe thead th {\n",
       "        text-align: right;\n",
       "    }\n",
       "</style>\n",
       "<table border=\"1\" class=\"dataframe\">\n",
       "  <thead>\n",
       "    <tr style=\"text-align: right;\">\n",
       "      <th></th>\n",
       "      <th>X</th>\n",
       "      <th>Y</th>\n",
       "    </tr>\n",
       "  </thead>\n",
       "  <tbody>\n",
       "    <tr>\n",
       "      <th>0</th>\n",
       "      <td>3</td>\n",
       "      <td>-4</td>\n",
       "    </tr>\n",
       "    <tr>\n",
       "      <th>1</th>\n",
       "      <td>3</td>\n",
       "      <td>-1</td>\n",
       "    </tr>\n",
       "    <tr>\n",
       "      <th>2</th>\n",
       "      <td>3</td>\n",
       "      <td>0</td>\n",
       "    </tr>\n",
       "    <tr>\n",
       "      <th>3</th>\n",
       "      <td>3</td>\n",
       "      <td>3</td>\n",
       "    </tr>\n",
       "    <tr>\n",
       "      <th>4</th>\n",
       "      <td>3</td>\n",
       "      <td>9</td>\n",
       "    </tr>\n",
       "  </tbody>\n",
       "</table>\n",
       "</div>"
      ],
      "text/plain": [
       "   X  Y\n",
       "0  3 -4\n",
       "1  3 -1\n",
       "2  3  0\n",
       "3  3  3\n",
       "4  3  9"
      ]
     },
     "execution_count": 11,
     "metadata": {},
     "output_type": "execute_result"
    }
   ],
   "source": [
    "df3\n"
   ]
  },
  {
   "cell_type": "code",
   "execution_count": 12,
   "id": "b8279bed-0c47-4f72-9d7c-dae2172e69d3",
   "metadata": {},
   "outputs": [
    {
     "data": {
      "text/html": [
       "<div>\n",
       "<style scoped>\n",
       "    .dataframe tbody tr th:only-of-type {\n",
       "        vertical-align: middle;\n",
       "    }\n",
       "\n",
       "    .dataframe tbody tr th {\n",
       "        vertical-align: top;\n",
       "    }\n",
       "\n",
       "    .dataframe thead th {\n",
       "        text-align: right;\n",
       "    }\n",
       "</style>\n",
       "<table border=\"1\" class=\"dataframe\">\n",
       "  <thead>\n",
       "    <tr style=\"text-align: right;\">\n",
       "      <th></th>\n",
       "      <th>X</th>\n",
       "      <th>Y</th>\n",
       "    </tr>\n",
       "  </thead>\n",
       "  <tbody>\n",
       "    <tr>\n",
       "      <th>X</th>\n",
       "      <td>0.0</td>\n",
       "      <td>0.0</td>\n",
       "    </tr>\n",
       "    <tr>\n",
       "      <th>Y</th>\n",
       "      <td>0.0</td>\n",
       "      <td>24.3</td>\n",
       "    </tr>\n",
       "  </tbody>\n",
       "</table>\n",
       "</div>"
      ],
      "text/plain": [
       "     X     Y\n",
       "X  0.0   0.0\n",
       "Y  0.0  24.3"
      ]
     },
     "execution_count": 12,
     "metadata": {},
     "output_type": "execute_result"
    }
   ],
   "source": [
    "df3.cov()"
   ]
  },
  {
   "cell_type": "code",
   "execution_count": 16,
   "id": "16d805fe-fd5f-4605-ac5d-8a94a8c7f6a9",
   "metadata": {},
   "outputs": [],
   "source": [
    "#첨도(kurtosis, kurt) : 데이터 분포의 뾰족한 정도\n",
    "#정규분포: 평균=0 , 표준편차 =1\n",
    "#정규분포: 0 , 정규분포보다 뾰족한 경우: >0 정규분포보다 완만한 경우:<0"
   ]
  },
  {
   "cell_type": "code",
   "execution_count": 22,
   "id": "3d6a1f66-b41c-4efb-8268-117e208c659e",
   "metadata": {},
   "outputs": [
    {
     "name": "stdout",
     "output_type": "stream",
     "text": [
      "    col1      col2  col3\n",
      "0     -9  1.956992    -6\n",
      "1     -5 -0.031978    -5\n",
      "2     -1  0.960564    -4\n",
      "3     -1  0.009485    -3\n",
      "4      0  0.345607    -2\n",
      "5      0  0.901168    -1\n",
      "6      0 -0.189928     0\n",
      "7      0 -1.838008     1\n",
      "8      0  0.227785     2\n",
      "9      1 -0.471237     3\n",
      "10     1 -0.869443     4\n",
      "11     5 -0.735116     5\n",
      "12     9 -0.993861     6\n"
     ]
    }
   ],
   "source": [
    "l = [-9,-5,-1,-1,0,0,0,0,0,1,1,5,9] \n",
    "m = np.random.normal(0,1,13) \n",
    "p = [-6,-5,-4,-3,-2,-1,0,1,2,3,4,5,6] \n",
    "data = {\"col1\":l,\"col2\":m,\"col3\":p}\n",
    "df = pd.DataFrame(data)\n",
    "print(df)"
   ]
  },
  {
   "cell_type": "code",
   "execution_count": 23,
   "id": "fc2e7b53-b74a-4219-9956-48b2d02be534",
   "metadata": {},
   "outputs": [
    {
     "data": {
      "text/plain": [
       "col1    2.190460\n",
       "col2    0.471489\n",
       "col3   -1.200000\n",
       "dtype: float64"
      ]
     },
     "execution_count": 23,
     "metadata": {},
     "output_type": "execute_result"
    }
   ],
   "source": [
    "df.kurt() #첨도"
   ]
  },
  {
   "cell_type": "code",
   "execution_count": 24,
   "id": "57d2d426-eefc-41ef-ad04-236f55581e27",
   "metadata": {},
   "outputs": [
    {
     "data": {
      "text/plain": [
       "0.0"
      ]
     },
     "execution_count": 24,
     "metadata": {},
     "output_type": "execute_result"
    }
   ],
   "source": [
    "df['col1'].mean() # 평균"
   ]
  },
  {
   "cell_type": "code",
   "execution_count": 25,
   "id": "b72bec24-bf9e-48e5-b150-1e23df14fc12",
   "metadata": {},
   "outputs": [
    {
     "data": {
      "text/plain": [
       "4.242640687119285"
      ]
     },
     "execution_count": 25,
     "metadata": {},
     "output_type": "execute_result"
    }
   ],
   "source": [
    "df['col1'].std() #표준편차"
   ]
  },
  {
   "cell_type": "code",
   "execution_count": 26,
   "id": "f17d86fd-9799-4e28-a81b-379841c3632d",
   "metadata": {},
   "outputs": [
    {
     "data": {
      "text/plain": [
       "-0.05599771332587484"
      ]
     },
     "execution_count": 26,
     "metadata": {},
     "output_type": "execute_result"
    }
   ],
   "source": [
    "df['col2'].mean()"
   ]
  },
  {
   "cell_type": "code",
   "execution_count": 27,
   "id": "b35ef93e-c94e-4cd0-b12a-29ab75f98cd0",
   "metadata": {},
   "outputs": [
    {
     "data": {
      "text/plain": [
       "0.9839028038102626"
      ]
     },
     "execution_count": 27,
     "metadata": {},
     "output_type": "execute_result"
    }
   ],
   "source": [
    "df['col2'].std()"
   ]
  },
  {
   "cell_type": "code",
   "execution_count": 28,
   "id": "e3823913-0237-4cac-9dec-bdb41567772b",
   "metadata": {},
   "outputs": [
    {
     "data": {
      "text/plain": [
       "0.47148865884956903"
      ]
     },
     "execution_count": 28,
     "metadata": {},
     "output_type": "execute_result"
    }
   ],
   "source": [
    "df.col2.kurt()"
   ]
  },
  {
   "cell_type": "code",
   "execution_count": 29,
   "id": "e1b2425c-9189-4a88-9056-c51f56a4a3c4",
   "metadata": {},
   "outputs": [
    {
     "data": {
      "text/plain": [
       "0.0"
      ]
     },
     "execution_count": 29,
     "metadata": {},
     "output_type": "execute_result"
    }
   ],
   "source": [
    "df.col3.mean()"
   ]
  },
  {
   "cell_type": "code",
   "execution_count": 30,
   "id": "480bc05b-4181-4784-b083-099a100b4047",
   "metadata": {},
   "outputs": [
    {
     "data": {
      "text/plain": [
       "3.8944404818493075"
      ]
     },
     "execution_count": 30,
     "metadata": {},
     "output_type": "execute_result"
    }
   ],
   "source": [
    "df.col3.std()"
   ]
  },
  {
   "cell_type": "code",
   "execution_count": 31,
   "id": "3a2c1f5e-afdd-4b98-93c3-05bbacbe6f1e",
   "metadata": {},
   "outputs": [
    {
     "data": {
      "text/plain": [
       "-1.2000000000000002"
      ]
     },
     "execution_count": 31,
     "metadata": {},
     "output_type": "execute_result"
    }
   ],
   "source": [
    "df.col3.kurt()"
   ]
  },
  {
   "cell_type": "code",
   "execution_count": null,
   "id": "f265e5aa-1f54-4589-8e7f-1b1e440c9c77",
   "metadata": {},
   "outputs": [],
   "source": [
    "#왜도(skew): 비대칭도\n",
    "# 정규분포: 왜도 = 0 , 왼쪽으로 치우침 = 왜도 > 0 , 오른쪽으로 치우침 = 왜도 < 0"
   ]
  },
  {
   "cell_type": "code",
   "execution_count": 33,
   "id": "6837fc6d-f0aa-4261-9449-ddd07cb77be4",
   "metadata": {},
   "outputs": [],
   "source": [
    "a = [-5,-4,-3,-3,-2,-2,-1,-1,-1,0,0,0,0,0,1,1,1,2]\n",
    "b = [-3,-2,-1,-1,-1,-1,0,0,0,0,0,0,1,1,1,1,2,3]\n",
    "c = [-2,-1,-1,-1,0,0,0,0,0,1,1,1,2,2,3,3,4,5,]\n",
    "data = {\"col1\":a,\"col2\":b,\"col3\":c}\n",
    "df = pd.DataFrame(data)"
   ]
  },
  {
   "cell_type": "code",
   "execution_count": 34,
   "id": "ddd4b4d7-f7b6-423b-a22e-98a00714112f",
   "metadata": {},
   "outputs": [
    {
     "data": {
      "text/plain": [
       "-0.6157739556801386"
      ]
     },
     "execution_count": 34,
     "metadata": {},
     "output_type": "execute_result"
    }
   ],
   "source": [
    "df.col1.skew() # 왜도 < 0   -> 최빈값이 오른쪽에 위치"
   ]
  },
  {
   "cell_type": "code",
   "execution_count": 35,
   "id": "878d822f-9adb-41c6-8967-48b79aa61d5c",
   "metadata": {},
   "outputs": [
    {
     "data": {
      "text/plain": [
       "0.0"
      ]
     },
     "execution_count": 35,
     "metadata": {},
     "output_type": "execute_result"
    }
   ],
   "source": [
    "df.col2.mean()"
   ]
  },
  {
   "cell_type": "code",
   "execution_count": 36,
   "id": "0512e9e3-a2ca-41e7-9ada-c8f5c491f49f",
   "metadata": {},
   "outputs": [
    {
     "data": {
      "text/plain": [
       "1.4142135623730951"
      ]
     },
     "execution_count": 36,
     "metadata": {},
     "output_type": "execute_result"
    }
   ],
   "source": [
    "df.col2.std()"
   ]
  },
  {
   "cell_type": "code",
   "execution_count": 37,
   "id": "3340324f-2c10-4d83-9359-b64268123bac",
   "metadata": {},
   "outputs": [
    {
     "data": {
      "text/plain": [
       "0.0"
      ]
     },
     "execution_count": 37,
     "metadata": {},
     "output_type": "execute_result"
    }
   ],
   "source": [
    "df.col2.skew()"
   ]
  },
  {
   "cell_type": "code",
   "execution_count": 39,
   "id": "c88ffc42-99a7-473e-a4fb-220a13c59998",
   "metadata": {},
   "outputs": [
    {
     "data": {
      "text/plain": [
       "0.9444444444444444"
      ]
     },
     "execution_count": 39,
     "metadata": {},
     "output_type": "execute_result"
    }
   ],
   "source": [
    "df.col3.mean()"
   ]
  },
  {
   "cell_type": "code",
   "execution_count": 40,
   "id": "c4dce346-f559-4973-9396-7435dd9e459d",
   "metadata": {},
   "outputs": [
    {
     "data": {
      "text/plain": [
       "1.8934009929915632"
      ]
     },
     "execution_count": 40,
     "metadata": {},
     "output_type": "execute_result"
    }
   ],
   "source": [
    "df.col3.std()"
   ]
  },
  {
   "cell_type": "code",
   "execution_count": 42,
   "id": "7ccc4b9f-20c9-4b66-b4e1-1c0bf2ececec",
   "metadata": {},
   "outputs": [
    {
     "data": {
      "text/plain": [
       "0.6157739556801384"
      ]
     },
     "execution_count": 42,
     "metadata": {},
     "output_type": "execute_result"
    }
   ],
   "source": [
    "df.col3.skew() #최빈값이 좌측으로 치우쳐있음. 왜도 > 0"
   ]
  },
  {
   "cell_type": "code",
   "execution_count": 43,
   "id": "9c95396d-a6a1-4ffc-be9d-819d6fa0ffab",
   "metadata": {},
   "outputs": [],
   "source": [
    "# 상관계수\n",
    "# 1. 피어슨 상관계수 : 두 변수가 연속형,선형관계 ex)딥러닝 점수와 데이터 분석 점수간의 상관관계\n",
    "# 연속형 자료가 정규분포를 따른다고 가정하는 모수적 추론 기법\n",
    "\n",
    "# 2. 스피어만 상관계수 : 순위가 있는 서열척도간의 상관관계 ex) 딥러닝 점수 등수와 데이터 분석 등수의 상관관계\n",
    "# 두 변수 간의 관계가 비선형적(곡선)일때 사용가능\n",
    "\n",
    "# 3. 켄달(kendall)의 타우(tau) : 두 변수 간의 관계가 비선형적이거나 서열척도의 변수일때, 표본이 작을때 \n",
    "\n",
    "# 범주형 변수 간 상관관계\n",
    "# 1. phi 상관계수 (변수가 갖는 값의 범주가 2개)\n",
    "# ex) 성별 : 남/여 , 합/불합 데이터에서 성별과 합격여부와의 상관관계가 궁금할때\n",
    "\n",
    "# 2. Cramer's 상관계수 (변수가 갖는 값의 범주가 3개 이상일 때)\n",
    "# ex) 나이대 : 10/20/30/40, 거주형태: 단독/빌라/아파트/복합  데이터에서 나이대와 거주형태간의 상관관계가 궁금할때\n",
    "\n",
    "# 연속형 변수와 범주형 변수 간 상관관계\n",
    "#ex) 성별과 시험 점수간의 상관관계\n"
   ]
  },
  {
   "cell_type": "code",
   "execution_count": 8,
   "id": "2bae3b1b-e161-409f-8497-93cdf7d3876f",
   "metadata": {},
   "outputs": [
    {
     "data": {
      "text/plain": [
       "0.0"
      ]
     },
     "execution_count": 8,
     "metadata": {},
     "output_type": "execute_result"
    }
   ],
   "source": [
    "z = [-3, -2, -1, 0, 1, 2, 3]\n",
    "w = [9, 4, 1, 0, 1, 4, 9]\n",
    "\n",
    "np.corrcoef(z, w)[0, 1] # 피어슨 상관계수, w=z**2 , 비선형"
   ]
  },
  {
   "cell_type": "code",
   "execution_count": 7,
   "id": "9285cdbe-e663-4b53-adaa-158c18e9562e",
   "metadata": {},
   "outputs": [],
   "source": [
    "#상관계수 모듈\n",
    "import scipy.stats as ss"
   ]
  },
  {
   "cell_type": "code",
   "execution_count": 51,
   "id": "4a0d4ab1-4fc4-4944-ae6a-5d8e8cdca2b5",
   "metadata": {},
   "outputs": [],
   "source": [
    "x = [8, 3, 6, 6, 9, 4, 3, 9, 3, 4]\n",
    "y = [6, 2, 4, 6, 10, 5, 1, 8, 4, 5]"
   ]
  },
  {
   "cell_type": "code",
   "execution_count": 54,
   "id": "841c49a8-a317-43f5-b519-cb30a5700c9d",
   "metadata": {},
   "outputs": [
    {
     "data": {
      "text/plain": [
       "SignificanceResult(statistic=0.9000703207408192, pvalue=0.00038610220712161346)"
      ]
     },
     "execution_count": 54,
     "metadata": {},
     "output_type": "execute_result"
    }
   ],
   "source": [
    "ss.spearmanr(x,y)#스피어만 상관계수"
   ]
  },
  {
   "cell_type": "code",
   "execution_count": 55,
   "id": "7611d648-1777-4044-8d9c-8b80cee6e559",
   "metadata": {},
   "outputs": [
    {
     "name": "stdout",
     "output_type": "stream",
     "text": [
      "   col1  col2  col3\n",
      "0     1     1     6\n",
      "1     2     4     5\n",
      "2     3     2     4\n",
      "3     4     8     3\n",
      "4     5    16     2\n",
      "5     6    32     1\n"
     ]
    }
   ],
   "source": [
    "col1 = [1,2,3,4,5,6]\n",
    "col2 = [1,4,2,8,16,32]\n",
    "col3 = [6,5,4,3,2,1]\n",
    "data = {\"col1\":col1,\"col2\":col2,\"col3\":col3}\n",
    "df = pd.DataFrame(data)\n",
    "print(df)"
   ]
  },
  {
   "cell_type": "code",
   "execution_count": 57,
   "id": "afc0e560-2dc8-4254-a392-af913ebe34ef",
   "metadata": {},
   "outputs": [],
   "source": [
    "#col1 변수의 순위와 col2변수의 순위가 대체로 일치 -> 스피어만 상관계수가 양수\n",
    "#스피어만 상관계수 : 두 변수의 순위에 대한 피어슨 상관계수"
   ]
  },
  {
   "cell_type": "code",
   "execution_count": 58,
   "id": "44630b80-b606-41c9-9def-1e79f7e285ad",
   "metadata": {},
   "outputs": [
    {
     "data": {
      "text/html": [
       "<div>\n",
       "<style scoped>\n",
       "    .dataframe tbody tr th:only-of-type {\n",
       "        vertical-align: middle;\n",
       "    }\n",
       "\n",
       "    .dataframe tbody tr th {\n",
       "        vertical-align: top;\n",
       "    }\n",
       "\n",
       "    .dataframe thead th {\n",
       "        text-align: right;\n",
       "    }\n",
       "</style>\n",
       "<table border=\"1\" class=\"dataframe\">\n",
       "  <thead>\n",
       "    <tr style=\"text-align: right;\">\n",
       "      <th></th>\n",
       "      <th>col1</th>\n",
       "      <th>col2</th>\n",
       "      <th>col3</th>\n",
       "    </tr>\n",
       "  </thead>\n",
       "  <tbody>\n",
       "    <tr>\n",
       "      <th>col1</th>\n",
       "      <td>1.000000</td>\n",
       "      <td>0.887739</td>\n",
       "      <td>-1.000000</td>\n",
       "    </tr>\n",
       "    <tr>\n",
       "      <th>col2</th>\n",
       "      <td>0.887739</td>\n",
       "      <td>1.000000</td>\n",
       "      <td>-0.887739</td>\n",
       "    </tr>\n",
       "    <tr>\n",
       "      <th>col3</th>\n",
       "      <td>-1.000000</td>\n",
       "      <td>-0.887739</td>\n",
       "      <td>1.000000</td>\n",
       "    </tr>\n",
       "  </tbody>\n",
       "</table>\n",
       "</div>"
      ],
      "text/plain": [
       "          col1      col2      col3\n",
       "col1  1.000000  0.887739 -1.000000\n",
       "col2  0.887739  1.000000 -0.887739\n",
       "col3 -1.000000 -0.887739  1.000000"
      ]
     },
     "execution_count": 58,
     "metadata": {},
     "output_type": "execute_result"
    }
   ],
   "source": [
    "df.corr() # col1과 col2 사이에 양의 상관관계. col 2와 col3은 강한 음의 상관관계"
   ]
  },
  {
   "cell_type": "code",
   "execution_count": 59,
   "id": "fe74e3ef-cd7e-4c0d-b320-93218a52ca77",
   "metadata": {},
   "outputs": [
    {
     "data": {
      "text/html": [
       "<div>\n",
       "<style scoped>\n",
       "    .dataframe tbody tr th:only-of-type {\n",
       "        vertical-align: middle;\n",
       "    }\n",
       "\n",
       "    .dataframe tbody tr th {\n",
       "        vertical-align: top;\n",
       "    }\n",
       "\n",
       "    .dataframe thead th {\n",
       "        text-align: right;\n",
       "    }\n",
       "</style>\n",
       "<table border=\"1\" class=\"dataframe\">\n",
       "  <thead>\n",
       "    <tr style=\"text-align: right;\">\n",
       "      <th></th>\n",
       "      <th>col1</th>\n",
       "      <th>col2</th>\n",
       "      <th>col3</th>\n",
       "    </tr>\n",
       "  </thead>\n",
       "  <tbody>\n",
       "    <tr>\n",
       "      <th>col1</th>\n",
       "      <td>1.000000</td>\n",
       "      <td>0.887739</td>\n",
       "      <td>-1.000000</td>\n",
       "    </tr>\n",
       "    <tr>\n",
       "      <th>col2</th>\n",
       "      <td>0.887739</td>\n",
       "      <td>1.000000</td>\n",
       "      <td>-0.887739</td>\n",
       "    </tr>\n",
       "    <tr>\n",
       "      <th>col3</th>\n",
       "      <td>-1.000000</td>\n",
       "      <td>-0.887739</td>\n",
       "      <td>1.000000</td>\n",
       "    </tr>\n",
       "  </tbody>\n",
       "</table>\n",
       "</div>"
      ],
      "text/plain": [
       "          col1      col2      col3\n",
       "col1  1.000000  0.887739 -1.000000\n",
       "col2  0.887739  1.000000 -0.887739\n",
       "col3 -1.000000 -0.887739  1.000000"
      ]
     },
     "execution_count": 59,
     "metadata": {},
     "output_type": "execute_result"
    }
   ],
   "source": [
    "df.corr(method='pearson') # default가 피어슨 상관계수"
   ]
  },
  {
   "cell_type": "code",
   "execution_count": 60,
   "id": "6b6789d0-aaa3-4329-a8ec-3f524ad927e6",
   "metadata": {},
   "outputs": [
    {
     "data": {
      "text/html": [
       "<div>\n",
       "<style scoped>\n",
       "    .dataframe tbody tr th:only-of-type {\n",
       "        vertical-align: middle;\n",
       "    }\n",
       "\n",
       "    .dataframe tbody tr th {\n",
       "        vertical-align: top;\n",
       "    }\n",
       "\n",
       "    .dataframe thead th {\n",
       "        text-align: right;\n",
       "    }\n",
       "</style>\n",
       "<table border=\"1\" class=\"dataframe\">\n",
       "  <thead>\n",
       "    <tr style=\"text-align: right;\">\n",
       "      <th></th>\n",
       "      <th>col1</th>\n",
       "      <th>col2</th>\n",
       "      <th>col3</th>\n",
       "    </tr>\n",
       "  </thead>\n",
       "  <tbody>\n",
       "    <tr>\n",
       "      <th>col1</th>\n",
       "      <td>1.000000</td>\n",
       "      <td>0.942857</td>\n",
       "      <td>-1.000000</td>\n",
       "    </tr>\n",
       "    <tr>\n",
       "      <th>col2</th>\n",
       "      <td>0.942857</td>\n",
       "      <td>1.000000</td>\n",
       "      <td>-0.942857</td>\n",
       "    </tr>\n",
       "    <tr>\n",
       "      <th>col3</th>\n",
       "      <td>-1.000000</td>\n",
       "      <td>-0.942857</td>\n",
       "      <td>1.000000</td>\n",
       "    </tr>\n",
       "  </tbody>\n",
       "</table>\n",
       "</div>"
      ],
      "text/plain": [
       "          col1      col2      col3\n",
       "col1  1.000000  0.942857 -1.000000\n",
       "col2  0.942857  1.000000 -0.942857\n",
       "col3 -1.000000 -0.942857  1.000000"
      ]
     },
     "execution_count": 60,
     "metadata": {},
     "output_type": "execute_result"
    }
   ],
   "source": [
    "df.corr(method='spearman') # 표본이 많은 비선형 관계일때 믾이씀."
   ]
  },
  {
   "cell_type": "code",
   "execution_count": 62,
   "id": "3d18ccb0-1d0f-4e49-a2d0-6d1c29862252",
   "metadata": {},
   "outputs": [
    {
     "data": {
      "text/plain": [
       "0.8666666666666666"
      ]
     },
     "execution_count": 62,
     "metadata": {},
     "output_type": "execute_result"
    }
   ],
   "source": [
    "ss.kendalltau(df.col1,df.col2).correlation #(tau상관계수) #표본이 적은 비선형관계일때 많이씀"
   ]
  },
  {
   "cell_type": "code",
   "execution_count": 63,
   "id": "3c5df682-c7c4-47be-8a54-9a56ff958751",
   "metadata": {},
   "outputs": [],
   "source": [
    "data1 = {\"col1\":[1,2,3,4,5,6],\"col2\":[1,4,2,8,16,32]}\n",
    "data2 = {\"col1\":[6,5,4,3,2,1],\"col3\":[3,6,1,2,5,9]}\n",
    "df1 = pd.DataFrame(data1)\n",
    "df2 = pd.DataFrame(data2)"
   ]
  },
  {
   "cell_type": "code",
   "execution_count": 64,
   "id": "96b264a4-3f61-44fa-86f8-926cbf3a224b",
   "metadata": {},
   "outputs": [
    {
     "data": {
      "text/html": [
       "<div>\n",
       "<style scoped>\n",
       "    .dataframe tbody tr th:only-of-type {\n",
       "        vertical-align: middle;\n",
       "    }\n",
       "\n",
       "    .dataframe tbody tr th {\n",
       "        vertical-align: top;\n",
       "    }\n",
       "\n",
       "    .dataframe thead th {\n",
       "        text-align: right;\n",
       "    }\n",
       "</style>\n",
       "<table border=\"1\" class=\"dataframe\">\n",
       "  <thead>\n",
       "    <tr style=\"text-align: right;\">\n",
       "      <th></th>\n",
       "      <th>col1</th>\n",
       "      <th>col3</th>\n",
       "    </tr>\n",
       "  </thead>\n",
       "  <tbody>\n",
       "    <tr>\n",
       "      <th>0</th>\n",
       "      <td>6</td>\n",
       "      <td>3</td>\n",
       "    </tr>\n",
       "    <tr>\n",
       "      <th>1</th>\n",
       "      <td>5</td>\n",
       "      <td>6</td>\n",
       "    </tr>\n",
       "    <tr>\n",
       "      <th>2</th>\n",
       "      <td>4</td>\n",
       "      <td>1</td>\n",
       "    </tr>\n",
       "    <tr>\n",
       "      <th>3</th>\n",
       "      <td>3</td>\n",
       "      <td>2</td>\n",
       "    </tr>\n",
       "    <tr>\n",
       "      <th>4</th>\n",
       "      <td>2</td>\n",
       "      <td>5</td>\n",
       "    </tr>\n",
       "    <tr>\n",
       "      <th>5</th>\n",
       "      <td>1</td>\n",
       "      <td>9</td>\n",
       "    </tr>\n",
       "  </tbody>\n",
       "</table>\n",
       "</div>"
      ],
      "text/plain": [
       "   col1  col3\n",
       "0     6     3\n",
       "1     5     6\n",
       "2     4     1\n",
       "3     3     2\n",
       "4     2     5\n",
       "5     1     9"
      ]
     },
     "execution_count": 64,
     "metadata": {},
     "output_type": "execute_result"
    }
   ],
   "source": [
    "df2"
   ]
  },
  {
   "cell_type": "code",
   "execution_count": 67,
   "id": "93afc73a-d382-481e-b980-2bf8c8844193",
   "metadata": {},
   "outputs": [
    {
     "data": {
      "text/html": [
       "<div>\n",
       "<style scoped>\n",
       "    .dataframe tbody tr th:only-of-type {\n",
       "        vertical-align: middle;\n",
       "    }\n",
       "\n",
       "    .dataframe tbody tr th {\n",
       "        vertical-align: top;\n",
       "    }\n",
       "\n",
       "    .dataframe thead th {\n",
       "        text-align: right;\n",
       "    }\n",
       "</style>\n",
       "<table border=\"1\" class=\"dataframe\">\n",
       "  <thead>\n",
       "    <tr style=\"text-align: right;\">\n",
       "      <th></th>\n",
       "      <th>col1</th>\n",
       "      <th>col3</th>\n",
       "    </tr>\n",
       "  </thead>\n",
       "  <tbody>\n",
       "    <tr>\n",
       "      <th>col1</th>\n",
       "      <td>1.000000</td>\n",
       "      <td>-0.508391</td>\n",
       "    </tr>\n",
       "    <tr>\n",
       "      <th>col3</th>\n",
       "      <td>-0.508391</td>\n",
       "      <td>1.000000</td>\n",
       "    </tr>\n",
       "  </tbody>\n",
       "</table>\n",
       "</div>"
      ],
      "text/plain": [
       "          col1      col3\n",
       "col1  1.000000 -0.508391\n",
       "col3 -0.508391  1.000000"
      ]
     },
     "execution_count": 67,
     "metadata": {},
     "output_type": "execute_result"
    }
   ],
   "source": [
    "df2.corr() # 상관계수가 0.2~0.5약한 상관계수  0.5~0.7 강한 상관계수  0.7~1 매우 강한 상관계수 대체로 이 정도로 구분함"
   ]
  },
  {
   "cell_type": "code",
   "execution_count": 68,
   "id": "49d4e5eb-2f46-48cd-8810-38acce440c29",
   "metadata": {},
   "outputs": [
    {
     "data": {
      "text/plain": [
       "col1   -1.0\n",
       "col2    NaN\n",
       "col3    NaN\n",
       "dtype: float64"
      ]
     },
     "execution_count": 68,
     "metadata": {},
     "output_type": "execute_result"
    }
   ],
   "source": [
    "#df1의 col1과 df2의 col1과 상관관계\n",
    "df1.corrwith(df2)"
   ]
  },
  {
   "cell_type": "code",
   "execution_count": 69,
   "id": "bd300027-32f3-438f-8be2-687678d82887",
   "metadata": {},
   "outputs": [
    {
     "data": {
      "text/plain": [
       "col1   -1.0\n",
       "col2    NaN\n",
       "col3    NaN\n",
       "dtype: float64"
      ]
     },
     "execution_count": 69,
     "metadata": {},
     "output_type": "execute_result"
    }
   ],
   "source": [
    "df1.corrwith(df2,method='spearman')"
   ]
  },
  {
   "cell_type": "code",
   "execution_count": 70,
   "id": "12ef5d19-7a30-47a6-b147-0384833f7625",
   "metadata": {},
   "outputs": [
    {
     "data": {
      "text/plain": [
       "col1   -1.0\n",
       "dtype: float64"
      ]
     },
     "execution_count": 70,
     "metadata": {},
     "output_type": "execute_result"
    }
   ],
   "source": [
    "df1.corrwith(df2, method='pearson', drop=True) # 둘중 하나만 있는 컬럼은 nan이 뜨기때문에 drop으로 없앨 수 있음"
   ]
  },
  {
   "cell_type": "code",
   "execution_count": 71,
   "id": "15f98dbe-f850-4ad3-bd70-596c9f236769",
   "metadata": {},
   "outputs": [],
   "source": [
    "# 표본에서 구한 상관계수\n",
    "# 동일한 모집단에서 추출된 표본에 따라 상관계수도 달라짐\n",
    "# => 상관계수에 대해 통계적 검증(p-value)=> p-value <0.05인 경우에는 '통계적으로 유의미하다'"
   ]
  },
  {
   "cell_type": "code",
   "execution_count": 72,
   "id": "839552f5-d3e8-48ae-bf89-b18c816cdfd3",
   "metadata": {},
   "outputs": [],
   "source": [
    "x = [8, 3, 6, 6, 9, 4, 3, 9, 3, 4]\n",
    "y = [6, 2, 4, 6, 10, 5, 1, 8, 4, 5]"
   ]
  },
  {
   "cell_type": "code",
   "execution_count": 75,
   "id": "23e88189-38e2-4831-ab76-cc6ab2c1e8b4",
   "metadata": {},
   "outputs": [
    {
     "data": {
      "text/plain": [
       "0.8625172792135781"
      ]
     },
     "execution_count": 75,
     "metadata": {},
     "output_type": "execute_result"
    }
   ],
   "source": [
    "ss.pearsonr(x,y).correlation"
   ]
  },
  {
   "cell_type": "code",
   "execution_count": 79,
   "id": "3c54b6be-cb6f-4166-a28c-e8e6d220dbaa",
   "metadata": {},
   "outputs": [
    {
     "data": {
      "text/html": [
       "<div>\n",
       "<style scoped>\n",
       "    .dataframe tbody tr th:only-of-type {\n",
       "        vertical-align: middle;\n",
       "    }\n",
       "\n",
       "    .dataframe tbody tr th {\n",
       "        vertical-align: top;\n",
       "    }\n",
       "\n",
       "    .dataframe thead th {\n",
       "        text-align: right;\n",
       "    }\n",
       "</style>\n",
       "<table border=\"1\" class=\"dataframe\">\n",
       "  <thead>\n",
       "    <tr style=\"text-align: right;\">\n",
       "      <th></th>\n",
       "      <th>col1</th>\n",
       "      <th>col2</th>\n",
       "    </tr>\n",
       "  </thead>\n",
       "  <tbody>\n",
       "    <tr>\n",
       "      <th>col1</th>\n",
       "      <td>1.000000</td>\n",
       "      <td>0.862517</td>\n",
       "    </tr>\n",
       "    <tr>\n",
       "      <th>col2</th>\n",
       "      <td>0.862517</td>\n",
       "      <td>1.000000</td>\n",
       "    </tr>\n",
       "  </tbody>\n",
       "</table>\n",
       "</div>"
      ],
      "text/plain": [
       "          col1      col2\n",
       "col1  1.000000  0.862517\n",
       "col2  0.862517  1.000000"
      ]
     },
     "execution_count": 79,
     "metadata": {},
     "output_type": "execute_result"
    }
   ],
   "source": [
    "df4=pd.DataFrame({'col1':x,'col2':y})\n",
    "df4.corr()"
   ]
  },
  {
   "cell_type": "code",
   "execution_count": 78,
   "id": "1c24b6bc-578b-4cdd-bdf1-4bb5aa224352",
   "metadata": {},
   "outputs": [
    {
     "data": {
      "text/html": [
       "<div>\n",
       "<style scoped>\n",
       "    .dataframe tbody tr th:only-of-type {\n",
       "        vertical-align: middle;\n",
       "    }\n",
       "\n",
       "    .dataframe tbody tr th {\n",
       "        vertical-align: top;\n",
       "    }\n",
       "\n",
       "    .dataframe thead th {\n",
       "        text-align: right;\n",
       "    }\n",
       "</style>\n",
       "<table border=\"1\" class=\"dataframe\">\n",
       "  <thead>\n",
       "    <tr style=\"text-align: right;\">\n",
       "      <th></th>\n",
       "      <th>col1</th>\n",
       "      <th>col2</th>\n",
       "    </tr>\n",
       "  </thead>\n",
       "  <tbody>\n",
       "    <tr>\n",
       "      <th>col1</th>\n",
       "      <td>1.000000</td>\n",
       "      <td>0.862517</td>\n",
       "    </tr>\n",
       "    <tr>\n",
       "      <th>col2</th>\n",
       "      <td>0.862517</td>\n",
       "      <td>1.000000</td>\n",
       "    </tr>\n",
       "  </tbody>\n",
       "</table>\n",
       "</div>"
      ],
      "text/plain": [
       "          col1      col2\n",
       "col1  1.000000  0.862517\n",
       "col2  0.862517  1.000000"
      ]
     },
     "execution_count": 78,
     "metadata": {},
     "output_type": "execute_result"
    }
   ],
   "source": [
    "df4.corr()"
   ]
  },
  {
   "cell_type": "code",
   "execution_count": 80,
   "id": "788a5520-953c-40be-8b25-380cfbdfe658",
   "metadata": {},
   "outputs": [
    {
     "data": {
      "text/plain": [
       "PearsonRResult(statistic=0.8625172792135781, pvalue=0.0013196539142000018)"
      ]
     },
     "execution_count": 80,
     "metadata": {},
     "output_type": "execute_result"
    }
   ],
   "source": [
    "ss.pearsonr(x,y)\n",
    "#피어슨 상관계수 -> 연속형 변수, 정규분포(이상치가 거의 업슴) , 선형관계"
   ]
  },
  {
   "cell_type": "markdown",
   "id": "e6c618ca-fd3d-4c06-8308-aaa130b8fd74",
   "metadata": {},
   "source": [
    "가설\n",
    "1.귀무가설 : 기존의 입장(H0)\n",
    "2.대립가설 : 귀무가설의 상반된 입장(H1)\n",
    " \n",
    "가설검정\n",
    "1) 귀무/대립가설 수립\n",
    "2) 표본추출, 확률실험\n",
    "3) 유의수준 설정 -> 의사결정 기준"
   ]
  },
  {
   "cell_type": "markdown",
   "id": "d6f5c3a4-e14c-4e77-9d0d-eb184cdf08e7",
   "metadata": {},
   "source": [
    "남학생들의 평균 성적이 여학생들보다 높을 것이다\n",
    "\n",
    "귀무가설 : 일반적인 사람들이 알고있는 통념\n",
    "\n",
    "모집단이 어떤 특징을 가질 것으로 여겨지는 가설, 실험을 통해 기각하고자 하는 가설\n",
    "남학생들의 평균 성적이 여학생들보다 낮거나 같다\n",
    "\n",
    "대립가설 : 일반적인 사람들이 알고 있는 통념에 반하는 새로운 주장\n",
    "귀무가설의 반대되는 가설, 실험을 통해 귀무가설이 틀리다고 증명해야 하는 가설\n",
    "\n",
    "남학생들의 평균 성적이 여학생들보다 높다"
   ]
  },
  {
   "cell_type": "markdown",
   "id": "68e2d5da-59be-4486-8d12-3cb5e5b2c76f",
   "metadata": {},
   "source": [
    "=> 귀무가설을 먼저 수립하고 이것을 기각할 수 있는 증거를 찾아내서, 주장하고 싶은 거설인 대립가설을 채택하도록 한다.\n",
    "\n",
    "    상관계수에서의 귀무가설 '상관계수가 0이다' (상관관계가 없다)\n",
    "    대립가설 '상관계수가 0이 아니다 (상관관계가 있다)\n",
    "p-value는 모집단에서 상관계수가 0일때, 표본에 대한 상관계수(0.86)보다 더 극단적인 상관계수가 관찰된 확률"
   ]
  },
  {
   "cell_type": "code",
   "execution_count": null,
   "id": "7a88cefa-13f4-47d9-a4dc-057ecda8c751",
   "metadata": {},
   "outputs": [],
   "source": [
    "#데이터 표준화, 정규화\n",
    "#표준화: 평균이 0, 표준편차가 1인 표준 정규분포로 표준화 하는것"
   ]
  },
  {
   "cell_type": "code",
   "execution_count": 11,
   "id": "96c36f66-0560-4c6d-b458-0f7cc236cb22",
   "metadata": {},
   "outputs": [],
   "source": [
    "data = np.random.randint(30, size=(6, 5))"
   ]
  },
  {
   "cell_type": "code",
   "execution_count": 82,
   "id": "0e80b314-00b2-4c2d-8b35-73c75a296a52",
   "metadata": {},
   "outputs": [
    {
     "data": {
      "text/plain": [
       "array([[15, 15, 27, 23, 22],\n",
       "       [ 7, 21, 15,  8,  9],\n",
       "       [28, 25,  4, 26, 29],\n",
       "       [12, 21,  2, 15, 25],\n",
       "       [ 4, 23, 21, 28,  4],\n",
       "       [29,  1, 20,  6, 16]])"
      ]
     },
     "execution_count": 82,
     "metadata": {},
     "output_type": "execute_result"
    }
   ],
   "source": [
    "data #일반적으로 열 단위로 표준화"
   ]
  },
  {
   "cell_type": "code",
   "execution_count": 85,
   "id": "6a9d2ebe-da72-447f-bd39-9b51369d21c2",
   "metadata": {},
   "outputs": [
    {
     "data": {
      "text/plain": [
       "array([15.83333333, 17.66666667, 14.83333333, 17.66666667, 17.5       ])"
      ]
     },
     "execution_count": 85,
     "metadata": {},
     "output_type": "execute_result"
    }
   ],
   "source": [
    "#표준화값=(각 데이터 - 데이터 평균)/표준편차 = 편차/표준편차  ->z스코어라고도 함\n",
    "np.mean(data,axis=0) # 열 단위 평균"
   ]
  },
  {
   "cell_type": "code",
   "execution_count": 89,
   "id": "c517c342-c5e9-454f-b187-2877a7d8827b",
   "metadata": {},
   "outputs": [
    {
     "data": {
      "text/plain": [
       "array([[-0.08665889, -0.33104236,  1.33973148,  0.62185766,  0.51089105],\n",
       "       [-0.9185842 ,  0.41380294,  0.01835249, -1.12711701, -0.96501643],\n",
       "       [ 1.26521975,  0.91036648, -1.19291159,  0.97165259,  1.30561047],\n",
       "       [-0.39863088,  0.41380294, -1.41314142, -0.31092883,  0.85148509],\n",
       "       [-1.2305562 ,  0.66208471,  0.67904198,  1.20484922, -1.53267316],\n",
       "       [ 1.36921041, -2.06901472,  0.56892707, -1.36031363, -0.17029702]])"
      ]
     },
     "execution_count": 89,
     "metadata": {},
     "output_type": "execute_result"
    }
   ],
   "source": [
    "(data-np.mean(data,axis=0))/np.std(data,axis=0) # 표준화된 데이터를 알 수 있음 각 열에 대한 평균 0 표준편차 1\n",
    "#평균에서 얼만큼 떨어져있느냐를 나타냄. ex) 평균으로부터 표준편차*데이터값배수 만큼 떨어져있음."
   ]
  },
  {
   "cell_type": "code",
   "execution_count": 90,
   "id": "a13b556c-d9d1-453f-8854-566a7b27d9e0",
   "metadata": {},
   "outputs": [
    {
     "data": {
      "text/plain": [
       "array([[-0.08665889, -0.33104236,  1.33973148,  0.62185766,  0.51089105],\n",
       "       [-0.9185842 ,  0.41380294,  0.01835249, -1.12711701, -0.96501643],\n",
       "       [ 1.26521975,  0.91036648, -1.19291159,  0.97165259,  1.30561047],\n",
       "       [-0.39863088,  0.41380294, -1.41314142, -0.31092883,  0.85148509],\n",
       "       [-1.2305562 ,  0.66208471,  0.67904198,  1.20484922, -1.53267316],\n",
       "       [ 1.36921041, -2.06901472,  0.56892707, -1.36031363, -0.17029702]])"
      ]
     },
     "execution_count": 90,
     "metadata": {},
     "output_type": "execute_result"
    }
   ],
   "source": [
    "#import scipy.stats as ss -> 싸이파이 모듈 머신러닝에선 sklearn을 더 많이 사용하긴함\n",
    "ss.zscore(data)"
   ]
  },
  {
   "cell_type": "code",
   "execution_count": 9,
   "id": "2ac13420-3d6c-43e7-b089-ad154d6043f8",
   "metadata": {},
   "outputs": [],
   "source": [
    "from sklearn.preprocessing import StandardScaler,RobustScaler"
   ]
  },
  {
   "cell_type": "code",
   "execution_count": 92,
   "id": "aef8a73f-d4f0-4794-bbf5-46aaaea6024b",
   "metadata": {},
   "outputs": [
    {
     "data": {
      "text/plain": [
       "array([[-0.08665889, -0.33104236,  1.33973148,  0.62185766,  0.51089105],\n",
       "       [-0.9185842 ,  0.41380294,  0.01835249, -1.12711701, -0.96501643],\n",
       "       [ 1.26521975,  0.91036648, -1.19291159,  0.97165259,  1.30561047],\n",
       "       [-0.39863088,  0.41380294, -1.41314142, -0.31092883,  0.85148509],\n",
       "       [-1.2305562 ,  0.66208471,  0.67904198,  1.20484922, -1.53267316],\n",
       "       [ 1.36921041, -2.06901472,  0.56892707, -1.36031363, -0.17029702]])"
      ]
     },
     "execution_count": 92,
     "metadata": {},
     "output_type": "execute_result"
    }
   ],
   "source": [
    "StandardScaler().fit_transform(data) #객체를 생성하고 데이터 표준화"
   ]
  },
  {
   "cell_type": "code",
   "execution_count": null,
   "id": "5813fcfd-7acc-44ee-9768-e2caa9d4d12b",
   "metadata": {},
   "outputs": [],
   "source": [
    "# 표준화 값 또한 계산식에 평균값이 들어가므로 이상치에 민감함. 따라서 원본데이터에서 이상치를 먼저 처리\n",
    "# 원본데이터 => 이상치 검색 => 제거 => 정제된 데이터의 표준화 => 데이터 분석\n",
    "표준화(StandardScaler) : (data- mean)/std -> #평균이 들어가므로 이상치 데이터에 영향이 큼\n",
    "표준화(RobustScaler) : (data-median)/ IQR  #중위값을 사용하여 표준화 -> 이상치에 강함"
   ]
  },
  {
   "cell_type": "code",
   "execution_count": 165,
   "id": "ec999056-36fe-4fc4-be7e-070237011d4a",
   "metadata": {},
   "outputs": [],
   "source": [
    "mu, sigma = 10, 2"
   ]
  },
  {
   "cell_type": "code",
   "execution_count": 166,
   "id": "a6f19c95-4c8d-4f91-bbfe-dc62af3f5401",
   "metadata": {},
   "outputs": [],
   "source": [
    "x = mu + sigma*np.random.randn(100)"
   ]
  },
  {
   "cell_type": "code",
   "execution_count": 167,
   "id": "239fd9f4-a715-4641-a095-cb800dc349d2",
   "metadata": {},
   "outputs": [
    {
     "data": {
      "text/plain": [
       "array([ 8.20259953,  9.85074819,  8.42745865, 11.23479215, 11.60171879,\n",
       "        7.8770164 ,  9.87953311, 14.3674889 , 10.47936488,  9.08236828,\n",
       "        9.269988  , 10.37809738, 11.55187658,  9.11714356,  9.73093541,\n",
       "       12.52526464,  7.50560571, 10.77964038, 11.5709623 ,  8.88042559,\n",
       "       12.01385051,  7.95834744,  7.49929088,  6.38003916,  8.90427777,\n",
       "        6.76757137, 11.71376908,  8.34960997,  6.1849796 , 11.1559847 ,\n",
       "        8.79553478,  9.6470794 , 13.14435648,  8.95678006, 11.79169035,\n",
       "        9.58798265, 10.7051075 , 10.67286502, 10.39756633,  8.89092977,\n",
       "       10.24530209, 12.26823605, 11.53390903, 10.53420417, 10.00712671,\n",
       "        9.49681055, 10.39055798, 11.04132671,  8.88806472, 11.4805096 ,\n",
       "       10.65631452,  8.30642779,  9.95371977,  9.34364397, 10.48682621,\n",
       "       11.53051554,  7.49033337,  8.74909858,  8.7676566 , 10.7818057 ,\n",
       "       11.47746977,  6.71557416, 11.39508701, 12.0067032 , 10.43681262,\n",
       "       10.14877809, 10.10659008, 10.61043204, 11.12315909, 10.69744969,\n",
       "       11.58155982,  9.50476149, 10.250105  , 11.96861926,  8.11005988,\n",
       "       14.37498877, 11.16115332,  8.67958729, 11.97903771, 13.22583591,\n",
       "        8.68943994, 11.18001215, 10.20134356, 15.20205667,  8.53226218,\n",
       "        6.64723569, 10.6371078 ,  9.59379986, 12.76216472,  7.75965186,\n",
       "       13.03149039, 13.48716309,  9.01048631, 10.31852334, 12.49416418,\n",
       "        7.03396217,  7.98658185,  5.85854346,  8.88763964,  9.1703528 ])"
      ]
     },
     "execution_count": 167,
     "metadata": {},
     "output_type": "execute_result"
    }
   ],
   "source": [
    "x"
   ]
  },
  {
   "cell_type": "code",
   "execution_count": 111,
   "id": "1c615aca-5845-44c6-8b56-25728d9fa23c",
   "metadata": {},
   "outputs": [
    {
     "data": {
      "text/plain": [
       "2.08022866900927"
      ]
     },
     "execution_count": 111,
     "metadata": {},
     "output_type": "execute_result"
    }
   ],
   "source": [
    "np.mean(x) #9.9\n",
    "np.std(x) #2"
   ]
  },
  {
   "cell_type": "code",
   "execution_count": 168,
   "id": "785b1a19-e3b4-464f-8440-6bd2ca961d89",
   "metadata": {},
   "outputs": [
    {
     "data": {
      "text/plain": [
       "(array([ 6.,  4., 10., 21., 18., 16., 15.,  6.,  1.,  3.]),\n",
       " array([ 5.85854346,  6.79289478,  7.7272461 ,  8.66159742,  9.59594874,\n",
       "        10.53030006, 11.46465138, 12.3990027 , 13.33335403, 14.26770535,\n",
       "        15.20205667]),\n",
       " <BarContainer object of 10 artists>)"
      ]
     },
     "execution_count": 168,
     "metadata": {},
     "output_type": "execute_result"
    },
    {
     "data": {
      "image/png": "[encoded data removed]",
      "text/plain": [
       "<Figure size 640x480 with 1 Axes>"
      ]
     },
     "metadata": {},
     "output_type": "display_data"
    }
   ],
   "source": [
    "plt.hist(x)"
   ]
  },
  {
   "cell_type": "code",
   "execution_count": 169,
   "id": "2ed30e42-c906-4aab-83db-1d720e37a5c9",
   "metadata": {},
   "outputs": [],
   "source": [
    "x[98:100]=100 # 극단치를 임의로 저장"
   ]
  },
  {
   "cell_type": "code",
   "execution_count": 170,
   "id": "3fc17783-7aa1-4043-a445-9bb5c357a03b",
   "metadata": {},
   "outputs": [
    {
     "data": {
      "text/plain": [
       "11.897627843613405"
      ]
     },
     "execution_count": 170,
     "metadata": {},
     "output_type": "execute_result"
    }
   ],
   "source": [
    "np.mean(x)"
   ]
  },
  {
   "cell_type": "code",
   "execution_count": 171,
   "id": "8a838451-15c3-45ef-a9c7-991f45286d15",
   "metadata": {},
   "outputs": [
    {
     "data": {
      "text/plain": [
       "12.72279355518709"
      ]
     },
     "execution_count": 171,
     "metadata": {},
     "output_type": "execute_result"
    }
   ],
   "source": [
    "np.std(x) # 이상치로 인해 표준편차가 늘어남"
   ]
  },
  {
   "cell_type": "code",
   "execution_count": 172,
   "id": "cf3bb21a-de73-4a45-aed6-48adf2889ca0",
   "metadata": {},
   "outputs": [
    {
     "data": {
      "text/plain": [
       "(array([98.,  0.,  0.,  0.,  0.,  0.,  0.,  0.,  0.,  2.]),\n",
       " array([  5.85854346,  15.27268912,  24.68683477,  34.10098042,\n",
       "         43.51512608,  52.92927173,  62.34341739,  71.75756304,\n",
       "         81.17170869,  90.58585435, 100.        ]),\n",
       " <BarContainer object of 10 artists>)"
      ]
     },
     "execution_count": 172,
     "metadata": {},
     "output_type": "execute_result"
    },
    {
     "data": {
      "image/png": "[encoded data removed]",
      "text/plain": [
       "<Figure size 640x480 with 1 Axes>"
      ]
     },
     "metadata": {},
     "output_type": "display_data"
    }
   ],
   "source": [
    "plt.hist(x)"
   ]
  },
  {
   "cell_type": "code",
   "execution_count": 173,
   "id": "e973836a-4481-44cf-9439-99cba4c8958f",
   "metadata": {},
   "outputs": [],
   "source": [
    "# outliers(이상치) =\n",
    "# (q3+iqr*1.5) <data\n",
    "# or\n",
    "# (q1-iqr*1.5) >data\n",
    "#iqr=q3-q1"
   ]
  },
  {
   "cell_type": "code",
   "execution_count": 174,
   "id": "702400c4-99bd-40c4-84f2-9c4cece77a73",
   "metadata": {},
   "outputs": [
    {
     "data": {
      "text/html": [
       "<div>\n",
       "<style scoped>\n",
       "    .dataframe tbody tr th:only-of-type {\n",
       "        vertical-align: middle;\n",
       "    }\n",
       "\n",
       "    .dataframe tbody tr th {\n",
       "        vertical-align: top;\n",
       "    }\n",
       "\n",
       "    .dataframe thead th {\n",
       "        text-align: right;\n",
       "    }\n",
       "</style>\n",
       "<table border=\"1\" class=\"dataframe\">\n",
       "  <thead>\n",
       "    <tr style=\"text-align: right;\">\n",
       "      <th></th>\n",
       "      <th>0</th>\n",
       "    </tr>\n",
       "  </thead>\n",
       "  <tbody>\n",
       "    <tr>\n",
       "      <th>count</th>\n",
       "      <td>100.000000</td>\n",
       "    </tr>\n",
       "    <tr>\n",
       "      <th>mean</th>\n",
       "      <td>11.897628</td>\n",
       "    </tr>\n",
       "    <tr>\n",
       "      <th>std</th>\n",
       "      <td>12.786889</td>\n",
       "    </tr>\n",
       "    <tr>\n",
       "      <th>min</th>\n",
       "      <td>5.858543</td>\n",
       "    </tr>\n",
       "    <tr>\n",
       "      <th>25%</th>\n",
       "      <td>8.859203</td>\n",
       "    </tr>\n",
       "    <tr>\n",
       "      <th>50%</th>\n",
       "      <td>10.284314</td>\n",
       "    </tr>\n",
       "    <tr>\n",
       "      <th>75%</th>\n",
       "      <td>11.493011</td>\n",
       "    </tr>\n",
       "    <tr>\n",
       "      <th>max</th>\n",
       "      <td>100.000000</td>\n",
       "    </tr>\n",
       "  </tbody>\n",
       "</table>\n",
       "</div>"
      ],
      "text/plain": [
       "                0\n",
       "count  100.000000\n",
       "mean    11.897628\n",
       "std     12.786889\n",
       "min      5.858543\n",
       "25%      8.859203\n",
       "50%     10.284314\n",
       "75%     11.493011\n",
       "max    100.000000"
      ]
     },
     "execution_count": 174,
     "metadata": {},
     "output_type": "execute_result"
    }
   ],
   "source": [
    "pd.DataFrame(x).describe()"
   ]
  },
  {
   "cell_type": "code",
   "execution_count": 175,
   "id": "f70ad39a-d5a6-44bf-add6-dbfc189ca658",
   "metadata": {},
   "outputs": [
    {
     "data": {
      "text/plain": [
       "0    8.859203\n",
       "Name: 25%, dtype: float64"
      ]
     },
     "execution_count": 175,
     "metadata": {},
     "output_type": "execute_result"
    }
   ],
   "source": [
    "q1=pd.DataFrame(x).describe().iloc[4] #1사분위수\n",
    "q1"
   ]
  },
  {
   "cell_type": "code",
   "execution_count": 176,
   "id": "bf57a979-257c-48b1-bff4-37420cc035a1",
   "metadata": {},
   "outputs": [
    {
     "data": {
      "text/plain": [
       "0    11.493011\n",
       "Name: 75%, dtype: float64"
      ]
     },
     "execution_count": 176,
     "metadata": {},
     "output_type": "execute_result"
    }
   ],
   "source": [
    "q3=pd.DataFrame(x).describe().iloc[6] #3사분위수\n",
    "q3"
   ]
  },
  {
   "cell_type": "code",
   "execution_count": 177,
   "id": "b1444f07-063d-43f2-902b-9d6847a8fb17",
   "metadata": {},
   "outputs": [],
   "source": [
    "iqr=q3-q1"
   ]
  },
  {
   "cell_type": "code",
   "execution_count": 178,
   "id": "d5f89350-2ce3-4d24-b9ff-4185ca4c9da9",
   "metadata": {},
   "outputs": [
    {
     "data": {
      "text/plain": [
       "0    15.443723\n",
       "dtype: float64"
      ]
     },
     "execution_count": 178,
     "metadata": {},
     "output_type": "execute_result"
    }
   ],
   "source": [
    "q3+iqr*1.5 #high boundary"
   ]
  },
  {
   "cell_type": "code",
   "execution_count": 179,
   "id": "1034d0c9-a4ea-4d9e-8ef0-7de66a430324",
   "metadata": {},
   "outputs": [
    {
     "data": {
      "text/plain": [
       "0    4.908491\n",
       "dtype: float64"
      ]
     },
     "execution_count": 179,
     "metadata": {},
     "output_type": "execute_result"
    }
   ],
   "source": [
    "q1-iqr*1.5 #low boundary\n",
    "#4.9~15.6 범위를 벗어나면 이상치"
   ]
  },
  {
   "cell_type": "code",
   "execution_count": 180,
   "id": "0d7e6551-e4e7-49c3-a10e-7ad30645406f",
   "metadata": {},
   "outputs": [
    {
     "data": {
      "text/plain": [
       "array([100., 100.])"
      ]
     },
     "execution_count": 180,
     "metadata": {},
     "output_type": "execute_result"
    }
   ],
   "source": [
    "\n",
    "x[(q3 + iqr*1.5).values < x]#이상치 찾기"
   ]
  },
  {
   "cell_type": "code",
   "execution_count": 181,
   "id": "f4c79b5f-95bb-422d-a16e-f0dfd5117ad5",
   "metadata": {},
   "outputs": [
    {
     "data": {
      "text/plain": [
       "array([ 8.20259953,  9.85074819,  8.42745865, 11.23479215, 11.60171879,\n",
       "        7.8770164 ,  9.87953311, 14.3674889 , 10.47936488,  9.08236828,\n",
       "        9.269988  , 10.37809738, 11.55187658,  9.11714356,  9.73093541,\n",
       "       12.52526464,  7.50560571, 10.77964038, 11.5709623 ,  8.88042559,\n",
       "       12.01385051,  7.95834744,  7.49929088,  6.38003916,  8.90427777,\n",
       "        6.76757137, 11.71376908,  8.34960997,  6.1849796 , 11.1559847 ,\n",
       "        8.79553478,  9.6470794 , 13.14435648,  8.95678006, 11.79169035,\n",
       "        9.58798265, 10.7051075 , 10.67286502, 10.39756633,  8.89092977,\n",
       "       10.24530209, 12.26823605, 11.53390903, 10.53420417, 10.00712671,\n",
       "        9.49681055, 10.39055798, 11.04132671,  8.88806472, 11.4805096 ,\n",
       "       10.65631452,  8.30642779,  9.95371977,  9.34364397, 10.48682621,\n",
       "       11.53051554,  7.49033337,  8.74909858,  8.7676566 , 10.7818057 ,\n",
       "       11.47746977,  6.71557416, 11.39508701, 12.0067032 , 10.43681262,\n",
       "       10.14877809, 10.10659008, 10.61043204, 11.12315909, 10.69744969,\n",
       "       11.58155982,  9.50476149, 10.250105  , 11.96861926,  8.11005988,\n",
       "       14.37498877, 11.16115332,  8.67958729, 11.97903771, 13.22583591,\n",
       "        8.68943994, 11.18001215, 10.20134356, 15.20205667,  8.53226218,\n",
       "        6.64723569, 10.6371078 ,  9.59379986, 12.76216472,  7.75965186,\n",
       "       13.03149039, 13.48716309,  9.01048631, 10.31852334, 12.49416418,\n",
       "        7.03396217,  7.98658185,  5.85854346])"
      ]
     },
     "execution_count": 181,
     "metadata": {},
     "output_type": "execute_result"
    }
   ],
   "source": [
    "x[((q3 + iqr*1.5).values >= x) & ((q1 - iqr*1.5).values <= x)  ] #이상치를 제외한 데이터"
   ]
  },
  {
   "cell_type": "code",
   "execution_count": 189,
   "id": "39e60dcc-d70a-48df-9fb9-a0a0aa97c1de",
   "metadata": {},
   "outputs": [
    {
     "data": {
      "text/plain": [
       "array([  8.20259953,   9.85074819,   8.42745865,  11.23479215,\n",
       "        11.60171879,   7.8770164 ,   9.87953311,  14.3674889 ,\n",
       "        10.47936488,   9.08236828,   9.269988  ,  10.37809738,\n",
       "        11.55187658,   9.11714356,   9.73093541,  12.52526464,\n",
       "         7.50560571,  10.77964038,  11.5709623 ,   8.88042559,\n",
       "        12.01385051,   7.95834744,   7.49929088,   6.38003916,\n",
       "         8.90427777,   6.76757137,  11.71376908,   8.34960997,\n",
       "         6.1849796 ,  11.1559847 ,   8.79553478,   9.6470794 ,\n",
       "        13.14435648,   8.95678006,  11.79169035,   9.58798265,\n",
       "        10.7051075 ,  10.67286502,  10.39756633,   8.89092977,\n",
       "        10.24530209,  12.26823605,  11.53390903,  10.53420417,\n",
       "        10.00712671,   9.49681055,  10.39055798,  11.04132671,\n",
       "         8.88806472,  11.4805096 ,  10.65631452,   8.30642779,\n",
       "         9.95371977,   9.34364397,  10.48682621,  11.53051554,\n",
       "         7.49033337,   8.74909858,   8.7676566 ,  10.7818057 ,\n",
       "        11.47746977,   6.71557416,  11.39508701,  12.0067032 ,\n",
       "        10.43681262,  10.14877809,  10.10659008,  10.61043204,\n",
       "        11.12315909,  10.69744969,  11.58155982,   9.50476149,\n",
       "        10.250105  ,  11.96861926,   8.11005988,  14.37498877,\n",
       "        11.16115332,   8.67958729,  11.97903771,  13.22583591,\n",
       "         8.68943994,  11.18001215,  10.20134356,  15.20205667,\n",
       "         8.53226218,   6.64723569,  10.6371078 ,   9.59379986,\n",
       "        12.76216472,   7.75965186,  13.03149039,  13.48716309,\n",
       "         9.01048631,  10.31852334,  12.49416418,   7.03396217,\n",
       "         7.98658185,   5.85854346, 100.        , 100.        ])"
      ]
     },
     "execution_count": 189,
     "metadata": {},
     "output_type": "execute_result"
    }
   ],
   "source": [
    "x"
   ]
  },
  {
   "cell_type": "code",
   "execution_count": 188,
   "id": "b0c71ed6-7ffd-43f6-8f92-ea3aa181983c",
   "metadata": {
    "scrolled": true
   },
   "outputs": [
    {
     "data": {
      "text/plain": [
       "array([[-7.90382018e-01],\n",
       "       [-1.64615623e-01],\n",
       "       [-7.05007875e-01],\n",
       "       [ 3.60875926e-01],\n",
       "       [ 5.00190035e-01],\n",
       "       [-9.13998888e-01],\n",
       "       [-1.53686611e-01],\n",
       "       [ 1.55029312e+00],\n",
       "       [ 7.40565367e-02],\n",
       "       [-4.56352852e-01],\n",
       "       [-3.85117706e-01],\n",
       "       [ 3.56074555e-02],\n",
       "       [ 4.81266025e-01],\n",
       "       [-4.43149434e-01],\n",
       "       [-2.10105944e-01],\n",
       "       [ 8.50840417e-01],\n",
       "       [-1.05501549e+00],\n",
       "       [ 1.88064648e-01],\n",
       "       [ 4.88512461e-01],\n",
       "       [-5.33026126e-01],\n",
       "       [ 6.56667536e-01],\n",
       "       [-8.83119253e-01],\n",
       "       [-1.05741310e+00],\n",
       "       [-1.48236876e+00],\n",
       "       [-5.23969967e-01],\n",
       "       [-1.33523117e+00],\n",
       "       [ 5.42733106e-01],\n",
       "       [-7.34565332e-01],\n",
       "       [-1.55642866e+00],\n",
       "       [ 3.30954445e-01],\n",
       "       [-5.65257329e-01],\n",
       "       [-2.41944256e-01],\n",
       "       [ 1.08589619e+00],\n",
       "       [-5.04035984e-01],\n",
       "       [ 5.72318128e-01],\n",
       "       [-2.64382015e-01],\n",
       "       [ 1.59766125e-01],\n",
       "       [ 1.47524353e-01],\n",
       "       [ 4.29993962e-02],\n",
       "       [-5.29037916e-01],\n",
       "       [-1.48120431e-02],\n",
       "       [ 7.53252223e-01],\n",
       "       [ 4.74444135e-01],\n",
       "       [ 9.48778285e-02],\n",
       "       [-1.05242084e-01],\n",
       "       [-2.98998089e-01],\n",
       "       [ 4.03384755e-02],\n",
       "       [ 2.87421284e-01],\n",
       "       [-5.30125712e-01],\n",
       "       [ 4.54169530e-01],\n",
       "       [ 1.41240484e-01],\n",
       "       [-7.50960675e-01],\n",
       "       [-1.25519543e-01],\n",
       "       [-3.57152128e-01],\n",
       "       [ 7.68894401e-02],\n",
       "       [ 4.73155702e-01],\n",
       "       [-1.06081407e+00],\n",
       "       [-5.82888150e-01],\n",
       "       [-5.75842072e-01],\n",
       "       [ 1.88886773e-01],\n",
       "       [ 4.53015369e-01],\n",
       "       [-1.35497338e+00],\n",
       "       [ 4.21736417e-01],\n",
       "       [ 6.53953855e-01],\n",
       "       [ 5.79003618e-02],\n",
       "       [-5.14601184e-02],\n",
       "       [-6.74779917e-02],\n",
       "       [ 1.23819899e-01],\n",
       "       [ 3.18491271e-01],\n",
       "       [ 1.56858620e-01],\n",
       "       [ 4.92536110e-01],\n",
       "       [-2.95979289e-01],\n",
       "       [-1.29884830e-02],\n",
       "       [ 6.39494208e-01],\n",
       "       [-8.25517319e-01],\n",
       "       [ 1.55314066e+00],\n",
       "       [ 3.32916859e-01],\n",
       "       [-6.09280084e-01],\n",
       "       [ 6.43449866e-01],\n",
       "       [ 1.11683217e+00],\n",
       "       [-6.05539243e-01],\n",
       "       [ 3.40077147e-01],\n",
       "       [-3.15021455e-02],\n",
       "       [ 1.86716044e+00],\n",
       "       [-6.65216240e-01],\n",
       "       [-1.38092002e+00],\n",
       "       [ 1.33948111e-01],\n",
       "       [-2.62173345e-01],\n",
       "       [ 9.40786253e-01],\n",
       "       [-9.58559667e-01],\n",
       "       [ 1.04304338e+00],\n",
       "       [ 1.21605245e+00],\n",
       "       [-4.83644882e-01],\n",
       "       [ 1.29884830e-02],\n",
       "       [ 8.39032246e-01],\n",
       "       [-1.23408834e+00],\n",
       "       [-8.72399256e-01],\n",
       "       [-1.68036940e+00],\n",
       "       [ 3.40631052e+01],\n",
       "       [ 3.40631052e+01]])"
      ]
     },
     "execution_count": 188,
     "metadata": {},
     "output_type": "execute_result"
    }
   ],
   "source": [
    "RobustScaler().fit_transform(pd.DataFrame(x)) #로버스트 스케일링"
   ]
  },
  {
   "cell_type": "code",
   "execution_count": 12,
   "id": "5fa698e6-55af-4302-b1af-02cdd8b30f64",
   "metadata": {},
   "outputs": [
    {
     "data": {
      "text/plain": [
       "array([[10,  2,  1,  1, 22],\n",
       "       [ 0,  9, 13, 20, 11],\n",
       "       [17, 26, 21,  6, 12],\n",
       "       [29, 24, 16,  0,  1],\n",
       "       [18,  0, 27, 18,  7],\n",
       "       [ 0, 19, 29,  8,  1]])"
      ]
     },
     "execution_count": 12,
     "metadata": {},
     "output_type": "execute_result"
    }
   ],
   "source": [
    "from sklearn.preprocessing import MinMaxScaler\n",
    "data"
   ]
  },
  {
   "cell_type": "code",
   "execution_count": 191,
   "id": "0aa4bc49-a57c-491b-a41f-0bb70cc6d401",
   "metadata": {},
   "outputs": [
    {
     "data": {
      "text/plain": [
       "array([29, 25, 27, 28, 29])"
      ]
     },
     "execution_count": 191,
     "metadata": {},
     "output_type": "execute_result"
    }
   ],
   "source": [
    "# MinMax 스케일링\n",
    "# 0<=(각 열 데이터 - 각 열 최소값) /( 각 열 최댓값 - 각 열 최솟값) <=1\n",
    "data.min(axis=0)\n",
    "data.max(axis=0)"
   ]
  },
  {
   "cell_type": "code",
   "execution_count": 194,
   "id": "b226b4e7-5250-4b0a-83fa-16d5058f7421",
   "metadata": {},
   "outputs": [
    {
     "data": {
      "text/plain": [
       "array([[0.44      , 0.58333333, 1.        , 0.77272727, 0.72      ],\n",
       "       [0.12      , 0.83333333, 0.52      , 0.09090909, 0.2       ],\n",
       "       [0.96      , 1.        , 0.08      , 0.90909091, 1.        ],\n",
       "       [0.32      , 0.83333333, 0.        , 0.40909091, 0.84      ],\n",
       "       [0.        , 0.91666667, 0.76      , 1.        , 0.        ],\n",
       "       [1.        , 0.        , 0.72      , 0.        , 0.48      ]])"
      ]
     },
     "execution_count": 194,
     "metadata": {},
     "output_type": "execute_result"
    }
   ],
   "source": [
    "(data-data.min(axis=0))/(data.max(axis=0)-data.min(axis=0)) #각 열의 최댓값은 1 최솟값은 0으로 스케일링"
   ]
  },
  {
   "cell_type": "code",
   "execution_count": 195,
   "id": "69c703fa-5419-42b0-be72-c56ae7a208b4",
   "metadata": {},
   "outputs": [
    {
     "data": {
      "text/plain": [
       "array([[0.44      , 0.58333333, 1.        , 0.77272727, 0.72      ],\n",
       "       [0.12      , 0.83333333, 0.52      , 0.09090909, 0.2       ],\n",
       "       [0.96      , 1.        , 0.08      , 0.90909091, 1.        ],\n",
       "       [0.32      , 0.83333333, 0.        , 0.40909091, 0.84      ],\n",
       "       [0.        , 0.91666667, 0.76      , 1.        , 0.        ],\n",
       "       [1.        , 0.        , 0.72      , 0.        , 0.48      ]])"
      ]
     },
     "execution_count": 195,
     "metadata": {},
     "output_type": "execute_result"
    }
   ],
   "source": [
    "mms=MinMaxScaler() #MinMaxScaler 함수\n",
    "mms.fit_transform(data)"
   ]
  },
  {
   "cell_type": "code",
   "execution_count": 4,
   "id": "f6fc6f1d-f4a3-43fc-93a4-81c6e8ed507e",
   "metadata": {},
   "outputs": [],
   "source": [
    "from sklearn.preprocessing import Binarizer"
   ]
  },
  {
   "cell_type": "code",
   "execution_count": 197,
   "id": "2aed0342-9845-4025-a736-23241df3424b",
   "metadata": {},
   "outputs": [
    {
     "data": {
      "text/plain": [
       "array([[15, 15, 27, 23, 22],\n",
       "       [ 7, 21, 15,  8,  9],\n",
       "       [28, 25,  4, 26, 29],\n",
       "       [12, 21,  2, 15, 25],\n",
       "       [ 4, 23, 21, 28,  4],\n",
       "       [29,  1, 20,  6, 16]])"
      ]
     },
     "execution_count": 197,
     "metadata": {},
     "output_type": "execute_result"
    }
   ],
   "source": [
    "data"
   ]
  },
  {
   "cell_type": "code",
   "execution_count": 201,
   "id": "47c8875c-57bd-4edf-8086-e235cbb6ff77",
   "metadata": {},
   "outputs": [],
   "source": [
    "bnr=Binarizer(threshold=10) #데이터를 2진화 (기준값)"
   ]
  },
  {
   "cell_type": "code",
   "execution_count": 200,
   "id": "39f393c2-7b16-47b0-9b1e-e92daec272ce",
   "metadata": {},
   "outputs": [
    {
     "data": {
      "text/plain": [
       "array([[1, 1, 1, 1, 1],\n",
       "       [0, 1, 1, 0, 0],\n",
       "       [1, 1, 0, 1, 1],\n",
       "       [1, 1, 0, 1, 1],\n",
       "       [0, 1, 1, 1, 0],\n",
       "       [1, 0, 1, 0, 1]])"
      ]
     },
     "execution_count": 200,
     "metadata": {},
     "output_type": "execute_result"
    }
   ],
   "source": [
    "bnr.transform(data) #10보다 크면 1 작으면 0이 됨"
   ]
  },
  {
   "cell_type": "code",
   "execution_count": null,
   "id": "9594cbec-0f5f-4515-9238-e5d192fb7644",
   "metadata": {},
   "outputs": [],
   "source": [
    "Binarizer : 연속형 변수 -> 0/1\n",
    "OneHotEncoder : 범주형 변수 -> 0/1"
   ]
  },
  {
   "cell_type": "code",
   "execution_count": 3,
   "id": "1e071674-8770-4864-bff0-fe9744564299",
   "metadata": {},
   "outputs": [],
   "source": [
    "from sklearn.preprocessing import OneHotEncoder"
   ]
  },
  {
   "cell_type": "code",
   "execution_count": 203,
   "id": "513a78a7-fb62-47ef-8d86-e71e412c250e",
   "metadata": {},
   "outputs": [],
   "source": [
    "ohe=OneHotEncoder()"
   ]
  },
  {
   "cell_type": "code",
   "execution_count": 210,
   "id": "9e09671f-a50b-4574-af76-e7208052d8c5",
   "metadata": {},
   "outputs": [
    {
     "data": {
      "text/plain": [
       "array([[0, 0, 0],\n",
       "       [0, 1, 1],\n",
       "       [0, 2, 2],\n",
       "       [1, 0, 3],\n",
       "       [1, 1, 4]])"
      ]
     },
     "execution_count": 210,
     "metadata": {},
     "output_type": "execute_result"
    }
   ],
   "source": [
    "train=np.array([[0, 0, 0],[0, 1, 1],[0, 2, 2],[1, 0, 3],[1, 1, 4]])\n",
    "train # ex 성별, 나이대 ,점수대 범주형 데이터라고 생각할 수 있음 , 이 상태로는 딥러닝x 하나하나가 범주이기 때문에"
   ]
  },
  {
   "cell_type": "code",
   "execution_count": 211,
   "id": "445667f0-ec14-4695-ae0e-b125d7403dac",
   "metadata": {},
   "outputs": [
    {
     "data": {
      "text/html": [
       "<style>#sk-container-id-1 {color: black;background-color: white;}#sk-container-id-1 pre{padding: 0;}#sk-container-id-1 div.sk-toggleable {background-color: white;}#sk-container-id-1 label.sk-toggleable__label {cursor: pointer;display: block;width: 100%;margin-bottom: 0;padding: 0.3em;box-sizing: border-box;text-align: center;}#sk-container-id-1 label.sk-toggleable__label-arrow:before {content: \"▸\";float: left;margin-right: 0.25em;color: #696969;}#sk-container-id-1 label.sk-toggleable__label-arrow:hover:before {color: black;}#sk-container-id-1 div.sk-estimator:hover label.sk-toggleable__label-arrow:before {color: black;}#sk-container-id-1 div.sk-toggleable__content {max-height: 0;max-width: 0;overflow: hidden;text-align: left;background-color: #f0f8ff;}#sk-container-id-1 div.sk-toggleable__content pre {margin: 0.2em;color: black;border-radius: 0.25em;background-color: #f0f8ff;}#sk-container-id-1 input.sk-toggleable__control:checked~div.sk-toggleable__content {max-height: 200px;max-width: 100%;overflow: auto;}#sk-container-id-1 input.sk-toggleable__control:checked~label.sk-toggleable__label-arrow:before {content: \"▾\";}#sk-container-id-1 div.sk-estimator input.sk-toggleable__control:checked~label.sk-toggleable__label {background-color: #d4ebff;}#sk-container-id-1 div.sk-label input.sk-toggleable__control:checked~label.sk-toggleable__label {background-color: #d4ebff;}#sk-container-id-1 input.sk-hidden--visually {border: 0;clip: rect(1px 1px 1px 1px);clip: rect(1px, 1px, 1px, 1px);height: 1px;margin: -1px;overflow: hidden;padding: 0;position: absolute;width: 1px;}#sk-container-id-1 div.sk-estimator {font-family: monospace;background-color: #f0f8ff;border: 1px dotted black;border-radius: 0.25em;box-sizing: border-box;margin-bottom: 0.5em;}#sk-container-id-1 div.sk-estimator:hover {background-color: #d4ebff;}#sk-container-id-1 div.sk-parallel-item::after {content: \"\";width: 100%;border-bottom: 1px solid gray;flex-grow: 1;}#sk-container-id-1 div.sk-label:hover label.sk-toggleable__label {background-color: #d4ebff;}#sk-container-id-1 div.sk-serial::before {content: \"\";position: absolute;border-left: 1px solid gray;box-sizing: border-box;top: 0;bottom: 0;left: 50%;z-index: 0;}#sk-container-id-1 div.sk-serial {display: flex;flex-direction: column;align-items: center;background-color: white;padding-right: 0.2em;padding-left: 0.2em;position: relative;}#sk-container-id-1 div.sk-item {position: relative;z-index: 1;}#sk-container-id-1 div.sk-parallel {display: flex;align-items: stretch;justify-content: center;background-color: white;position: relative;}#sk-container-id-1 div.sk-item::before, #sk-container-id-1 div.sk-parallel-item::before {content: \"\";position: absolute;border-left: 1px solid gray;box-sizing: border-box;top: 0;bottom: 0;left: 50%;z-index: -1;}#sk-container-id-1 div.sk-parallel-item {display: flex;flex-direction: column;z-index: 1;position: relative;background-color: white;}#sk-container-id-1 div.sk-parallel-item:first-child::after {align-self: flex-end;width: 50%;}#sk-container-id-1 div.sk-parallel-item:last-child::after {align-self: flex-start;width: 50%;}#sk-container-id-1 div.sk-parallel-item:only-child::after {width: 0;}#sk-container-id-1 div.sk-dashed-wrapped {border: 1px dashed gray;margin: 0 0.4em 0.5em 0.4em;box-sizing: border-box;padding-bottom: 0.4em;background-color: white;}#sk-container-id-1 div.sk-label label {font-family: monospace;font-weight: bold;display: inline-block;line-height: 1.2em;}#sk-container-id-1 div.sk-label-container {text-align: center;}#sk-container-id-1 div.sk-container {/* jupyter's `normalize.less` sets `[hidden] { display: none; }` but bootstrap.min.css set `[hidden] { display: none !important; }` so we also need the `!important` here to be able to override the default hidden behavior on the sphinx rendered scikit-learn.org. See: https://github.com/scikit-learn/scikit-learn/issues/21755 */display: inline-block !important;position: relative;}#sk-container-id-1 div.sk-text-repr-fallback {display: none;}</style><div id=\"sk-container-id-1\" class=\"sk-top-container\"><div class=\"sk-text-repr-fallback\"><pre>OneHotEncoder()</pre><b>In a Jupyter environment, please rerun this cell to show the HTML representation or trust the notebook. <br />On GitHub, the HTML representation is unable to render, please try loading this page with nbviewer.org.</b></div><div class=\"sk-container\" hidden><div class=\"sk-item\"><div class=\"sk-estimator sk-toggleable\"><input class=\"sk-toggleable__control sk-hidden--visually\" id=\"sk-estimator-id-1\" type=\"checkbox\" checked><label for=\"sk-estimator-id-1\" class=\"sk-toggleable__label sk-toggleable__label-arrow\">OneHotEncoder</label><div class=\"sk-toggleable__content\"><pre>OneHotEncoder()</pre></div></div></div></div></div>"
      ],
      "text/plain": [
       "OneHotEncoder()"
      ]
     },
     "execution_count": 211,
     "metadata": {},
     "output_type": "execute_result"
    }
   ],
   "source": [
    "#ohe.fit(데이터변수) # 범주형 변수 -> 이항변수\n",
    "ohe.fit(train)"
   ]
  },
  {
   "cell_type": "code",
   "execution_count": 216,
   "id": "231dcd0f-a0b5-405d-a601-830cdf24c194",
   "metadata": {},
   "outputs": [
    {
     "data": {
      "text/plain": [
       "[array([0, 1]), array([0, 1, 2]), array([0, 1, 2, 3, 4])]"
      ]
     },
     "execution_count": 216,
     "metadata": {},
     "output_type": "execute_result"
    }
   ],
   "source": [
    "ohe.categories_"
   ]
  },
  {
   "cell_type": "code",
   "execution_count": 217,
   "id": "109a42dd-01a5-45c9-a3de-3e4e02b381ef",
   "metadata": {},
   "outputs": [
    {
     "data": {
      "text/plain": [
       "3"
      ]
     },
     "execution_count": 217,
     "metadata": {},
     "output_type": "execute_result"
    }
   ],
   "source": [
    "ohe.n_features_in_"
   ]
  },
  {
   "cell_type": "code",
   "execution_count": 218,
   "id": "5a99b7b1-8355-49c0-8a69-f6f6cb3dc41b",
   "metadata": {},
   "outputs": [
    {
     "data": {
      "text/plain": [
       "<5x10 sparse matrix of type '<class 'numpy.float64'>'\n",
       "\twith 15 stored elements in Compressed Sparse Row format>"
      ]
     },
     "execution_count": 218,
     "metadata": {},
     "output_type": "execute_result"
    }
   ],
   "source": [
    "ohe.transform(train)"
   ]
  },
  {
   "cell_type": "code",
   "execution_count": 219,
   "id": "c76b5b68-e9a3-4b29-b5e8-8d5e3022e6c4",
   "metadata": {},
   "outputs": [
    {
     "data": {
      "text/plain": [
       "array([[1., 0., 1., 0., 0., 1., 0., 0., 0., 0.],\n",
       "       [1., 0., 0., 1., 0., 0., 1., 0., 0., 0.],\n",
       "       [1., 0., 0., 0., 1., 0., 0., 1., 0., 0.],\n",
       "       [0., 1., 1., 0., 0., 0., 0., 0., 1., 0.],\n",
       "       [0., 1., 0., 1., 0., 0., 0., 0., 0., 1.]])"
      ]
     },
     "execution_count": 219,
     "metadata": {},
     "output_type": "execute_result"
    }
   ],
   "source": [
    "ohe.transform(train).toarray() # 범주 세개를 쭉 나열 10 012 01234 범주에서 해당되는 자리를 1로 => onehotencoding\n"
   ]
  },
  {
   "cell_type": "code",
   "execution_count": 14,
   "id": "46b979a9-9fcb-4c5d-b476-886869eb9708",
   "metadata": {},
   "outputs": [
    {
     "data": {
      "text/html": [
       "<div>\n",
       "<style scoped>\n",
       "    .dataframe tbody tr th:only-of-type {\n",
       "        vertical-align: middle;\n",
       "    }\n",
       "\n",
       "    .dataframe tbody tr th {\n",
       "        vertical-align: top;\n",
       "    }\n",
       "\n",
       "    .dataframe thead th {\n",
       "        text-align: right;\n",
       "    }\n",
       "</style>\n",
       "<table border=\"1\" class=\"dataframe\">\n",
       "  <thead>\n",
       "    <tr style=\"text-align: right;\">\n",
       "      <th></th>\n",
       "      <th>survived</th>\n",
       "      <th>pclass</th>\n",
       "      <th>sex</th>\n",
       "      <th>age</th>\n",
       "      <th>sibsp</th>\n",
       "      <th>parch</th>\n",
       "      <th>fare</th>\n",
       "      <th>embarked</th>\n",
       "      <th>class</th>\n",
       "      <th>who</th>\n",
       "      <th>adult_male</th>\n",
       "      <th>deck</th>\n",
       "      <th>embark_town</th>\n",
       "      <th>alive</th>\n",
       "      <th>alone</th>\n",
       "    </tr>\n",
       "  </thead>\n",
       "  <tbody>\n",
       "    <tr>\n",
       "      <th>0</th>\n",
       "      <td>0</td>\n",
       "      <td>3</td>\n",
       "      <td>male</td>\n",
       "      <td>22.0</td>\n",
       "      <td>1</td>\n",
       "      <td>0</td>\n",
       "      <td>7.2500</td>\n",
       "      <td>S</td>\n",
       "      <td>Third</td>\n",
       "      <td>man</td>\n",
       "      <td>True</td>\n",
       "      <td>NaN</td>\n",
       "      <td>Southampton</td>\n",
       "      <td>no</td>\n",
       "      <td>False</td>\n",
       "    </tr>\n",
       "    <tr>\n",
       "      <th>1</th>\n",
       "      <td>1</td>\n",
       "      <td>1</td>\n",
       "      <td>female</td>\n",
       "      <td>38.0</td>\n",
       "      <td>1</td>\n",
       "      <td>0</td>\n",
       "      <td>71.2833</td>\n",
       "      <td>C</td>\n",
       "      <td>First</td>\n",
       "      <td>woman</td>\n",
       "      <td>False</td>\n",
       "      <td>C</td>\n",
       "      <td>Cherbourg</td>\n",
       "      <td>yes</td>\n",
       "      <td>False</td>\n",
       "    </tr>\n",
       "    <tr>\n",
       "      <th>2</th>\n",
       "      <td>1</td>\n",
       "      <td>3</td>\n",
       "      <td>female</td>\n",
       "      <td>26.0</td>\n",
       "      <td>0</td>\n",
       "      <td>0</td>\n",
       "      <td>7.9250</td>\n",
       "      <td>S</td>\n",
       "      <td>Third</td>\n",
       "      <td>woman</td>\n",
       "      <td>False</td>\n",
       "      <td>NaN</td>\n",
       "      <td>Southampton</td>\n",
       "      <td>yes</td>\n",
       "      <td>True</td>\n",
       "    </tr>\n",
       "    <tr>\n",
       "      <th>3</th>\n",
       "      <td>1</td>\n",
       "      <td>1</td>\n",
       "      <td>female</td>\n",
       "      <td>35.0</td>\n",
       "      <td>1</td>\n",
       "      <td>0</td>\n",
       "      <td>53.1000</td>\n",
       "      <td>S</td>\n",
       "      <td>First</td>\n",
       "      <td>woman</td>\n",
       "      <td>False</td>\n",
       "      <td>C</td>\n",
       "      <td>Southampton</td>\n",
       "      <td>yes</td>\n",
       "      <td>False</td>\n",
       "    </tr>\n",
       "    <tr>\n",
       "      <th>4</th>\n",
       "      <td>0</td>\n",
       "      <td>3</td>\n",
       "      <td>male</td>\n",
       "      <td>35.0</td>\n",
       "      <td>0</td>\n",
       "      <td>0</td>\n",
       "      <td>8.0500</td>\n",
       "      <td>S</td>\n",
       "      <td>Third</td>\n",
       "      <td>man</td>\n",
       "      <td>True</td>\n",
       "      <td>NaN</td>\n",
       "      <td>Southampton</td>\n",
       "      <td>no</td>\n",
       "      <td>True</td>\n",
       "    </tr>\n",
       "    <tr>\n",
       "      <th>...</th>\n",
       "      <td>...</td>\n",
       "      <td>...</td>\n",
       "      <td>...</td>\n",
       "      <td>...</td>\n",
       "      <td>...</td>\n",
       "      <td>...</td>\n",
       "      <td>...</td>\n",
       "      <td>...</td>\n",
       "      <td>...</td>\n",
       "      <td>...</td>\n",
       "      <td>...</td>\n",
       "      <td>...</td>\n",
       "      <td>...</td>\n",
       "      <td>...</td>\n",
       "      <td>...</td>\n",
       "    </tr>\n",
       "    <tr>\n",
       "      <th>886</th>\n",
       "      <td>0</td>\n",
       "      <td>2</td>\n",
       "      <td>male</td>\n",
       "      <td>27.0</td>\n",
       "      <td>0</td>\n",
       "      <td>0</td>\n",
       "      <td>13.0000</td>\n",
       "      <td>S</td>\n",
       "      <td>Second</td>\n",
       "      <td>man</td>\n",
       "      <td>True</td>\n",
       "      <td>NaN</td>\n",
       "      <td>Southampton</td>\n",
       "      <td>no</td>\n",
       "      <td>True</td>\n",
       "    </tr>\n",
       "    <tr>\n",
       "      <th>887</th>\n",
       "      <td>1</td>\n",
       "      <td>1</td>\n",
       "      <td>female</td>\n",
       "      <td>19.0</td>\n",
       "      <td>0</td>\n",
       "      <td>0</td>\n",
       "      <td>30.0000</td>\n",
       "      <td>S</td>\n",
       "      <td>First</td>\n",
       "      <td>woman</td>\n",
       "      <td>False</td>\n",
       "      <td>B</td>\n",
       "      <td>Southampton</td>\n",
       "      <td>yes</td>\n",
       "      <td>True</td>\n",
       "    </tr>\n",
       "    <tr>\n",
       "      <th>888</th>\n",
       "      <td>0</td>\n",
       "      <td>3</td>\n",
       "      <td>female</td>\n",
       "      <td>NaN</td>\n",
       "      <td>1</td>\n",
       "      <td>2</td>\n",
       "      <td>23.4500</td>\n",
       "      <td>S</td>\n",
       "      <td>Third</td>\n",
       "      <td>woman</td>\n",
       "      <td>False</td>\n",
       "      <td>NaN</td>\n",
       "      <td>Southampton</td>\n",
       "      <td>no</td>\n",
       "      <td>False</td>\n",
       "    </tr>\n",
       "    <tr>\n",
       "      <th>889</th>\n",
       "      <td>1</td>\n",
       "      <td>1</td>\n",
       "      <td>male</td>\n",
       "      <td>26.0</td>\n",
       "      <td>0</td>\n",
       "      <td>0</td>\n",
       "      <td>30.0000</td>\n",
       "      <td>C</td>\n",
       "      <td>First</td>\n",
       "      <td>man</td>\n",
       "      <td>True</td>\n",
       "      <td>C</td>\n",
       "      <td>Cherbourg</td>\n",
       "      <td>yes</td>\n",
       "      <td>True</td>\n",
       "    </tr>\n",
       "    <tr>\n",
       "      <th>890</th>\n",
       "      <td>0</td>\n",
       "      <td>3</td>\n",
       "      <td>male</td>\n",
       "      <td>32.0</td>\n",
       "      <td>0</td>\n",
       "      <td>0</td>\n",
       "      <td>7.7500</td>\n",
       "      <td>Q</td>\n",
       "      <td>Third</td>\n",
       "      <td>man</td>\n",
       "      <td>True</td>\n",
       "      <td>NaN</td>\n",
       "      <td>Queenstown</td>\n",
       "      <td>no</td>\n",
       "      <td>True</td>\n",
       "    </tr>\n",
       "  </tbody>\n",
       "</table>\n",
       "<p>891 rows × 15 columns</p>\n",
       "</div>"
      ],
      "text/plain": [
       "     survived  pclass     sex   age  sibsp  parch     fare embarked   class  \\\n",
       "0           0       3    male  22.0      1      0   7.2500        S   Third   \n",
       "1           1       1  female  38.0      1      0  71.2833        C   First   \n",
       "2           1       3  female  26.0      0      0   7.9250        S   Third   \n",
       "3           1       1  female  35.0      1      0  53.1000        S   First   \n",
       "4           0       3    male  35.0      0      0   8.0500        S   Third   \n",
       "..        ...     ...     ...   ...    ...    ...      ...      ...     ...   \n",
       "886         0       2    male  27.0      0      0  13.0000        S  Second   \n",
       "887         1       1  female  19.0      0      0  30.0000        S   First   \n",
       "888         0       3  female   NaN      1      2  23.4500        S   Third   \n",
       "889         1       1    male  26.0      0      0  30.0000        C   First   \n",
       "890         0       3    male  32.0      0      0   7.7500        Q   Third   \n",
       "\n",
       "       who  adult_male deck  embark_town alive  alone  \n",
       "0      man        True  NaN  Southampton    no  False  \n",
       "1    woman       False    C    Cherbourg   yes  False  \n",
       "2    woman       False  NaN  Southampton   yes   True  \n",
       "3    woman       False    C  Southampton   yes  False  \n",
       "4      man        True  NaN  Southampton    no   True  \n",
       "..     ...         ...  ...          ...   ...    ...  \n",
       "886    man        True  NaN  Southampton    no   True  \n",
       "887  woman       False    B  Southampton   yes   True  \n",
       "888  woman       False  NaN  Southampton    no  False  \n",
       "889    man        True    C    Cherbourg   yes   True  \n",
       "890    man        True  NaN   Queenstown    no   True  \n",
       "\n",
       "[891 rows x 15 columns]"
      ]
     },
     "execution_count": 14,
     "metadata": {},
     "output_type": "execute_result"
    }
   ],
   "source": [
    "titanic=sns.load_dataset(\"titanic\")\n",
    "titanic"
   ]
  },
  {
   "cell_type": "code",
   "execution_count": 15,
   "id": "6f32c5f6-392c-44df-832c-b2e319d21e05",
   "metadata": {},
   "outputs": [
    {
     "data": {
      "text/plain": [
       "0      22.0\n",
       "1      38.0\n",
       "2      26.0\n",
       "3      35.0\n",
       "4      35.0\n",
       "       ... \n",
       "885    39.0\n",
       "886    27.0\n",
       "887    19.0\n",
       "889    26.0\n",
       "890    32.0\n",
       "Name: age, Length: 714, dtype: float64"
      ]
     },
     "execution_count": 15,
     "metadata": {},
     "output_type": "execute_result"
    }
   ],
   "source": [
    "titanic[titanic.age.notna()].age"
   ]
  },
  {
   "cell_type": "code",
   "execution_count": 16,
   "id": "2217f833-1a82-43a1-9fb6-dd140fa4bf6b",
   "metadata": {},
   "outputs": [
    {
     "data": {
      "text/plain": [
       "0       7.2500\n",
       "1      71.2833\n",
       "2       7.9250\n",
       "3      53.1000\n",
       "4       8.0500\n",
       "        ...   \n",
       "886    13.0000\n",
       "887    30.0000\n",
       "888    23.4500\n",
       "889    30.0000\n",
       "890     7.7500\n",
       "Name: fare, Length: 891, dtype: float64"
      ]
     },
     "execution_count": 16,
     "metadata": {},
     "output_type": "execute_result"
    }
   ],
   "source": [
    "titanic.fare"
   ]
  },
  {
   "cell_type": "code",
   "execution_count": 17,
   "id": "13b02b20-e0a8-4848-a3ef-182a2da50648",
   "metadata": {},
   "outputs": [],
   "source": [
    "Roage=RobustScaler().fit_transform(pd.DataFrame(titanic['age']))\n",
    "titanic['Robustage']=Roage"
   ]
  },
  {
   "cell_type": "code",
   "execution_count": 18,
   "id": "aceafeaf-8aa5-44b0-acde-0fe3d17daa28",
   "metadata": {},
   "outputs": [
    {
     "data": {
      "text/html": [
       "<div>\n",
       "<style scoped>\n",
       "    .dataframe tbody tr th:only-of-type {\n",
       "        vertical-align: middle;\n",
       "    }\n",
       "\n",
       "    .dataframe tbody tr th {\n",
       "        vertical-align: top;\n",
       "    }\n",
       "\n",
       "    .dataframe thead th {\n",
       "        text-align: right;\n",
       "    }\n",
       "</style>\n",
       "<table border=\"1\" class=\"dataframe\">\n",
       "  <thead>\n",
       "    <tr style=\"text-align: right;\">\n",
       "      <th></th>\n",
       "      <th>survived</th>\n",
       "      <th>pclass</th>\n",
       "      <th>sex</th>\n",
       "      <th>age</th>\n",
       "      <th>sibsp</th>\n",
       "      <th>parch</th>\n",
       "      <th>fare</th>\n",
       "      <th>embarked</th>\n",
       "      <th>class</th>\n",
       "      <th>who</th>\n",
       "      <th>adult_male</th>\n",
       "      <th>deck</th>\n",
       "      <th>embark_town</th>\n",
       "      <th>alive</th>\n",
       "      <th>alone</th>\n",
       "      <th>Robustage</th>\n",
       "    </tr>\n",
       "  </thead>\n",
       "  <tbody>\n",
       "    <tr>\n",
       "      <th>0</th>\n",
       "      <td>0</td>\n",
       "      <td>3</td>\n",
       "      <td>male</td>\n",
       "      <td>22.0</td>\n",
       "      <td>1</td>\n",
       "      <td>0</td>\n",
       "      <td>7.2500</td>\n",
       "      <td>S</td>\n",
       "      <td>Third</td>\n",
       "      <td>man</td>\n",
       "      <td>True</td>\n",
       "      <td>NaN</td>\n",
       "      <td>Southampton</td>\n",
       "      <td>no</td>\n",
       "      <td>False</td>\n",
       "      <td>-0.335664</td>\n",
       "    </tr>\n",
       "    <tr>\n",
       "      <th>1</th>\n",
       "      <td>1</td>\n",
       "      <td>1</td>\n",
       "      <td>female</td>\n",
       "      <td>38.0</td>\n",
       "      <td>1</td>\n",
       "      <td>0</td>\n",
       "      <td>71.2833</td>\n",
       "      <td>C</td>\n",
       "      <td>First</td>\n",
       "      <td>woman</td>\n",
       "      <td>False</td>\n",
       "      <td>C</td>\n",
       "      <td>Cherbourg</td>\n",
       "      <td>yes</td>\n",
       "      <td>False</td>\n",
       "      <td>0.559441</td>\n",
       "    </tr>\n",
       "    <tr>\n",
       "      <th>2</th>\n",
       "      <td>1</td>\n",
       "      <td>3</td>\n",
       "      <td>female</td>\n",
       "      <td>26.0</td>\n",
       "      <td>0</td>\n",
       "      <td>0</td>\n",
       "      <td>7.9250</td>\n",
       "      <td>S</td>\n",
       "      <td>Third</td>\n",
       "      <td>woman</td>\n",
       "      <td>False</td>\n",
       "      <td>NaN</td>\n",
       "      <td>Southampton</td>\n",
       "      <td>yes</td>\n",
       "      <td>True</td>\n",
       "      <td>-0.111888</td>\n",
       "    </tr>\n",
       "    <tr>\n",
       "      <th>3</th>\n",
       "      <td>1</td>\n",
       "      <td>1</td>\n",
       "      <td>female</td>\n",
       "      <td>35.0</td>\n",
       "      <td>1</td>\n",
       "      <td>0</td>\n",
       "      <td>53.1000</td>\n",
       "      <td>S</td>\n",
       "      <td>First</td>\n",
       "      <td>woman</td>\n",
       "      <td>False</td>\n",
       "      <td>C</td>\n",
       "      <td>Southampton</td>\n",
       "      <td>yes</td>\n",
       "      <td>False</td>\n",
       "      <td>0.391608</td>\n",
       "    </tr>\n",
       "    <tr>\n",
       "      <th>4</th>\n",
       "      <td>0</td>\n",
       "      <td>3</td>\n",
       "      <td>male</td>\n",
       "      <td>35.0</td>\n",
       "      <td>0</td>\n",
       "      <td>0</td>\n",
       "      <td>8.0500</td>\n",
       "      <td>S</td>\n",
       "      <td>Third</td>\n",
       "      <td>man</td>\n",
       "      <td>True</td>\n",
       "      <td>NaN</td>\n",
       "      <td>Southampton</td>\n",
       "      <td>no</td>\n",
       "      <td>True</td>\n",
       "      <td>0.391608</td>\n",
       "    </tr>\n",
       "    <tr>\n",
       "      <th>...</th>\n",
       "      <td>...</td>\n",
       "      <td>...</td>\n",
       "      <td>...</td>\n",
       "      <td>...</td>\n",
       "      <td>...</td>\n",
       "      <td>...</td>\n",
       "      <td>...</td>\n",
       "      <td>...</td>\n",
       "      <td>...</td>\n",
       "      <td>...</td>\n",
       "      <td>...</td>\n",
       "      <td>...</td>\n",
       "      <td>...</td>\n",
       "      <td>...</td>\n",
       "      <td>...</td>\n",
       "      <td>...</td>\n",
       "    </tr>\n",
       "    <tr>\n",
       "      <th>886</th>\n",
       "      <td>0</td>\n",
       "      <td>2</td>\n",
       "      <td>male</td>\n",
       "      <td>27.0</td>\n",
       "      <td>0</td>\n",
       "      <td>0</td>\n",
       "      <td>13.0000</td>\n",
       "      <td>S</td>\n",
       "      <td>Second</td>\n",
       "      <td>man</td>\n",
       "      <td>True</td>\n",
       "      <td>NaN</td>\n",
       "      <td>Southampton</td>\n",
       "      <td>no</td>\n",
       "      <td>True</td>\n",
       "      <td>-0.055944</td>\n",
       "    </tr>\n",
       "    <tr>\n",
       "      <th>887</th>\n",
       "      <td>1</td>\n",
       "      <td>1</td>\n",
       "      <td>female</td>\n",
       "      <td>19.0</td>\n",
       "      <td>0</td>\n",
       "      <td>0</td>\n",
       "      <td>30.0000</td>\n",
       "      <td>S</td>\n",
       "      <td>First</td>\n",
       "      <td>woman</td>\n",
       "      <td>False</td>\n",
       "      <td>B</td>\n",
       "      <td>Southampton</td>\n",
       "      <td>yes</td>\n",
       "      <td>True</td>\n",
       "      <td>-0.503497</td>\n",
       "    </tr>\n",
       "    <tr>\n",
       "      <th>888</th>\n",
       "      <td>0</td>\n",
       "      <td>3</td>\n",
       "      <td>female</td>\n",
       "      <td>NaN</td>\n",
       "      <td>1</td>\n",
       "      <td>2</td>\n",
       "      <td>23.4500</td>\n",
       "      <td>S</td>\n",
       "      <td>Third</td>\n",
       "      <td>woman</td>\n",
       "      <td>False</td>\n",
       "      <td>NaN</td>\n",
       "      <td>Southampton</td>\n",
       "      <td>no</td>\n",
       "      <td>False</td>\n",
       "      <td>NaN</td>\n",
       "    </tr>\n",
       "    <tr>\n",
       "      <th>889</th>\n",
       "      <td>1</td>\n",
       "      <td>1</td>\n",
       "      <td>male</td>\n",
       "      <td>26.0</td>\n",
       "      <td>0</td>\n",
       "      <td>0</td>\n",
       "      <td>30.0000</td>\n",
       "      <td>C</td>\n",
       "      <td>First</td>\n",
       "      <td>man</td>\n",
       "      <td>True</td>\n",
       "      <td>C</td>\n",
       "      <td>Cherbourg</td>\n",
       "      <td>yes</td>\n",
       "      <td>True</td>\n",
       "      <td>-0.111888</td>\n",
       "    </tr>\n",
       "    <tr>\n",
       "      <th>890</th>\n",
       "      <td>0</td>\n",
       "      <td>3</td>\n",
       "      <td>male</td>\n",
       "      <td>32.0</td>\n",
       "      <td>0</td>\n",
       "      <td>0</td>\n",
       "      <td>7.7500</td>\n",
       "      <td>Q</td>\n",
       "      <td>Third</td>\n",
       "      <td>man</td>\n",
       "      <td>True</td>\n",
       "      <td>NaN</td>\n",
       "      <td>Queenstown</td>\n",
       "      <td>no</td>\n",
       "      <td>True</td>\n",
       "      <td>0.223776</td>\n",
       "    </tr>\n",
       "  </tbody>\n",
       "</table>\n",
       "<p>891 rows × 16 columns</p>\n",
       "</div>"
      ],
      "text/plain": [
       "     survived  pclass     sex   age  sibsp  parch     fare embarked   class  \\\n",
       "0           0       3    male  22.0      1      0   7.2500        S   Third   \n",
       "1           1       1  female  38.0      1      0  71.2833        C   First   \n",
       "2           1       3  female  26.0      0      0   7.9250        S   Third   \n",
       "3           1       1  female  35.0      1      0  53.1000        S   First   \n",
       "4           0       3    male  35.0      0      0   8.0500        S   Third   \n",
       "..        ...     ...     ...   ...    ...    ...      ...      ...     ...   \n",
       "886         0       2    male  27.0      0      0  13.0000        S  Second   \n",
       "887         1       1  female  19.0      0      0  30.0000        S   First   \n",
       "888         0       3  female   NaN      1      2  23.4500        S   Third   \n",
       "889         1       1    male  26.0      0      0  30.0000        C   First   \n",
       "890         0       3    male  32.0      0      0   7.7500        Q   Third   \n",
       "\n",
       "       who  adult_male deck  embark_town alive  alone  Robustage  \n",
       "0      man        True  NaN  Southampton    no  False  -0.335664  \n",
       "1    woman       False    C    Cherbourg   yes  False   0.559441  \n",
       "2    woman       False  NaN  Southampton   yes   True  -0.111888  \n",
       "3    woman       False    C  Southampton   yes  False   0.391608  \n",
       "4      man        True  NaN  Southampton    no   True   0.391608  \n",
       "..     ...         ...  ...          ...   ...    ...        ...  \n",
       "886    man        True  NaN  Southampton    no   True  -0.055944  \n",
       "887  woman       False    B  Southampton   yes   True  -0.503497  \n",
       "888  woman       False  NaN  Southampton    no  False        NaN  \n",
       "889    man        True    C    Cherbourg   yes   True  -0.111888  \n",
       "890    man        True  NaN   Queenstown    no   True   0.223776  \n",
       "\n",
       "[891 rows x 16 columns]"
      ]
     },
     "execution_count": 18,
     "metadata": {},
     "output_type": "execute_result"
    }
   ],
   "source": [
    "titanic"
   ]
  },
  {
   "cell_type": "code",
   "execution_count": 19,
   "id": "80205ebb-efa1-449f-959a-496e800368a8",
   "metadata": {},
   "outputs": [
    {
     "data": {
      "text/plain": [
       "0.812671179431276"
      ]
     },
     "execution_count": 19,
     "metadata": {},
     "output_type": "execute_result"
    }
   ],
   "source": [
    "titanic.Robustage.mean()\n",
    "titanic.Robustage.std()"
   ]
  },
  {
   "cell_type": "code",
   "execution_count": 26,
   "id": "28aabe94-0d02-4b91-94b7-6c42ab170c5b",
   "metadata": {},
   "outputs": [],
   "source": [
    "# 1. 표준화,정규화를 수행하시오.\n",
    "# 나이, 운임(fare)\n",
    "# 2. parch + sibsp = family 열 추가\n",
    "# 3. family 열을 5명 기준으로 1과 0으로 변환\n",
    "# 4. fare와 age 열 간의 상관관계\n",
    "# 5. fare와 survived 열 간의 상관관계\n",
    "# 6. embark_town에서 첫번째 글자만 추출하여 embark_town_name에 저장\n",
    "# 캐글 가입, remind\n",
    "\n",
    "titanic[\"family\"]=titanic[\"parch\"]+titanic[\"sibsp\"]\n"
   ]
  },
  {
   "cell_type": "code",
   "execution_count": 27,
   "id": "29bd2a55-8691-4fce-b814-8c9c1a81e614",
   "metadata": {},
   "outputs": [],
   "source": [
    "bnr=Binarizer(threshold=5)"
   ]
  },
  {
   "cell_type": "code",
   "execution_count": 30,
   "id": "09e7c351-d3cc-4f4c-8566-7727521882b6",
   "metadata": {},
   "outputs": [],
   "source": [
    "titanic.family=bnr.fit_transform(pd.DataFrame(titanic.family))"
   ]
  },
  {
   "cell_type": "code",
   "execution_count": 31,
   "id": "7dcdc201-c078-4a88-9814-4297156b4f45",
   "metadata": {},
   "outputs": [
    {
     "data": {
      "text/html": [
       "<div>\n",
       "<style scoped>\n",
       "    .dataframe tbody tr th:only-of-type {\n",
       "        vertical-align: middle;\n",
       "    }\n",
       "\n",
       "    .dataframe tbody tr th {\n",
       "        vertical-align: top;\n",
       "    }\n",
       "\n",
       "    .dataframe thead th {\n",
       "        text-align: right;\n",
       "    }\n",
       "</style>\n",
       "<table border=\"1\" class=\"dataframe\">\n",
       "  <thead>\n",
       "    <tr style=\"text-align: right;\">\n",
       "      <th></th>\n",
       "      <th>survived</th>\n",
       "      <th>pclass</th>\n",
       "      <th>sex</th>\n",
       "      <th>age</th>\n",
       "      <th>sibsp</th>\n",
       "      <th>parch</th>\n",
       "      <th>fare</th>\n",
       "      <th>embarked</th>\n",
       "      <th>class</th>\n",
       "      <th>who</th>\n",
       "      <th>adult_male</th>\n",
       "      <th>deck</th>\n",
       "      <th>embark_town</th>\n",
       "      <th>alive</th>\n",
       "      <th>alone</th>\n",
       "      <th>Robustage</th>\n",
       "      <th>family</th>\n",
       "    </tr>\n",
       "  </thead>\n",
       "  <tbody>\n",
       "    <tr>\n",
       "      <th>0</th>\n",
       "      <td>0</td>\n",
       "      <td>3</td>\n",
       "      <td>male</td>\n",
       "      <td>22.0</td>\n",
       "      <td>1</td>\n",
       "      <td>0</td>\n",
       "      <td>7.2500</td>\n",
       "      <td>S</td>\n",
       "      <td>Third</td>\n",
       "      <td>man</td>\n",
       "      <td>True</td>\n",
       "      <td>NaN</td>\n",
       "      <td>Southampton</td>\n",
       "      <td>no</td>\n",
       "      <td>False</td>\n",
       "      <td>-0.335664</td>\n",
       "      <td>0</td>\n",
       "    </tr>\n",
       "    <tr>\n",
       "      <th>1</th>\n",
       "      <td>1</td>\n",
       "      <td>1</td>\n",
       "      <td>female</td>\n",
       "      <td>38.0</td>\n",
       "      <td>1</td>\n",
       "      <td>0</td>\n",
       "      <td>71.2833</td>\n",
       "      <td>C</td>\n",
       "      <td>First</td>\n",
       "      <td>woman</td>\n",
       "      <td>False</td>\n",
       "      <td>C</td>\n",
       "      <td>Cherbourg</td>\n",
       "      <td>yes</td>\n",
       "      <td>False</td>\n",
       "      <td>0.559441</td>\n",
       "      <td>0</td>\n",
       "    </tr>\n",
       "    <tr>\n",
       "      <th>2</th>\n",
       "      <td>1</td>\n",
       "      <td>3</td>\n",
       "      <td>female</td>\n",
       "      <td>26.0</td>\n",
       "      <td>0</td>\n",
       "      <td>0</td>\n",
       "      <td>7.9250</td>\n",
       "      <td>S</td>\n",
       "      <td>Third</td>\n",
       "      <td>woman</td>\n",
       "      <td>False</td>\n",
       "      <td>NaN</td>\n",
       "      <td>Southampton</td>\n",
       "      <td>yes</td>\n",
       "      <td>True</td>\n",
       "      <td>-0.111888</td>\n",
       "      <td>0</td>\n",
       "    </tr>\n",
       "    <tr>\n",
       "      <th>3</th>\n",
       "      <td>1</td>\n",
       "      <td>1</td>\n",
       "      <td>female</td>\n",
       "      <td>35.0</td>\n",
       "      <td>1</td>\n",
       "      <td>0</td>\n",
       "      <td>53.1000</td>\n",
       "      <td>S</td>\n",
       "      <td>First</td>\n",
       "      <td>woman</td>\n",
       "      <td>False</td>\n",
       "      <td>C</td>\n",
       "      <td>Southampton</td>\n",
       "      <td>yes</td>\n",
       "      <td>False</td>\n",
       "      <td>0.391608</td>\n",
       "      <td>0</td>\n",
       "    </tr>\n",
       "    <tr>\n",
       "      <th>4</th>\n",
       "      <td>0</td>\n",
       "      <td>3</td>\n",
       "      <td>male</td>\n",
       "      <td>35.0</td>\n",
       "      <td>0</td>\n",
       "      <td>0</td>\n",
       "      <td>8.0500</td>\n",
       "      <td>S</td>\n",
       "      <td>Third</td>\n",
       "      <td>man</td>\n",
       "      <td>True</td>\n",
       "      <td>NaN</td>\n",
       "      <td>Southampton</td>\n",
       "      <td>no</td>\n",
       "      <td>True</td>\n",
       "      <td>0.391608</td>\n",
       "      <td>0</td>\n",
       "    </tr>\n",
       "    <tr>\n",
       "      <th>...</th>\n",
       "      <td>...</td>\n",
       "      <td>...</td>\n",
       "      <td>...</td>\n",
       "      <td>...</td>\n",
       "      <td>...</td>\n",
       "      <td>...</td>\n",
       "      <td>...</td>\n",
       "      <td>...</td>\n",
       "      <td>...</td>\n",
       "      <td>...</td>\n",
       "      <td>...</td>\n",
       "      <td>...</td>\n",
       "      <td>...</td>\n",
       "      <td>...</td>\n",
       "      <td>...</td>\n",
       "      <td>...</td>\n",
       "      <td>...</td>\n",
       "    </tr>\n",
       "    <tr>\n",
       "      <th>886</th>\n",
       "      <td>0</td>\n",
       "      <td>2</td>\n",
       "      <td>male</td>\n",
       "      <td>27.0</td>\n",
       "      <td>0</td>\n",
       "      <td>0</td>\n",
       "      <td>13.0000</td>\n",
       "      <td>S</td>\n",
       "      <td>Second</td>\n",
       "      <td>man</td>\n",
       "      <td>True</td>\n",
       "      <td>NaN</td>\n",
       "      <td>Southampton</td>\n",
       "      <td>no</td>\n",
       "      <td>True</td>\n",
       "      <td>-0.055944</td>\n",
       "      <td>0</td>\n",
       "    </tr>\n",
       "    <tr>\n",
       "      <th>887</th>\n",
       "      <td>1</td>\n",
       "      <td>1</td>\n",
       "      <td>female</td>\n",
       "      <td>19.0</td>\n",
       "      <td>0</td>\n",
       "      <td>0</td>\n",
       "      <td>30.0000</td>\n",
       "      <td>S</td>\n",
       "      <td>First</td>\n",
       "      <td>woman</td>\n",
       "      <td>False</td>\n",
       "      <td>B</td>\n",
       "      <td>Southampton</td>\n",
       "      <td>yes</td>\n",
       "      <td>True</td>\n",
       "      <td>-0.503497</td>\n",
       "      <td>0</td>\n",
       "    </tr>\n",
       "    <tr>\n",
       "      <th>888</th>\n",
       "      <td>0</td>\n",
       "      <td>3</td>\n",
       "      <td>female</td>\n",
       "      <td>NaN</td>\n",
       "      <td>1</td>\n",
       "      <td>2</td>\n",
       "      <td>23.4500</td>\n",
       "      <td>S</td>\n",
       "      <td>Third</td>\n",
       "      <td>woman</td>\n",
       "      <td>False</td>\n",
       "      <td>NaN</td>\n",
       "      <td>Southampton</td>\n",
       "      <td>no</td>\n",
       "      <td>False</td>\n",
       "      <td>NaN</td>\n",
       "      <td>0</td>\n",
       "    </tr>\n",
       "    <tr>\n",
       "      <th>889</th>\n",
       "      <td>1</td>\n",
       "      <td>1</td>\n",
       "      <td>male</td>\n",
       "      <td>26.0</td>\n",
       "      <td>0</td>\n",
       "      <td>0</td>\n",
       "      <td>30.0000</td>\n",
       "      <td>C</td>\n",
       "      <td>First</td>\n",
       "      <td>man</td>\n",
       "      <td>True</td>\n",
       "      <td>C</td>\n",
       "      <td>Cherbourg</td>\n",
       "      <td>yes</td>\n",
       "      <td>True</td>\n",
       "      <td>-0.111888</td>\n",
       "      <td>0</td>\n",
       "    </tr>\n",
       "    <tr>\n",
       "      <th>890</th>\n",
       "      <td>0</td>\n",
       "      <td>3</td>\n",
       "      <td>male</td>\n",
       "      <td>32.0</td>\n",
       "      <td>0</td>\n",
       "      <td>0</td>\n",
       "      <td>7.7500</td>\n",
       "      <td>Q</td>\n",
       "      <td>Third</td>\n",
       "      <td>man</td>\n",
       "      <td>True</td>\n",
       "      <td>NaN</td>\n",
       "      <td>Queenstown</td>\n",
       "      <td>no</td>\n",
       "      <td>True</td>\n",
       "      <td>0.223776</td>\n",
       "      <td>0</td>\n",
       "    </tr>\n",
       "  </tbody>\n",
       "</table>\n",
       "<p>891 rows × 17 columns</p>\n",
       "</div>"
      ],
      "text/plain": [
       "     survived  pclass     sex   age  sibsp  parch     fare embarked   class  \\\n",
       "0           0       3    male  22.0      1      0   7.2500        S   Third   \n",
       "1           1       1  female  38.0      1      0  71.2833        C   First   \n",
       "2           1       3  female  26.0      0      0   7.9250        S   Third   \n",
       "3           1       1  female  35.0      1      0  53.1000        S   First   \n",
       "4           0       3    male  35.0      0      0   8.0500        S   Third   \n",
       "..        ...     ...     ...   ...    ...    ...      ...      ...     ...   \n",
       "886         0       2    male  27.0      0      0  13.0000        S  Second   \n",
       "887         1       1  female  19.0      0      0  30.0000        S   First   \n",
       "888         0       3  female   NaN      1      2  23.4500        S   Third   \n",
       "889         1       1    male  26.0      0      0  30.0000        C   First   \n",
       "890         0       3    male  32.0      0      0   7.7500        Q   Third   \n",
       "\n",
       "       who  adult_male deck  embark_town alive  alone  Robustage  family  \n",
       "0      man        True  NaN  Southampton    no  False  -0.335664       0  \n",
       "1    woman       False    C    Cherbourg   yes  False   0.559441       0  \n",
       "2    woman       False  NaN  Southampton   yes   True  -0.111888       0  \n",
       "3    woman       False    C  Southampton   yes  False   0.391608       0  \n",
       "4      man        True  NaN  Southampton    no   True   0.391608       0  \n",
       "..     ...         ...  ...          ...   ...    ...        ...     ...  \n",
       "886    man        True  NaN  Southampton    no   True  -0.055944       0  \n",
       "887  woman       False    B  Southampton   yes   True  -0.503497       0  \n",
       "888  woman       False  NaN  Southampton    no  False        NaN       0  \n",
       "889    man        True    C    Cherbourg   yes   True  -0.111888       0  \n",
       "890    man        True  NaN   Queenstown    no   True   0.223776       0  \n",
       "\n",
       "[891 rows x 17 columns]"
      ]
     },
     "execution_count": 31,
     "metadata": {},
     "output_type": "execute_result"
    }
   ],
   "source": [
    "titanic"
   ]
  },
  {
   "cell_type": "code",
   "execution_count": 32,
   "id": "ce8e3c51-ef42-48dc-8135-99ff637330d2",
   "metadata": {},
   "outputs": [
    {
     "data": {
      "text/html": [
       "<div>\n",
       "<style scoped>\n",
       "    .dataframe tbody tr th:only-of-type {\n",
       "        vertical-align: middle;\n",
       "    }\n",
       "\n",
       "    .dataframe tbody tr th {\n",
       "        vertical-align: top;\n",
       "    }\n",
       "\n",
       "    .dataframe thead th {\n",
       "        text-align: right;\n",
       "    }\n",
       "</style>\n",
       "<table border=\"1\" class=\"dataframe\">\n",
       "  <thead>\n",
       "    <tr style=\"text-align: right;\">\n",
       "      <th></th>\n",
       "      <th>survived</th>\n",
       "      <th>pclass</th>\n",
       "      <th>sex</th>\n",
       "      <th>age</th>\n",
       "      <th>sibsp</th>\n",
       "      <th>parch</th>\n",
       "      <th>fare</th>\n",
       "      <th>embarked</th>\n",
       "      <th>class</th>\n",
       "      <th>who</th>\n",
       "      <th>adult_male</th>\n",
       "      <th>deck</th>\n",
       "      <th>embark_town</th>\n",
       "      <th>alive</th>\n",
       "      <th>alone</th>\n",
       "      <th>Robustage</th>\n",
       "      <th>family</th>\n",
       "    </tr>\n",
       "  </thead>\n",
       "  <tbody>\n",
       "    <tr>\n",
       "      <th>13</th>\n",
       "      <td>0</td>\n",
       "      <td>3</td>\n",
       "      <td>male</td>\n",
       "      <td>39.0</td>\n",
       "      <td>1</td>\n",
       "      <td>5</td>\n",
       "      <td>31.2750</td>\n",
       "      <td>S</td>\n",
       "      <td>Third</td>\n",
       "      <td>man</td>\n",
       "      <td>True</td>\n",
       "      <td>NaN</td>\n",
       "      <td>Southampton</td>\n",
       "      <td>no</td>\n",
       "      <td>False</td>\n",
       "      <td>0.615385</td>\n",
       "      <td>1</td>\n",
       "    </tr>\n",
       "    <tr>\n",
       "      <th>25</th>\n",
       "      <td>1</td>\n",
       "      <td>3</td>\n",
       "      <td>female</td>\n",
       "      <td>38.0</td>\n",
       "      <td>1</td>\n",
       "      <td>5</td>\n",
       "      <td>31.3875</td>\n",
       "      <td>S</td>\n",
       "      <td>Third</td>\n",
       "      <td>woman</td>\n",
       "      <td>False</td>\n",
       "      <td>NaN</td>\n",
       "      <td>Southampton</td>\n",
       "      <td>yes</td>\n",
       "      <td>False</td>\n",
       "      <td>0.559441</td>\n",
       "      <td>1</td>\n",
       "    </tr>\n",
       "    <tr>\n",
       "      <th>59</th>\n",
       "      <td>0</td>\n",
       "      <td>3</td>\n",
       "      <td>male</td>\n",
       "      <td>11.0</td>\n",
       "      <td>5</td>\n",
       "      <td>2</td>\n",
       "      <td>46.9000</td>\n",
       "      <td>S</td>\n",
       "      <td>Third</td>\n",
       "      <td>child</td>\n",
       "      <td>False</td>\n",
       "      <td>NaN</td>\n",
       "      <td>Southampton</td>\n",
       "      <td>no</td>\n",
       "      <td>False</td>\n",
       "      <td>-0.951049</td>\n",
       "      <td>1</td>\n",
       "    </tr>\n",
       "    <tr>\n",
       "      <th>68</th>\n",
       "      <td>1</td>\n",
       "      <td>3</td>\n",
       "      <td>female</td>\n",
       "      <td>17.0</td>\n",
       "      <td>4</td>\n",
       "      <td>2</td>\n",
       "      <td>7.9250</td>\n",
       "      <td>S</td>\n",
       "      <td>Third</td>\n",
       "      <td>woman</td>\n",
       "      <td>False</td>\n",
       "      <td>NaN</td>\n",
       "      <td>Southampton</td>\n",
       "      <td>yes</td>\n",
       "      <td>False</td>\n",
       "      <td>-0.615385</td>\n",
       "      <td>1</td>\n",
       "    </tr>\n",
       "    <tr>\n",
       "      <th>71</th>\n",
       "      <td>0</td>\n",
       "      <td>3</td>\n",
       "      <td>female</td>\n",
       "      <td>16.0</td>\n",
       "      <td>5</td>\n",
       "      <td>2</td>\n",
       "      <td>46.9000</td>\n",
       "      <td>S</td>\n",
       "      <td>Third</td>\n",
       "      <td>woman</td>\n",
       "      <td>False</td>\n",
       "      <td>NaN</td>\n",
       "      <td>Southampton</td>\n",
       "      <td>no</td>\n",
       "      <td>False</td>\n",
       "      <td>-0.671329</td>\n",
       "      <td>1</td>\n",
       "    </tr>\n",
       "    <tr>\n",
       "      <th>119</th>\n",
       "      <td>0</td>\n",
       "      <td>3</td>\n",
       "      <td>female</td>\n",
       "      <td>2.0</td>\n",
       "      <td>4</td>\n",
       "      <td>2</td>\n",
       "      <td>31.2750</td>\n",
       "      <td>S</td>\n",
       "      <td>Third</td>\n",
       "      <td>child</td>\n",
       "      <td>False</td>\n",
       "      <td>NaN</td>\n",
       "      <td>Southampton</td>\n",
       "      <td>no</td>\n",
       "      <td>False</td>\n",
       "      <td>-1.454545</td>\n",
       "      <td>1</td>\n",
       "    </tr>\n",
       "    <tr>\n",
       "      <th>159</th>\n",
       "      <td>0</td>\n",
       "      <td>3</td>\n",
       "      <td>male</td>\n",
       "      <td>NaN</td>\n",
       "      <td>8</td>\n",
       "      <td>2</td>\n",
       "      <td>69.5500</td>\n",
       "      <td>S</td>\n",
       "      <td>Third</td>\n",
       "      <td>man</td>\n",
       "      <td>True</td>\n",
       "      <td>NaN</td>\n",
       "      <td>Southampton</td>\n",
       "      <td>no</td>\n",
       "      <td>False</td>\n",
       "      <td>NaN</td>\n",
       "      <td>1</td>\n",
       "    </tr>\n",
       "    <tr>\n",
       "      <th>180</th>\n",
       "      <td>0</td>\n",
       "      <td>3</td>\n",
       "      <td>female</td>\n",
       "      <td>NaN</td>\n",
       "      <td>8</td>\n",
       "      <td>2</td>\n",
       "      <td>69.5500</td>\n",
       "      <td>S</td>\n",
       "      <td>Third</td>\n",
       "      <td>woman</td>\n",
       "      <td>False</td>\n",
       "      <td>NaN</td>\n",
       "      <td>Southampton</td>\n",
       "      <td>no</td>\n",
       "      <td>False</td>\n",
       "      <td>NaN</td>\n",
       "      <td>1</td>\n",
       "    </tr>\n",
       "    <tr>\n",
       "      <th>182</th>\n",
       "      <td>0</td>\n",
       "      <td>3</td>\n",
       "      <td>male</td>\n",
       "      <td>9.0</td>\n",
       "      <td>4</td>\n",
       "      <td>2</td>\n",
       "      <td>31.3875</td>\n",
       "      <td>S</td>\n",
       "      <td>Third</td>\n",
       "      <td>child</td>\n",
       "      <td>False</td>\n",
       "      <td>NaN</td>\n",
       "      <td>Southampton</td>\n",
       "      <td>no</td>\n",
       "      <td>False</td>\n",
       "      <td>-1.062937</td>\n",
       "      <td>1</td>\n",
       "    </tr>\n",
       "    <tr>\n",
       "      <th>201</th>\n",
       "      <td>0</td>\n",
       "      <td>3</td>\n",
       "      <td>male</td>\n",
       "      <td>NaN</td>\n",
       "      <td>8</td>\n",
       "      <td>2</td>\n",
       "      <td>69.5500</td>\n",
       "      <td>S</td>\n",
       "      <td>Third</td>\n",
       "      <td>man</td>\n",
       "      <td>True</td>\n",
       "      <td>NaN</td>\n",
       "      <td>Southampton</td>\n",
       "      <td>no</td>\n",
       "      <td>False</td>\n",
       "      <td>NaN</td>\n",
       "      <td>1</td>\n",
       "    </tr>\n",
       "    <tr>\n",
       "      <th>233</th>\n",
       "      <td>1</td>\n",
       "      <td>3</td>\n",
       "      <td>female</td>\n",
       "      <td>5.0</td>\n",
       "      <td>4</td>\n",
       "      <td>2</td>\n",
       "      <td>31.3875</td>\n",
       "      <td>S</td>\n",
       "      <td>Third</td>\n",
       "      <td>child</td>\n",
       "      <td>False</td>\n",
       "      <td>NaN</td>\n",
       "      <td>Southampton</td>\n",
       "      <td>yes</td>\n",
       "      <td>False</td>\n",
       "      <td>-1.286713</td>\n",
       "      <td>1</td>\n",
       "    </tr>\n",
       "    <tr>\n",
       "      <th>261</th>\n",
       "      <td>1</td>\n",
       "      <td>3</td>\n",
       "      <td>male</td>\n",
       "      <td>3.0</td>\n",
       "      <td>4</td>\n",
       "      <td>2</td>\n",
       "      <td>31.3875</td>\n",
       "      <td>S</td>\n",
       "      <td>Third</td>\n",
       "      <td>child</td>\n",
       "      <td>False</td>\n",
       "      <td>NaN</td>\n",
       "      <td>Southampton</td>\n",
       "      <td>yes</td>\n",
       "      <td>False</td>\n",
       "      <td>-1.398601</td>\n",
       "      <td>1</td>\n",
       "    </tr>\n",
       "    <tr>\n",
       "      <th>324</th>\n",
       "      <td>0</td>\n",
       "      <td>3</td>\n",
       "      <td>male</td>\n",
       "      <td>NaN</td>\n",
       "      <td>8</td>\n",
       "      <td>2</td>\n",
       "      <td>69.5500</td>\n",
       "      <td>S</td>\n",
       "      <td>Third</td>\n",
       "      <td>man</td>\n",
       "      <td>True</td>\n",
       "      <td>NaN</td>\n",
       "      <td>Southampton</td>\n",
       "      <td>no</td>\n",
       "      <td>False</td>\n",
       "      <td>NaN</td>\n",
       "      <td>1</td>\n",
       "    </tr>\n",
       "    <tr>\n",
       "      <th>386</th>\n",
       "      <td>0</td>\n",
       "      <td>3</td>\n",
       "      <td>male</td>\n",
       "      <td>1.0</td>\n",
       "      <td>5</td>\n",
       "      <td>2</td>\n",
       "      <td>46.9000</td>\n",
       "      <td>S</td>\n",
       "      <td>Third</td>\n",
       "      <td>child</td>\n",
       "      <td>False</td>\n",
       "      <td>NaN</td>\n",
       "      <td>Southampton</td>\n",
       "      <td>no</td>\n",
       "      <td>False</td>\n",
       "      <td>-1.510490</td>\n",
       "      <td>1</td>\n",
       "    </tr>\n",
       "    <tr>\n",
       "      <th>480</th>\n",
       "      <td>0</td>\n",
       "      <td>3</td>\n",
       "      <td>male</td>\n",
       "      <td>9.0</td>\n",
       "      <td>5</td>\n",
       "      <td>2</td>\n",
       "      <td>46.9000</td>\n",
       "      <td>S</td>\n",
       "      <td>Third</td>\n",
       "      <td>child</td>\n",
       "      <td>False</td>\n",
       "      <td>NaN</td>\n",
       "      <td>Southampton</td>\n",
       "      <td>no</td>\n",
       "      <td>False</td>\n",
       "      <td>-1.062937</td>\n",
       "      <td>1</td>\n",
       "    </tr>\n",
       "    <tr>\n",
       "      <th>541</th>\n",
       "      <td>0</td>\n",
       "      <td>3</td>\n",
       "      <td>female</td>\n",
       "      <td>9.0</td>\n",
       "      <td>4</td>\n",
       "      <td>2</td>\n",
       "      <td>31.2750</td>\n",
       "      <td>S</td>\n",
       "      <td>Third</td>\n",
       "      <td>child</td>\n",
       "      <td>False</td>\n",
       "      <td>NaN</td>\n",
       "      <td>Southampton</td>\n",
       "      <td>no</td>\n",
       "      <td>False</td>\n",
       "      <td>-1.062937</td>\n",
       "      <td>1</td>\n",
       "    </tr>\n",
       "    <tr>\n",
       "      <th>542</th>\n",
       "      <td>0</td>\n",
       "      <td>3</td>\n",
       "      <td>female</td>\n",
       "      <td>11.0</td>\n",
       "      <td>4</td>\n",
       "      <td>2</td>\n",
       "      <td>31.2750</td>\n",
       "      <td>S</td>\n",
       "      <td>Third</td>\n",
       "      <td>child</td>\n",
       "      <td>False</td>\n",
       "      <td>NaN</td>\n",
       "      <td>Southampton</td>\n",
       "      <td>no</td>\n",
       "      <td>False</td>\n",
       "      <td>-0.951049</td>\n",
       "      <td>1</td>\n",
       "    </tr>\n",
       "    <tr>\n",
       "      <th>610</th>\n",
       "      <td>0</td>\n",
       "      <td>3</td>\n",
       "      <td>female</td>\n",
       "      <td>39.0</td>\n",
       "      <td>1</td>\n",
       "      <td>5</td>\n",
       "      <td>31.2750</td>\n",
       "      <td>S</td>\n",
       "      <td>Third</td>\n",
       "      <td>woman</td>\n",
       "      <td>False</td>\n",
       "      <td>NaN</td>\n",
       "      <td>Southampton</td>\n",
       "      <td>no</td>\n",
       "      <td>False</td>\n",
       "      <td>0.615385</td>\n",
       "      <td>1</td>\n",
       "    </tr>\n",
       "    <tr>\n",
       "      <th>678</th>\n",
       "      <td>0</td>\n",
       "      <td>3</td>\n",
       "      <td>female</td>\n",
       "      <td>43.0</td>\n",
       "      <td>1</td>\n",
       "      <td>6</td>\n",
       "      <td>46.9000</td>\n",
       "      <td>S</td>\n",
       "      <td>Third</td>\n",
       "      <td>woman</td>\n",
       "      <td>False</td>\n",
       "      <td>NaN</td>\n",
       "      <td>Southampton</td>\n",
       "      <td>no</td>\n",
       "      <td>False</td>\n",
       "      <td>0.839161</td>\n",
       "      <td>1</td>\n",
       "    </tr>\n",
       "    <tr>\n",
       "      <th>683</th>\n",
       "      <td>0</td>\n",
       "      <td>3</td>\n",
       "      <td>male</td>\n",
       "      <td>14.0</td>\n",
       "      <td>5</td>\n",
       "      <td>2</td>\n",
       "      <td>46.9000</td>\n",
       "      <td>S</td>\n",
       "      <td>Third</td>\n",
       "      <td>child</td>\n",
       "      <td>False</td>\n",
       "      <td>NaN</td>\n",
       "      <td>Southampton</td>\n",
       "      <td>no</td>\n",
       "      <td>False</td>\n",
       "      <td>-0.783217</td>\n",
       "      <td>1</td>\n",
       "    </tr>\n",
       "    <tr>\n",
       "      <th>792</th>\n",
       "      <td>0</td>\n",
       "      <td>3</td>\n",
       "      <td>female</td>\n",
       "      <td>NaN</td>\n",
       "      <td>8</td>\n",
       "      <td>2</td>\n",
       "      <td>69.5500</td>\n",
       "      <td>S</td>\n",
       "      <td>Third</td>\n",
       "      <td>woman</td>\n",
       "      <td>False</td>\n",
       "      <td>NaN</td>\n",
       "      <td>Southampton</td>\n",
       "      <td>no</td>\n",
       "      <td>False</td>\n",
       "      <td>NaN</td>\n",
       "      <td>1</td>\n",
       "    </tr>\n",
       "    <tr>\n",
       "      <th>813</th>\n",
       "      <td>0</td>\n",
       "      <td>3</td>\n",
       "      <td>female</td>\n",
       "      <td>6.0</td>\n",
       "      <td>4</td>\n",
       "      <td>2</td>\n",
       "      <td>31.2750</td>\n",
       "      <td>S</td>\n",
       "      <td>Third</td>\n",
       "      <td>child</td>\n",
       "      <td>False</td>\n",
       "      <td>NaN</td>\n",
       "      <td>Southampton</td>\n",
       "      <td>no</td>\n",
       "      <td>False</td>\n",
       "      <td>-1.230769</td>\n",
       "      <td>1</td>\n",
       "    </tr>\n",
       "    <tr>\n",
       "      <th>846</th>\n",
       "      <td>0</td>\n",
       "      <td>3</td>\n",
       "      <td>male</td>\n",
       "      <td>NaN</td>\n",
       "      <td>8</td>\n",
       "      <td>2</td>\n",
       "      <td>69.5500</td>\n",
       "      <td>S</td>\n",
       "      <td>Third</td>\n",
       "      <td>man</td>\n",
       "      <td>True</td>\n",
       "      <td>NaN</td>\n",
       "      <td>Southampton</td>\n",
       "      <td>no</td>\n",
       "      <td>False</td>\n",
       "      <td>NaN</td>\n",
       "      <td>1</td>\n",
       "    </tr>\n",
       "    <tr>\n",
       "      <th>850</th>\n",
       "      <td>0</td>\n",
       "      <td>3</td>\n",
       "      <td>male</td>\n",
       "      <td>4.0</td>\n",
       "      <td>4</td>\n",
       "      <td>2</td>\n",
       "      <td>31.2750</td>\n",
       "      <td>S</td>\n",
       "      <td>Third</td>\n",
       "      <td>child</td>\n",
       "      <td>False</td>\n",
       "      <td>NaN</td>\n",
       "      <td>Southampton</td>\n",
       "      <td>no</td>\n",
       "      <td>False</td>\n",
       "      <td>-1.342657</td>\n",
       "      <td>1</td>\n",
       "    </tr>\n",
       "    <tr>\n",
       "      <th>863</th>\n",
       "      <td>0</td>\n",
       "      <td>3</td>\n",
       "      <td>female</td>\n",
       "      <td>NaN</td>\n",
       "      <td>8</td>\n",
       "      <td>2</td>\n",
       "      <td>69.5500</td>\n",
       "      <td>S</td>\n",
       "      <td>Third</td>\n",
       "      <td>woman</td>\n",
       "      <td>False</td>\n",
       "      <td>NaN</td>\n",
       "      <td>Southampton</td>\n",
       "      <td>no</td>\n",
       "      <td>False</td>\n",
       "      <td>NaN</td>\n",
       "      <td>1</td>\n",
       "    </tr>\n",
       "  </tbody>\n",
       "</table>\n",
       "</div>"
      ],
      "text/plain": [
       "     survived  pclass     sex   age  sibsp  parch     fare embarked  class  \\\n",
       "13          0       3    male  39.0      1      5  31.2750        S  Third   \n",
       "25          1       3  female  38.0      1      5  31.3875        S  Third   \n",
       "59          0       3    male  11.0      5      2  46.9000        S  Third   \n",
       "68          1       3  female  17.0      4      2   7.9250        S  Third   \n",
       "71          0       3  female  16.0      5      2  46.9000        S  Third   \n",
       "119         0       3  female   2.0      4      2  31.2750        S  Third   \n",
       "159         0       3    male   NaN      8      2  69.5500        S  Third   \n",
       "180         0       3  female   NaN      8      2  69.5500        S  Third   \n",
       "182         0       3    male   9.0      4      2  31.3875        S  Third   \n",
       "201         0       3    male   NaN      8      2  69.5500        S  Third   \n",
       "233         1       3  female   5.0      4      2  31.3875        S  Third   \n",
       "261         1       3    male   3.0      4      2  31.3875        S  Third   \n",
       "324         0       3    male   NaN      8      2  69.5500        S  Third   \n",
       "386         0       3    male   1.0      5      2  46.9000        S  Third   \n",
       "480         0       3    male   9.0      5      2  46.9000        S  Third   \n",
       "541         0       3  female   9.0      4      2  31.2750        S  Third   \n",
       "542         0       3  female  11.0      4      2  31.2750        S  Third   \n",
       "610         0       3  female  39.0      1      5  31.2750        S  Third   \n",
       "678         0       3  female  43.0      1      6  46.9000        S  Third   \n",
       "683         0       3    male  14.0      5      2  46.9000        S  Third   \n",
       "792         0       3  female   NaN      8      2  69.5500        S  Third   \n",
       "813         0       3  female   6.0      4      2  31.2750        S  Third   \n",
       "846         0       3    male   NaN      8      2  69.5500        S  Third   \n",
       "850         0       3    male   4.0      4      2  31.2750        S  Third   \n",
       "863         0       3  female   NaN      8      2  69.5500        S  Third   \n",
       "\n",
       "       who  adult_male deck  embark_town alive  alone  Robustage  family  \n",
       "13     man        True  NaN  Southampton    no  False   0.615385       1  \n",
       "25   woman       False  NaN  Southampton   yes  False   0.559441       1  \n",
       "59   child       False  NaN  Southampton    no  False  -0.951049       1  \n",
       "68   woman       False  NaN  Southampton   yes  False  -0.615385       1  \n",
       "71   woman       False  NaN  Southampton    no  False  -0.671329       1  \n",
       "119  child       False  NaN  Southampton    no  False  -1.454545       1  \n",
       "159    man        True  NaN  Southampton    no  False        NaN       1  \n",
       "180  woman       False  NaN  Southampton    no  False        NaN       1  \n",
       "182  child       False  NaN  Southampton    no  False  -1.062937       1  \n",
       "201    man        True  NaN  Southampton    no  False        NaN       1  \n",
       "233  child       False  NaN  Southampton   yes  False  -1.286713       1  \n",
       "261  child       False  NaN  Southampton   yes  False  -1.398601       1  \n",
       "324    man        True  NaN  Southampton    no  False        NaN       1  \n",
       "386  child       False  NaN  Southampton    no  False  -1.510490       1  \n",
       "480  child       False  NaN  Southampton    no  False  -1.062937       1  \n",
       "541  child       False  NaN  Southampton    no  False  -1.062937       1  \n",
       "542  child       False  NaN  Southampton    no  False  -0.951049       1  \n",
       "610  woman       False  NaN  Southampton    no  False   0.615385       1  \n",
       "678  woman       False  NaN  Southampton    no  False   0.839161       1  \n",
       "683  child       False  NaN  Southampton    no  False  -0.783217       1  \n",
       "792  woman       False  NaN  Southampton    no  False        NaN       1  \n",
       "813  child       False  NaN  Southampton    no  False  -1.230769       1  \n",
       "846    man        True  NaN  Southampton    no  False        NaN       1  \n",
       "850  child       False  NaN  Southampton    no  False  -1.342657       1  \n",
       "863  woman       False  NaN  Southampton    no  False        NaN       1  "
      ]
     },
     "execution_count": 32,
     "metadata": {},
     "output_type": "execute_result"
    }
   ],
   "source": [
    "titanic[titanic.family==1]"
   ]
  },
  {
   "cell_type": "code",
   "execution_count": 36,
   "id": "807b6117-98d8-4cb2-b9e2-011248357740",
   "metadata": {},
   "outputs": [
    {
     "name": "stdout",
     "output_type": "stream",
     "text": [
      "<class 'pandas.core.frame.DataFrame'>\n",
      "RangeIndex: 891 entries, 0 to 890\n",
      "Data columns (total 17 columns):\n",
      " #   Column       Non-Null Count  Dtype   \n",
      "---  ------       --------------  -----   \n",
      " 0   survived     891 non-null    int64   \n",
      " 1   pclass       891 non-null    int64   \n",
      " 2   sex          891 non-null    object  \n",
      " 3   age          714 non-null    float64 \n",
      " 4   sibsp        891 non-null    int64   \n",
      " 5   parch        891 non-null    int64   \n",
      " 6   fare         891 non-null    float64 \n",
      " 7   embarked     889 non-null    object  \n",
      " 8   class        891 non-null    category\n",
      " 9   who          891 non-null    object  \n",
      " 10  adult_male   891 non-null    bool    \n",
      " 11  deck         203 non-null    category\n",
      " 12  embark_town  889 non-null    object  \n",
      " 13  alive        891 non-null    object  \n",
      " 14  alone        891 non-null    bool    \n",
      " 15  Robustage    714 non-null    float64 \n",
      " 16  family       891 non-null    int64   \n",
      "dtypes: bool(2), category(2), float64(3), int64(5), object(5)\n",
      "memory usage: 94.6+ KB\n"
     ]
    }
   ],
   "source": [
    "titanic.info()"
   ]
  },
  {
   "cell_type": "code",
   "execution_count": 47,
   "id": "39766d08-927e-45fe-b97a-463c400fdf7d",
   "metadata": {},
   "outputs": [
    {
     "data": {
      "text/plain": [
       "0.09606669176903912"
      ]
     },
     "execution_count": 47,
     "metadata": {},
     "output_type": "execute_result"
    }
   ],
   "source": [
    "titanic[['age','fare']].corr().iloc[0,1]"
   ]
  },
  {
   "cell_type": "code",
   "execution_count": 49,
   "id": "cc84fb50-2866-4a0d-92a1-fd34302bc440",
   "metadata": {},
   "outputs": [
    {
     "data": {
      "text/plain": [
       "0.2573065223849626"
      ]
     },
     "execution_count": 49,
     "metadata": {},
     "output_type": "execute_result"
    }
   ],
   "source": [
    "titanic[['survived','fare']].corr().iloc[0,1]"
   ]
  },
  {
   "cell_type": "code",
   "execution_count": 52,
   "id": "6289129a-e2d8-4fe0-846d-3259732304c5",
   "metadata": {},
   "outputs": [
    {
     "data": {
      "text/html": [
       "<div>\n",
       "<style scoped>\n",
       "    .dataframe tbody tr th:only-of-type {\n",
       "        vertical-align: middle;\n",
       "    }\n",
       "\n",
       "    .dataframe tbody tr th {\n",
       "        vertical-align: top;\n",
       "    }\n",
       "\n",
       "    .dataframe thead th {\n",
       "        text-align: right;\n",
       "    }\n",
       "</style>\n",
       "<table border=\"1\" class=\"dataframe\">\n",
       "  <thead>\n",
       "    <tr style=\"text-align: right;\">\n",
       "      <th></th>\n",
       "      <th>survived</th>\n",
       "      <th>pclass</th>\n",
       "      <th>sex</th>\n",
       "      <th>age</th>\n",
       "      <th>sibsp</th>\n",
       "      <th>parch</th>\n",
       "      <th>fare</th>\n",
       "      <th>embarked</th>\n",
       "      <th>class</th>\n",
       "      <th>who</th>\n",
       "      <th>adult_male</th>\n",
       "      <th>deck</th>\n",
       "      <th>embark_town</th>\n",
       "      <th>alive</th>\n",
       "      <th>alone</th>\n",
       "      <th>Robustage</th>\n",
       "      <th>family</th>\n",
       "      <th>embark_town_name</th>\n",
       "    </tr>\n",
       "  </thead>\n",
       "  <tbody>\n",
       "    <tr>\n",
       "      <th>0</th>\n",
       "      <td>0</td>\n",
       "      <td>3</td>\n",
       "      <td>male</td>\n",
       "      <td>22.0</td>\n",
       "      <td>1</td>\n",
       "      <td>0</td>\n",
       "      <td>7.2500</td>\n",
       "      <td>S</td>\n",
       "      <td>Third</td>\n",
       "      <td>man</td>\n",
       "      <td>True</td>\n",
       "      <td>NaN</td>\n",
       "      <td>Southampton</td>\n",
       "      <td>no</td>\n",
       "      <td>False</td>\n",
       "      <td>-0.335664</td>\n",
       "      <td>0</td>\n",
       "      <td>S</td>\n",
       "    </tr>\n",
       "    <tr>\n",
       "      <th>1</th>\n",
       "      <td>1</td>\n",
       "      <td>1</td>\n",
       "      <td>female</td>\n",
       "      <td>38.0</td>\n",
       "      <td>1</td>\n",
       "      <td>0</td>\n",
       "      <td>71.2833</td>\n",
       "      <td>C</td>\n",
       "      <td>First</td>\n",
       "      <td>woman</td>\n",
       "      <td>False</td>\n",
       "      <td>C</td>\n",
       "      <td>Cherbourg</td>\n",
       "      <td>yes</td>\n",
       "      <td>False</td>\n",
       "      <td>0.559441</td>\n",
       "      <td>0</td>\n",
       "      <td>C</td>\n",
       "    </tr>\n",
       "    <tr>\n",
       "      <th>2</th>\n",
       "      <td>1</td>\n",
       "      <td>3</td>\n",
       "      <td>female</td>\n",
       "      <td>26.0</td>\n",
       "      <td>0</td>\n",
       "      <td>0</td>\n",
       "      <td>7.9250</td>\n",
       "      <td>S</td>\n",
       "      <td>Third</td>\n",
       "      <td>woman</td>\n",
       "      <td>False</td>\n",
       "      <td>NaN</td>\n",
       "      <td>Southampton</td>\n",
       "      <td>yes</td>\n",
       "      <td>True</td>\n",
       "      <td>-0.111888</td>\n",
       "      <td>0</td>\n",
       "      <td>S</td>\n",
       "    </tr>\n",
       "    <tr>\n",
       "      <th>3</th>\n",
       "      <td>1</td>\n",
       "      <td>1</td>\n",
       "      <td>female</td>\n",
       "      <td>35.0</td>\n",
       "      <td>1</td>\n",
       "      <td>0</td>\n",
       "      <td>53.1000</td>\n",
       "      <td>S</td>\n",
       "      <td>First</td>\n",
       "      <td>woman</td>\n",
       "      <td>False</td>\n",
       "      <td>C</td>\n",
       "      <td>Southampton</td>\n",
       "      <td>yes</td>\n",
       "      <td>False</td>\n",
       "      <td>0.391608</td>\n",
       "      <td>0</td>\n",
       "      <td>S</td>\n",
       "    </tr>\n",
       "    <tr>\n",
       "      <th>4</th>\n",
       "      <td>0</td>\n",
       "      <td>3</td>\n",
       "      <td>male</td>\n",
       "      <td>35.0</td>\n",
       "      <td>0</td>\n",
       "      <td>0</td>\n",
       "      <td>8.0500</td>\n",
       "      <td>S</td>\n",
       "      <td>Third</td>\n",
       "      <td>man</td>\n",
       "      <td>True</td>\n",
       "      <td>NaN</td>\n",
       "      <td>Southampton</td>\n",
       "      <td>no</td>\n",
       "      <td>True</td>\n",
       "      <td>0.391608</td>\n",
       "      <td>0</td>\n",
       "      <td>S</td>\n",
       "    </tr>\n",
       "    <tr>\n",
       "      <th>...</th>\n",
       "      <td>...</td>\n",
       "      <td>...</td>\n",
       "      <td>...</td>\n",
       "      <td>...</td>\n",
       "      <td>...</td>\n",
       "      <td>...</td>\n",
       "      <td>...</td>\n",
       "      <td>...</td>\n",
       "      <td>...</td>\n",
       "      <td>...</td>\n",
       "      <td>...</td>\n",
       "      <td>...</td>\n",
       "      <td>...</td>\n",
       "      <td>...</td>\n",
       "      <td>...</td>\n",
       "      <td>...</td>\n",
       "      <td>...</td>\n",
       "      <td>...</td>\n",
       "    </tr>\n",
       "    <tr>\n",
       "      <th>886</th>\n",
       "      <td>0</td>\n",
       "      <td>2</td>\n",
       "      <td>male</td>\n",
       "      <td>27.0</td>\n",
       "      <td>0</td>\n",
       "      <td>0</td>\n",
       "      <td>13.0000</td>\n",
       "      <td>S</td>\n",
       "      <td>Second</td>\n",
       "      <td>man</td>\n",
       "      <td>True</td>\n",
       "      <td>NaN</td>\n",
       "      <td>Southampton</td>\n",
       "      <td>no</td>\n",
       "      <td>True</td>\n",
       "      <td>-0.055944</td>\n",
       "      <td>0</td>\n",
       "      <td>S</td>\n",
       "    </tr>\n",
       "    <tr>\n",
       "      <th>887</th>\n",
       "      <td>1</td>\n",
       "      <td>1</td>\n",
       "      <td>female</td>\n",
       "      <td>19.0</td>\n",
       "      <td>0</td>\n",
       "      <td>0</td>\n",
       "      <td>30.0000</td>\n",
       "      <td>S</td>\n",
       "      <td>First</td>\n",
       "      <td>woman</td>\n",
       "      <td>False</td>\n",
       "      <td>B</td>\n",
       "      <td>Southampton</td>\n",
       "      <td>yes</td>\n",
       "      <td>True</td>\n",
       "      <td>-0.503497</td>\n",
       "      <td>0</td>\n",
       "      <td>S</td>\n",
       "    </tr>\n",
       "    <tr>\n",
       "      <th>888</th>\n",
       "      <td>0</td>\n",
       "      <td>3</td>\n",
       "      <td>female</td>\n",
       "      <td>NaN</td>\n",
       "      <td>1</td>\n",
       "      <td>2</td>\n",
       "      <td>23.4500</td>\n",
       "      <td>S</td>\n",
       "      <td>Third</td>\n",
       "      <td>woman</td>\n",
       "      <td>False</td>\n",
       "      <td>NaN</td>\n",
       "      <td>Southampton</td>\n",
       "      <td>no</td>\n",
       "      <td>False</td>\n",
       "      <td>NaN</td>\n",
       "      <td>0</td>\n",
       "      <td>S</td>\n",
       "    </tr>\n",
       "    <tr>\n",
       "      <th>889</th>\n",
       "      <td>1</td>\n",
       "      <td>1</td>\n",
       "      <td>male</td>\n",
       "      <td>26.0</td>\n",
       "      <td>0</td>\n",
       "      <td>0</td>\n",
       "      <td>30.0000</td>\n",
       "      <td>C</td>\n",
       "      <td>First</td>\n",
       "      <td>man</td>\n",
       "      <td>True</td>\n",
       "      <td>C</td>\n",
       "      <td>Cherbourg</td>\n",
       "      <td>yes</td>\n",
       "      <td>True</td>\n",
       "      <td>-0.111888</td>\n",
       "      <td>0</td>\n",
       "      <td>C</td>\n",
       "    </tr>\n",
       "    <tr>\n",
       "      <th>890</th>\n",
       "      <td>0</td>\n",
       "      <td>3</td>\n",
       "      <td>male</td>\n",
       "      <td>32.0</td>\n",
       "      <td>0</td>\n",
       "      <td>0</td>\n",
       "      <td>7.7500</td>\n",
       "      <td>Q</td>\n",
       "      <td>Third</td>\n",
       "      <td>man</td>\n",
       "      <td>True</td>\n",
       "      <td>NaN</td>\n",
       "      <td>Queenstown</td>\n",
       "      <td>no</td>\n",
       "      <td>True</td>\n",
       "      <td>0.223776</td>\n",
       "      <td>0</td>\n",
       "      <td>Q</td>\n",
       "    </tr>\n",
       "  </tbody>\n",
       "</table>\n",
       "<p>891 rows × 18 columns</p>\n",
       "</div>"
      ],
      "text/plain": [
       "     survived  pclass     sex   age  sibsp  parch     fare embarked   class  \\\n",
       "0           0       3    male  22.0      1      0   7.2500        S   Third   \n",
       "1           1       1  female  38.0      1      0  71.2833        C   First   \n",
       "2           1       3  female  26.0      0      0   7.9250        S   Third   \n",
       "3           1       1  female  35.0      1      0  53.1000        S   First   \n",
       "4           0       3    male  35.0      0      0   8.0500        S   Third   \n",
       "..        ...     ...     ...   ...    ...    ...      ...      ...     ...   \n",
       "886         0       2    male  27.0      0      0  13.0000        S  Second   \n",
       "887         1       1  female  19.0      0      0  30.0000        S   First   \n",
       "888         0       3  female   NaN      1      2  23.4500        S   Third   \n",
       "889         1       1    male  26.0      0      0  30.0000        C   First   \n",
       "890         0       3    male  32.0      0      0   7.7500        Q   Third   \n",
       "\n",
       "       who  adult_male deck  embark_town alive  alone  Robustage  family  \\\n",
       "0      man        True  NaN  Southampton    no  False  -0.335664       0   \n",
       "1    woman       False    C    Cherbourg   yes  False   0.559441       0   \n",
       "2    woman       False  NaN  Southampton   yes   True  -0.111888       0   \n",
       "3    woman       False    C  Southampton   yes  False   0.391608       0   \n",
       "4      man        True  NaN  Southampton    no   True   0.391608       0   \n",
       "..     ...         ...  ...          ...   ...    ...        ...     ...   \n",
       "886    man        True  NaN  Southampton    no   True  -0.055944       0   \n",
       "887  woman       False    B  Southampton   yes   True  -0.503497       0   \n",
       "888  woman       False  NaN  Southampton    no  False        NaN       0   \n",
       "889    man        True    C    Cherbourg   yes   True  -0.111888       0   \n",
       "890    man        True  NaN   Queenstown    no   True   0.223776       0   \n",
       "\n",
       "    embark_town_name  \n",
       "0                  S  \n",
       "1                  C  \n",
       "2                  S  \n",
       "3                  S  \n",
       "4                  S  \n",
       "..               ...  \n",
       "886                S  \n",
       "887                S  \n",
       "888                S  \n",
       "889                C  \n",
       "890                Q  \n",
       "\n",
       "[891 rows x 18 columns]"
      ]
     },
     "execution_count": 52,
     "metadata": {},
     "output_type": "execute_result"
    }
   ],
   "source": [
    "titanic['embark_town_name']=titanic.embark_town.str[0]\n",
    "titanic"
   ]
  },
  {
   "cell_type": "code",
   "execution_count": null,
   "id": "05f16e29-36e0-4a14-941c-af91f837977c",
   "metadata": {},
   "outputs": [],
   "source": []
  }
 ],
 "metadata": {
  "kernelspec": {
   "display_name": "Python 3 (ipykernel)",
   "language": "python",
   "name": "python3"
  },
  "language_info": {
   "codemirror_mode": {
    "name": "ipython",
    "version": 3
   },
   "file_extension": ".py",
   "mimetype": "text/x-python",
   "name": "python",
   "nbconvert_exporter": "python",
   "pygments_lexer": "ipython3",
   "version": "3.11.7"
  }
 },
 "nbformat": 4,
 "nbformat_minor": 5
}
