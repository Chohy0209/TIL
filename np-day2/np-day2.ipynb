{
 "cells": [
  {
   "cell_type": "code",
   "execution_count": 1,
   "id": "05f2ee77-4484-4e19-b5a0-da0d3c657973",
   "metadata": {},
   "outputs": [],
   "source": [
    "import numpy as np"
   ]
  },
  {
   "cell_type": "code",
   "execution_count": 4,
   "id": "fea26be5-5d46-40ac-9f2f-c5eeb2e63a8e",
   "metadata": {},
   "outputs": [],
   "source": [
    "arr=np.array([1,2,3,4])"
   ]
  },
  {
   "cell_type": "code",
   "execution_count": 5,
   "id": "4ef9bd6b-3d1c-4ba2-8235-946c1a78baa9",
   "metadata": {},
   "outputs": [
    {
     "data": {
      "text/plain": [
       "dtype('int32')"
      ]
     },
     "execution_count": 5,
     "metadata": {},
     "output_type": "execute_result"
    }
   ],
   "source": [
    "arr.dtype #정수 데이터이며 이 정수데이터를 저장하는데 32비트(4바이트)가 소요됨\n",
    "# 1MB=100만 바이트\n",
    "# 1GB=10억 바이트"
   ]
  },
  {
   "cell_type": "code",
   "execution_count": 6,
   "id": "9f9d4b5a-0f11-4523-ac2d-fd0f0cd95ad1",
   "metadata": {},
   "outputs": [
    {
     "data": {
      "text/plain": [
       "numpy.ndarray"
      ]
     },
     "execution_count": 6,
     "metadata": {},
     "output_type": "execute_result"
    }
   ],
   "source": [
    "type(arr) #arr의 타입은 n차원의 array ndarray가 나옴->arr안에 있는 배열 데이터가 정수"
   ]
  },
  {
   "cell_type": "code",
   "execution_count": 8,
   "id": "15aa4501-c7ea-4608-8e89-956290fbe24a",
   "metadata": {},
   "outputs": [
    {
     "data": {
      "text/plain": [
       "numpy.int32"
      ]
     },
     "execution_count": 8,
     "metadata": {},
     "output_type": "execute_result"
    }
   ],
   "source": [
    "type(arr[0])"
   ]
  },
  {
   "cell_type": "code",
   "execution_count": 9,
   "id": "453a1d36-cfef-4f61-93da-f2fa2196c7e3",
   "metadata": {},
   "outputs": [
    {
     "data": {
      "text/plain": [
       "dtype('<U6')"
      ]
     },
     "execution_count": 9,
     "metadata": {},
     "output_type": "execute_result"
    }
   ],
   "source": [
    "arr=np.array(['Apple','CHERRY','BANANA'])\n",
    "arr.dtype # <U6 : unicode"
   ]
  },
  {
   "cell_type": "code",
   "execution_count": 11,
   "id": "a62afc5f-35d3-4996-bfac-04513389f106",
   "metadata": {},
   "outputs": [
    {
     "data": {
      "text/plain": [
       "dtype('float64')"
      ]
     },
     "execution_count": 11,
     "metadata": {},
     "output_type": "execute_result"
    }
   ],
   "source": [
    "arr=np.array([1,2,3], dtype=np.float64) #64비트 float 수의 범위 4.9*10의 -324승~ 1.17 *10의 308승\n",
    "arr.dtype"
   ]
  },
  {
   "cell_type": "code",
   "execution_count": 16,
   "id": "0c3f9f1e-d4a3-4803-8ca0-625c72019240",
   "metadata": {},
   "outputs": [
    {
     "data": {
      "text/plain": [
       "array([1, 2, 3], dtype=int8)"
      ]
     },
     "execution_count": 16,
     "metadata": {},
     "output_type": "execute_result"
    }
   ],
   "source": [
    "arr=np.array([1,2,3], dtype='i1') # i= 바이트 수 i1= 1바이트 =int8\n",
    "arr"
   ]
  },
  {
   "cell_type": "code",
   "execution_count": 17,
   "id": "4e53ed6e-e045-41c5-bf1a-0b1575f36aa2",
   "metadata": {},
   "outputs": [
    {
     "data": {
      "text/plain": [
       "dtype('int32')"
      ]
     },
     "execution_count": 17,
     "metadata": {},
     "output_type": "execute_result"
    }
   ],
   "source": [
    "arr=np.array([1,2,3])\n",
    "arr.dtype"
   ]
  },
  {
   "cell_type": "code",
   "execution_count": 18,
   "id": "1ba0cbdb-32db-41aa-980c-6f3662a7c9f1",
   "metadata": {},
   "outputs": [
    {
     "data": {
      "text/plain": [
       "array([1., 2., 3.], dtype=float32)"
      ]
     },
     "execution_count": 18,
     "metadata": {},
     "output_type": "execute_result"
    }
   ],
   "source": [
    "farr=arr.astype(np.float32) # 타입변환 함수\n",
    "farr"
   ]
  },
  {
   "cell_type": "code",
   "execution_count": 19,
   "id": "c36e0be0-c34b-4edb-9c1c-9f5dfac175a2",
   "metadata": {},
   "outputs": [
    {
     "data": {
      "text/plain": [
       "array([1, 2, 3])"
      ]
     },
     "execution_count": 19,
     "metadata": {},
     "output_type": "execute_result"
    }
   ],
   "source": [
    "arr"
   ]
  },
  {
   "cell_type": "code",
   "execution_count": 20,
   "id": "e245a2ff-a708-4f8d-a5d5-f093cab52105",
   "metadata": {},
   "outputs": [
    {
     "data": {
      "text/plain": [
       "array([1., 2., 3.], dtype=float32)"
      ]
     },
     "execution_count": 20,
     "metadata": {},
     "output_type": "execute_result"
    }
   ],
   "source": [
    "farr"
   ]
  },
  {
   "cell_type": "code",
   "execution_count": 21,
   "id": "32d0809d-0057-464b-8436-c8a7b099a118",
   "metadata": {},
   "outputs": [
    {
     "data": {
      "text/plain": [
       "array([[0, 0],\n",
       "       [0, 0]])"
      ]
     },
     "execution_count": 21,
     "metadata": {},
     "output_type": "execute_result"
    }
   ],
   "source": [
    "arr1=np.array(list(range(10,14))).reshape(2,2)\n",
    "arr2=np.array(list(range(10,14))).reshape(2,2) #넘파이 배열은 요소간 연산=>동일한 크기의 배열\n",
    "arr1-arr2\n"
   ]
  },
  {
   "cell_type": "code",
   "execution_count": 22,
   "id": "99a4b4f5-3b5e-4fbd-9102-97e73cc63b2c",
   "metadata": {},
   "outputs": [
    {
     "data": {
      "text/plain": [
       "array([[20, 22],\n",
       "       [24, 26]])"
      ]
     },
     "execution_count": 22,
     "metadata": {},
     "output_type": "execute_result"
    }
   ],
   "source": [
    "arr1*2 #숫자와 연산을 할때는 모든항목에 동일한 연산"
   ]
  },
  {
   "cell_type": "code",
   "execution_count": 23,
   "id": "26fe45f1-7022-4200-ac49-b4a870f75d42",
   "metadata": {},
   "outputs": [
    {
     "data": {
      "text/plain": [
       "array([[100, 121],\n",
       "       [144, 169]])"
      ]
     },
     "execution_count": 23,
     "metadata": {},
     "output_type": "execute_result"
    }
   ],
   "source": [
    "arr1*arr2 #주의 : 행렬의 곱셈(matrix multiply)이 아님, 요소간 곱셈(element-wise product)"
   ]
  },
  {
   "cell_type": "markdown",
   "id": "38522bfd-f75f-4e6e-9176-591e3ddb4d74",
   "metadata": {},
   "source": [
    "#행렬의 곱셈은 도트기호로 나타냄 앞쪽의 행렬의 열과 뒷쪽의 행렬의 행이 같아야함 a*b . b*c= b자리가 같아야하고 나오는 shape는 a행c열 a*c가 됨"
   ]
  },
  {
   "cell_type": "code",
   "execution_count": 27,
   "id": "7712cc64-edcf-424f-bd0e-eafb41c18f01",
   "metadata": {},
   "outputs": [
    {
     "data": {
      "text/plain": [
       "array([[10, 11],\n",
       "       [12, 13]])"
      ]
     },
     "execution_count": 27,
     "metadata": {},
     "output_type": "execute_result"
    }
   ],
   "source": [
    "import numpy as np\n",
    "arr1=np.array(list(range(10,14))).reshape(2,2)\n",
    "arr1"
   ]
  },
  {
   "cell_type": "code",
   "execution_count": 29,
   "id": "15165049-ee09-4f91-a217-76d62a1e1158",
   "metadata": {},
   "outputs": [
    {
     "data": {
      "text/plain": [
       "array([[13, 14],\n",
       "       [15, 16]])"
      ]
     },
     "execution_count": 29,
     "metadata": {},
     "output_type": "execute_result"
    }
   ],
   "source": [
    "arr2=np.array(list(range(13,17))).reshape(2,2)\n",
    "arr2"
   ]
  },
  {
   "cell_type": "code",
   "execution_count": 30,
   "id": "2781cdcc-3bdd-46fc-96db-6094353ad68f",
   "metadata": {},
   "outputs": [
    {
     "data": {
      "text/plain": [
       "array([[False, False],\n",
       "       [False, False]])"
      ]
     },
     "execution_count": 30,
     "metadata": {},
     "output_type": "execute_result"
    }
   ],
   "source": [
    "arr1>arr2 #비교연산도 요소간 연산이 이루어짐"
   ]
  },
  {
   "cell_type": "code",
   "execution_count": 31,
   "id": "b368d284-5a21-4741-99b9-af9aa34a5504",
   "metadata": {},
   "outputs": [
    {
     "data": {
      "text/plain": [
       "array([[False,  True],\n",
       "       [ True,  True]])"
      ]
     },
     "execution_count": 31,
     "metadata": {},
     "output_type": "execute_result"
    }
   ],
   "source": [
    "arr1>10"
   ]
  },
  {
   "cell_type": "code",
   "execution_count": 32,
   "id": "9c1f226c-db2f-41e9-b2b2-f99ef2dd2170",
   "metadata": {},
   "outputs": [
    {
     "data": {
      "text/plain": [
       "array([[False, False],\n",
       "       [False, False]])"
      ]
     },
     "execution_count": 32,
     "metadata": {},
     "output_type": "execute_result"
    }
   ],
   "source": [
    "arr1==arr2"
   ]
  },
  {
   "cell_type": "code",
   "execution_count": 33,
   "id": "226975de-3333-4a5c-b7e2-1922a231adf4",
   "metadata": {},
   "outputs": [
    {
     "data": {
      "text/plain": [
       "array([[ True,  True],\n",
       "       [ True,  True]])"
      ]
     },
     "execution_count": 33,
     "metadata": {},
     "output_type": "execute_result"
    }
   ],
   "source": [
    "~(arr1==arr2) #~는 not 연산자"
   ]
  },
  {
   "cell_type": "code",
   "execution_count": 35,
   "id": "7d2e5c51-84d5-486d-a204-733573a4b9d2",
   "metadata": {},
   "outputs": [
    {
     "data": {
      "text/plain": [
       "array([[ True,  True],\n",
       "       [ True,  True]])"
      ]
     },
     "execution_count": 35,
     "metadata": {},
     "output_type": "execute_result"
    }
   ],
   "source": [
    "arr1!=arr2 # 같지않다 "
   ]
  },
  {
   "cell_type": "code",
   "execution_count": 36,
   "id": "db95700c-030a-4a54-817f-43490180e2ff",
   "metadata": {},
   "outputs": [
    {
     "data": {
      "text/plain": [
       "array([[ True,  True],\n",
       "       [ True,  True]])"
      ]
     },
     "execution_count": 36,
     "metadata": {},
     "output_type": "execute_result"
    }
   ],
   "source": [
    "(~(arr1==arr2))|(~(arr1!=arr2))\n",
    "#|은 or  행렬 OR 행렬 => 요소간 or 연산\n",
    "# 둘중 하나 이상이 TRUE => TRUE"
   ]
  },
  {
   "cell_type": "code",
   "execution_count": 37,
   "id": "a57a5196-b57c-4cd7-b7c6-9dd8eb0ce69e",
   "metadata": {},
   "outputs": [
    {
     "data": {
      "text/plain": [
       "array([0, 1, 2, 3, 4, 5, 6, 7])"
      ]
     },
     "execution_count": 37,
     "metadata": {},
     "output_type": "execute_result"
    }
   ],
   "source": [
    "np.arange(8)#np.array(list(range(8)))"
   ]
  },
  {
   "cell_type": "code",
   "execution_count": 38,
   "id": "3ed1173a-5f42-40ef-be3c-ec932eeef4f6",
   "metadata": {},
   "outputs": [
    {
     "data": {
      "text/plain": [
       "array([[[0, 1],\n",
       "        [2, 3]],\n",
       "\n",
       "       [[4, 5],\n",
       "        [6, 7]]])"
      ]
     },
     "execution_count": 38,
     "metadata": {},
     "output_type": "execute_result"
    }
   ],
   "source": [
    "np.arange(8).reshape(2,2,2) #깊이가 2 행 2 열 2"
   ]
  },
  {
   "cell_type": "code",
   "execution_count": 42,
   "id": "417655d1-6447-41a9-8ecd-ec00245c1134",
   "metadata": {},
   "outputs": [
    {
     "name": "stdout",
     "output_type": "stream",
     "text": [
      "[[[ 1  2  3  4]\n",
      "  [ 5  6  7  8]\n",
      "  [ 9 10 11 12]]\n",
      "\n",
      " [[13 14 15 16]\n",
      "  [17 18 19 20]\n",
      "  [21 22 23 24]]]\n",
      "[[[ 1  2  3  4]\n",
      "  [ 5  6  7  8]\n",
      "  [ 9 10 11 12]]\n",
      "\n",
      " [[13 14 15 16]\n",
      "  [17 18 19 20]\n",
      "  [21 22 23 24]]]\n"
     ]
    }
   ],
   "source": [
    "arr1=np.array(list(range(1,25))).reshape(2,3,4)\n",
    "arr2=np.arange(1,25).reshape(2,3,4)\n",
    "print(arr1,arr2, sep='\\n')"
   ]
  },
  {
   "cell_type": "code",
   "execution_count": 43,
   "id": "10ab4879-6bba-4e49-a69a-9e84cbd4e6d0",
   "metadata": {},
   "outputs": [
    {
     "data": {
      "text/plain": [
       "array([  0,   1,   2,   3,   4,   5,   6,   7,   8,   9,  10,  11,  12,\n",
       "        13,  14,  15,  16,  17,  18,  19,  20,  21,  22,  23,  24,  25,\n",
       "        26,  27,  28,  29,  30,  31,  32,  33,  34,  35,  36,  37,  38,\n",
       "        39,  40,  41,  42,  43,  44,  45,  46,  47,  48,  49,  50,  51,\n",
       "        52,  53,  54,  55,  56,  57,  58,  59,  60,  61,  62,  63,  64,\n",
       "        65,  66,  67,  68,  69,  70,  71,  72,  73,  74,  75,  76,  77,\n",
       "        78,  79,  80,  81,  82,  83,  84,  85,  86,  87,  88,  89,  90,\n",
       "        91,  92,  93,  94,  95,  96,  97,  98,  99, 100, 101, 102, 103,\n",
       "       104, 105, 106, 107, 108, 109, 110, 111, 112, 113, 114, 115, 116,\n",
       "       117, 118, 119, 120, 121, 122, 123, 124, 125, 126, 127, 128, 129,\n",
       "       130, 131, 132, 133, 134, 135, 136, 137, 138, 139, 140, 141, 142,\n",
       "       143, 144, 145, 146, 147, 148, 149, 150, 151, 152, 153, 154, 155,\n",
       "       156, 157, 158, 159, 160, 161, 162, 163, 164, 165, 166, 167, 168,\n",
       "       169, 170, 171, 172, 173, 174, 175, 176, 177, 178, 179, 180, 181,\n",
       "       182, 183, 184, 185, 186, 187, 188, 189, 190, 191, 192, 193, 194,\n",
       "       195, 196, 197, 198, 199])"
      ]
     },
     "execution_count": 43,
     "metadata": {},
     "output_type": "execute_result"
    }
   ],
   "source": [
    "data=np.arange(200)\n",
    "data"
   ]
  },
  {
   "cell_type": "code",
   "execution_count": 46,
   "id": "f9639c85-49b1-4bf0-a2ef-ab94effcdb94",
   "metadata": {},
   "outputs": [
    {
     "data": {
      "text/plain": [
       "array([[  0,   1,   2,   3,   4,   5,   6,   7,   8,   9,  10,  11,  12,\n",
       "         13,  14,  15,  16,  17,  18,  19,  20,  21,  22,  23,  24,  25,\n",
       "         26,  27,  28,  29,  30,  31,  32,  33,  34,  35,  36,  37,  38,\n",
       "         39,  40,  41,  42,  43,  44,  45,  46,  47,  48,  49],\n",
       "       [ 50,  51,  52,  53,  54,  55,  56,  57,  58,  59,  60,  61,  62,\n",
       "         63,  64,  65,  66,  67,  68,  69,  70,  71,  72,  73,  74,  75,\n",
       "         76,  77,  78,  79,  80,  81,  82,  83,  84,  85,  86,  87,  88,\n",
       "         89,  90,  91,  92,  93,  94,  95,  96,  97,  98,  99],\n",
       "       [100, 101, 102, 103, 104, 105, 106, 107, 108, 109, 110, 111, 112,\n",
       "        113, 114, 115, 116, 117, 118, 119, 120, 121, 122, 123, 124, 125,\n",
       "        126, 127, 128, 129, 130, 131, 132, 133, 134, 135, 136, 137, 138,\n",
       "        139, 140, 141, 142, 143, 144, 145, 146, 147, 148, 149],\n",
       "       [150, 151, 152, 153, 154, 155, 156, 157, 158, 159, 160, 161, 162,\n",
       "        163, 164, 165, 166, 167, 168, 169, 170, 171, 172, 173, 174, 175,\n",
       "        176, 177, 178, 179, 180, 181, 182, 183, 184, 185, 186, 187, 188,\n",
       "        189, 190, 191, 192, 193, 194, 195, 196, 197, 198, 199]])"
      ]
     },
     "execution_count": 46,
     "metadata": {},
     "output_type": "execute_result"
    }
   ],
   "source": [
    "data2=data.reshape(4,-1) (4행으로 설정하고 뒤에 -1자리에는 계산해서 생성해줌)\n",
    "data2"
   ]
  },
  {
   "cell_type": "code",
   "execution_count": 47,
   "id": "bfa6a867-5ad2-4ca2-8a7f-cbdc8006a441",
   "metadata": {},
   "outputs": [
    {
     "data": {
      "text/plain": [
       "(4, 50)"
      ]
     },
     "execution_count": 47,
     "metadata": {},
     "output_type": "execute_result"
    }
   ],
   "source": [
    "data2.shape"
   ]
  },
  {
   "cell_type": "code",
   "execution_count": 48,
   "id": "0ab5ac8d-c7d7-4bc2-bc4d-79c1e27727ff",
   "metadata": {},
   "outputs": [
    {
     "ename": "ValueError",
     "evalue": "cannot reshape array of size 200 into shape (6,newaxis)",
     "output_type": "error",
     "traceback": [
      "\u001b[1;31m---------------------------------------------------------------------------\u001b[0m",
      "\u001b[1;31mValueError\u001b[0m                                Traceback (most recent call last)",
      "Cell \u001b[1;32mIn[48], line 1\u001b[0m\n\u001b[1;32m----> 1\u001b[0m data3\u001b[38;5;241m=\u001b[39mdata\u001b[38;5;241m.\u001b[39mreshape(\u001b[38;5;241m6\u001b[39m,\u001b[38;5;241m-\u001b[39m\u001b[38;5;241m1\u001b[39m)\n",
      "\u001b[1;31mValueError\u001b[0m: cannot reshape array of size 200 into shape (6,newaxis)"
     ]
    }
   ],
   "source": [
    "data3=data.reshape(6,-1) #에러가 뜸 200이 6행으로 나누어떨어지지 않기때문"
   ]
  },
  {
   "cell_type": "code",
   "execution_count": 50,
   "id": "73465b72-cab5-4c36-a73f-88fbf32b9b9c",
   "metadata": {},
   "outputs": [
    {
     "data": {
      "text/plain": [
       "array([[  0,   1,   2,   3,   4,   5,   6,   7,   8,   9],\n",
       "       [ 10,  11,  12,  13,  14,  15,  16,  17,  18,  19],\n",
       "       [ 20,  21,  22,  23,  24,  25,  26,  27,  28,  29],\n",
       "       [ 30,  31,  32,  33,  34,  35,  36,  37,  38,  39],\n",
       "       [ 40,  41,  42,  43,  44,  45,  46,  47,  48,  49],\n",
       "       [ 50,  51,  52,  53,  54,  55,  56,  57,  58,  59],\n",
       "       [ 60,  61,  62,  63,  64,  65,  66,  67,  68,  69],\n",
       "       [ 70,  71,  72,  73,  74,  75,  76,  77,  78,  79],\n",
       "       [ 80,  81,  82,  83,  84,  85,  86,  87,  88,  89],\n",
       "       [ 90,  91,  92,  93,  94,  95,  96,  97,  98,  99],\n",
       "       [100, 101, 102, 103, 104, 105, 106, 107, 108, 109],\n",
       "       [110, 111, 112, 113, 114, 115, 116, 117, 118, 119],\n",
       "       [120, 121, 122, 123, 124, 125, 126, 127, 128, 129],\n",
       "       [130, 131, 132, 133, 134, 135, 136, 137, 138, 139],\n",
       "       [140, 141, 142, 143, 144, 145, 146, 147, 148, 149],\n",
       "       [150, 151, 152, 153, 154, 155, 156, 157, 158, 159],\n",
       "       [160, 161, 162, 163, 164, 165, 166, 167, 168, 169],\n",
       "       [170, 171, 172, 173, 174, 175, 176, 177, 178, 179],\n",
       "       [180, 181, 182, 183, 184, 185, 186, 187, 188, 189],\n",
       "       [190, 191, 192, 193, 194, 195, 196, 197, 198, 199]])"
      ]
     },
     "execution_count": 50,
     "metadata": {},
     "output_type": "execute_result"
    }
   ],
   "source": [
    "data4=data.reshape(-1,10)\n",
    "data4"
   ]
  },
  {
   "cell_type": "code",
   "execution_count": 53,
   "id": "dca578cd-aead-4497-89c7-3c666e13d4e7",
   "metadata": {},
   "outputs": [
    {
     "data": {
      "text/plain": [
       "(20, 10)"
      ]
     },
     "execution_count": 53,
     "metadata": {},
     "output_type": "execute_result"
    }
   ],
   "source": [
    "data4.shape"
   ]
  },
  {
   "cell_type": "code",
   "execution_count": 55,
   "id": "da93741f-6f7a-49f8-b6c2-02b62cb595ad",
   "metadata": {},
   "outputs": [
    {
     "data": {
      "text/plain": [
       "(4, 5, 10)"
      ]
     },
     "execution_count": 55,
     "metadata": {},
     "output_type": "execute_result"
    }
   ],
   "source": [
    "data.reshape(-1,5,10).shape"
   ]
  },
  {
   "cell_type": "code",
   "execution_count": 62,
   "id": "a7a7e41b-a0d2-49c1-9a9a-552cce092716",
   "metadata": {},
   "outputs": [
    {
     "data": {
      "text/plain": [
       "array([[10, 12, 14, 16],\n",
       "       [18, 20, 22, 24],\n",
       "       [26, 28, 30, 32]])"
      ]
     },
     "execution_count": 62,
     "metadata": {},
     "output_type": "execute_result"
    }
   ],
   "source": [
    "np.array(list(range(10,34,2))).reshape(3,4)"
   ]
  },
  {
   "cell_type": "code",
   "execution_count": 81,
   "id": "313a34a9-601f-4dcf-bf94-964f839e1b24",
   "metadata": {},
   "outputs": [],
   "source": [
    "#불린참조(팬시)\n",
    "\n",
    "arr=np.array([1,2,3,4])\n",
    "idx=np.array([True,False,False,True])"
   ]
  },
  {
   "cell_type": "code",
   "execution_count": 82,
   "id": "679bf6b7-0ed6-49b3-aa7f-62f0f7ebea1b",
   "metadata": {},
   "outputs": [
    {
     "data": {
      "text/plain": [
       "array([1, 4])"
      ]
     },
     "execution_count": 82,
     "metadata": {},
     "output_type": "execute_result"
    }
   ],
   "source": [
    "arr[idx] # 각 요소에서 True에 대응되는 값을 출력"
   ]
  },
  {
   "cell_type": "code",
   "execution_count": 83,
   "id": "d391dad8-2c81-47e9-afb4-c88a6ba33278",
   "metadata": {},
   "outputs": [
    {
     "data": {
      "text/plain": [
       "4"
      ]
     },
     "execution_count": 83,
     "metadata": {},
     "output_type": "execute_result"
    }
   ],
   "source": [
    "np.min(arr) #최소값\n",
    "np.max(arr) #최대값"
   ]
  },
  {
   "cell_type": "code",
   "execution_count": 84,
   "id": "d6647525-2555-49db-877f-5e5b1c0a260b",
   "metadata": {},
   "outputs": [
    {
     "data": {
      "text/plain": [
       "array([1, 2, 3, 4])"
      ]
     },
     "execution_count": 84,
     "metadata": {},
     "output_type": "execute_result"
    }
   ],
   "source": [
    "arr"
   ]
  },
  {
   "cell_type": "code",
   "execution_count": 85,
   "id": "1dda810d-a051-4399-a8b7-ddd5e4d9c236",
   "metadata": {},
   "outputs": [
    {
     "data": {
      "text/plain": [
       "array([ True, False, False, False])"
      ]
     },
     "execution_count": 85,
     "metadata": {},
     "output_type": "execute_result"
    }
   ],
   "source": [
    "arr==1"
   ]
  },
  {
   "cell_type": "code",
   "execution_count": 86,
   "id": "b21fcff5-ed35-4205-81de-035cc7052c87",
   "metadata": {},
   "outputs": [
    {
     "data": {
      "text/plain": [
       "array([ True, False, False, False])"
      ]
     },
     "execution_count": 86,
     "metadata": {},
     "output_type": "execute_result"
    }
   ],
   "source": [
    "arr==np.min(arr)\n",
    "# 1"
   ]
  },
  {
   "cell_type": "code",
   "execution_count": 87,
   "id": "c2af1ac7-ccb0-4f17-a4fb-7b5a635cc78f",
   "metadata": {},
   "outputs": [
    {
     "data": {
      "text/plain": [
       "array([False, False, False,  True])"
      ]
     },
     "execution_count": 87,
     "metadata": {},
     "output_type": "execute_result"
    }
   ],
   "source": [
    "arr==np.max(arr)\n",
    "# 4"
   ]
  },
  {
   "cell_type": "code",
   "execution_count": 90,
   "id": "ac96d856-5475-49d8-8507-97ab60f0aa26",
   "metadata": {},
   "outputs": [
    {
     "data": {
      "text/plain": [
       "array([1, 4])"
      ]
     },
     "execution_count": 90,
     "metadata": {},
     "output_type": "execute_result"
    }
   ],
   "source": [
    "arr[(arr==np.max(arr))|(arr==np.min(arr))]"
   ]
  },
  {
   "cell_type": "code",
   "execution_count": 91,
   "id": "cd6083f4-3958-4f30-b82c-f993c968e24a",
   "metadata": {},
   "outputs": [
    {
     "data": {
      "text/plain": [
       "array([4])"
      ]
     },
     "execution_count": 91,
     "metadata": {},
     "output_type": "execute_result"
    }
   ],
   "source": [
    "arr[arr==np.max(arr)]"
   ]
  },
  {
   "cell_type": "code",
   "execution_count": 96,
   "id": "ea2655c7-b5af-4f18-a382-8cd9701a4731",
   "metadata": {},
   "outputs": [
    {
     "data": {
      "text/plain": [
       "array([1])"
      ]
     },
     "execution_count": 96,
     "metadata": {},
     "output_type": "execute_result"
    }
   ],
   "source": [
    "arr[arr==np.array([ True, False, False, False])]"
   ]
  },
  {
   "cell_type": "code",
   "execution_count": 98,
   "id": "9ebd9469-b140-4815-8074-561aa6ad2dc4",
   "metadata": {},
   "outputs": [],
   "source": [
    "arr=np.arange(11,21)"
   ]
  },
  {
   "cell_type": "code",
   "execution_count": 99,
   "id": "8797a6ea-4679-4765-bef2-f4e0abb72d73",
   "metadata": {},
   "outputs": [
    {
     "data": {
      "text/plain": [
       "array([1, 0, 1, 0, 1, 0, 1, 0, 1, 0], dtype=int32)"
      ]
     },
     "execution_count": 99,
     "metadata": {},
     "output_type": "execute_result"
    }
   ],
   "source": [
    "arr %2 #나머지 연산자"
   ]
  },
  {
   "cell_type": "code",
   "execution_count": 100,
   "id": "e30e098a-4198-4393-8768-b81e7e69e138",
   "metadata": {},
   "outputs": [
    {
     "data": {
      "text/plain": [
       "array([False,  True, False,  True, False,  True, False,  True, False,\n",
       "        True])"
      ]
     },
     "execution_count": 100,
     "metadata": {},
     "output_type": "execute_result"
    }
   ],
   "source": [
    "arr%2==0"
   ]
  },
  {
   "cell_type": "code",
   "execution_count": 101,
   "id": "a08ff4f4-4363-4f2f-ad5c-0851b09b2fe5",
   "metadata": {},
   "outputs": [
    {
     "data": {
      "text/plain": [
       "array([12, 14, 16, 18, 20])"
      ]
     },
     "execution_count": 101,
     "metadata": {},
     "output_type": "execute_result"
    }
   ],
   "source": [
    "arr[arr%2==0]"
   ]
  },
  {
   "cell_type": "code",
   "execution_count": 102,
   "id": "b1bf8265-df35-44c4-9461-a80b894f67e3",
   "metadata": {},
   "outputs": [
    {
     "ename": "IndexError",
     "evalue": "too many indices for array: array is 1-dimensional, but 2 were indexed",
     "output_type": "error",
     "traceback": [
      "\u001b[1;31m---------------------------------------------------------------------------\u001b[0m",
      "\u001b[1;31mIndexError\u001b[0m                                Traceback (most recent call last)",
      "Cell \u001b[1;32mIn[102], line 1\u001b[0m\n\u001b[1;32m----> 1\u001b[0m arr[\u001b[38;5;241m1\u001b[39m,\u001b[38;5;241m3\u001b[39m]\n",
      "\u001b[1;31mIndexError\u001b[0m: too many indices for array: array is 1-dimensional, but 2 were indexed"
     ]
    }
   ],
   "source": [
    "arr[1,3] #error"
   ]
  },
  {
   "cell_type": "code",
   "execution_count": 103,
   "id": "dfc12f3a-cb09-4bd2-970a-d24de3d48f8e",
   "metadata": {},
   "outputs": [
    {
     "data": {
      "text/plain": [
       "array([12, 14])"
      ]
     },
     "execution_count": 103,
     "metadata": {},
     "output_type": "execute_result"
    }
   ],
   "source": [
    "arr[np.array([1,3])]"
   ]
  },
  {
   "cell_type": "code",
   "execution_count": 111,
   "id": "5cbaa03c-b59f-4bbb-b9c7-a9b943c38b80",
   "metadata": {},
   "outputs": [
    {
     "data": {
      "text/plain": [
       "array([12, 14])"
      ]
     },
     "execution_count": 111,
     "metadata": {},
     "output_type": "execute_result"
    }
   ],
   "source": [
    "arr[np.array([1,3])]"
   ]
  },
  {
   "cell_type": "code",
   "execution_count": 113,
   "id": "c7b1c310-dbe3-4730-b6ce-3c569a5f74de",
   "metadata": {},
   "outputs": [
    {
     "data": {
      "text/plain": [
       "array([11, 11, 11, 12, 12, 12, 14, 14, 14])"
      ]
     },
     "execution_count": 113,
     "metadata": {},
     "output_type": "execute_result"
    }
   ],
   "source": [
    "#arr=array([11,12,13,14,15...20])\n",
    "idx=np.array([0,0,0,1,1,1,3,3,3])\n",
    "arr[idx]"
   ]
  },
  {
   "cell_type": "code",
   "execution_count": 116,
   "id": "6b841bc0-e46d-4666-a992-a541d068c842",
   "metadata": {},
   "outputs": [],
   "source": [
    "arr=np.arange(10,40).reshape(5,-1)"
   ]
  },
  {
   "cell_type": "code",
   "execution_count": 117,
   "id": "9bc54642-ae36-4212-ada6-5e946061a259",
   "metadata": {},
   "outputs": [
    {
     "data": {
      "text/plain": [
       "array([[10, 11, 12, 15],\n",
       "       [16, 17, 18, 21],\n",
       "       [22, 23, 24, 27],\n",
       "       [28, 29, 30, 33],\n",
       "       [34, 35, 36, 39]])"
      ]
     },
     "execution_count": 117,
     "metadata": {},
     "output_type": "execute_result"
    }
   ],
   "source": [
    "arr[:] #전체행 추출\n",
    "arr[:,:] #전체행에 대해 전체열을 추출\n",
    "arr[:,[True,True,True,False,False,True]]"
   ]
  },
  {
   "cell_type": "code",
   "execution_count": 118,
   "id": "07ddff17-075c-4e85-afc8-738951a31a2c",
   "metadata": {},
   "outputs": [
    {
     "data": {
      "text/plain": [
       "array([[10, 11, 12, 15],\n",
       "       [16, 17, 18, 21],\n",
       "       [22, 23, 24, 27],\n",
       "       [28, 29, 30, 33],\n",
       "       [34, 35, 36, 39]])"
      ]
     },
     "execution_count": 118,
     "metadata": {},
     "output_type": "execute_result"
    }
   ],
   "source": [
    "idx=np.array([True,True,True,False,False,True])\n",
    "arr[:,idx]"
   ]
  },
  {
   "cell_type": "code",
   "execution_count": 119,
   "id": "63092257-464c-4f14-a171-da8e64900240",
   "metadata": {},
   "outputs": [
    {
     "data": {
      "text/plain": [
       "array([[10, 12, 14],\n",
       "       [16, 18, 20],\n",
       "       [22, 24, 26],\n",
       "       [28, 30, 32],\n",
       "       [34, 36, 38]])"
      ]
     },
     "execution_count": 119,
     "metadata": {},
     "output_type": "execute_result"
    }
   ],
   "source": [
    "arr[:,[True,False,True,False,True,False]]"
   ]
  },
  {
   "cell_type": "code",
   "execution_count": 123,
   "id": "d613fed0-faea-435e-8296-65505080492a",
   "metadata": {},
   "outputs": [
    {
     "data": {
      "text/plain": [
       "array([[10, 12, 14],\n",
       "       [16, 18, 20],\n",
       "       [22, 24, 26],\n",
       "       [28, 30, 32],\n",
       "       [34, 36, 38]])"
      ]
     },
     "execution_count": 123,
     "metadata": {},
     "output_type": "execute_result"
    }
   ],
   "source": [
    "\n",
    "idx=np.array([0,2,4])\n",
    "arr[:,idx]"
   ]
  },
  {
   "cell_type": "code",
   "execution_count": 124,
   "id": "863a59bf-99a5-4ac2-bd14-9c11c1bd561a",
   "metadata": {},
   "outputs": [
    {
     "data": {
      "text/plain": [
       "array([[14, 11, 13, 10],\n",
       "       [20, 17, 19, 16],\n",
       "       [26, 23, 25, 22],\n",
       "       [32, 29, 31, 28],\n",
       "       [38, 35, 37, 34]])"
      ]
     },
     "execution_count": 124,
     "metadata": {},
     "output_type": "execute_result"
    }
   ],
   "source": [
    "arr[:,[4,1,3,0]]"
   ]
  },
  {
   "cell_type": "code",
   "execution_count": 125,
   "id": "dcbb3ca6-105b-4781-bd4a-54068d19f4fd",
   "metadata": {},
   "outputs": [
    {
     "data": {
      "text/plain": [
       "array([[22, 23, 24, 25, 26, 27],\n",
       "       [16, 17, 18, 19, 20, 21],\n",
       "       [28, 29, 30, 31, 32, 33]])"
      ]
     },
     "execution_count": 125,
     "metadata": {},
     "output_type": "execute_result"
    }
   ],
   "source": [
    "arr[[2,1,3],:]"
   ]
  },
  {
   "cell_type": "code",
   "execution_count": 126,
   "id": "fd9dd0b9-f938-4394-9f24-02cc508801d5",
   "metadata": {},
   "outputs": [
    {
     "name": "stderr",
     "output_type": "stream",
     "text": [
      "C:\\Users\\master\\AppData\\Local\\Temp\\ipykernel_24404\\2514585905.py:3: RuntimeWarning: divide by zero encountered in divide\n",
      "  np.array([1])/np.array([0]) # 값이 무한대로 나옴\n",
      "C:\\Users\\master\\AppData\\Local\\Temp\\ipykernel_24404\\2514585905.py:4: RuntimeWarning: invalid value encountered in divide\n",
      "  np.array([0])/np.array([0])\n"
     ]
    },
    {
     "data": {
      "text/plain": [
       "array([nan])"
      ]
     },
     "execution_count": 126,
     "metadata": {},
     "output_type": "execute_result"
    }
   ],
   "source": [
    "# 무한대(infinity):np.inf\n",
    "# 숫자 아님 (not a number) :np.nan\n",
    "np.array([1])/np.array([0]) # 값이 무한대로 나옴\n",
    "np.array([0])/np.array([0])"
   ]
  },
  {
   "cell_type": "code",
   "execution_count": 127,
   "id": "e5cdb0e0-7e2b-49dc-9b32-8a7a2c8ab1e9",
   "metadata": {},
   "outputs": [
    {
     "data": {
      "text/plain": [
       "array([0., 0., 0.])"
      ]
     },
     "execution_count": 127,
     "metadata": {},
     "output_type": "execute_result"
    }
   ],
   "source": [
    "np.zeros(3)"
   ]
  },
  {
   "cell_type": "code",
   "execution_count": 129,
   "id": "0412e836-f752-4a29-aa28-699bf9140de8",
   "metadata": {},
   "outputs": [
    {
     "data": {
      "text/plain": [
       "dtype('float64')"
      ]
     },
     "execution_count": 129,
     "metadata": {},
     "output_type": "execute_result"
    }
   ],
   "source": [
    "np.zeros((3,2)).dtype"
   ]
  },
  {
   "cell_type": "code",
   "execution_count": 133,
   "id": "97fdc18c-7da5-4731-a4c7-cefc5106f3de",
   "metadata": {},
   "outputs": [
    {
     "data": {
      "text/plain": [
       "array([[0, 0],\n",
       "       [0, 0],\n",
       "       [0, 0]])"
      ]
     },
     "execution_count": 133,
     "metadata": {},
     "output_type": "execute_result"
    }
   ],
   "source": [
    "np.zeros((3,2),dtype='i4')"
   ]
  },
  {
   "cell_type": "code",
   "execution_count": 134,
   "id": "d34e8708-5bff-47e1-85cc-83be21c14189",
   "metadata": {},
   "outputs": [
    {
     "data": {
      "text/plain": [
       "array([[1., 1.],\n",
       "       [1., 1.],\n",
       "       [1., 1.]])"
      ]
     },
     "execution_count": 134,
     "metadata": {},
     "output_type": "execute_result"
    }
   ],
   "source": [
    "np.ones((3,2))"
   ]
  },
  {
   "cell_type": "code",
   "execution_count": 135,
   "id": "e798ef61-f7c7-4fea-8b97-4b54317d9d9e",
   "metadata": {},
   "outputs": [
    {
     "data": {
      "text/plain": [
       "array([[2., 2.],\n",
       "       [2., 2.],\n",
       "       [2., 2.]])"
      ]
     },
     "execution_count": 135,
     "metadata": {},
     "output_type": "execute_result"
    }
   ],
   "source": [
    "np.ones((3,2))*2"
   ]
  },
  {
   "cell_type": "code",
   "execution_count": 136,
   "id": "6d608174-5bcd-48f4-bc91-42ad6162d0ac",
   "metadata": {},
   "outputs": [
    {
     "data": {
      "text/plain": [
       "array([[1, 1, 1, 1, 1, 1],\n",
       "       [1, 1, 1, 1, 1, 1],\n",
       "       [1, 1, 1, 1, 1, 1],\n",
       "       [1, 1, 1, 1, 1, 1],\n",
       "       [1, 1, 1, 1, 1, 1]])"
      ]
     },
     "execution_count": 136,
     "metadata": {},
     "output_type": "execute_result"
    }
   ],
   "source": [
    "np.ones_like(arr) # 1로 초기화 하면서 구조를 동일하게"
   ]
  },
  {
   "cell_type": "code",
   "execution_count": 138,
   "id": "1299a75d-eca3-4db4-b54d-b5cc75cb833a",
   "metadata": {},
   "outputs": [
    {
     "data": {
      "text/plain": [
       "array([[ 2,  4,  6],\n",
       "       [ 8, 10, 12],\n",
       "       [14, 16, 18],\n",
       "       [20, 22, 24],\n",
       "       [26, 28, 30]])"
      ]
     },
     "execution_count": 138,
     "metadata": {},
     "output_type": "execute_result"
    }
   ],
   "source": [
    "np.arange(2,31,2).reshape(-1,3)"
   ]
  },
  {
   "cell_type": "code",
   "execution_count": 140,
   "id": "e0186c27-e856-4017-838d-7ef31395fbf7",
   "metadata": {},
   "outputs": [
    {
     "data": {
      "text/plain": [
       "array([ 0. ,  2.5,  5. ,  7.5, 10. ])"
      ]
     },
     "execution_count": 140,
     "metadata": {},
     "output_type": "execute_result"
    }
   ],
   "source": [
    "np.linspace(0,10,5) # 0부터 10까지를 5구간으로 나눠줌"
   ]
  },
  {
   "cell_type": "code",
   "execution_count": 145,
   "id": "44736268-692b-49ff-94b3-f3d11d9afd5f",
   "metadata": {},
   "outputs": [
    {
     "data": {
      "text/plain": [
       "array([[1, 2, 3],\n",
       "       [4, 5, 6]])"
      ]
     },
     "execution_count": 145,
     "metadata": {},
     "output_type": "execute_result"
    }
   ],
   "source": [
    "arr=np.arange(1,7).reshape(2,3)\n",
    "arr"
   ]
  },
  {
   "cell_type": "code",
   "execution_count": 147,
   "id": "de62c3f5-a17c-4f03-8e45-f24eaff059b0",
   "metadata": {},
   "outputs": [
    {
     "data": {
      "text/plain": [
       "array([[1, 4],\n",
       "       [2, 5],\n",
       "       [3, 6]])"
      ]
     },
     "execution_count": 147,
     "metadata": {},
     "output_type": "execute_result"
    }
   ],
   "source": [
    "# transpose: 전치행렬(행과열을 바꾼 행렬)\n",
    "arr.transpose()"
   ]
  },
  {
   "cell_type": "code",
   "execution_count": 148,
   "id": "3123c33b-51f8-43c1-b4b9-181e58ef421a",
   "metadata": {},
   "outputs": [
    {
     "data": {
      "text/plain": [
       "array([[1, 2, 3],\n",
       "       [4, 5, 6]])"
      ]
     },
     "execution_count": 148,
     "metadata": {},
     "output_type": "execute_result"
    }
   ],
   "source": [
    "arr.transpose().transpose()"
   ]
  },
  {
   "cell_type": "code",
   "execution_count": 149,
   "id": "47a9dd9e-2727-477a-ad28-4e6e0c067f99",
   "metadata": {},
   "outputs": [
    {
     "data": {
      "text/plain": [
       "array([[1, 4],\n",
       "       [2, 5],\n",
       "       [3, 6]])"
      ]
     },
     "execution_count": 149,
     "metadata": {},
     "output_type": "execute_result"
    }
   ],
   "source": [
    "arr.T #transpose() 함수와 같은 역할 "
   ]
  },
  {
   "cell_type": "code",
   "execution_count": 150,
   "id": "a7863d81-710c-4fbd-a859-82326f79f452",
   "metadata": {},
   "outputs": [
    {
     "data": {
      "text/plain": [
       "array([[1, 2, 3],\n",
       "       [4, 5, 6]])"
      ]
     },
     "execution_count": 150,
     "metadata": {},
     "output_type": "execute_result"
    }
   ],
   "source": [
    "arr.T.T"
   ]
  },
  {
   "cell_type": "code",
   "execution_count": 153,
   "id": "63425ee6-978a-4a6e-b333-73b5077adc50",
   "metadata": {},
   "outputs": [],
   "source": [
    "#(사과,배,딸기)\n",
    "data=np.array([[1,5,0], \n",
    "          [5,3,2],\n",
    "          [1,2,0]]) #3행3열\n",
    "price=np.array([[1000],\n",
    "                [5000],\n",
    "                [8000]]) #3행 1열"
   ]
  },
  {
   "cell_type": "code",
   "execution_count": 155,
   "id": "de83518a-81b4-4ed0-aad0-d88a78fe0194",
   "metadata": {},
   "outputs": [
    {
     "data": {
      "text/plain": [
       "array([[26000],\n",
       "       [36000],\n",
       "       [11000]])"
      ]
     },
     "execution_count": 155,
     "metadata": {},
     "output_type": "execute_result"
    }
   ],
   "source": [
    "#data배열과 price 배열간 행렬의 곱셈 연산 -> 각 날짜별 매출액 계산가능\n",
    "data.dot(price)  #내적 -> 2차원에서는 행렬의 곱셈과 결과가 같음"
   ]
  },
  {
   "cell_type": "code",
   "execution_count": 156,
   "id": "7de02c76-c377-4564-a043-630d3432746a",
   "metadata": {},
   "outputs": [
    {
     "data": {
      "text/plain": [
       "array([[26000],\n",
       "       [36000],\n",
       "       [11000]])"
      ]
     },
     "execution_count": 156,
     "metadata": {},
     "output_type": "execute_result"
    }
   ],
   "source": [
    "data@price #행렬의 곱셈"
   ]
  },
  {
   "cell_type": "code",
   "execution_count": 157,
   "id": "e7c42cdd-315c-4dcb-a45b-74f4f777f43d",
   "metadata": {},
   "outputs": [
    {
     "data": {
      "text/plain": [
       "array([10, 11, 12, 13])"
      ]
     },
     "execution_count": 157,
     "metadata": {},
     "output_type": "execute_result"
    }
   ],
   "source": [
    "arr=np.arange(10,14)\n",
    "arr"
   ]
  },
  {
   "cell_type": "code",
   "execution_count": 158,
   "id": "29c204c2-a95a-42e2-8905-e79b0c8c34d5",
   "metadata": {},
   "outputs": [],
   "source": [
    "arr2=arr #데이터를 공유한다는 의미 (뷰) arr2와 arr데이터가 같은 데이터를 의미 arr2[1]을 바꾸면 둘다 바뀜"
   ]
  },
  {
   "cell_type": "code",
   "execution_count": 160,
   "id": "1b410c73-4db3-4ce1-8cd5-745d870dc2cf",
   "metadata": {},
   "outputs": [],
   "source": [
    "arr2[1]=99"
   ]
  },
  {
   "cell_type": "code",
   "execution_count": 161,
   "id": "4265f603-5ebd-4057-a264-02166929a267",
   "metadata": {},
   "outputs": [
    {
     "data": {
      "text/plain": [
       "array([10, 99, 12, 13])"
      ]
     },
     "execution_count": 161,
     "metadata": {},
     "output_type": "execute_result"
    }
   ],
   "source": [
    "arr2"
   ]
  },
  {
   "cell_type": "code",
   "execution_count": 162,
   "id": "fafa1e69-80cc-4f13-b1c6-5105a083b547",
   "metadata": {},
   "outputs": [
    {
     "data": {
      "text/plain": [
       "array([10, 99, 12, 13])"
      ]
     },
     "execution_count": 162,
     "metadata": {},
     "output_type": "execute_result"
    }
   ],
   "source": [
    "arr"
   ]
  },
  {
   "cell_type": "code",
   "execution_count": 163,
   "id": "36508f01-71f1-419d-8656-b5e04684423c",
   "metadata": {},
   "outputs": [],
   "source": [
    "arr3=arr.copy() #copy함수는 데이터를 복사해서 넣어줌. 하나가 바뀌어도 공유 x\n",
    "arr3[1]=98"
   ]
  },
  {
   "cell_type": "code",
   "execution_count": 164,
   "id": "6b0a5b31-5d47-4cd6-8aba-e7287bffab3e",
   "metadata": {},
   "outputs": [
    {
     "data": {
      "text/plain": [
       "array([10, 98, 12, 13])"
      ]
     },
     "execution_count": 164,
     "metadata": {},
     "output_type": "execute_result"
    }
   ],
   "source": [
    "arr3"
   ]
  },
  {
   "cell_type": "code",
   "execution_count": 165,
   "id": "fe20bf5f-8e2f-4494-8e38-1c4ede9fd77e",
   "metadata": {},
   "outputs": [
    {
     "data": {
      "text/plain": [
       "array([10, 99, 12, 13])"
      ]
     },
     "execution_count": 165,
     "metadata": {},
     "output_type": "execute_result"
    }
   ],
   "source": [
    "arr2"
   ]
  },
  {
   "cell_type": "code",
   "execution_count": 166,
   "id": "767e468e-8e2b-4ee5-bdfc-52f6173ba282",
   "metadata": {},
   "outputs": [
    {
     "data": {
      "text/plain": [
       "array([10, 99, 12, 13])"
      ]
     },
     "execution_count": 166,
     "metadata": {},
     "output_type": "execute_result"
    }
   ],
   "source": [
    "arr"
   ]
  },
  {
   "cell_type": "code",
   "execution_count": 167,
   "id": "8f4d9d37-90d8-4d74-938e-40de4c2821c7",
   "metadata": {},
   "outputs": [
    {
     "data": {
      "text/plain": [
       "array([ 0,  2,  4,  6,  8, 10, 12, 14, 16, 18, 20, 22, 24, 26, 28])"
      ]
     },
     "execution_count": 167,
     "metadata": {},
     "output_type": "execute_result"
    }
   ],
   "source": [
    "np.arange(0,30,2)"
   ]
  },
  {
   "cell_type": "code",
   "execution_count": 169,
   "id": "5a54bd75-5978-47d1-88cf-23c57386a039",
   "metadata": {},
   "outputs": [
    {
     "data": {
      "text/plain": [
       "array([[10, 20, 30, 40],\n",
       "       [50, 60, 70, 80]])"
      ]
     },
     "execution_count": 169,
     "metadata": {},
     "output_type": "execute_result"
    }
   ],
   "source": [
    "np.arange(10,90,10).reshape(2,4)"
   ]
  },
  {
   "cell_type": "code",
   "execution_count": 172,
   "id": "4c75c668-13c7-44b0-895b-3eadc1390d6d",
   "metadata": {},
   "outputs": [
    {
     "data": {
      "text/plain": [
       "array([[[ 1,  2,  3],\n",
       "        [ 4,  5,  6]],\n",
       "\n",
       "       [[ 7,  8,  9],\n",
       "        [10, 11, 12]],\n",
       "\n",
       "       [[13, 14, 15],\n",
       "        [16, 17, 18]],\n",
       "\n",
       "       [[19, 20, 21],\n",
       "        [22, 23, 24]]])"
      ]
     },
     "execution_count": 172,
     "metadata": {},
     "output_type": "execute_result"
    }
   ],
   "source": [
    "np.arange(1,25).reshape(-1,2,3)"
   ]
  },
  {
   "cell_type": "code",
   "execution_count": 173,
   "id": "7b57c480-711c-47a4-9574-a97eccb600c4",
   "metadata": {},
   "outputs": [],
   "source": [
    "vector=np.array(range(0,30,2))"
   ]
  },
  {
   "cell_type": "code",
   "execution_count": 197,
   "id": "24c2bf00-60cd-4bfd-812b-4fbc8af0357d",
   "metadata": {},
   "outputs": [
    {
     "data": {
      "text/plain": [
       "24"
      ]
     },
     "execution_count": 197,
     "metadata": {},
     "output_type": "execute_result"
    }
   ],
   "source": [
    "vector[vector==24][0]\n",
    "#vector[-3]"
   ]
  },
  {
   "cell_type": "code",
   "execution_count": 177,
   "id": "d097befe-52d1-4982-8d2b-0e35e5c13888",
   "metadata": {},
   "outputs": [
    {
     "data": {
      "text/plain": [
       "array([6])"
      ]
     },
     "execution_count": 177,
     "metadata": {},
     "output_type": "execute_result"
    }
   ],
   "source": [
    "vector[vector==6]"
   ]
  },
  {
   "cell_type": "code",
   "execution_count": 182,
   "id": "408b78c1-35a2-458c-aa98-2771f3a75061",
   "metadata": {},
   "outputs": [],
   "source": [
    "matrix=np.array(list(range(1,17))).reshape(4,4)"
   ]
  },
  {
   "cell_type": "code",
   "execution_count": 183,
   "id": "50587a98-e5cd-4a47-859d-5f709e615037",
   "metadata": {},
   "outputs": [
    {
     "data": {
      "text/plain": [
       "array([[ 1,  2,  3,  4],\n",
       "       [ 5,  6,  7,  8],\n",
       "       [ 9, 10, 11, 12],\n",
       "       [13, 14, 15, 16]])"
      ]
     },
     "execution_count": 183,
     "metadata": {},
     "output_type": "execute_result"
    }
   ],
   "source": [
    "matrix"
   ]
  },
  {
   "cell_type": "code",
   "execution_count": 185,
   "id": "4e95c702-426f-423f-b210-8e38e3d9a3a1",
   "metadata": {},
   "outputs": [
    {
     "data": {
      "text/plain": [
       "8"
      ]
     },
     "execution_count": 185,
     "metadata": {},
     "output_type": "execute_result"
    }
   ],
   "source": [
    "matrix[1,3]"
   ]
  },
  {
   "cell_type": "code",
   "execution_count": 186,
   "id": "0066efbf-7c6d-47ab-8201-4378b87ef0a0",
   "metadata": {},
   "outputs": [
    {
     "data": {
      "text/plain": [
       "array([8])"
      ]
     },
     "execution_count": 186,
     "metadata": {},
     "output_type": "execute_result"
    }
   ],
   "source": [
    "matrix[matrix==8]"
   ]
  },
  {
   "cell_type": "code",
   "execution_count": 190,
   "id": "1487ad7d-f325-44fd-ac4e-6b22c468771f",
   "metadata": {},
   "outputs": [
    {
     "data": {
      "text/plain": [
       "2"
      ]
     },
     "execution_count": 190,
     "metadata": {},
     "output_type": "execute_result"
    }
   ],
   "source": [
    "matrix[0,1]"
   ]
  },
  {
   "cell_type": "code",
   "execution_count": 191,
   "id": "17900f2f-f549-4e9a-adef-6675a629e4fb",
   "metadata": {},
   "outputs": [
    {
     "data": {
      "text/plain": [
       "9"
      ]
     },
     "execution_count": 191,
     "metadata": {},
     "output_type": "execute_result"
    }
   ],
   "source": [
    "matrix[2,0]"
   ]
  },
  {
   "cell_type": "code",
   "execution_count": 193,
   "id": "1e0b01cd-4dad-4430-8300-feb83418c70b",
   "metadata": {},
   "outputs": [
    {
     "data": {
      "text/plain": [
       "15"
      ]
     },
     "execution_count": 193,
     "metadata": {},
     "output_type": "execute_result"
    }
   ],
   "source": [
    "matrix[3,2]"
   ]
  },
  {
   "cell_type": "code",
   "execution_count": 199,
   "id": "b8144f55-c9f6-490e-bcbb-43ea7e2bcffe",
   "metadata": {},
   "outputs": [
    {
     "data": {
      "text/plain": [
       "array([-1, -2, -3, -4, -5])"
      ]
     },
     "execution_count": 199,
     "metadata": {},
     "output_type": "execute_result"
    }
   ],
   "source": [
    "np.arange(-1,-6,-1)"
   ]
  },
  {
   "cell_type": "code",
   "execution_count": 200,
   "id": "552f97ae-e5ac-4f2c-8048-40e36f4dcdef",
   "metadata": {},
   "outputs": [],
   "source": [
    "x=np.arange(1,21)"
   ]
  },
  {
   "cell_type": "code",
   "execution_count": 201,
   "id": "848616b9-0676-4bb8-9e9b-768527726264",
   "metadata": {},
   "outputs": [
    {
     "data": {
      "text/plain": [
       "array([ 3,  6,  9, 12, 15, 18])"
      ]
     },
     "execution_count": 201,
     "metadata": {},
     "output_type": "execute_result"
    }
   ],
   "source": [
    "x[x%3==0]"
   ]
  },
  {
   "cell_type": "code",
   "execution_count": 202,
   "id": "83f31f22-ff23-4df7-97f3-0e17689af734",
   "metadata": {},
   "outputs": [
    {
     "data": {
      "text/plain": [
       "array([ 1,  5,  9, 13, 17])"
      ]
     },
     "execution_count": 202,
     "metadata": {},
     "output_type": "execute_result"
    }
   ],
   "source": [
    "x[x%4==1]"
   ]
  },
  {
   "cell_type": "code",
   "execution_count": 210,
   "id": "918dbf56-2cfa-4829-9782-f120c643b786",
   "metadata": {},
   "outputs": [
    {
     "data": {
      "text/plain": [
       "array([9])"
      ]
     },
     "execution_count": 210,
     "metadata": {},
     "output_type": "execute_result"
    }
   ],
   "source": [
    "a=x[x%3==0]\n",
    "a[a%4==1]"
   ]
  },
  {
   "cell_type": "code",
   "execution_count": 215,
   "id": "b82a695c-57df-44f3-8bbe-23a9dd0b0cec",
   "metadata": {},
   "outputs": [
    {
     "data": {
      "text/plain": [
       "array([9])"
      ]
     },
     "execution_count": 215,
     "metadata": {},
     "output_type": "execute_result"
    }
   ],
   "source": [
    "x[(x % 3 == 0) & (x % 4 == 1)]"
   ]
  },
  {
   "cell_type": "code",
   "execution_count": null,
   "id": "2935ce6e-02a6-4433-b34c-ea1f32e8f844",
   "metadata": {},
   "outputs": [],
   "source": []
  }
 ],
 "metadata": {
  "kernelspec": {
   "display_name": "Python 3 (ipykernel)",
   "language": "python",
   "name": "python3"
  },
  "language_info": {
   "codemirror_mode": {
    "name": "ipython",
    "version": 3
   },
   "file_extension": ".py",
   "mimetype": "text/x-python",
   "name": "python",
   "nbconvert_exporter": "python",
   "pygments_lexer": "ipython3",
   "version": "3.11.7"
  }
 },
 "nbformat": 4,
 "nbformat_minor": 5
}
