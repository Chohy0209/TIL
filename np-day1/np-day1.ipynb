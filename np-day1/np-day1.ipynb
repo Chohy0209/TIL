{
 "cells": [
  {
   "cell_type": "code",
   "execution_count": null,
   "metadata": {
    "colab": {
     "base_uri": "https://localhost:8080/"
    },
    "executionInfo": {
     "elapsed": 4,
     "status": "ok",
     "timestamp": 1714696050406,
     "user": {
      "displayName": "hy j",
      "userId": "15870501685188288436"
     },
     "user_tz": -540
    },
    "id": "3-o7eBM32PLT",
    "outputId": "9fdccdfd-9506-4b55-a26b-d932769269cb"
   },
   "outputs": [
    {
     "data": {
      "text/plain": [
       "[1, '가', True, [1, 2], {'a': 1}]"
      ]
     },
     "execution_count": 1,
     "metadata": {},
     "output_type": "execute_result"
    }
   ],
   "source": [
    "#파이썬 리스트\n",
    "li=[1,'가',True,[1,2],{'a':1}]\n",
    "li"
   ]
  },
  {
   "cell_type": "code",
   "execution_count": null,
   "metadata": {
    "colab": {
     "base_uri": "https://localhost:8080/",
     "height": 53
    },
    "executionInfo": {
     "elapsed": 3,
     "status": "ok",
     "timestamp": 1714696056409,
     "user": {
      "displayName": "hy j",
      "userId": "15870501685188288436"
     },
     "user_tz": -540
    },
    "id": "QSrHgX3A2JxR",
    "outputId": "8f7e0116-f0d9-4cba-caf3-3538265de53a"
   },
   "outputs": [
    {
     "data": {
      "application/vnd.google.colaboratory.intrinsic+json": {
       "type": "string"
      },
      "text/plain": [
       "'\\n넘파이(배열)과 파이썬(리스트) 차이점\\n배열:모든 자료형이 동일,데이터의 개수를 변경할 수 없다.\\n파이썬에서 배열을 기본적으로 제공하지 않으므로, 별도로 넘파이 패키지를 설치하여 배열을 사용 데이터 처리를해줌 \\npandas 데이터 분석을 도와줌\\nmatplotlib 데이터 시각화\\npytorch,tensorflow 머신러닝 프레임워크는 설치해야함\\n'"
      ]
     },
     "execution_count": 2,
     "metadata": {},
     "output_type": "execute_result"
    }
   ],
   "source": [
    "\"\"\"\n",
    "넘파이(배열)과 파이썬(리스트) 차이점\n",
    "배열:모든 자료형이 동일,데이터의 개수를 변경할 수 없다.\n",
    "파이썬에서 배열을 기본적으로 제공하지 않으므로, 별도로 넘파이 패키지를 설치하여 배열을 사용 데이터 처리를해줌\n",
    "pandas 데이터 분석을 도와줌\n",
    "matplotlib 데이터 시각화\n",
    "pytorch,tensorflow 머신러닝 프레임워크는 아나콘다는 설치해야함 코랩은 깔려있음\n",
    "\"\"\""
   ]
  },
  {
   "cell_type": "code",
   "execution_count": null,
   "metadata": {
    "id": "YQauZo9T2WTN"
   },
   "outputs": [],
   "source": [
    "pip list"
   ]
  },
  {
   "cell_type": "code",
   "execution_count": null,
   "metadata": {
    "colab": {
     "base_uri": "https://localhost:8080/",
     "height": 35
    },
    "executionInfo": {
     "elapsed": 388,
     "status": "ok",
     "timestamp": 1714696236356,
     "user": {
      "displayName": "hy j",
      "userId": "15870501685188288436"
     },
     "user_tz": -540
    },
    "id": "-jFIfmZO2aq3",
    "outputId": "5117e75b-4120-4d64-f5ac-0111f6c122cd"
   },
   "outputs": [
    {
     "data": {
      "application/vnd.google.colaboratory.intrinsic+json": {
       "type": "string"
      },
      "text/plain": [
       "'\\nnumpy ->수치연산작업을 빠르게 수행해주는 도구\\n다차원 배열 구조를 제공 nd array(ndimension array n차원 배열)\\n벡터와 행렬을 사용하는 선형대수 연산에 사용되는 자료구조\\n'"
      ]
     },
     "execution_count": 5,
     "metadata": {},
     "output_type": "execute_result"
    }
   ],
   "source": [
    "\"\"\"\n",
    "numpy ->수치연산작업을 빠르게 수행해주는 도구\n",
    "다차원 배열 구조를 제공 nd array(ndimension array n차원 배열)\n",
    "벡터와 행렬을 사용하는 선형대수 연산에 사용되는 자료구조\n",
    "\n",
    "벡터: 숫자를 원소로 갖는 리스트(배열),행벡터,열벡터\n",
    "행벡터 : x=[x1 x2...xn]\n",
    "공간에서의 한 점, 원점으로부터 떨어진 상대적 위치 -> 벡터\n",
    "\n",
    "행렬: 벡터를 원소로 갖는 2차원 배열\n",
    "공간에서의 여러 점(데이터 모임)\n",
    "행렬 곱셈을 통해 벡터를 다른 차원의 공간으로 이동할 수 있음.\n",
    "\n",
    "\"\"\"\n"
   ]
  },
  {
   "cell_type": "code",
   "execution_count": null,
   "metadata": {
    "colab": {
     "base_uri": "https://localhost:8080/"
    },
    "executionInfo": {
     "elapsed": 4,
     "status": "ok",
     "timestamp": 1714697087284,
     "user": {
      "displayName": "hy j",
      "userId": "15870501685188288436"
     },
     "user_tz": -540
    },
    "id": "30rsJz3I2mWy",
    "outputId": "e7a394dc-914c-4912-83e6-5f6056d253a4"
   },
   "outputs": [
    {
     "data": {
      "text/plain": [
       "list"
      ]
     },
     "execution_count": 6,
     "metadata": {},
     "output_type": "execute_result"
    }
   ],
   "source": [
    "x=[10,20,30] #x에 저장된 자료타입 list\n",
    "type(x)"
   ]
  },
  {
   "cell_type": "code",
   "execution_count": null,
   "metadata": {
    "id": "NJZPpzFw6SKT"
   },
   "outputs": [],
   "source": [
    "import numpy as np"
   ]
  },
  {
   "cell_type": "code",
   "execution_count": null,
   "metadata": {
    "colab": {
     "base_uri": "https://localhost:8080/"
    },
    "executionInfo": {
     "elapsed": 2,
     "status": "ok",
     "timestamp": 1714697368839,
     "user": {
      "displayName": "hy j",
      "userId": "15870501685188288436"
     },
     "user_tz": -540
    },
    "id": "T7vtq7Nh6vaU",
    "outputId": "324e62c8-055b-4abc-a60e-bf786667e2b4"
   },
   "outputs": [
    {
     "data": {
      "text/plain": [
       "numpy.ndarray"
      ]
     },
     "execution_count": 9,
     "metadata": {},
     "output_type": "execute_result"
    }
   ],
   "source": [
    "array_x=np.array(x) #3차원 벡터의 1차원배열\n",
    "array_x # x의 타입을 배열로 바꿈\n",
    "type(array_x) #(ndarray = n차원 배열)"
   ]
  },
  {
   "cell_type": "code",
   "execution_count": null,
   "metadata": {
    "id": "s_HH7wJw7JY1"
   },
   "outputs": [],
   "source": [
    "사과:1000 딸기 : 2000  배:2000 파인애플 : 5000, 바나나:3000\n",
    "5/1 사과:5 딸기 :2 배:0 파인애플:0 바나나:3\n",
    "5/2 사과:1 딸기 :3 배:2 파인애플:3 바나나 :2\n",
    "\n",
    "5차원벡터 : 5차원 공간(사과축 딸기축 등등)에 표현된 한 점\n",
    "\n",
    "[[5 2 0 0 3] -> 5차원 공간에서의 (5,2,0,0,3 =5콤마 2 콤마 0콤마0콤마 3) 위치를 가진 점. 요소들은 각 차원의 값을 나타냄\n",
    "[1 3 2 3 2] -> 각각이 행벡터  1 3 2 3 2\n",
    "            -> [5 1 . . .]이게 열벡터\n",
    "[...      ]  ->  [2 3 . . .] 이게 열벡터\n",
    "[...      ]]\n",
    "\n",
    "덧셈,뺄셈\n",
    "[5 2 0 0 3]+[1 3 2 3 2] =[6 5 2 3 5] -> 5/1 부터 5 /2 까지 팔린 과일들 각각의 개수"
   ]
  },
  {
   "cell_type": "code",
   "execution_count": 20,
   "metadata": {
    "colab": {
     "base_uri": "https://localhost:8080/"
    },
    "executionInfo": {
     "elapsed": 916,
     "status": "ok",
     "timestamp": 1714700375037,
     "user": {
      "displayName": "hy j",
      "userId": "15870501685188288436"
     },
     "user_tz": -540
    },
    "id": "MdP77fpk_xDS",
    "outputId": "f8f39be4-3db6-44fe-835c-ce95a6b09685"
   },
   "outputs": [
    {
     "name": "stdout",
     "output_type": "stream",
     "text": [
      "0.535529375076294\n"
     ]
    }
   ],
   "source": [
    "import time\n",
    "s=time.time()\n",
    "data=list(range(1,1000000))\n",
    "ans=[]\n",
    "#data\n",
    "for d in data:\n",
    "    ans.append(d*2)\n",
    "\n",
    "ans\n",
    "e=time.time()\n",
    "print(e-s)"
   ]
  },
  {
   "cell_type": "code",
   "execution_count": 21,
   "metadata": {
    "colab": {
     "base_uri": "https://localhost:8080/"
    },
    "executionInfo": {
     "elapsed": 1,
     "status": "ok",
     "timestamp": 1714700377061,
     "user": {
      "displayName": "hy j",
      "userId": "15870501685188288436"
     },
     "user_tz": -540
    },
    "id": "6C9tHnakFRWP",
    "outputId": "95ee4393-4ccf-4451-ce23-d0af4d95127b"
   },
   "outputs": [
    {
     "data": {
      "text/plain": [
       "array([     1,      2,      3, ..., 999997, 999998, 999999])"
      ]
     },
     "execution_count": 21,
     "metadata": {},
     "output_type": "execute_result"
    }
   ],
   "source": [
    "arr_data=np.array(data)\n",
    "arr_data"
   ]
  },
  {
   "cell_type": "code",
   "execution_count": 22,
   "metadata": {
    "colab": {
     "base_uri": "https://localhost:8080/"
    },
    "executionInfo": {
     "elapsed": 2,
     "status": "ok",
     "timestamp": 1714700378569,
     "user": {
      "displayName": "hy j",
      "userId": "15870501685188288436"
     },
     "user_tz": -540
    },
    "id": "M0KXVNdOGOUY",
    "outputId": "c78a26e4-8b7c-40d8-e918-eee0c2850f4f"
   },
   "outputs": [
    {
     "name": "stdout",
     "output_type": "stream",
     "text": [
      "0.009044408798217773\n"
     ]
    }
   ],
   "source": [
    "import time #array에서는 곱 연산을 하면 각각의 요소에대해 한번에 연산 시행 -> 벡터화 연산\n",
    "s=time.time()\n",
    "ans2=2*arr_data\n",
    "e=time.time()\n",
    "print(e-s)"
   ]
  },
  {
   "cell_type": "code",
   "execution_count": 23,
   "metadata": {
    "colab": {
     "base_uri": "https://localhost:8080/"
    },
    "executionInfo": {
     "elapsed": 1,
     "status": "ok",
     "timestamp": 1714700437331,
     "user": {
      "displayName": "hy j",
      "userId": "15870501685188288436"
     },
     "user_tz": -540
    },
    "id": "tUOaN0FIGe2W",
    "outputId": "cd4e278a-e7e3-4fb3-ce81-19ec0ad26083"
   },
   "outputs": [
    {
     "data": {
      "text/plain": [
       "[1, 2, 3, 1, 2, 3]"
      ]
     },
     "execution_count": 23,
     "metadata": {},
     "output_type": "execute_result"
    }
   ],
   "source": [
    "[1,2,3]*2 #파이썬은 리스트 요소를 두번 출력"
   ]
  },
  {
   "cell_type": "code",
   "execution_count": 26,
   "metadata": {
    "colab": {
     "base_uri": "https://localhost:8080/"
    },
    "executionInfo": {
     "elapsed": 1,
     "status": "ok",
     "timestamp": 1714700718022,
     "user": {
      "displayName": "hy j",
      "userId": "15870501685188288436"
     },
     "user_tz": -540
    },
    "id": "VTJpx-0SHELd",
    "outputId": "55f93503-5c8b-4681-ccf3-6faacd193ebb"
   },
   "outputs": [
    {
     "data": {
      "text/plain": [
       "[1, 2, 3, 4]"
      ]
     },
     "execution_count": 26,
     "metadata": {},
     "output_type": "execute_result"
    }
   ],
   "source": [
    "x=[1,2] #python 에서의 연산\n",
    "y=[3,4]\n",
    "x+y"
   ]
  },
  {
   "cell_type": "code",
   "execution_count": 27,
   "metadata": {
    "colab": {
     "base_uri": "https://localhost:8080/"
    },
    "executionInfo": {
     "elapsed": 2,
     "status": "ok",
     "timestamp": 1714700748069,
     "user": {
      "displayName": "hy j",
      "userId": "15870501685188288436"
     },
     "user_tz": -540
    },
    "id": "pyoBWCBoIFxf",
    "outputId": "2274bc32-f867-48f8-8e96-4b2f5e26731e"
   },
   "outputs": [
    {
     "data": {
      "text/plain": [
       "array([4, 6])"
      ]
     },
     "execution_count": 27,
     "metadata": {},
     "output_type": "execute_result"
    }
   ],
   "source": [
    "x=np.array(x)\n",
    "y=np.array(y)\n",
    "x+y #요소간 덧셈 같은 성분끼리 덧셈"
   ]
  },
  {
   "cell_type": "code",
   "execution_count": 43,
   "metadata": {
    "colab": {
     "base_uri": "https://localhost:8080/"
    },
    "executionInfo": {
     "elapsed": 383,
     "status": "ok",
     "timestamp": 1714701914760,
     "user": {
      "displayName": "hy j",
      "userId": "15870501685188288436"
     },
     "user_tz": -540
    },
    "id": "upvA0KtEIQB3",
    "outputId": "0964e13c-0cba-4727-cc27-d6a32ca0a315"
   },
   "outputs": [
    {
     "name": "stdout",
     "output_type": "stream",
     "text": [
      "[2, 4, 6, 8, 10, 12, 14, 16, 18, 20, 22, 24, 26, 28, 30, 32, 34, 36, 38, 40, 42, 44, 46, 48, 50, 52, 54, 56, 58, 60, 62, 64, 66, 68, 70, 72, 74, 76, 78, 80, 82, 84, 86, 88, 90, 92, 94, 96, 98, 100]\n"
     ]
    }
   ],
   "source": [
    "#1~100까지 수 중에서 짝수를 even, 홀수를 odd에 저장한 다음, 같은 위치의 요소끼리 비교하여 큰 값을 출력하시오\n",
    "even=[]\n",
    "odd=[]\n",
    "\n",
    "for i in range(1,101):\n",
    "\n",
    "    if i%2==0:\n",
    "        even.append(i)\n",
    "    else:\n",
    "        odd.append(i)\n",
    "res=[]\n",
    "for x in range(0,50):\n",
    "    if even[x]>odd[x]:\n",
    "        res.append(even[x])\n",
    "    else:\n",
    "        res.append(odd[x])\n",
    "print(res)"
   ]
  },
  {
   "cell_type": "code",
   "execution_count": 42,
   "metadata": {
    "executionInfo": {
     "elapsed": 484,
     "status": "ok",
     "timestamp": 1714701908862,
     "user": {
      "displayName": "hy j",
      "userId": "15870501685188288436"
     },
     "user_tz": -540
    },
    "id": "hWNQvQ_vJzFE"
   },
   "outputs": [],
   "source": [
    "even=[]\n",
    "odd=[]\n",
    "\n",
    "for i in range(1,101):\n",
    "\n",
    "    if i%2==0:\n",
    "        even.append(i)\n",
    "    else:\n",
    "        odd.append(i)\n",
    "a_even=np.array(even)\n",
    "a_odd=np.array(odd)\n"
   ]
  },
  {
   "cell_type": "code",
   "execution_count": 35,
   "metadata": {
    "colab": {
     "base_uri": "https://localhost:8080/"
    },
    "executionInfo": {
     "elapsed": 2,
     "status": "ok",
     "timestamp": 1714701411213,
     "user": {
      "displayName": "hy j",
      "userId": "15870501685188288436"
     },
     "user_tz": -540
    },
    "id": "6O85_6gyKrWz",
    "outputId": "25c38f2a-1ad0-4f68-b276-fd090fb64f28"
   },
   "outputs": [
    {
     "data": {
      "text/plain": [
       "array([  3,   7,  11,  15,  19,  23,  27,  31,  35,  39,  43,  47,  51,\n",
       "        55,  59,  63,  67,  71,  75,  79,  83,  87,  91,  95,  99, 103,\n",
       "       107, 111, 115, 119, 123, 127, 131, 135, 139, 143, 147, 151, 155,\n",
       "       159, 163, 167, 171, 175, 179, 183, 187, 191, 195, 199])"
      ]
     },
     "execution_count": 35,
     "metadata": {},
     "output_type": "execute_result"
    }
   ],
   "source": [
    "a_even+a_odd"
   ]
  },
  {
   "cell_type": "code",
   "execution_count": 44,
   "metadata": {
    "colab": {
     "base_uri": "https://localhost:8080/"
    },
    "executionInfo": {
     "elapsed": 2,
     "status": "ok",
     "timestamp": 1714701919697,
     "user": {
      "displayName": "hy j",
      "userId": "15870501685188288436"
     },
     "user_tz": -540
    },
    "id": "G7hx4XBwKyA0",
    "outputId": "67f56100-dfb6-484c-f805-44ee717febdb"
   },
   "outputs": [
    {
     "data": {
      "text/plain": [
       "array([  2,   4,   6,   8,  10,  12,  14,  16,  18,  20,  22,  24,  26,\n",
       "        28,  30,  32,  34,  36,  38,  40,  42,  44,  46,  48,  50,  52,\n",
       "        54,  56,  58,  60,  62,  64,  66,  68,  70,  72,  74,  76,  78,\n",
       "        80,  82,  84,  86,  88,  90,  92,  94,  96,  98, 100])"
      ]
     },
     "execution_count": 44,
     "metadata": {},
     "output_type": "execute_result"
    }
   ],
   "source": [
    "a_even>50\n",
    "a_even==10\n",
    "(a_even>30) & (a_even%5==0)\n",
    "a_even #2,4,.....100\n",
    "a_odd #1,3,5,,,99\n",
    "a_even[a_even>a_odd]\n"
   ]
  },
  {
   "cell_type": "code",
   "execution_count": 45,
   "metadata": {
    "colab": {
     "base_uri": "https://localhost:8080/",
     "height": 35
    },
    "executionInfo": {
     "elapsed": 3,
     "status": "ok",
     "timestamp": 1714702790739,
     "user": {
      "displayName": "hy j",
      "userId": "15870501685188288436"
     },
     "user_tz": -540
    },
    "id": "R2RMs80FK0r3",
    "outputId": "d4039ed3-7a8c-40b4-e948-6c8775033498"
   },
   "outputs": [
    {
     "data": {
      "application/vnd.google.colaboratory.intrinsic+json": {
       "type": "string"
      },
      "text/plain": [
       "'1.25.2'"
      ]
     },
     "execution_count": 45,
     "metadata": {},
     "output_type": "execute_result"
    }
   ],
   "source": [
    "np.__version__"
   ]
  },
  {
   "cell_type": "code",
   "execution_count": 46,
   "metadata": {
    "colab": {
     "base_uri": "https://localhost:8080/"
    },
    "executionInfo": {
     "elapsed": 409,
     "status": "ok",
     "timestamp": 1714702908335,
     "user": {
      "displayName": "hy j",
      "userId": "15870501685188288436"
     },
     "user_tz": -540
    },
    "id": "WWm5zbWqQCkT",
    "outputId": "d447b32c-f5ab-43e2-cef2-7d39cc6970a3"
   },
   "outputs": [
    {
     "data": {
      "text/plain": [
       "array([10, 20, 30])"
      ]
     },
     "execution_count": 46,
     "metadata": {},
     "output_type": "execute_result"
    }
   ],
   "source": [
    "np.array((10,20,30))\n"
   ]
  },
  {
   "cell_type": "code",
   "execution_count": 50,
   "metadata": {
    "colab": {
     "base_uri": "https://localhost:8080/"
    },
    "executionInfo": {
     "elapsed": 2,
     "status": "ok",
     "timestamp": 1714703064444,
     "user": {
      "displayName": "hy j",
      "userId": "15870501685188288436"
     },
     "user_tz": -540
    },
    "id": "LjuuuVSTQfau",
    "outputId": "171fec85-b642-4c4e-8426-60a23c89da65"
   },
   "outputs": [
    {
     "data": {
      "text/plain": [
       "array([10, 20, 30])"
      ]
     },
     "execution_count": 50,
     "metadata": {},
     "output_type": "execute_result"
    }
   ],
   "source": [
    "#0차원 배열=스칼라= 배열의 각 요소값\n",
    "arr=np.array(10)\n",
    "#1차원 배열 = 0차원 배열을 요소로 갖는 배열\n",
    "arr=np.array([10,20,30])\n",
    "arr"
   ]
  },
  {
   "cell_type": "code",
   "execution_count": 53,
   "metadata": {
    "colab": {
     "base_uri": "https://localhost:8080/"
    },
    "executionInfo": {
     "elapsed": 384,
     "status": "ok",
     "timestamp": 1714703279220,
     "user": {
      "displayName": "hy j",
      "userId": "15870501685188288436"
     },
     "user_tz": -540
    },
    "id": "sEvEXZowQqy-",
    "outputId": "32c702fb-2312-4c00-b26e-52a113ec9b87"
   },
   "outputs": [
    {
     "data": {
      "text/plain": [
       "3"
      ]
     },
     "execution_count": 53,
     "metadata": {},
     "output_type": "execute_result"
    }
   ],
   "source": [
    "#2차원 배열=1차원 배열을 요소로 갖는 배열= 행렬\n",
    "arr=np.array([[10,20,30],[40,50,60]])\n",
    "arr #2행 3열\n",
    "len(arr) #행의 개수\n",
    "len(arr[0]) #열의 개수"
   ]
  },
  {
   "cell_type": "code",
   "execution_count": 56,
   "metadata": {
    "colab": {
     "base_uri": "https://localhost:8080/"
    },
    "executionInfo": {
     "elapsed": 428,
     "status": "ok",
     "timestamp": 1714703633051,
     "user": {
      "displayName": "hy j",
      "userId": "15870501685188288436"
     },
     "user_tz": -540
    },
    "id": "v6_PXSD3Rc8-",
    "outputId": "89136525-ed1a-4194-ff0f-acce9bb48309"
   },
   "outputs": [
    {
     "data": {
      "text/plain": [
       "2"
      ]
     },
     "execution_count": 56,
     "metadata": {},
     "output_type": "execute_result"
    }
   ],
   "source": [
    "#3차원 배열=2차원배열을 요소로 갖는 배열\n",
    "arr = np.array([[[1, 2, 3], [4, 5, 6]], [[1, 2, 3], [4, 5, 6]]])\n",
    "arr\n",
    "arr.ndim #몇차원 배열인지 알수 있음\n"
   ]
  },
  {
   "cell_type": "code",
   "execution_count": 58,
   "metadata": {
    "colab": {
     "base_uri": "https://localhost:8080/"
    },
    "executionInfo": {
     "elapsed": 383,
     "status": "ok",
     "timestamp": 1714704268671,
     "user": {
      "displayName": "hy j",
      "userId": "15870501685188288436"
     },
     "user_tz": -540
    },
    "id": "Fw9zrFQhSLfK",
    "outputId": "bc14e5d4-1de8-45bf-cdf1-048f6aa5c869"
   },
   "outputs": [
    {
     "data": {
      "text/plain": [
       "array([[[ 1,  2],\n",
       "        [ 3,  4],\n",
       "        [ 5,  6]],\n",
       "\n",
       "       [[ 7,  8],\n",
       "        [ 9, 10],\n",
       "        [11, 12]],\n",
       "\n",
       "       [[13, 14],\n",
       "        [15, 16],\n",
       "        [17, 18]],\n",
       "\n",
       "       [[19, 20],\n",
       "        [21, 22],\n",
       "        [23, 24]]])"
      ]
     },
     "execution_count": 58,
     "metadata": {},
     "output_type": "execute_result"
    }
   ],
   "source": [
    "arr=np.array([[[1,2],[3,4],[5,6]],[[7,8],[9,10],[11,12]],[[13,14],[15,16],[17,18]],[[19,20],[21,22],[23,24]]]) #4*3*2인 3차원 배열"
   ]
  },
  {
   "cell_type": "code",
   "execution_count": 62,
   "metadata": {
    "executionInfo": {
     "elapsed": 478,
     "status": "ok",
     "timestamp": 1714704868741,
     "user": {
      "displayName": "hy j",
      "userId": "15870501685188288436"
     },
     "user_tz": -540
    },
    "id": "-YOYGPD3Vp9b"
   },
   "outputs": [],
   "source": [
    "#2*3*4 -> 제일 바깥쪽 2개의 요소 안에 3개의 요소 안에 4개의 요소가 있는 3차원 배열\n",
    "li=[[1,2,3,4],[5,6,7,8],[9,10,11,12]],[[13,14,15,16],[17,18,19,20],[21,22,23,24]]"
   ]
  },
  {
   "cell_type": "code",
   "execution_count": 63,
   "metadata": {
    "colab": {
     "base_uri": "https://localhost:8080/"
    },
    "executionInfo": {
     "elapsed": 2,
     "status": "ok",
     "timestamp": 1714704869948,
     "user": {
      "displayName": "hy j",
      "userId": "15870501685188288436"
     },
     "user_tz": -540
    },
    "id": "t5zzhOTeXsRZ",
    "outputId": "b0385b37-e1e7-4373-deb4-da0fa7deface"
   },
   "outputs": [
    {
     "data": {
      "text/plain": [
       "array([[[ 2,  3,  4,  5],\n",
       "        [ 6,  7,  8,  9],\n",
       "        [10, 11, 12, 13]],\n",
       "\n",
       "       [[14, 15, 16, 17],\n",
       "        [18, 19, 20, 21],\n",
       "        [22, 23, 24, 25]]])"
      ]
     },
     "execution_count": 63,
     "metadata": {},
     "output_type": "execute_result"
    }
   ],
   "source": [
    "# li+1 리스트의 모든 요소에 1을 더하려면 for 문을 돌려야함 li+1은 에러가 남\n",
    "np.array(li)+1 # array에서는 +1을 하면 각 요소에 1씩 더해짐"
   ]
  },
  {
   "cell_type": "code",
   "execution_count": 66,
   "metadata": {
    "executionInfo": {
     "elapsed": 356,
     "status": "ok",
     "timestamp": 1714705071309,
     "user": {
      "displayName": "hy j",
      "userId": "15870501685188288436"
     },
     "user_tz": -540
    },
    "id": "RsA1dEVoXzlf"
   },
   "outputs": [],
   "source": [
    "arr=np.array(list(range(1,25)))"
   ]
  },
  {
   "cell_type": "code",
   "execution_count": 67,
   "metadata": {
    "colab": {
     "base_uri": "https://localhost:8080/"
    },
    "executionInfo": {
     "elapsed": 367,
     "status": "ok",
     "timestamp": 1714705086578,
     "user": {
      "displayName": "hy j",
      "userId": "15870501685188288436"
     },
     "user_tz": -540
    },
    "id": "YdrHXRrTYRpe",
    "outputId": "744bbdb5-c21a-4c4a-ac8b-bc3711d7cacc"
   },
   "outputs": [
    {
     "data": {
      "text/plain": [
       "array([[[ 1,  2,  3,  4],\n",
       "        [ 5,  6,  7,  8],\n",
       "        [ 9, 10, 11, 12]],\n",
       "\n",
       "       [[13, 14, 15, 16],\n",
       "        [17, 18, 19, 20],\n",
       "        [21, 22, 23, 24]]])"
      ]
     },
     "execution_count": 67,
     "metadata": {},
     "output_type": "execute_result"
    }
   ],
   "source": [
    "arr_re=arr.reshape(2,3,4) #1차원 array의 배열을 2*3*4의 3차원 배열로 바꿔줌\n",
    "arr_re"
   ]
  },
  {
   "cell_type": "code",
   "execution_count": 68,
   "metadata": {
    "colab": {
     "base_uri": "https://localhost:8080/"
    },
    "executionInfo": {
     "elapsed": 2,
     "status": "ok",
     "timestamp": 1714705284060,
     "user": {
      "displayName": "hy j",
      "userId": "15870501685188288436"
     },
     "user_tz": -540
    },
    "id": "Q8xXSOUlYy_Z",
    "outputId": "765185df-120e-44e5-ddf9-08811fab518b"
   },
   "outputs": [
    {
     "data": {
      "text/plain": [
       "3"
      ]
     },
     "execution_count": 68,
     "metadata": {},
     "output_type": "execute_result"
    }
   ],
   "source": [
    "arr_re.ndim #3차원 배열"
   ]
  },
  {
   "cell_type": "code",
   "execution_count": 69,
   "metadata": {
    "colab": {
     "base_uri": "https://localhost:8080/"
    },
    "executionInfo": {
     "elapsed": 347,
     "status": "ok",
     "timestamp": 1714705298181,
     "user": {
      "displayName": "hy j",
      "userId": "15870501685188288436"
     },
     "user_tz": -540
    },
    "id": "WzeWfCTdZjd_",
    "outputId": "fe5c17f4-6ba8-4919-b995-48421c115e61"
   },
   "outputs": [
    {
     "data": {
      "text/plain": [
       "(2, 3, 4)"
      ]
     },
     "execution_count": 69,
     "metadata": {},
     "output_type": "execute_result"
    }
   ],
   "source": [
    "arr_re.shape"
   ]
  },
  {
   "cell_type": "code",
   "execution_count": 70,
   "metadata": {
    "colab": {
     "base_uri": "https://localhost:8080/"
    },
    "executionInfo": {
     "elapsed": 543,
     "status": "ok",
     "timestamp": 1714710203096,
     "user": {
      "displayName": "hy j",
      "userId": "15870501685188288436"
     },
     "user_tz": -540
    },
    "id": "UhEnd1A2Zm4m",
    "outputId": "a8558402-04bf-43b5-f927-3f6b02f5af1b"
   },
   "outputs": [
    {
     "data": {
      "text/plain": [
       "array([1, 2, 3, 4])"
      ]
     },
     "execution_count": 70,
     "metadata": {},
     "output_type": "execute_result"
    }
   ],
   "source": [
    "arr=np.array([1,2,3,4])\n",
    "arr"
   ]
  },
  {
   "cell_type": "code",
   "execution_count": 71,
   "metadata": {
    "colab": {
     "base_uri": "https://localhost:8080/"
    },
    "executionInfo": {
     "elapsed": 438,
     "status": "ok",
     "timestamp": 1714710239228,
     "user": {
      "displayName": "hy j",
      "userId": "15870501685188288436"
     },
     "user_tz": -540
    },
    "id": "bniIY_pYsUaI",
    "outputId": "2dc2aec7-64a1-40ba-b079-eec7f4a6f33b"
   },
   "outputs": [
    {
     "data": {
      "text/plain": [
       "1"
      ]
     },
     "execution_count": 71,
     "metadata": {},
     "output_type": "execute_result"
    }
   ],
   "source": [
    "arr[0]"
   ]
  },
  {
   "cell_type": "code",
   "execution_count": 72,
   "metadata": {
    "colab": {
     "base_uri": "https://localhost:8080/"
    },
    "executionInfo": {
     "elapsed": 3,
     "status": "ok",
     "timestamp": 1714710318724,
     "user": {
      "displayName": "hy j",
      "userId": "15870501685188288436"
     },
     "user_tz": -540
    },
    "id": "5wsThc8YsdRc",
    "outputId": "fc8dd901-192f-4b4a-88b7-a283ca06ad0f"
   },
   "outputs": [
    {
     "data": {
      "text/plain": [
       "4"
      ]
     },
     "execution_count": 72,
     "metadata": {},
     "output_type": "execute_result"
    }
   ],
   "source": [
    "arr[-1]"
   ]
  },
  {
   "cell_type": "code",
   "execution_count": 75,
   "metadata": {
    "executionInfo": {
     "elapsed": 381,
     "status": "ok",
     "timestamp": 1714710600114,
     "user": {
      "displayName": "hy j",
      "userId": "15870501685188288436"
     },
     "user_tz": -540
    },
    "id": "07T4pkDbswtR"
   },
   "outputs": [],
   "source": [
    "arr=np.array(list(range(11,21)))\n",
    "arr=arr.reshape(2,5)"
   ]
  },
  {
   "cell_type": "code",
   "execution_count": 76,
   "metadata": {
    "colab": {
     "base_uri": "https://localhost:8080/"
    },
    "executionInfo": {
     "elapsed": 2,
     "status": "ok",
     "timestamp": 1714710601216,
     "user": {
      "displayName": "hy j",
      "userId": "15870501685188288436"
     },
     "user_tz": -540
    },
    "id": "sd5iuV2dtNR9",
    "outputId": "6223b931-4926-428e-c070-4f08387ce603"
   },
   "outputs": [
    {
     "data": {
      "text/plain": [
       "array([[11, 12, 13, 14, 15],\n",
       "       [16, 17, 18, 19, 20]])"
      ]
     },
     "execution_count": 76,
     "metadata": {},
     "output_type": "execute_result"
    }
   ],
   "source": [
    "arr"
   ]
  },
  {
   "cell_type": "code",
   "execution_count": 77,
   "metadata": {
    "colab": {
     "base_uri": "https://localhost:8080/"
    },
    "executionInfo": {
     "elapsed": 2,
     "status": "ok",
     "timestamp": 1714710953331,
     "user": {
      "displayName": "hy j",
      "userId": "15870501685188288436"
     },
     "user_tz": -540
    },
    "id": "7FIqNyY2tN2j",
    "outputId": "98fb5e56-f83d-49db-c92e-be4b8bde564f"
   },
   "outputs": [
    {
     "data": {
      "text/plain": [
       "19"
      ]
     },
     "execution_count": 77,
     "metadata": {},
     "output_type": "execute_result"
    }
   ],
   "source": [
    "arr[1][3]"
   ]
  },
  {
   "cell_type": "code",
   "execution_count": 78,
   "metadata": {
    "colab": {
     "base_uri": "https://localhost:8080/"
    },
    "executionInfo": {
     "elapsed": 406,
     "status": "ok",
     "timestamp": 1714710958610,
     "user": {
      "displayName": "hy j",
      "userId": "15870501685188288436"
     },
     "user_tz": -540
    },
    "id": "_cKeWKiBvLlv",
    "outputId": "b76e9384-b582-403c-c63d-3f7d772b850a"
   },
   "outputs": [
    {
     "data": {
      "text/plain": [
       "19"
      ]
     },
     "execution_count": 78,
     "metadata": {},
     "output_type": "execute_result"
    }
   ],
   "source": [
    "arr[1,3]"
   ]
  },
  {
   "cell_type": "code",
   "execution_count": 79,
   "metadata": {
    "colab": {
     "base_uri": "https://localhost:8080/"
    },
    "executionInfo": {
     "elapsed": 365,
     "status": "ok",
     "timestamp": 1714710981388,
     "user": {
      "displayName": "hy j",
      "userId": "15870501685188288436"
     },
     "user_tz": -540
    },
    "id": "M0d-AMZSvM6T",
    "outputId": "ad351763-10ec-4333-b67d-b54f15340e7d"
   },
   "outputs": [
    {
     "data": {
      "text/plain": [
       "array([16, 17, 18, 19, 20])"
      ]
     },
     "execution_count": 79,
     "metadata": {},
     "output_type": "execute_result"
    }
   ],
   "source": [
    "arr[-1]"
   ]
  },
  {
   "cell_type": "code",
   "execution_count": 80,
   "metadata": {
    "colab": {
     "base_uri": "https://localhost:8080/"
    },
    "executionInfo": {
     "elapsed": 460,
     "status": "ok",
     "timestamp": 1714711039477,
     "user": {
      "displayName": "hy j",
      "userId": "15870501685188288436"
     },
     "user_tz": -540
    },
    "id": "z9q9lVvAvSed",
    "outputId": "ea4ee4d8-c100-4638-fd2e-f37beafd2702"
   },
   "outputs": [
    {
     "data": {
      "text/plain": [
       "19"
      ]
     },
     "execution_count": 80,
     "metadata": {},
     "output_type": "execute_result"
    }
   ],
   "source": [
    "arr[-1][-2]"
   ]
  },
  {
   "cell_type": "code",
   "execution_count": 82,
   "metadata": {
    "executionInfo": {
     "elapsed": 422,
     "status": "ok",
     "timestamp": 1714711204384,
     "user": {
      "displayName": "hy j",
      "userId": "15870501685188288436"
     },
     "user_tz": -540
    },
    "id": "3FDQ2-9rvgoI"
   },
   "outputs": [],
   "source": [
    "arr=np.array(list(range(1,13))).reshape(2,2,3)"
   ]
  },
  {
   "cell_type": "code",
   "execution_count": 83,
   "metadata": {
    "colab": {
     "base_uri": "https://localhost:8080/"
    },
    "executionInfo": {
     "elapsed": 1,
     "status": "ok",
     "timestamp": 1714711208000,
     "user": {
      "displayName": "hy j",
      "userId": "15870501685188288436"
     },
     "user_tz": -540
    },
    "id": "HOo6CIfpwFu1",
    "outputId": "e1b9f210-ce2c-4998-af85-132594fde632"
   },
   "outputs": [
    {
     "data": {
      "text/plain": [
       "array([[[ 1,  2,  3],\n",
       "        [ 4,  5,  6]],\n",
       "\n",
       "       [[ 7,  8,  9],\n",
       "        [10, 11, 12]]])"
      ]
     },
     "execution_count": 83,
     "metadata": {},
     "output_type": "execute_result"
    }
   ],
   "source": [
    "arr"
   ]
  },
  {
   "cell_type": "code",
   "execution_count": 84,
   "metadata": {
    "colab": {
     "base_uri": "https://localhost:8080/"
    },
    "executionInfo": {
     "elapsed": 417,
     "status": "ok",
     "timestamp": 1714711327645,
     "user": {
      "displayName": "hy j",
      "userId": "15870501685188288436"
     },
     "user_tz": -540
    },
    "id": "r_b-r-dewJt5",
    "outputId": "605fbfc7-dc61-45b0-a832-bec8997c7519"
   },
   "outputs": [
    {
     "data": {
      "text/plain": [
       "6"
      ]
     },
     "execution_count": 84,
     "metadata": {},
     "output_type": "execute_result"
    }
   ],
   "source": [
    "arr[0][1][-1] #array indexing"
   ]
  },
  {
   "cell_type": "code",
   "execution_count": 85,
   "metadata": {
    "colab": {
     "base_uri": "https://localhost:8080/"
    },
    "executionInfo": {
     "elapsed": 505,
     "status": "ok",
     "timestamp": 1714711359602,
     "user": {
      "displayName": "hy j",
      "userId": "15870501685188288436"
     },
     "user_tz": -540
    },
    "id": "fDuW5m2iwm_K",
    "outputId": "f5570497-07be-4b6a-b6af-e0159db0c7aa"
   },
   "outputs": [
    {
     "data": {
      "text/plain": [
       "6"
      ]
     },
     "execution_count": 85,
     "metadata": {},
     "output_type": "execute_result"
    }
   ],
   "source": [
    "arr[0,1,-1]"
   ]
  },
  {
   "cell_type": "code",
   "execution_count": 86,
   "metadata": {
    "executionInfo": {
     "elapsed": 365,
     "status": "ok",
     "timestamp": 1714711702611,
     "user": {
      "displayName": "hy j",
      "userId": "15870501685188288436"
     },
     "user_tz": -540
    },
    "id": "PpZ9WhjJwux4"
   },
   "outputs": [],
   "source": [
    "#arr[시작위치 : 끝위치 :간격(스텝)] #array slicing 스텝을 생략하면 기본값으로 1씩 증가\n",
    "arr=np.array(list(range(1,8)))"
   ]
  },
  {
   "cell_type": "code",
   "execution_count": 92,
   "metadata": {
    "colab": {
     "base_uri": "https://localhost:8080/"
    },
    "executionInfo": {
     "elapsed": 421,
     "status": "ok",
     "timestamp": 1714711865354,
     "user": {
      "displayName": "hy j",
      "userId": "15870501685188288436"
     },
     "user_tz": -540
    },
    "id": "gOs_bBVOyCjs",
    "outputId": "521f95be-f0c3-4d67-afe4-fc2a0da613a6"
   },
   "outputs": [
    {
     "data": {
      "text/plain": [
       "array([1, 2, 3])"
      ]
     },
     "execution_count": 92,
     "metadata": {},
     "output_type": "execute_result"
    }
   ],
   "source": [
    "arr[1:5] # 끝 위치는 포함 x (이건 파이썬 리스트도 같음)\n",
    "arr[3:]\n",
    "arr[:3]"
   ]
  },
  {
   "cell_type": "code",
   "execution_count": 94,
   "metadata": {
    "colab": {
     "base_uri": "https://localhost:8080/"
    },
    "executionInfo": {
     "elapsed": 362,
     "status": "ok",
     "timestamp": 1714711991203,
     "user": {
      "displayName": "hy j",
      "userId": "15870501685188288436"
     },
     "user_tz": -540
    },
    "id": "YB3WEjGcyN6t",
    "outputId": "11913c33-7427-496c-d8f0-bb0555adeb46"
   },
   "outputs": [
    {
     "data": {
      "text/plain": [
       "array([2, 3, 4])"
      ]
     },
     "execution_count": 94,
     "metadata": {},
     "output_type": "execute_result"
    }
   ],
   "source": [
    "arr[1:-3] #음수로 줘도 그 끝위치는 포함 x"
   ]
  },
  {
   "cell_type": "code",
   "execution_count": 98,
   "metadata": {
    "colab": {
     "base_uri": "https://localhost:8080/"
    },
    "executionInfo": {
     "elapsed": 370,
     "status": "ok",
     "timestamp": 1714712152944,
     "user": {
      "displayName": "hy j",
      "userId": "15870501685188288436"
     },
     "user_tz": -540
    },
    "id": "rgjiiGZIy_H8",
    "outputId": "ba4f1390-3e42-43d0-fa0a-66c9b20a9254"
   },
   "outputs": [
    {
     "data": {
      "text/plain": [
       "array([2, 4])"
      ]
     },
     "execution_count": 98,
     "metadata": {},
     "output_type": "execute_result"
    }
   ],
   "source": [
    "arr[1:5:2]"
   ]
  },
  {
   "cell_type": "code",
   "execution_count": 99,
   "metadata": {
    "colab": {
     "base_uri": "https://localhost:8080/"
    },
    "executionInfo": {
     "elapsed": 367,
     "status": "ok",
     "timestamp": 1714712161353,
     "user": {
      "displayName": "hy j",
      "userId": "15870501685188288436"
     },
     "user_tz": -540
    },
    "id": "lku-FDONzpcv",
    "outputId": "a20df4d8-f4df-488c-8a4a-4b902db86121"
   },
   "outputs": [
    {
     "data": {
      "text/plain": [
       "array([1, 2, 3, 4, 5, 6, 7])"
      ]
     },
     "execution_count": 99,
     "metadata": {},
     "output_type": "execute_result"
    }
   ],
   "source": [
    "arr"
   ]
  },
  {
   "cell_type": "code",
   "execution_count": 100,
   "metadata": {
    "colab": {
     "base_uri": "https://localhost:8080/"
    },
    "executionInfo": {
     "elapsed": 351,
     "status": "ok",
     "timestamp": 1714712230718,
     "user": {
      "displayName": "hy j",
      "userId": "15870501685188288436"
     },
     "user_tz": -540
    },
    "id": "eqywgjGHzydu",
    "outputId": "27618d5f-85c3-4ec9-d45f-f86c108f8654"
   },
   "outputs": [
    {
     "data": {
      "text/plain": [
       "array([1, 2, 3, 4, 5, 6, 7])"
      ]
     },
     "execution_count": 100,
     "metadata": {},
     "output_type": "execute_result"
    }
   ],
   "source": [
    "arr[::]"
   ]
  },
  {
   "cell_type": "code",
   "execution_count": 103,
   "metadata": {
    "colab": {
     "base_uri": "https://localhost:8080/"
    },
    "executionInfo": {
     "elapsed": 414,
     "status": "ok",
     "timestamp": 1714713735092,
     "user": {
      "displayName": "hy j",
      "userId": "15870501685188288436"
     },
     "user_tz": -540
    },
    "id": "wiQsF6FX0Dfg",
    "outputId": "bb4b209a-253c-46c7-a6ba-9502953014b4"
   },
   "outputs": [
    {
     "data": {
      "text/plain": [
       "array([[11, 12, 13, 14, 15],\n",
       "       [16, 17, 18, 19, 20],\n",
       "       [21, 22, 23, 24, 25],\n",
       "       [26, 27, 28, 29, 30],\n",
       "       [31, 32, 33, 34, 35],\n",
       "       [36, 37, 38, 39, 40]])"
      ]
     },
     "execution_count": 103,
     "metadata": {},
     "output_type": "execute_result"
    }
   ],
   "source": [
    "arr=np.array(list(range(11,41))).reshape(6,5)\n",
    "arr"
   ]
  },
  {
   "cell_type": "code",
   "execution_count": 102,
   "metadata": {
    "colab": {
     "base_uri": "https://localhost:8080/"
    },
    "executionInfo": {
     "elapsed": 366,
     "status": "ok",
     "timestamp": 1714713643976,
     "user": {
      "displayName": "hy j",
      "userId": "15870501685188288436"
     },
     "user_tz": -540
    },
    "id": "eVq6AmJN5MeK",
    "outputId": "a686bdc0-f167-45e5-8156-c6cf3e6ba9c9"
   },
   "outputs": [
    {
     "data": {
      "text/plain": [
       "array([7, 8, 9])"
      ]
     },
     "execution_count": 102,
     "metadata": {},
     "output_type": "execute_result"
    }
   ],
   "source": [
    "arr[1,1:4]"
   ]
  },
  {
   "cell_type": "code",
   "execution_count": 105,
   "metadata": {
    "colab": {
     "base_uri": "https://localhost:8080/"
    },
    "executionInfo": {
     "elapsed": 499,
     "status": "ok",
     "timestamp": 1714713815313,
     "user": {
      "displayName": "hy j",
      "userId": "15870501685188288436"
     },
     "user_tz": -540
    },
    "id": "15cHmOMG5chj",
    "outputId": "dea58a83-31af-43c5-8b43-5c9c0a6d06d6"
   },
   "outputs": [
    {
     "data": {
      "text/plain": [
       "34"
      ]
     },
     "execution_count": 105,
     "metadata": {},
     "output_type": "execute_result"
    }
   ],
   "source": [
    "arr[4,3]"
   ]
  },
  {
   "cell_type": "code",
   "execution_count": 107,
   "metadata": {
    "colab": {
     "base_uri": "https://localhost:8080/"
    },
    "executionInfo": {
     "elapsed": 384,
     "status": "ok",
     "timestamp": 1714713914564,
     "user": {
      "displayName": "hy j",
      "userId": "15870501685188288436"
     },
     "user_tz": -540
    },
    "id": "ChMSGfcB6ERJ",
    "outputId": "d2bacef5-d523-48af-8697-2a7fc1ba9959"
   },
   "outputs": [
    {
     "data": {
      "text/plain": [
       "array([21, 22, 23])"
      ]
     },
     "execution_count": 107,
     "metadata": {},
     "output_type": "execute_result"
    }
   ],
   "source": [
    "arr[2,0:3]"
   ]
  },
  {
   "cell_type": "code",
   "execution_count": 117,
   "metadata": {
    "colab": {
     "base_uri": "https://localhost:8080/"
    },
    "executionInfo": {
     "elapsed": 391,
     "status": "ok",
     "timestamp": 1714714217738,
     "user": {
      "displayName": "hy j",
      "userId": "15870501685188288436"
     },
     "user_tz": -540
    },
    "id": "3LVQvlaQ6dD1",
    "outputId": "7aef2245-f844-4305-f214-47287c4e97d8"
   },
   "outputs": [
    {
     "data": {
      "text/plain": [
       "array([[17, 18, 19],\n",
       "       [22, 23, 24]])"
      ]
     },
     "execution_count": 117,
     "metadata": {},
     "output_type": "execute_result"
    }
   ],
   "source": [
    "arr[1:3,1:4] #앞에가 행 뒤에가 열 1~2번까지 행에있는 1~3번까지 열을 추출"
   ]
  },
  {
   "cell_type": "code",
   "execution_count": 1,
   "metadata": {
    "colab": {
     "base_uri": "https://localhost:8080/"
    },
    "executionInfo": {
     "elapsed": 8731,
     "status": "ok",
     "timestamp": 1714714579047,
     "user": {
      "displayName": "hy j",
      "userId": "15870501685188288436"
     },
     "user_tz": -540
    },
    "id": "r9Mvxm4i7Jcu",
    "outputId": "8b778515-8e05-46d4-d03a-9b70c94420f7"
   },
   "outputs": [
    {
     "name": "stdout",
     "output_type": "stream",
     "text": [
      "Collecting finance-datareader\n",
      "  Downloading finance_datareader-0.9.90-py3-none-any.whl.metadata (466 bytes)\n",
      "Requirement already satisfied: pandas>=0.19.2 in c:\\users\\master\\anaconda3\\lib\\site-packages (from finance-datareader) (2.1.4)\n",
      "Requirement already satisfied: requests>=2.3.0 in c:\\users\\master\\anaconda3\\lib\\site-packages (from finance-datareader) (2.31.0)\n",
      "Requirement already satisfied: requests-file in c:\\users\\master\\anaconda3\\lib\\site-packages (from finance-datareader) (1.5.1)\n",
      "Requirement already satisfied: lxml in c:\\users\\master\\anaconda3\\lib\\site-packages (from finance-datareader) (4.9.3)\n",
      "Requirement already satisfied: tqdm in c:\\users\\master\\anaconda3\\lib\\site-packages (from finance-datareader) (4.65.0)\n",
      "Requirement already satisfied: numpy<2,>=1.23.2 in c:\\users\\master\\anaconda3\\lib\\site-packages (from pandas>=0.19.2->finance-datareader) (1.26.4)\n",
      "Requirement already satisfied: python-dateutil>=2.8.2 in c:\\users\\master\\anaconda3\\lib\\site-packages (from pandas>=0.19.2->finance-datareader) (2.8.2)\n",
      "Requirement already satisfied: pytz>=2020.1 in c:\\users\\master\\anaconda3\\lib\\site-packages (from pandas>=0.19.2->finance-datareader) (2023.3.post1)\n",
      "Requirement already satisfied: tzdata>=2022.1 in c:\\users\\master\\anaconda3\\lib\\site-packages (from pandas>=0.19.2->finance-datareader) (2023.3)\n",
      "Requirement already satisfied: charset-normalizer<4,>=2 in c:\\users\\master\\anaconda3\\lib\\site-packages (from requests>=2.3.0->finance-datareader) (2.0.4)\n",
      "Requirement already satisfied: idna<4,>=2.5 in c:\\users\\master\\anaconda3\\lib\\site-packages (from requests>=2.3.0->finance-datareader) (3.4)\n",
      "Requirement already satisfied: urllib3<3,>=1.21.1 in c:\\users\\master\\anaconda3\\lib\\site-packages (from requests>=2.3.0->finance-datareader) (2.0.7)\n",
      "Requirement already satisfied: certifi>=2017.4.17 in c:\\users\\master\\anaconda3\\lib\\site-packages (from requests>=2.3.0->finance-datareader) (2024.2.2)\n",
      "Requirement already satisfied: six in c:\\users\\master\\anaconda3\\lib\\site-packages (from requests-file->finance-datareader) (1.16.0)\n",
      "Requirement already satisfied: colorama in c:\\users\\master\\anaconda3\\lib\\site-packages (from tqdm->finance-datareader) (0.4.6)\n",
      "Downloading finance_datareader-0.9.90-py3-none-any.whl (46 kB)\n",
      "   ---------------------------------------- 0.0/46.6 kB ? eta -:--:--\n",
      "   -------------------------- ------------- 30.7/46.6 kB 660.6 kB/s eta 0:00:01\n",
      "   ---------------------------------------- 46.6/46.6 kB 577.4 kB/s eta 0:00:00\n",
      "Installing collected packages: finance-datareader\n",
      "Successfully installed finance-datareader-0.9.90\n",
      "Note: you may need to restart the kernel to use updated packages.\n"
     ]
    }
   ],
   "source": [
    "pip install -U finance-datareader"
   ]
  },
  {
   "cell_type": "code",
   "execution_count": 3,
   "metadata": {},
   "outputs": [],
   "source": [
    "import numpy as np"
   ]
  },
  {
   "cell_type": "code",
   "execution_count": 10,
   "metadata": {
    "id": "3kAEsDgX8oGB"
   },
   "outputs": [],
   "source": [
    "kakao_arr=np.loadtxt(\"kakao_pre.csv\",skiprows=1, dtype=np.float32, delimiter=',')"
   ]
  },
  {
   "cell_type": "code",
   "execution_count": 11,
   "metadata": {},
   "outputs": [
    {
     "data": {
      "text/plain": [
       "array([[  58000.   ,   58900.   ,   57800.   ,   58300.   ,   58237.387,\n",
       "        1047114.   ],\n",
       "       [  57200.   ,   57500.   ,   56000.   ,   57200.   ,   57138.57 ,\n",
       "        2288474.   ],\n",
       "       [  57500.   ,   58200.   ,   57100.   ,   57700.   ,   57638.03 ,\n",
       "        1821528.   ],\n",
       "       [  57800.   ,   58700.   ,   57300.   ,   57500.   ,   57438.246,\n",
       "        1412568.   ],\n",
       "       [  57100.   ,   57300.   ,   56300.   ,   56500.   ,   56439.32 ,\n",
       "        1364811.   ]], dtype=float32)"
      ]
     },
     "execution_count": 11,
     "metadata": {},
     "output_type": "execute_result"
    }
   ],
   "source": [
    "kakao_arr[:5]"
   ]
  },
  {
   "cell_type": "code",
   "execution_count": 13,
   "metadata": {},
   "outputs": [
    {
     "data": {
      "text/plain": [
       "array([57800., 56000., 57100., 57300., 56300., 56000., 55600., 56100.,\n",
       "       56000., 55600., 56800., 57200., 57600., 57600., 56700., 56300.,\n",
       "       56400., 56400., 56100., 56000., 56000., 57000., 57300., 56300.,\n",
       "       56300., 56400., 56200., 55300., 53700., 53400., 52000., 51500.,\n",
       "       50300., 50100., 49550., 48600., 49350., 48500., 48700., 48400.,\n",
       "       49300., 49900., 48800., 48700., 49750., 49450., 50000., 50200.,\n",
       "       51700., 51600., 52200., 51400., 50100., 50100., 49750., 49400.,\n",
       "       48800., 46650., 47500., 49600., 50000., 51800., 52300., 52300.,\n",
       "       51000., 51200., 51800., 52100., 51900., 50600., 50600., 49850.,\n",
       "       49150., 48200., 48250., 48400., 48450., 48900., 47600., 47800.,\n",
       "       48000., 48750., 48100., 47950., 48400., 48850., 48500., 48600.,\n",
       "       48000., 47900., 48150., 47300., 47450., 48100., 48450., 47800.,\n",
       "       47050., 45600., 44800., 44650., 43400., 43150., 41600., 40700.,\n",
       "       40600., 41200., 41900., 42600., 43050., 42400., 42800., 41800.,\n",
       "       40450., 38850., 37850., 37850., 38850., 37400., 37300., 37600.,\n",
       "       37450., 37450., 37900., 38900., 42300., 42850., 43850., 43450.,\n",
       "       45000., 44900., 45500., 46800., 46850., 47200., 47000., 48300.,\n",
       "       48250., 49600., 50000., 49300., 49800., 50100., 50000., 49650.,\n",
       "       49750., 50200., 50200., 50000., 50700., 51900., 51800., 50700.,\n",
       "       52300., 54000., 53700., 53200., 53000., 52000., 52600., 52100.,\n",
       "       52100., 53300., 54000., 56000., 55600., 55500., 55800., 58300.,\n",
       "       58600., 59400., 59100., 59800., 59400., 56600., 55900., 57100.,\n",
       "       55800., 56600., 56300., 54700., 55600., 55200., 53600., 52200.,\n",
       "       51500., 53700., 54600., 53800., 53600., 53700., 54000., 53200.,\n",
       "       56700., 58300., 58100., 57800., 58000., 57700., 56600., 57000.,\n",
       "       56300., 55200., 53000., 52900., 51600., 51400., 52000., 53000.,\n",
       "       52700., 54800., 54100., 54600., 53900., 52700., 51700., 52300.,\n",
       "       52800., 53300., 53100., 53900., 53900., 54400., 53500., 53600.,\n",
       "       51000., 51000., 49100., 48200., 48300., 48850., 47700., 47650.,\n",
       "       46850., 46600., 46700., 46900., 47700., 48450., 47050., 47850.,\n",
       "       47100., 47150., 47600., 48300., 48050., 49000.], dtype=float32)"
      ]
     },
     "execution_count": 13,
     "metadata": {},
     "output_type": "execute_result"
    }
   ],
   "source": [
    "kakao_arr[:,2]"
   ]
  },
  {
   "cell_type": "code",
   "execution_count": 19,
   "metadata": {},
   "outputs": [],
   "source": [
    "import numpy as np\n",
    "arr=np.array(list(range(10,90,10))).reshape(2,4)"
   ]
  },
  {
   "cell_type": "code",
   "execution_count": 20,
   "metadata": {},
   "outputs": [
    {
     "data": {
      "text/plain": [
       "array([[10, 20, 30, 40],\n",
       "       [50, 60, 70, 80]])"
      ]
     },
     "execution_count": 20,
     "metadata": {},
     "output_type": "execute_result"
    }
   ],
   "source": [
    "arr"
   ]
  },
  {
   "cell_type": "code",
   "execution_count": 21,
   "metadata": {},
   "outputs": [],
   "source": [
    "m=np.array(list(range(0,15))).reshape(3,5)"
   ]
  },
  {
   "cell_type": "code",
   "execution_count": 23,
   "metadata": {},
   "outputs": [
    {
     "data": {
      "text/plain": [
       "array([[ 0,  1,  2,  3,  4],\n",
       "       [ 5,  6,  7,  8,  9],\n",
       "       [10, 11, 12, 13, 14]])"
      ]
     },
     "execution_count": 23,
     "metadata": {},
     "output_type": "execute_result"
    }
   ],
   "source": [
    "m"
   ]
  },
  {
   "cell_type": "code",
   "execution_count": 24,
   "metadata": {},
   "outputs": [
    {
     "data": {
      "text/plain": [
       "7"
      ]
     },
     "execution_count": 24,
     "metadata": {},
     "output_type": "execute_result"
    }
   ],
   "source": [
    "m[1,2]"
   ]
  },
  {
   "cell_type": "code",
   "execution_count": 25,
   "metadata": {},
   "outputs": [
    {
     "data": {
      "text/plain": [
       "14"
      ]
     },
     "execution_count": 25,
     "metadata": {},
     "output_type": "execute_result"
    }
   ],
   "source": [
    "m[-1,-1]"
   ]
  },
  {
   "cell_type": "code",
   "execution_count": 26,
   "metadata": {},
   "outputs": [
    {
     "data": {
      "text/plain": [
       "array([6, 7])"
      ]
     },
     "execution_count": 26,
     "metadata": {},
     "output_type": "execute_result"
    }
   ],
   "source": [
    "m[1,1:3]"
   ]
  },
  {
   "cell_type": "code",
   "execution_count": 27,
   "metadata": {},
   "outputs": [
    {
     "data": {
      "text/plain": [
       "array([ 7, 12])"
      ]
     },
     "execution_count": 27,
     "metadata": {},
     "output_type": "execute_result"
    }
   ],
   "source": [
    "m[1:,2]"
   ]
  },
  {
   "cell_type": "code",
   "execution_count": 28,
   "metadata": {},
   "outputs": [
    {
     "data": {
      "text/plain": [
       "array([[3, 4],\n",
       "       [8, 9]])"
      ]
     },
     "execution_count": 28,
     "metadata": {},
     "output_type": "execute_result"
    }
   ],
   "source": [
    "m[0:2,3:]"
   ]
  },
  {
   "cell_type": "code",
   "execution_count": 30,
   "metadata": {},
   "outputs": [],
   "source": [
    "arr=np.array(list(range(10,50)))"
   ]
  },
  {
   "cell_type": "code",
   "execution_count": 31,
   "metadata": {},
   "outputs": [
    {
     "data": {
      "text/plain": [
       "array([10, 11, 12, 13, 14, 15, 16, 17, 18, 19, 20, 21, 22, 23, 24, 25, 26,\n",
       "       27, 28, 29, 30, 31, 32, 33, 34, 35, 36, 37, 38, 39, 40, 41, 42, 43,\n",
       "       44, 45, 46, 47, 48, 49])"
      ]
     },
     "execution_count": 31,
     "metadata": {},
     "output_type": "execute_result"
    }
   ],
   "source": [
    "arr"
   ]
  },
  {
   "cell_type": "code",
   "execution_count": 38,
   "metadata": {},
   "outputs": [
    {
     "data": {
      "text/plain": [
       "array([49, 48, 47, 46, 45, 44, 43, 42, 41, 40, 39, 38, 37, 36, 35, 34, 33,\n",
       "       32, 31, 30, 29, 28, 27, 26, 25, 24, 23, 22, 21, 20, 19, 18, 17, 16,\n",
       "       15, 14, 13, 12, 11, 10])"
      ]
     },
     "execution_count": 38,
     "metadata": {},
     "output_type": "execute_result"
    }
   ],
   "source": [
    "arr[-1::-1]"
   ]
  },
  {
   "cell_type": "code",
   "execution_count": 42,
   "metadata": {},
   "outputs": [],
   "source": [
    "s=np.loadtxt(\"samsung.csv\",skiprows=1, dtype=np.float32, delimiter=',')"
   ]
  },
  {
   "cell_type": "code",
   "execution_count": 43,
   "metadata": {},
   "outputs": [
    {
     "data": {
      "text/plain": [
       "array([[   79000.,    79000.,    77500.,    77700.,    77700., 12165808.],\n",
       "       [   77600.,    78600.,    77300.,    78000.,    78000., 18900640.]],\n",
       "      dtype=float32)"
      ]
     },
     "execution_count": 43,
     "metadata": {},
     "output_type": "execute_result"
    }
   ],
   "source": [
    "s[-1:-3:-1]"
   ]
  },
  {
   "cell_type": "code",
   "execution_count": 44,
   "metadata": {},
   "outputs": [
    {
     "ename": "AttributeError",
     "evalue": "'numpy.ndarray' object has no attribute 'avg'",
     "output_type": "error",
     "traceback": [
      "\u001b[1;31m---------------------------------------------------------------------------\u001b[0m",
      "\u001b[1;31mAttributeError\u001b[0m                            Traceback (most recent call last)",
      "Cell \u001b[1;32mIn[44], line 1\u001b[0m\n\u001b[1;32m----> 1\u001b[0m s\u001b[38;5;241m.\u001b[39mavg\n",
      "\u001b[1;31mAttributeError\u001b[0m: 'numpy.ndarray' object has no attribute 'avg'"
     ]
    }
   ],
   "source": [
    "s.avg"
   ]
  },
  {
   "cell_type": "code",
   "execution_count": 53,
   "metadata": {},
   "outputs": [
    {
     "data": {
      "text/plain": [
       "array([65100., 65600., 66300., 65800., 65500., 64700., 63700., 64100.,\n",
       "       65800., 65900., 66000., 67800., 68400., 68500., 68100., 69900.,\n",
       "       69800., 71300., 72400., 70900., 71700., 72700., 71300., 70400.,\n",
       "       71100., 72100., 71700., 72100., 72100., 71800., 71300., 70700.,\n",
       "       70700., 70200., 72000., 71700., 72500., 72600., 73100., 72500.,\n",
       "       72700., 73400., 73000., 71900., 71100., 70000., 70200., 71200.,\n",
       "       72400., 72500., 73200., 73200., 72700., 71100., 70400., 70100.,\n",
       "       70000., 69800., 69900., 71800., 70900., 70100., 70700., 69900.,\n",
       "       68800., 67700., 69000., 68000., 68300., 68400., 67500., 66700.,\n",
       "       66300., 66000., 66600., 67200., 66700., 68300., 67100., 66800.,\n",
       "       66900., 67300., 67100., 66800., 72900., 70900., 70700., 70000.,\n",
       "       70200., 70400., 70800., 71100., 71200., 71700., 71300., 70400.,\n",
       "       70000., 69200., 68300., 68500., 70000., 68600., 67400., 67300.,\n",
       "       67100., 66200., 68600., 68600., 68000., 67900., 67700., 68900.,\n",
       "       69700., 68900., 68700., 68700., 68800., 67000., 67100., 66800.,\n",
       "       67600., 67500., 70000., 69700., 69800., 70600., 71300., 69900.,\n",
       "       70000., 71300., 71000., 71600., 72500., 72300., 72100., 73100.,\n",
       "       72200., 73000., 72400., 71500., 71400., 72400., 72700., 72400.,\n",
       "       72800., 72300., 71800., 71800., 72100., 72800., 73300., 73300.,\n",
       "       74100., 73800., 73300., 73000., 74200., 74600., 75800., 76100.,\n",
       "       76700., 77700., 78200., 78500., 76100., 76700., 77000., 77400.,\n",
       "       75000., 72900., 73000., 73200., 73500., 73100., 71600., 73500.,\n",
       "       75900., 75700., 75200., 74200., 73700., 73800., 75000., 73400.,\n",
       "       73000., 74000., 74200., 74300., 74600., 75000., 74800., 73700.,\n",
       "       74200., 73300., 72800., 73700., 73400., 73800., 73600., 72300.,\n",
       "       73100., 72900., 72600., 74300., 74600., 73200., 73100., 72800.,\n",
       "       72900., 72600., 73700., 74400., 73400., 72600., 72300., 73700.,\n",
       "       79200., 79600., 79600., 79700., 79200., 79400., 81200., 83200.,\n",
       "       82900., 84300., 85200., 84500., 85200., 84500., 83200., 84700.,\n",
       "       82900., 81200., 80700., 78800., 78300., 77400., 76400., 77500.,\n",
       "       77300., 77800., 77400., 77000., 77600., 79000.], dtype=float32)"
      ]
     },
     "execution_count": 53,
     "metadata": {},
     "output_type": "execute_result"
    }
   ],
   "source": [
    "siga=s[:,0]\n",
    "siga"
   ]
  },
  {
   "cell_type": "code",
   "execution_count": 48,
   "metadata": {},
   "outputs": [],
   "source": [
    "jongga=s[:,2]"
   ]
  },
  {
   "cell_type": "code",
   "execution_count": 49,
   "metadata": {},
   "outputs": [
    {
     "data": {
      "text/plain": [
       "array([64900., 64700., 65400., 65100., 64300., 64200., 63600., 63900.,\n",
       "       65300., 64800., 65700., 67500., 68000., 68100., 68000., 68700.,\n",
       "       69500., 71200., 71000., 70600., 71600., 71400., 70800., 70000.,\n",
       "       70800., 70800., 71600., 71100., 71300., 70900., 70900., 70400.,\n",
       "       70400., 70100., 71600., 71500., 72000., 72000., 72400., 71700.,\n",
       "       72600., 72900., 71900., 71500., 69800., 69200., 70100., 71100.,\n",
       "       71900., 72400., 72800., 72000., 71300., 70800., 69400., 69900.,\n",
       "       69800., 68100., 69300., 70100., 69800., 70000., 69800., 68500.,\n",
       "       68200., 67600., 67400., 67900., 67800., 67500., 66900., 66300.,\n",
       "       66000., 65800., 66300., 66300., 66400., 67900., 66900., 66500.,\n",
       "       66600., 67100., 66400., 66700., 70700., 70200., 69700., 69600.,\n",
       "       69600., 70000., 70400., 70300., 70800., 71400., 70200., 69600.,\n",
       "       69500., 68800., 68300., 68500., 68400., 68200., 66700., 66700.,\n",
       "       66000., 66200., 67900., 68200., 67700., 66800., 67400., 68800.,\n",
       "       69400., 68100., 68200., 67700., 67900., 66700., 66700., 66700.,\n",
       "       66900., 67300., 69400., 69500., 69300., 70000., 69700., 69600.,\n",
       "       69500., 70300., 70600., 71500., 72300., 72300., 72100., 72700.,\n",
       "       71900., 72200., 71700., 71100., 71300., 72200., 72200., 71700.,\n",
       "       72400., 71200., 71600., 71100., 71900., 72200., 73100., 72800.,\n",
       "       72500., 73200., 72800., 72800., 73800., 74300., 75400., 75700.,\n",
       "       76500., 77500., 78200., 77000., 76100., 76400., 76400., 74300.,\n",
       "       73200., 72700., 72800., 73200., 72500., 71000., 70700., 73000.,\n",
       "       75000., 74300., 73500., 73700., 73300., 73500., 73700., 72500.,\n",
       "       72900., 73700., 73500., 73300., 74300., 73600., 74400., 73700.,\n",
       "       73000., 72500., 72800., 72800., 72900., 72700., 72900., 72200.,\n",
       "       72700., 72800., 72000., 74000., 73700., 72700., 72200., 72600.,\n",
       "       72300., 72100., 73500., 73600., 72300., 72500., 71700., 73400.,\n",
       "       77700., 77800., 77800., 79200., 79200., 79200., 80900., 82000.,\n",
       "       82900., 83500., 84300., 83800., 84500., 83100., 82500., 83200.,\n",
       "       81200., 79400., 78900., 78300., 76300., 75100., 75500., 77200.,\n",
       "       76300., 76500., 76200., 76600., 77300., 77500.], dtype=float32)"
      ]
     },
     "execution_count": 49,
     "metadata": {},
     "output_type": "execute_result"
    }
   ],
   "source": [
    "jongga"
   ]
  },
  {
   "cell_type": "code",
   "execution_count": 50,
   "metadata": {},
   "outputs": [
    {
     "data": {
      "text/plain": [
       "array([130000., 130300., 131700., 130900., 129800., 128900., 127300.,\n",
       "       128000., 131100., 130700., 131700., 135300., 136400., 136600.,\n",
       "       136100., 138600., 139300., 142500., 143400., 141500., 143300.,\n",
       "       144100., 142100., 140400., 141900., 142900., 143300., 143200.,\n",
       "       143400., 142700., 142200., 141100., 141100., 140300., 143600.,\n",
       "       143200., 144500., 144600., 145500., 144200., 145300., 146300.,\n",
       "       144900., 143400., 140900., 139200., 140300., 142300., 144300.,\n",
       "       144900., 146000., 145200., 144000., 141900., 139800., 140000.,\n",
       "       139800., 137900., 139200., 141900., 140700., 140100., 140500.,\n",
       "       138400., 137000., 135300., 136400., 135900., 136100., 135900.,\n",
       "       134400., 133000., 132300., 131800., 132900., 133500., 133100.,\n",
       "       136200., 134000., 133300., 133500., 134400., 133500., 133500.,\n",
       "       143600., 141100., 140400., 139600., 139800., 140400., 141200.,\n",
       "       141400., 142000., 143100., 141500., 140000., 139500., 138000.,\n",
       "       136600., 137000., 138400., 136800., 134100., 134000., 133100.,\n",
       "       132400., 136500., 136800., 135700., 134700., 135100., 137700.,\n",
       "       139100., 137000., 136900., 136400., 136700., 133700., 133800.,\n",
       "       133500., 134500., 134800., 139400., 139200., 139100., 140600.,\n",
       "       141000., 139500., 139500., 141600., 141600., 143100., 144800.,\n",
       "       144600., 144200., 145800., 144100., 145200., 144100., 142600.,\n",
       "       142700., 144600., 144900., 144100., 145200., 143500., 143400.,\n",
       "       142900., 144000., 145000., 146400., 146100., 146600., 147000.,\n",
       "       146100., 145800., 148000., 148900., 151200., 151800., 153200.,\n",
       "       155200., 156400., 155500., 152200., 153100., 153400., 151700.,\n",
       "       148200., 145600., 145800., 146400., 146000., 144100., 142300.,\n",
       "       146500., 150900., 150000., 148700., 147900., 147000., 147300.,\n",
       "       148700., 145900., 145900., 147700., 147700., 147600., 148900.,\n",
       "       148600., 149200., 147400., 147200., 145800., 145600., 146500.,\n",
       "       146300., 146500., 146500., 144500., 145800., 145700., 144600.,\n",
       "       148300., 148300., 145900., 145300., 145400., 145200., 144700.,\n",
       "       147200., 148000., 145700., 145100., 144000., 147100., 156900.,\n",
       "       157400., 157400., 158900., 158400., 158600., 162100., 165200.,\n",
       "       165800., 167800., 169500., 168300., 169700., 167600., 165700.,\n",
       "       167900., 164100., 160600., 159600., 157100., 154600., 152500.,\n",
       "       151900., 154700., 153600., 154300., 153600., 153600., 154900.,\n",
       "       156500.], dtype=float32)"
      ]
     },
     "execution_count": 50,
     "metadata": {},
     "output_type": "execute_result"
    }
   ],
   "source": [
    "siga+jongga"
   ]
  },
  {
   "cell_type": "code",
   "execution_count": 57,
   "metadata": {},
   "outputs": [
    {
     "data": {
      "text/plain": [
       "array([4.1880573e+09, 4.1784666e+09, 4.2752617e+09, 4.2106035e+09,\n",
       "       4.1304630e+09, 4.0764252e+09, 4.0195546e+09, 4.0668785e+09,\n",
       "       4.2234949e+09, 4.1848556e+09, 4.2947241e+09, 4.5587461e+09,\n",
       "       4.6025283e+09, 4.6025477e+09, 4.5924055e+09, 4.6972452e+09,\n",
       "       4.8238961e+09, 5.0751012e+09, 5.0435799e+09, 4.9419028e+09,\n",
       "       5.0965340e+09, 5.0894945e+09, 4.9698575e+09, 4.9034854e+09,\n",
       "       5.0327624e+09, 4.9978373e+09, 5.0824161e+09, 5.0718152e+09,\n",
       "       5.0506435e+09, 5.0470764e+09, 4.9873644e+09, 4.9626854e+09,\n",
       "       4.9001313e+09, 4.9276370e+09, 5.0647613e+09, 5.1070853e+09,\n",
       "       5.1676846e+09, 5.1783834e+09, 5.2150077e+09, 5.1541361e+09,\n",
       "       5.2509983e+09, 5.2871373e+09, 5.1648097e+09, 5.0829476e+09,\n",
       "       4.8757514e+09, 4.7893596e+09, 4.9661189e+09, 5.0650906e+09,\n",
       "       5.1362796e+09, 5.2652365e+09, 5.2979789e+09, 5.1755034e+09,\n",
       "       5.1113436e+09, 4.9876291e+09, 4.8653706e+09, 4.8792622e+09,\n",
       "       4.8446080e+09, 4.7651118e+09, 4.9409654e+09, 4.9595295e+09,\n",
       "       4.8618655e+09, 4.9312973e+09, 4.8619095e+09, 4.7138739e+09,\n",
       "       4.6322790e+09, 4.5881943e+09, 4.5647237e+09, 4.6354524e+09,\n",
       "       4.5816346e+09, 4.5412628e+09, 4.4778317e+09, 4.4114350e+09,\n",
       "       4.3685683e+09, 4.3259587e+09, 4.3818010e+09, 4.4015831e+09,\n",
       "       4.4213412e+09, 4.5984865e+09, 4.4512379e+09, 4.4081879e+09,\n",
       "       4.4148019e+09, 4.4645248e+09, 4.4214098e+09, 4.6923786e+09,\n",
       "       5.0616003e+09, 4.9385544e+09, 4.8654003e+09, 4.8653210e+09,\n",
       "       4.8653706e+09, 4.9210051e+09, 4.9280748e+09, 4.9630546e+09,\n",
       "       5.0403528e+09, 5.1006510e+09, 4.9175291e+09, 4.8376771e+09,\n",
       "       4.8065874e+09, 4.7070817e+09, 4.6525660e+09, 4.7068841e+09,\n",
       "       4.7247478e+09, 4.6565105e+09, 4.5045453e+09, 4.4478387e+09,\n",
       "       4.3715999e+09, 4.3749642e+09, 4.6327137e+09, 4.6905498e+09,\n",
       "       4.5920563e+09, 4.5112934e+09, 4.6658765e+09, 4.8310497e+09,\n",
       "       4.8109445e+09, 4.6905892e+09, 4.6599148e+09, 4.6496829e+09,\n",
       "       4.6258959e+09, 4.4378813e+09, 4.4811510e+09, 4.4711040e+09,\n",
       "       4.4778220e+09, 4.6018499e+09, 4.8351949e+09, 4.8213299e+09,\n",
       "       4.9078554e+09, 4.9607798e+09, 4.9047250e+09, 4.8803159e+09,\n",
       "       4.8942003e+09, 4.9608300e+09, 4.9890166e+09, 5.1415639e+09,\n",
       "       5.2458798e+09, 5.2170465e+09, 5.2169667e+09, 5.2821084e+09,\n",
       "       5.2205199e+09, 5.2314680e+09, 5.1416387e+09, 5.0597315e+09,\n",
       "       5.1626988e+09, 5.2314383e+09, 5.2495027e+09, 5.1631519e+09,\n",
       "       5.2459203e+09, 5.0845240e+09, 5.1166623e+09, 5.0845988e+09,\n",
       "       5.2025651e+09, 5.2675574e+09, 5.3548442e+09, 5.2929772e+09,\n",
       "       5.3329777e+09, 5.3621591e+09, 5.3002476e+09, 5.3256422e+09,\n",
       "       5.5091139e+09, 5.5574349e+09, 5.7109975e+09, 5.7865400e+09,\n",
       "       5.9747999e+09, 6.0915999e+09, 6.2247199e+09, 5.9867500e+09,\n",
       "       5.8292598e+09, 5.8637302e+09, 5.8675502e+09, 5.6659948e+09,\n",
       "       5.4537600e+09, 5.3289600e+09, 5.3289902e+09, 5.4094802e+09,\n",
       "       5.2998001e+09, 5.1155502e+09, 5.1014548e+09, 5.4717752e+09,\n",
       "       5.6662948e+09, 5.6400000e+09, 5.5018998e+09, 5.4796948e+09,\n",
       "       5.3949000e+09, 5.4795602e+09, 5.5242051e+09, 5.3034650e+09,\n",
       "       5.3691197e+09, 5.5535201e+09, 5.4870548e+09, 5.4907197e+09,\n",
       "       5.5837501e+09, 5.5056302e+09, 5.6099200e+09, 5.4537999e+09,\n",
       "       5.3875200e+09, 5.3071201e+09, 5.3726403e+09, 5.3692252e+09,\n",
       "       5.3399501e+09, 5.3545748e+09, 5.3399250e+09, 5.2598001e+09,\n",
       "       5.3144100e+09, 5.3326198e+09, 5.3068201e+09, 5.5538350e+09,\n",
       "       5.4648550e+09, 5.3180549e+09, 5.2453299e+09, 5.3289098e+09,\n",
       "       5.2562401e+09, 5.3032550e+09, 5.4537600e+09, 5.4982001e+09,\n",
       "       5.2670551e+09, 5.2816399e+09, 5.2416000e+09, 5.6559949e+09,\n",
       "       6.2210852e+09, 6.2094300e+09, 6.1543398e+09, 6.3480550e+09,\n",
       "       6.3201597e+09, 6.4074399e+09, 6.6785198e+09, 6.7731999e+09,\n",
       "       7.0464998e+09, 7.0559898e+09, 7.2291748e+09, 7.1106749e+09,\n",
       "       7.1698248e+09, 7.0056801e+09, 6.9676851e+09, 7.0266148e+09,\n",
       "       6.7445100e+09, 6.4240000e+09, 6.2962202e+09, 6.2525798e+09,\n",
       "       5.9984799e+09, 5.8026250e+09, 5.7342249e+09, 6.0797102e+09,\n",
       "       5.8598400e+09, 5.9174052e+09, 5.8905600e+09, 5.9520000e+09,\n",
       "       6.0410998e+09, 6.0800251e+09], dtype=float32)"
      ]
     },
     "execution_count": 57,
     "metadata": {},
     "output_type": "execute_result"
    }
   ],
   "source": [
    "((siga+jongga)/2)*s[:,4]"
   ]
  },
  {
   "cell_type": "code",
   "execution_count": null,
   "metadata": {},
   "outputs": [],
   "source": []
  }
 ],
 "metadata": {
  "colab": {
   "authorship_tag": "ABX9TyOCSHXIrOwzxQ9OqkuFq/4D",
   "provenance": []
  },
  "kernelspec": {
   "display_name": "Python 3 (ipykernel)",
   "language": "python",
   "name": "python3"
  },
  "language_info": {
   "codemirror_mode": {
    "name": "ipython",
    "version": 3
   },
   "file_extension": ".py",
   "mimetype": "text/x-python",
   "name": "python",
   "nbconvert_exporter": "python",
   "pygments_lexer": "ipython3",
   "version": "3.11.7"
  }
 },
 "nbformat": 4,
 "nbformat_minor": 4
}
