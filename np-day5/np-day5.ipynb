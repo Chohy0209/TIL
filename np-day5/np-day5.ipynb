{
 "cells": [
  {
   "cell_type": "code",
   "execution_count": 54,
   "id": "6aac762c-611e-4306-a8de-5315b93f20b3",
   "metadata": {},
   "outputs": [],
   "source": [
    "import numpy as np\n"
   ]
  },
  {
   "cell_type": "code",
   "execution_count": 29,
   "id": "1a626114-4f09-4b45-9f6a-04a1ebe4525d",
   "metadata": {},
   "outputs": [],
   "source": [
    "#시드(seed)를 이용하여 난수 발생 "
   ]
  },
  {
   "cell_type": "code",
   "execution_count": 70,
   "id": "6cd725fd-4efd-466b-8910-4972213953b3",
   "metadata": {
    "scrolled": true
   },
   "outputs": [
    {
     "data": {
      "text/plain": [
       "0.1087070451683314"
      ]
     },
     "execution_count": 70,
     "metadata": {},
     "output_type": "execute_result"
    }
   ],
   "source": [
    "np.random.rand()"
   ]
  },
  {
   "cell_type": "code",
   "execution_count": 71,
   "id": "e135635f-aeaa-4ae2-a47f-ee60348d3791",
   "metadata": {},
   "outputs": [
    {
     "data": {
      "text/plain": [
       "array([0, 1, 2, 3, 4, 5, 6])"
      ]
     },
     "execution_count": 71,
     "metadata": {},
     "output_type": "execute_result"
    }
   ],
   "source": [
    "np.arange(7)"
   ]
  },
  {
   "cell_type": "code",
   "execution_count": 72,
   "id": "0b4be5e1-8e99-41d4-9a4e-0a81edd39419",
   "metadata": {},
   "outputs": [],
   "source": [
    "np.random.seed(20240510) #-> 동일한 난수 시드를 설정 하면 동일한 랜덤값이 나옴"
   ]
  },
  {
   "cell_type": "code",
   "execution_count": 73,
   "id": "bb6284d2-dac1-4f28-aa55-63309c653737",
   "metadata": {},
   "outputs": [
    {
     "data": {
      "text/plain": [
       "0.24432338459661196"
      ]
     },
     "execution_count": 73,
     "metadata": {},
     "output_type": "execute_result"
    }
   ],
   "source": [
    "np.random.rand()"
   ]
  },
  {
   "cell_type": "code",
   "execution_count": 74,
   "id": "7919e19e-3310-430f-ad1f-7daf794c7be6",
   "metadata": {},
   "outputs": [
    {
     "data": {
      "text/plain": [
       "array([0.63551756, 0.67221731, 0.8370985 , 0.3230404 , 0.66728613,\n",
       "       0.99852928, 0.95145872, 0.36059922, 0.68687786, 0.21542222])"
      ]
     },
     "execution_count": 74,
     "metadata": {},
     "output_type": "execute_result"
    }
   ],
   "source": [
    "np.random.rand(10)"
   ]
  },
  {
   "cell_type": "code",
   "execution_count": 75,
   "id": "96f9b056-5efd-404b-93be-44ff5c6314fd",
   "metadata": {},
   "outputs": [
    {
     "data": {
      "text/plain": [
       "array([0, 1, 2, 3, 4, 5, 6, 7, 8, 9])"
      ]
     },
     "execution_count": 75,
     "metadata": {},
     "output_type": "execute_result"
    }
   ],
   "source": [
    "x=np.arange(10)\n",
    "x"
   ]
  },
  {
   "cell_type": "code",
   "execution_count": 76,
   "id": "99cbfcf3-63d0-42a9-aa9f-f08d816f17f0",
   "metadata": {},
   "outputs": [
    {
     "data": {
      "text/plain": [
       "array([9, 3, 4, 6, 5, 0, 7, 1, 2, 8])"
      ]
     },
     "execution_count": 76,
     "metadata": {},
     "output_type": "execute_result"
    }
   ],
   "source": [
    "np.random.shuffle(x)\n",
    "x"
   ]
  },
  {
   "cell_type": "code",
   "execution_count": 77,
   "id": "4ce76670-734b-4e63-b833-6e0761f622d6",
   "metadata": {},
   "outputs": [
    {
     "data": {
      "text/plain": [
       "array([0, 1, 2, 3, 4, 5, 6, 7, 8, 9])"
      ]
     },
     "execution_count": 77,
     "metadata": {},
     "output_type": "execute_result"
    }
   ],
   "source": [
    "np.sort(x)"
   ]
  },
  {
   "cell_type": "code",
   "execution_count": 78,
   "id": "fdf4e8a3-ee9a-4448-ba6e-a4eaab7f80c0",
   "metadata": {},
   "outputs": [],
   "source": [
    "#choice: 표본 추출 함수\n"
   ]
  },
  {
   "cell_type": "code",
   "execution_count": 90,
   "id": "00501810-23e6-4206-a54a-3ef5dd6d0937",
   "metadata": {},
   "outputs": [
    {
     "data": {
      "text/plain": [
       "array([11, 12, 13, 14])"
      ]
     },
     "execution_count": 90,
     "metadata": {},
     "output_type": "execute_result"
    }
   ],
   "source": [
    "x=np.arange(11,15)\n",
    "x"
   ]
  },
  {
   "cell_type": "code",
   "execution_count": 92,
   "id": "17a41f50-b41d-497a-8d00-fd4426ad7621",
   "metadata": {},
   "outputs": [
    {
     "name": "stdout",
     "output_type": "stream",
     "text": [
      "Requirement already satisfied: numpy in c:\\users\\master\\anaconda3\\lib\\site-packages (1.26.4)\n",
      "Note: you may need to restart the kernel to use updated packages.\n"
     ]
    }
   ],
   "source": [
    "pip install numpy"
   ]
  },
  {
   "cell_type": "code",
   "execution_count": 1,
   "id": "dfcc215d-c509-4794-84f9-3186113be86d",
   "metadata": {},
   "outputs": [],
   "source": [
    "import numpy as np"
   ]
  },
  {
   "cell_type": "code",
   "execution_count": 2,
   "id": "2ec880fd-0126-4551-86b1-f96a77f2877a",
   "metadata": {},
   "outputs": [
    {
     "data": {
      "text/plain": [
       "array([11, 12, 13, 14])"
      ]
     },
     "execution_count": 2,
     "metadata": {},
     "output_type": "execute_result"
    }
   ],
   "source": [
    "x=np.arange(11,15)\n",
    "x"
   ]
  },
  {
   "cell_type": "code",
   "execution_count": null,
   "id": "99d90d0f-29a5-4c79-8502-46ec38c76fe5",
   "metadata": {},
   "outputs": [],
   "source": []
  },
  {
   "cell_type": "code",
   "execution_count": 121,
   "id": "7b99a4b5-9c09-4261-ad7b-db8939607855",
   "metadata": {
    "scrolled": true
   },
   "outputs": [
    {
     "data": {
      "text/plain": [
       "0"
      ]
     },
     "execution_count": 121,
     "metadata": {},
     "output_type": "execute_result"
    }
   ],
   "source": [
    "np.random.choice(x) #replace=false 비복원추출 True 복원추출 replacement :다시 넣어서 추출하는것 default  값은 True\n",
    "#p= 가중값 부여 특정 요소 추출할때 가중값을 매김"
   ]
  },
  {
   "cell_type": "code",
   "execution_count": 8,
   "id": "9086adf4-34f2-4a36-ba6b-60c4f5ad6da1",
   "metadata": {},
   "outputs": [
    {
     "data": {
      "text/plain": [
       "array([2, 2, 3])"
      ]
     },
     "execution_count": 8,
     "metadata": {},
     "output_type": "execute_result"
    }
   ],
   "source": [
    "np.random.choice(5,3,p=[0.1,0,0.3,0.6,0]) #0부터 4까지중에 3개를 뽑는데 p로 확률을 조절 0 1 2 3 4 가 각각 0.1 /0 /0.3/0.3/0 확률 로 뽑히게 조절 replace=True 기본값으로 설정되있기때문에 복원추출 방식 "
   ]
  },
  {
   "cell_type": "code",
   "execution_count": 5,
   "id": "c0e78ea8-9c6f-4af9-bef6-da3f566c93b5",
   "metadata": {},
   "outputs": [],
   "source": [
    "arr=np.array([[  1,    2,    3,    4],\n",
    "       [ 46,   99,  100,   71],\n",
    "       [ 81,   59,   90,  100]])"
   ]
  },
  {
   "cell_type": "code",
   "execution_count": 6,
   "id": "0af9505e-c943-434f-b0b2-6d7725a52797",
   "metadata": {},
   "outputs": [
    {
     "data": {
      "text/plain": [
       "array([[  1,   2,   3,   4],\n",
       "       [ 46,  99, 100,  71],\n",
       "       [ 81,  59,  90, 100]])"
      ]
     },
     "execution_count": 6,
     "metadata": {},
     "output_type": "execute_result"
    }
   ],
   "source": [
    "arr"
   ]
  },
  {
   "cell_type": "code",
   "execution_count": 9,
   "id": "3ea30220-6b0c-4d51-a944-c6404cc5a287",
   "metadata": {},
   "outputs": [
    {
     "data": {
      "text/plain": [
       "0.1574624213590904"
      ]
     },
     "execution_count": 9,
     "metadata": {},
     "output_type": "execute_result"
    }
   ],
   "source": [
    "np.random.rand() # 0~1사이 난수  0포함 1미만 0<=난수 <1"
   ]
  },
  {
   "cell_type": "code",
   "execution_count": 10,
   "id": "896e14e5-d7c6-4e65-8021-ded8503207a3",
   "metadata": {},
   "outputs": [
    {
     "data": {
      "text/plain": [
       "1.5511233503006476"
      ]
     },
     "execution_count": 10,
     "metadata": {},
     "output_type": "execute_result"
    }
   ],
   "source": [
    "np.random.randn() # 표준정규분포(평균:0 ,표준편차: 1)"
   ]
  },
  {
   "cell_type": "code",
   "execution_count": 12,
   "id": "f12d1817-c7ab-4995-a32a-f69bb4c37dc4",
   "metadata": {},
   "outputs": [
    {
     "data": {
      "text/plain": [
       "0"
      ]
     },
     "execution_count": 12,
     "metadata": {},
     "output_type": "execute_result"
    }
   ],
   "source": [
    "np.random.randint(5) #균등분포 (동일한 확률), 정수난수 "
   ]
  },
  {
   "cell_type": "code",
   "execution_count": 13,
   "id": "b08b63ce-ea23-4962-b5d8-85dfe346391e",
   "metadata": {},
   "outputs": [
    {
     "data": {
      "text/plain": [
       "array([0.37863347, 0.93802561, 0.44490132, 0.44466642, 0.95841598,\n",
       "       0.65311682, 0.7572166 , 0.4287035 , 0.13458341, 0.99475483,\n",
       "       0.90057974, 0.76284146, 0.66673556, 0.98118347, 0.28929281])"
      ]
     },
     "execution_count": 13,
     "metadata": {},
     "output_type": "execute_result"
    }
   ],
   "source": [
    "np.random.rand(15) #()안에 숫자를 넣으면 해당 숫자개수만큼 생성"
   ]
  },
  {
   "cell_type": "code",
   "execution_count": 14,
   "id": "969ddd36-2bdf-482a-94d6-4462a3cee76a",
   "metadata": {},
   "outputs": [
    {
     "data": {
      "text/plain": [
       "array([[0.15481037, 0.49144566, 0.13567962, 0.15520901, 0.29473749],\n",
       "       [0.9261752 , 0.44478826, 0.83595405, 0.33466912, 0.65362527],\n",
       "       [0.34289631, 0.88778388, 0.4814177 , 0.75075054, 0.96658099]])"
      ]
     },
     "execution_count": 14,
     "metadata": {},
     "output_type": "execute_result"
    }
   ],
   "source": [
    "np.random.rand(3,5) #이렇게 주면 3*5 형태로 reshape 해서 줌"
   ]
  },
  {
   "cell_type": "code",
   "execution_count": 15,
   "id": "e4be16a8-a42d-43d5-930f-91c5ff55938e",
   "metadata": {},
   "outputs": [
    {
     "data": {
      "text/plain": [
       "array([ 0.08161611, -0.02417888, -1.54652036,  0.92817186, -1.06328762,\n",
       "       -0.90604684, -0.04755961, -0.4877113 ,  0.59202769,  1.46627689])"
      ]
     },
     "execution_count": 15,
     "metadata": {},
     "output_type": "execute_result"
    }
   ],
   "source": [
    "np.random.randn(10) "
   ]
  },
  {
   "cell_type": "code",
   "execution_count": 120,
   "id": "1553c48e-3620-4b67-b600-f1554f10e79d",
   "metadata": {},
   "outputs": [
    {
     "data": {
      "text/plain": [
       "-0.021941197922964607"
      ]
     },
     "execution_count": 120,
     "metadata": {},
     "output_type": "execute_result"
    }
   ],
   "source": [
    "np.mean(np.random.randn(10)) # randn 함수는 평균값이 0에 가까운 값이 나옴 "
   ]
  },
  {
   "cell_type": "code",
   "execution_count": 118,
   "id": "cdaded01-bf61-4b39-84f4-76e3eb2f15f7",
   "metadata": {},
   "outputs": [
    {
     "data": {
      "text/plain": [
       "0.8196023141880632"
      ]
     },
     "execution_count": 118,
     "metadata": {},
     "output_type": "execute_result"
    }
   ],
   "source": [
    "np.std(np.random.randn(10)) # randn 함수는 또한 표준편차는 1에 수렴하게 됨 즉 평균이 0에 가까우면서 표준편차는 1"
   ]
  },
  {
   "cell_type": "code",
   "execution_count": 119,
   "id": "4f1ef3ac-0650-491e-9986-aad36c287abb",
   "metadata": {},
   "outputs": [
    {
     "data": {
      "text/plain": [
       "array([4, 3, 4, 6, 6, 5, 3, 5, 6, 4])"
      ]
     },
     "execution_count": 119,
     "metadata": {},
     "output_type": "execute_result"
    }
   ],
   "source": [
    "np.random.randint(3,7,size=10) # 0~2사이 랜덤값 추출 (3,7)로 주면 3부터 7미만까지범위에서 추출  즉 3부터 6까지 범위에서 추출 size=a로 a개의 데이터 추출가능\n",
    "# size=(2,5) 이런식으로 2*5행렬로 추출도 가능"
   ]
  },
  {
   "cell_type": "code",
   "execution_count": 25,
   "id": "e56a6074-dd04-4479-938b-864a39b8df15",
   "metadata": {},
   "outputs": [
    {
     "data": {
      "text/plain": [
       "array([[6, 3, 6, 5],\n",
       "       [6, 3, 3, 5]])"
      ]
     },
     "execution_count": 25,
     "metadata": {},
     "output_type": "execute_result"
    }
   ],
   "source": [
    "np.random.randint(3,7,size=(2,4))"
   ]
  },
  {
   "cell_type": "code",
   "execution_count": 27,
   "id": "d58119fa-e3ba-48e1-bef7-b73e72312d71",
   "metadata": {},
   "outputs": [
    {
     "data": {
      "text/plain": [
       "array([10,  9,  6,  8,  9,  7,  9,  8,  6,  6])"
      ]
     },
     "execution_count": 27,
     "metadata": {},
     "output_type": "execute_result"
    }
   ],
   "source": [
    "data=np.random.randint(5,11,size=10)\n",
    "data"
   ]
  },
  {
   "cell_type": "code",
   "execution_count": 28,
   "id": "81c41af6-d15f-4684-b237-d95805d38eaf",
   "metadata": {},
   "outputs": [
    {
     "data": {
      "text/plain": [
       "array([ 6,  7,  8,  9, 10])"
      ]
     },
     "execution_count": 28,
     "metadata": {},
     "output_type": "execute_result"
    }
   ],
   "source": [
    "np.unique(data) #중복값들은 제외하고 유일한 수들만 나옴"
   ]
  },
  {
   "cell_type": "code",
   "execution_count": 117,
   "id": "fd37ca6e-d104-4b41-aec3-834dd7cfeab5",
   "metadata": {},
   "outputs": [
    {
     "data": {
      "text/plain": [
       "(array([ 6,  7,  8,  9, 10]), array([3, 1, 2, 3, 1], dtype=int64))"
      ]
     },
     "execution_count": 117,
     "metadata": {},
     "output_type": "execute_result"
    }
   ],
   "source": [
    "np.unique(data, return_counts=True) #0번배열에는 유일한 수들의 배열 1번배열에는 각각의 빈도수의 배열이 나옴\n",
    "#난수범위중에서 추출되지 않은 수들에 대한 정보는 확인을 불가 ex) 지금 상황에서 5에대한 정보를 알 수 없음"
   ]
  },
  {
   "cell_type": "code",
   "execution_count": 34,
   "id": "6e0290db-9ede-40a4-b3d4-7831bd198e2a",
   "metadata": {},
   "outputs": [
    {
     "data": {
      "text/plain": [
       "array([ 6,  7,  8,  9, 10])"
      ]
     },
     "execution_count": 34,
     "metadata": {},
     "output_type": "execute_result"
    }
   ],
   "source": [
    "\n",
    "np.unique(data, return_counts=True)[0]"
   ]
  },
  {
   "cell_type": "code",
   "execution_count": 35,
   "id": "5b4ef7db-7594-49cc-9841-795f545b9d8e",
   "metadata": {},
   "outputs": [
    {
     "data": {
      "text/plain": [
       "array([3, 1, 2, 3, 1], dtype=int64)"
      ]
     },
     "execution_count": 35,
     "metadata": {},
     "output_type": "execute_result"
    }
   ],
   "source": [
    "np.unique(data, return_counts=True)[1]"
   ]
  },
  {
   "cell_type": "code",
   "execution_count": 116,
   "id": "8f65ed4a-142f-46b8-ad1d-5596f6783131",
   "metadata": {},
   "outputs": [
    {
     "data": {
      "text/plain": [
       "array([0, 0, 0, 0, 0, 0, 3, 1, 2, 3, 1], dtype=int64)"
      ]
     },
     "execution_count": 116,
     "metadata": {},
     "output_type": "execute_result"
    }
   ],
   "source": [
    "np.bincount(data,minlength=12) #minlength: 0부터 설정된값 미만까지 수를 범위로 설정하여 빈도수 조사\n",
    "np.bincount(data) # 그냥 쓰면 데이터가 나온 최댓값까지만 빈도수 조사 "
   ]
  },
  {
   "cell_type": "code",
   "execution_count": 37,
   "id": "10889a0a-87ec-4b4d-9e7d-e6cc1d92adc4",
   "metadata": {},
   "outputs": [
    {
     "data": {
      "text/plain": [
       "array([10,  9,  6,  8,  9,  7,  9,  8,  6,  6])"
      ]
     },
     "execution_count": 37,
     "metadata": {},
     "output_type": "execute_result"
    }
   ],
   "source": [
    "data"
   ]
  },
  {
   "cell_type": "code",
   "execution_count": 87,
   "id": "ce5f5ec8-0212-40ce-a0c0-b4351bc61e15",
   "metadata": {},
   "outputs": [
    {
     "data": {
      "text/plain": [
       "[array([[ 6, 35, 20,  3,  1, 44]]),\n",
       " array([[27, 29, 45, 17, 31, 37]]),\n",
       " array([[16, 36, 23,  1, 26, 29]]),\n",
       " array([[27,  2, 25,  4, 33, 18]]),\n",
       " array([[19, 10, 32, 24, 21, 18]])]"
      ]
     },
     "execution_count": 87,
     "metadata": {},
     "output_type": "execute_result"
    }
   ],
   "source": [
    "a=np.arange(1,46)\n",
    "res=[]\n",
    "for x in range(5):\n",
    "    res.append(np.random.choice(a,size=(1,6),replace=False))\n",
    "res"
   ]
  },
  {
   "cell_type": "code",
   "execution_count": 115,
   "id": "c306319d-38fb-4833-94ca-9793d778cf28",
   "metadata": {},
   "outputs": [],
   "source": [
    "a=np.array([0,1])\n",
    "x=np.random.choice(a,size=10)"
   ]
  },
  {
   "cell_type": "code",
   "execution_count": 113,
   "id": "7a03ffba-196d-4746-bf40-7be23a7f365c",
   "metadata": {
    "scrolled": true
   },
   "outputs": [
    {
     "data": {
      "text/plain": [
       "[array([[ 5, 22, 45, 20, 21, 34]]),\n",
       " array([[42, 37,  6,  3, 27,  2]]),\n",
       " array([[28, 32, 26, 45, 29, 19]]),\n",
       " array([[42, 28, 22, 14,  7,  2]]),\n",
       " array([[28, 12, 43, 37, 20, 40]])]"
      ]
     },
     "execution_count": 113,
     "metadata": {},
     "output_type": "execute_result"
    }
   ],
   "source": [
    "#1번\n",
    "a=np.arange(1,46)\n",
    "res=[]\n",
    "for x in range(5):\n",
    "    res.append(np.random.choice(a,size=(1,6),replace=False))\n",
    "res\n"
   ]
  },
  {
   "cell_type": "code",
   "execution_count": 112,
   "id": "24ee4c4e-9b47-45f2-a86b-f5367edc17be",
   "metadata": {},
   "outputs": [
    {
     "name": "stdout",
     "output_type": "stream",
     "text": [
      "뒷면\n",
      "앞면\n",
      "앞면\n",
      "앞면\n",
      "앞면\n",
      "앞면\n",
      "앞면\n",
      "앞면\n",
      "앞면\n",
      "앞면\n"
     ]
    }
   ],
   "source": [
    "#2번\n",
    "a=np.array([0,1])\n",
    "x=np.random.choice(a,size=10)\n",
    "for res in x:\n",
    "    if res==0:\n",
    "        print(\"앞면\")\n",
    "    else:\n",
    "        print(\"뒷면\")"
   ]
  },
  {
   "cell_type": "code",
   "execution_count": 124,
   "id": "ed6cbdec-c6b5-47b0-8fe0-ea2ee807fc65",
   "metadata": {},
   "outputs": [
    {
     "data": {
      "text/plain": [
       "3.50049844"
      ]
     },
     "execution_count": 124,
     "metadata": {},
     "output_type": "execute_result"
    }
   ],
   "source": [
    "#3번\n",
    "a=np.arange(1,7)\n",
    "np.mean(np.random.choice(a,size=100000000))"
   ]
  },
  {
   "cell_type": "code",
   "execution_count": 127,
   "id": "8e52df9f-3b32-4bd3-86c3-ef5b0da90419",
   "metadata": {},
   "outputs": [
    {
     "name": "stdout",
     "output_type": "stream",
     "text": [
      "{'cod': '404', 'message': 'Internal error'}\n"
     ]
    }
   ],
   "source": [
    "import requests\n",
    "import json\n",
    "\n",
    "city=\"Seoul\"\n",
    "apikey='5450febaf93eb267f65db4dad959f82e'\n",
    "lang= \"Kr\"\n",
    "units='metric'\n",
    "api =f\"\"\"http://api.openweathermap.org/data/2.5/\n",
    "weather?q={city}&appid={apikey}&lang={lang}&units={units}\"\"\"\n",
    "\n",
    "result = requests.get(api)\n",
    "data = json.loads(result.text)\n",
    "print(data)\n"
   ]
  },
  {
   "cell_type": "code",
   "execution_count": 130,
   "id": "770b1bba-5efd-4c4c-823a-245baf999491",
   "metadata": {},
   "outputs": [],
   "source": [
    "list = [1,3,0,4,2]\n",
    "cnt = 0\n",
    "index = 1"
   ]
  },
  {
   "cell_type": "code",
   "execution_count": 168,
   "id": "d8c46257-9f9c-4b07-9da6-c2e4f13364e1",
   "metadata": {},
   "outputs": [
    {
     "name": "stdout",
     "output_type": "stream",
     "text": [
      "4\n"
     ]
    }
   ],
   "source": [
    "list = [1,3,0,4,2]\n",
    "cnt = 0\n",
    "index = 1\n",
    "while index != 0:\n",
    "    index=list[index]\n",
    "    cnt = cnt + 1\n",
    "print(cnt)"
   ]
  },
  {
   "cell_type": "code",
   "execution_count": 136,
   "id": "776f7361-5ea7-4448-9bd4-18d64188971d",
   "metadata": {},
   "outputs": [
    {
     "name": "stdout",
     "output_type": "stream",
     "text": [
      "1 2 4 5 6 "
     ]
    }
   ],
   "source": [
    "arr = [1,2,6,5,4,2]\n",
    "dat = [0 for _ in range(len(arr) + 1)] \n",
    "\n",
    "for i in range((len(arr))): \n",
    "    dat[arr[i]] = 1 \n",
    "\n",
    "for i in range(len(dat)):\n",
    "    if dat[i] == 0:\n",
    "        continue\n",
    "    print(i, end = \" \")"
   ]
  },
  {
   "cell_type": "code",
   "execution_count": 140,
   "id": "4f547a9e-3066-48e1-9f89-3079b7e16126",
   "metadata": {},
   "outputs": [
    {
     "name": "stdout",
     "output_type": "stream",
     "text": [
      "BRBRK\n"
     ]
    }
   ],
   "source": [
    "str = \"ABKRNW\"\n",
    "idx = [1, 3, 1, 3, 2]\n",
    "result = \"\"\n",
    "\n",
    "for i in range(len(idx)):\n",
    "    result += str[idx[i]]\n",
    "\n",
    "print(result)"
   ]
  },
  {
   "cell_type": "code",
   "execution_count": 143,
   "id": "a18e2377-56fb-44a9-8342-4eca4f0372bf",
   "metadata": {},
   "outputs": [
    {
     "data": {
      "text/plain": [
       "[[0, 0, 0], [0, 0, 0], [0, 0, 0]]"
      ]
     },
     "execution_count": 143,
     "metadata": {},
     "output_type": "execute_result"
    }
   ],
   "source": [
    "arr = [[0 for _ in range(3)] for _ in range(3)]\n",
    "arr\n",
    "t = 1\n",
    "\n",
    "for i in range(2,-1,-1): 2 1 0\n",
    "    for j in range(0,3): 0 1 2\n",
    "        arr[j][i] = t\n",
    "        t = t + 1\n",
    "\n",
    "# for i in range(0,3): 0 1 2\n",
    "#     print(arr[i][i], end=\" \")"
   ]
  },
  {
   "cell_type": "code",
   "execution_count": 149,
   "id": "33b87a24-ff3f-45ed-9f96-ae3a5f3807cc",
   "metadata": {},
   "outputs": [
    {
     "name": "stdout",
     "output_type": "stream",
     "text": [
      "7\n"
     ]
    }
   ],
   "source": [
    "# 다음 코드를 실행한 결과로 출력되는 값은?\n",
    "arr = [[1, 1, 0, 1], [0, 1, 1, 0], [1, 1, 1, 0], [1, 1, 1, 1]]\n",
    "cnt = 0 #7\n",
    "1101 0110\n",
    "for i in range(1,3): 1 2\n",
    "    for j in range(2,4): 2 3\n",
    "        if(arr[i][j] == 1):\n",
    "            cnt = cnt + 1\n",
    "    for j in range(0, 3): 012\n",
    "        if (arr[i][j] == 1):\n",
    "            cnt = cnt + 1\n",
    "print(cnt) "
   ]
  },
  {
   "cell_type": "code",
   "execution_count": 153,
   "id": "6e0a3de0-91d1-4355-978d-91a08082fb8e",
   "metadata": {},
   "outputs": [
    {
     "data": {
      "text/plain": [
       "[0, 0, 0, 0, 0, 0, 0, 0, 0, 0]"
      ]
     },
     "execution_count": 153,
     "metadata": {},
     "output_type": "execute_result"
    }
   ],
   "source": [
    "def meet(index):\n",
    "    return (index * 3 + 11 ) % 10\n",
    "\n",
    "0 0 0 1 1 1 0 0 0 0\n",
    "dat = [0 for _ in range(10)]\n",
    "dat\n",
    "old = -1\n",
    "start = 1\n",
    "while True:\n",
    "    start = meet(start) # 3\n",
    "    if(dat[start] == 1):\n",
    "        break\n",
    "    dat[start] = 1\n",
    "\n",
    "    if(old == start):\n",
    "        break\n",
    "\n",
    "print(start)"
   ]
  },
  {
   "cell_type": "code",
   "execution_count": 154,
   "id": "159828e7-5422-431a-9fb6-dd44b27b5846",
   "metadata": {},
   "outputs": [
    {
     "name": "stdout",
     "output_type": "stream",
     "text": [
      "7\n"
     ]
    }
   ],
   "source": [
    "\n",
    "arr = [1, 2, 3, 1, 2, 3, 9, 6, 5]\n",
    "brr = [4, 3, 5, 2, 3, 1, 9]\n",
    "dat = [0 for _ in range(10)]\n",
    "\n",
    "for i in range(len(arr)): \n",
    "    dat[arr[i]] = 1\n",
    "\n",
    "for i in range(len(brr)):\n",
    "    dat[brr[i]] = 1\n",
    "\n",
    "cnt = 0\n",
    "\n",
    "for i in range(10): 0 9\n",
    "    cnt += dat[i]\n",
    "\n",
    "print(cnt) "
   ]
  },
  {
   "cell_type": "code",
   "execution_count": 155,
   "id": "80c3d37f-27b4-4111-bc45-1fd02eee3ed3",
   "metadata": {},
   "outputs": [
    {
     "name": "stdout",
     "output_type": "stream",
     "text": [
      "현재: 55\n",
      "56\n"
     ]
    }
   ],
   "source": [
    "matrix = [[i for i in range(j*10, (j+1)*10)] for j in range(10)]\n",
    "\n",
    "dr = [1, -1, 0, 0]\n",
    "dc = [0, 0, -1, 1]\n",
    "\n",
    "r, c = 5, 5\n",
    "\n",
    "print(f'현재: {matrix[r][c]}')\n",
    "\n",
    "for idx in range(4):\n",
    "    nr = r + dr[idx]\n",
    "    nc = c + dc[idx]\n",
    "\n",
    "print(matrix[nr][nc])"
   ]
  },
  {
   "cell_type": "code",
   "execution_count": 167,
   "id": "c3fff1d1-10fc-4451-b64e-89908626315b",
   "metadata": {},
   "outputs": [
    {
     "name": "stdout",
     "output_type": "stream",
     "text": [
      "현재: 55\n",
      "65\n",
      "45\n",
      "54\n",
      "56\n"
     ]
    }
   ],
   "source": [
    "matrix = [[i for i in range(j*10, (j+1)*10)] for j in range(10)]\n",
    "matrix\n",
    "\n",
    "\n",
    "dr = [1, -1, 0, 0]\n",
    "dc = [0, 0, -1, 1]\n",
    "\n",
    "r, c = 5, 5\n",
    "\n",
    "print(f'현재: {matrix[r][c]}')\n",
    "\n",
    "for idx in range(4):\n",
    "    nr = r + dr[idx]\n",
    "    nc = c + dc[idx]\n",
    "\n",
    "    print(matrix[nr][nc])"
   ]
  },
  {
   "cell_type": "code",
   "execution_count": null,
   "id": "3d8efec0-ef95-4f85-96ef-05bb84b54550",
   "metadata": {},
   "outputs": [],
   "source": []
  }
 ],
 "metadata": {
  "kernelspec": {
   "display_name": "Python 3 (ipykernel)",
   "language": "python",
   "name": "python3"
  },
  "language_info": {
   "codemirror_mode": {
    "name": "ipython",
    "version": 3
   },
   "file_extension": ".py",
   "mimetype": "text/x-python",
   "name": "python",
   "nbconvert_exporter": "python",
   "pygments_lexer": "ipython3",
   "version": "3.11.7"
  }
 },
 "nbformat": 4,
 "nbformat_minor": 5
}
