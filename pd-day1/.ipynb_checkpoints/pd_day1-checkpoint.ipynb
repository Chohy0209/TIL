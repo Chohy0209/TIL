{
 "cells": [
  {
   "cell_type": "code",
   "execution_count": 2,
   "id": "74dacfb9-ca50-44b3-8d7e-4bcce98adcc6",
   "metadata": {},
   "outputs": [],
   "source": [
    "# pandas\n",
    "# 통계분석\n",
    "# 데이터마이닝\n",
    "# 시각화(matplotlib,tableau,seaborn,plotly,...)\n",
    "# 머신러닝(scikit-learn)\n",
    "# 딥러닝(tensorflow,keras,pytorch)-cnn,rnn,rl,yolo등\n"
   ]
  },
  {
   "cell_type": "code",
   "execution_count": 5,
   "id": "8a386324-3cda-4747-83d1-2744593247b8",
   "metadata": {},
   "outputs": [],
   "source": [
    "import numpy as np\n",
    "np.random.seed(12345)\n"
   ]
  },
  {
   "cell_type": "code",
   "execution_count": 6,
   "id": "2a2a9f28-ce0e-4b75-86d1-9c1f1156b046",
   "metadata": {},
   "outputs": [],
   "source": [
    "np.set_printoptions(precision=4)"
   ]
  },
  {
   "cell_type": "code",
   "execution_count": 9,
   "id": "00ae9a9b-d7d1-4f09-9435-5eb60f1340e8",
   "metadata": {},
   "outputs": [],
   "source": [
    "#반올림(기본값 8자리로 설정),자릿수 지정"
   ]
  },
  {
   "cell_type": "code",
   "execution_count": 10,
   "id": "ae9303ee-582a-4888-be28-1ccbfb465f24",
   "metadata": {},
   "outputs": [
    {
     "data": {
      "text/plain": [
       "array([1.2346])"
      ]
     },
     "execution_count": 10,
     "metadata": {},
     "output_type": "execute_result"
    }
   ],
   "source": [
    "np.array([1.23456789])"
   ]
  },
  {
   "cell_type": "code",
   "execution_count": 12,
   "id": "0e567074-c2f2-4b5c-b194-3c8153279c1d",
   "metadata": {},
   "outputs": [],
   "source": [
    "np.set_printoptions(precision=8)"
   ]
  },
  {
   "cell_type": "code",
   "execution_count": 13,
   "id": "9e2d3517-6b16-4c50-8d26-1f69c2d20d6b",
   "metadata": {},
   "outputs": [
    {
     "data": {
      "text/plain": [
       "array([1.23456789])"
      ]
     },
     "execution_count": 13,
     "metadata": {},
     "output_type": "execute_result"
    }
   ],
   "source": [
    "np.array([1.23456789])"
   ]
  },
  {
   "cell_type": "code",
   "execution_count": 17,
   "id": "a935ecf2-310c-495b-bc4d-3d29edd32a18",
   "metadata": {},
   "outputs": [
    {
     "data": {
      "text/plain": [
       "array([   0,    1,    2, ..., 9997, 9998, 9999])"
      ]
     },
     "execution_count": 17,
     "metadata": {},
     "output_type": "execute_result"
    }
   ],
   "source": [
    "np.arange(10000) # 1000개까지 전체출력, 1000개 초과시 ...으로 표현 출력"
   ]
  },
  {
   "cell_type": "code",
   "execution_count": 21,
   "id": "8e56574b-e463-482f-b856-7a9f31427f0e",
   "metadata": {},
   "outputs": [],
   "source": [
    "np.set_printoptions(threshold=2000) #default 값이 1000개이지만 2000개까지 출력하도록 변경\n",
    "np.set_printoptions(threshold=np.inf) #무한대까지 전체출력 np에서 무한대 = inf"
   ]
  },
  {
   "cell_type": "code",
   "execution_count": 22,
   "id": "0904c959-e404-472e-86ad-44b4a222201c",
   "metadata": {},
   "outputs": [
    {
     "data": {
      "text/plain": [
       "array([   0,    1,    2, ..., 1998, 1999, 2000])"
      ]
     },
     "execution_count": 22,
     "metadata": {},
     "output_type": "execute_result"
    }
   ],
   "source": [
    "np.arange(2001)"
   ]
  },
  {
   "cell_type": "code",
   "execution_count": 39,
   "id": "c57e7063-8b22-4544-93b0-a01a210cad52",
   "metadata": {},
   "outputs": [
    {
     "data": {
      "text/plain": [
       "[0.8864293405915888,\n",
       " -2.0016373096603974,\n",
       " -0.3718425371402544,\n",
       " 1.6690253095248706,\n",
       " -0.4385697358355719,\n",
       " -0.5397414455216628,\n",
       " 0.4769850104122995]"
      ]
     },
     "execution_count": 39,
     "metadata": {},
     "output_type": "execute_result"
    }
   ],
   "source": [
    "data = [np.random.standard_normal() for i in range(7)] #표준 정규분포를 따르는 데이터값에서 임의로 데이터를 랜덤하게 뽑음 평균0 표준편차=1\n",
    "data"
   ]
  },
  {
   "cell_type": "code",
   "execution_count": 40,
   "id": "a47cb7ae-7718-4d9e-b13e-786b80109035",
   "metadata": {},
   "outputs": [
    {
     "data": {
      "text/plain": [
       "-0.04562162394701824"
      ]
     },
     "execution_count": 40,
     "metadata": {},
     "output_type": "execute_result"
    }
   ],
   "source": [
    "np.mean(data)"
   ]
  },
  {
   "cell_type": "code",
   "execution_count": 41,
   "id": "d9d034eb-a67c-48df-979a-ab43b4d63483",
   "metadata": {},
   "outputs": [],
   "source": [
    "a=[1,2,3]\n",
    "b=a # 동일한 메모리 주소값. a가 바뀌면 b도 바뀌어버림"
   ]
  },
  {
   "cell_type": "code",
   "execution_count": 42,
   "id": "39faf0ea-3019-4e79-8a4b-552f2cc5ed9f",
   "metadata": {},
   "outputs": [
    {
     "data": {
      "text/plain": [
       "[1, 2, 3]"
      ]
     },
     "execution_count": 42,
     "metadata": {},
     "output_type": "execute_result"
    }
   ],
   "source": [
    "a"
   ]
  },
  {
   "cell_type": "code",
   "execution_count": 43,
   "id": "d7e7ac23-cb06-45f6-b361-d98476914d7e",
   "metadata": {},
   "outputs": [
    {
     "data": {
      "text/plain": [
       "[1, 2, 3]"
      ]
     },
     "execution_count": 43,
     "metadata": {},
     "output_type": "execute_result"
    }
   ],
   "source": [
    "b"
   ]
  },
  {
   "cell_type": "code",
   "execution_count": 44,
   "id": "bff7d3d0-d7a6-48c2-827d-bea9eaa22a48",
   "metadata": {},
   "outputs": [
    {
     "data": {
      "text/plain": [
       "True"
      ]
     },
     "execution_count": 44,
     "metadata": {},
     "output_type": "execute_result"
    }
   ],
   "source": [
    "a==b"
   ]
  },
  {
   "cell_type": "code",
   "execution_count": 45,
   "id": "83e1876c-585b-46d7-9a8c-1fc1f578c48e",
   "metadata": {},
   "outputs": [
    {
     "data": {
      "text/plain": [
       "[1, 2, 3]"
      ]
     },
     "execution_count": 45,
     "metadata": {},
     "output_type": "execute_result"
    }
   ],
   "source": [
    "c=a.copy() # c는 a 자체를 카피해서 저장해놓음\n",
    "c"
   ]
  },
  {
   "cell_type": "code",
   "execution_count": 46,
   "id": "7aa155cf-641a-40b5-8b81-3be64890f955",
   "metadata": {},
   "outputs": [],
   "source": [
    "a.append(4)"
   ]
  },
  {
   "cell_type": "code",
   "execution_count": 47,
   "id": "d31ee05d-15a2-42ed-bb39-1dc312f1da0d",
   "metadata": {},
   "outputs": [
    {
     "data": {
      "text/plain": [
       "[1, 2, 3, 4]"
      ]
     },
     "execution_count": 47,
     "metadata": {},
     "output_type": "execute_result"
    }
   ],
   "source": [
    "a"
   ]
  },
  {
   "cell_type": "code",
   "execution_count": 48,
   "id": "11846038-ab78-491d-b130-b48d03cfb85a",
   "metadata": {},
   "outputs": [
    {
     "data": {
      "text/plain": [
       "[1, 2, 3, 4]"
      ]
     },
     "execution_count": 48,
     "metadata": {},
     "output_type": "execute_result"
    }
   ],
   "source": [
    "b"
   ]
  },
  {
   "cell_type": "code",
   "execution_count": 49,
   "id": "d3b351f5-6650-4bbb-9ff4-7e3c91717971",
   "metadata": {},
   "outputs": [
    {
     "data": {
      "text/plain": [
       "[1, 2, 3]"
      ]
     },
     "execution_count": 49,
     "metadata": {},
     "output_type": "execute_result"
    }
   ],
   "source": [
    "c"
   ]
  },
  {
   "cell_type": "code",
   "execution_count": 50,
   "id": "72557545-f91f-44a7-bcfb-5d7a4a3bea72",
   "metadata": {},
   "outputs": [],
   "source": [
    "c = \"\"\"\n",
    "This is a longer string that\n",
    "spans multiple lines\n",
    "\"\"\""
   ]
  },
  {
   "cell_type": "code",
   "execution_count": 51,
   "id": "38863eae-f7df-4a3f-8046-4b7709dc2986",
   "metadata": {},
   "outputs": [
    {
     "data": {
      "text/plain": [
       "3"
      ]
     },
     "execution_count": 51,
     "metadata": {},
     "output_type": "execute_result"
    }
   ],
   "source": [
    "c.count(\"\\n\")"
   ]
  },
  {
   "cell_type": "code",
   "execution_count": 53,
   "id": "a9def257-7f70-4d7a-bf95-12ab9c5347dd",
   "metadata": {},
   "outputs": [],
   "source": [
    "a = \"this is a string\""
   ]
  },
  {
   "cell_type": "code",
   "execution_count": 54,
   "id": "b6005702-b2fe-4e0b-9a3a-87f89ace3e12",
   "metadata": {},
   "outputs": [
    {
     "data": {
      "text/plain": [
       "'this is a longer string'"
      ]
     },
     "execution_count": 54,
     "metadata": {},
     "output_type": "execute_result"
    }
   ],
   "source": [
    "b = a.replace(\"string\", \"longer string\")\n",
    "b"
   ]
  },
  {
   "cell_type": "code",
   "execution_count": 55,
   "id": "90c5b2af-ee31-4291-ae61-17276cbc20ca",
   "metadata": {},
   "outputs": [
    {
     "name": "stdout",
     "output_type": "stream",
     "text": [
      "5.6\n"
     ]
    }
   ],
   "source": [
    "a = 5.6\n",
    "s = str(a)\n",
    "print(s)"
   ]
  },
  {
   "cell_type": "code",
   "execution_count": 56,
   "id": "98f4f34f-aab4-4456-934c-4d10e2ea8b39",
   "metadata": {},
   "outputs": [
    {
     "name": "stdout",
     "output_type": "stream",
     "text": [
      "12\\34\n"
     ]
    }
   ],
   "source": [
    "s = \"12\\\\34\"\n",
    "print(s)"
   ]
  },
  {
   "cell_type": "code",
   "execution_count": 57,
   "id": "67fc0dee-fa7e-4fb2-a62e-c86e47c65738",
   "metadata": {},
   "outputs": [
    {
     "data": {
      "text/plain": [
       "'this is the first half and this is the second half'"
      ]
     },
     "execution_count": 57,
     "metadata": {},
     "output_type": "execute_result"
    }
   ],
   "source": [
    "a = \"this is the first half \"\n",
    "b = \"and this is the second half\"\n",
    "a+b"
   ]
  },
  {
   "cell_type": "code",
   "execution_count": 58,
   "id": "3d51b515-bfb5-434d-b2b2-d2d6d185b19b",
   "metadata": {},
   "outputs": [],
   "source": [
    "template = \"{0:.2f} {1:s} are worth US${2:d}\" # 소수점 2자리 이하 실수가 0번 1번이 s=문자열 2번은 d=실수"
   ]
  },
  {
   "cell_type": "code",
   "execution_count": 59,
   "id": "1c562838-3512-4d53-a085-43ca24c146ee",
   "metadata": {},
   "outputs": [
    {
     "data": {
      "text/plain": [
       "'88.46 Argentine Pesos are worth US$1'"
      ]
     },
     "execution_count": 59,
     "metadata": {},
     "output_type": "execute_result"
    }
   ],
   "source": [
    "template.format(88.46, \"Argentine Pesos\", 1) # 차례대로 0,1,2 자리에 들어감"
   ]
  },
  {
   "cell_type": "code",
   "execution_count": 60,
   "id": "360b7701-93b5-4d67-b871-e923f7005414",
   "metadata": {},
   "outputs": [],
   "source": [
    "amount = 10\n",
    "rate = 88.46\n",
    "currency = \"Pesos\"\n",
    "result = f\"{amount} {currency} is worth US${amount / rate}\" # f사용해서 문자,숫자 상관없이 포메팅가능"
   ]
  },
  {
   "cell_type": "code",
   "execution_count": 61,
   "id": "9736c592-99bf-4783-891e-ef0b6be8cad5",
   "metadata": {},
   "outputs": [
    {
     "data": {
      "text/plain": [
       "'10 Pesos is worth US$0.11304544426859599'"
      ]
     },
     "execution_count": 61,
     "metadata": {},
     "output_type": "execute_result"
    }
   ],
   "source": [
    "result"
   ]
  },
  {
   "cell_type": "code",
   "execution_count": 62,
   "id": "65b051ca-0d73-452b-ab84-f2565025e703",
   "metadata": {},
   "outputs": [
    {
     "data": {
      "text/plain": [
       "True"
      ]
     },
     "execution_count": 62,
     "metadata": {},
     "output_type": "execute_result"
    }
   ],
   "source": [
    "False or True"
   ]
  },
  {
   "cell_type": "code",
   "execution_count": 63,
   "id": "04fe8a3d-724f-4d1f-98dd-2812c26b63f6",
   "metadata": {},
   "outputs": [],
   "source": [
    "from datetime import datetime, date, time\n",
    "dt = datetime(2024, 5, 21, 9, 45, 21)"
   ]
  },
  {
   "cell_type": "code",
   "execution_count": 64,
   "id": "a816c567-fdd7-471a-99ba-244c61dd8cc7",
   "metadata": {},
   "outputs": [
    {
     "data": {
      "text/plain": [
       "datetime.datetime(2024, 5, 21, 9, 45, 21)"
      ]
     },
     "execution_count": 64,
     "metadata": {},
     "output_type": "execute_result"
    }
   ],
   "source": [
    "dt"
   ]
  },
  {
   "cell_type": "code",
   "execution_count": 65,
   "id": "e9aade3d-1056-45a1-bea7-17887a2c6766",
   "metadata": {},
   "outputs": [
    {
     "data": {
      "text/plain": [
       "21"
      ]
     },
     "execution_count": 65,
     "metadata": {},
     "output_type": "execute_result"
    }
   ],
   "source": [
    "dt.day"
   ]
  },
  {
   "cell_type": "code",
   "execution_count": 66,
   "id": "aa3a53db-0fd6-4643-b01c-9c43f23a3ceb",
   "metadata": {},
   "outputs": [
    {
     "data": {
      "text/plain": [
       "45"
      ]
     },
     "execution_count": 66,
     "metadata": {},
     "output_type": "execute_result"
    }
   ],
   "source": [
    "dt.minute"
   ]
  },
  {
   "cell_type": "code",
   "execution_count": 67,
   "id": "801fb6d3-7f23-4672-810e-13b900616208",
   "metadata": {},
   "outputs": [
    {
     "data": {
      "text/plain": [
       "datetime.date(2024, 5, 21)"
      ]
     },
     "execution_count": 67,
     "metadata": {},
     "output_type": "execute_result"
    }
   ],
   "source": [
    "dt.date()"
   ]
  },
  {
   "cell_type": "code",
   "execution_count": 69,
   "id": "b138e89e-159c-4ac9-933d-063a08d8ff84",
   "metadata": {},
   "outputs": [
    {
     "data": {
      "text/plain": [
       "datetime.time(9, 45, 21)"
      ]
     },
     "execution_count": 69,
     "metadata": {},
     "output_type": "execute_result"
    }
   ],
   "source": [
    "dt.time()"
   ]
  },
  {
   "cell_type": "code",
   "execution_count": 70,
   "id": "6142b337-6367-4847-9ad5-375d32468d95",
   "metadata": {},
   "outputs": [],
   "source": [
    "states = [\"   Alabama \", \"Georgia!\", \"Georgia\", \"georgia\", \"FlOrIda\",\n",
    "          \"south   carolina##\", \"West virginia?\"]"
   ]
  },
  {
   "cell_type": "markdown",
   "id": "e18cd90e-a2bd-4e4a-b67d-de3d02c16d26",
   "metadata": {},
   "source": [
    "import re\n",
    "\n"
   ]
  },
  {
   "cell_type": "code",
   "execution_count": 78,
   "id": "7e95f7c3-20d4-4d55-9049-5772ffee953f",
   "metadata": {},
   "outputs": [],
   "source": [
    "def clean_strings(strings):\n",
    "    result=[]\n",
    "    for value in strings:\n",
    "        value=value.strip()\n",
    "        value=re.sub(\"[!#?]\",\"\",value) #첫번째 패턴을 2번째 패턴으로 치환 value문자열에서\n",
    "        value=value.title() #각 단어의 첫번째 문자가 대문자로 변경 두번째부터는 소문자로\n",
    "        result.append(value)\n",
    "    return result"
   ]
  },
  {
   "cell_type": "code",
   "execution_count": 79,
   "id": "6753e052-64e5-4d5a-99c0-2b7e497de6eb",
   "metadata": {},
   "outputs": [
    {
     "data": {
      "text/plain": [
       "['Alabama',\n",
       " 'Georgia',\n",
       " 'Georgia',\n",
       " 'Georgia',\n",
       " 'Florida',\n",
       " 'South   Carolina',\n",
       " 'West Virginia']"
      ]
     },
     "execution_count": 79,
     "metadata": {},
     "output_type": "execute_result"
    }
   ],
   "source": [
    "\n",
    "clean_strings(states)"
   ]
  },
  {
   "cell_type": "code",
   "execution_count": 80,
   "id": "d7ca3ade-d025-4e1a-b113-0e2e1dfc9f87",
   "metadata": {},
   "outputs": [
    {
     "data": {
      "text/plain": [
       "array([1, 2, 3])"
      ]
     },
     "execution_count": 80,
     "metadata": {},
     "output_type": "execute_result"
    }
   ],
   "source": [
    "arr1 = np.array([1, 2, 3])\n",
    "arr1"
   ]
  },
  {
   "cell_type": "code",
   "execution_count": 81,
   "id": "5cc274fb-8524-4b63-a3e3-0e0dd62650ec",
   "metadata": {},
   "outputs": [],
   "source": [
    "arr1 = np.array([1, 2, 3], dtype=np.float64)"
   ]
  },
  {
   "cell_type": "code",
   "execution_count": 83,
   "id": "1fd8fcd6-9305-4ca3-8b47-7b6cf06d44c9",
   "metadata": {},
   "outputs": [
    {
     "data": {
      "text/plain": [
       "dtype('float64')"
      ]
     },
     "execution_count": 83,
     "metadata": {},
     "output_type": "execute_result"
    }
   ],
   "source": [
    "arr1.dtype"
   ]
  },
  {
   "cell_type": "code",
   "execution_count": 84,
   "id": "acfee187-643c-4063-b475-88260a537aa8",
   "metadata": {},
   "outputs": [
    {
     "data": {
      "text/plain": [
       "dtype('int32')"
      ]
     },
     "execution_count": 84,
     "metadata": {},
     "output_type": "execute_result"
    }
   ],
   "source": [
    "arr = np.array([1, 2, 3, 4, 5])\n",
    "arr.dtype"
   ]
  },
  {
   "cell_type": "code",
   "execution_count": 85,
   "id": "34a2192f-f022-453e-bc19-ec112bf7a803",
   "metadata": {},
   "outputs": [
    {
     "data": {
      "text/plain": [
       "array([1., 2., 3., 4., 5.])"
      ]
     },
     "execution_count": 85,
     "metadata": {},
     "output_type": "execute_result"
    }
   ],
   "source": [
    "float_arr = arr.astype(np.float64) #astype = 데이터의 타입을 변환\n",
    "float_arr"
   ]
  },
  {
   "cell_type": "code",
   "execution_count": 86,
   "id": "6f728bd5-e3b7-4666-a5f6-211571859e3c",
   "metadata": {},
   "outputs": [
    {
     "data": {
      "text/plain": [
       "array([[1., 2., 3.],\n",
       "       [4., 5., 6.]])"
      ]
     },
     "execution_count": 86,
     "metadata": {},
     "output_type": "execute_result"
    }
   ],
   "source": [
    "arr = np.array([[1., 2., 3.], [4., 5., 6.]])\n",
    "arr"
   ]
  },
  {
   "cell_type": "code",
   "execution_count": 87,
   "id": "1dccd76f-6fc3-40f3-bf4a-9ea293ce1317",
   "metadata": {},
   "outputs": [
    {
     "data": {
      "text/plain": [
       "array([[ 1.,  4.,  9.],\n",
       "       [16., 25., 36.]])"
      ]
     },
     "execution_count": 87,
     "metadata": {},
     "output_type": "execute_result"
    }
   ],
   "source": [
    "arr*arr"
   ]
  },
  {
   "cell_type": "code",
   "execution_count": 88,
   "id": "cbad3690-a594-4e90-90a4-c918e1405467",
   "metadata": {},
   "outputs": [
    {
     "data": {
      "text/plain": [
       "array([[False,  True, False],\n",
       "       [ True, False,  True]])"
      ]
     },
     "execution_count": 88,
     "metadata": {},
     "output_type": "execute_result"
    }
   ],
   "source": [
    "arr2 = np.array([[0., 4., 1.], [7., 2., 12.]])\n",
    "arr2\n",
    "arr2 > arr"
   ]
  },
  {
   "cell_type": "code",
   "execution_count": 89,
   "id": "bebd76ab-2dbd-4d80-a8ee-d298123c28d0",
   "metadata": {},
   "outputs": [
    {
     "data": {
      "text/plain": [
       "array([0, 1, 2, 3, 4, 5, 6, 7, 8, 9])"
      ]
     },
     "execution_count": 89,
     "metadata": {},
     "output_type": "execute_result"
    }
   ],
   "source": [
    "arr = np.arange(10)\n",
    "arr"
   ]
  },
  {
   "cell_type": "code",
   "execution_count": 90,
   "id": "b9b346ec-9918-4c58-ab8c-1447e5711c82",
   "metadata": {},
   "outputs": [
    {
     "data": {
      "text/plain": [
       "5"
      ]
     },
     "execution_count": 90,
     "metadata": {},
     "output_type": "execute_result"
    }
   ],
   "source": [
    "arr[5]"
   ]
  },
  {
   "cell_type": "code",
   "execution_count": 92,
   "id": "dc141dce-cd2e-4d46-ad0e-d6a7276f1e49",
   "metadata": {},
   "outputs": [
    {
     "data": {
      "text/plain": [
       "array([5, 6, 7])"
      ]
     },
     "execution_count": 92,
     "metadata": {},
     "output_type": "execute_result"
    }
   ],
   "source": [
    "arr[5:8]"
   ]
  },
  {
   "cell_type": "code",
   "execution_count": 93,
   "id": "744bdcef-4533-4773-8c3e-b367508a538b",
   "metadata": {},
   "outputs": [],
   "source": [
    "arr[5:8] = 12"
   ]
  },
  {
   "cell_type": "code",
   "execution_count": 94,
   "id": "d16309d7-dec1-4adc-957e-c0c2b77a2f64",
   "metadata": {},
   "outputs": [
    {
     "data": {
      "text/plain": [
       "array([ 0,  1,  2,  3,  4, 12, 12, 12,  8,  9])"
      ]
     },
     "execution_count": 94,
     "metadata": {},
     "output_type": "execute_result"
    }
   ],
   "source": [
    "arr"
   ]
  },
  {
   "cell_type": "code",
   "execution_count": 95,
   "id": "832672c8-d262-449c-b530-0290c1e8c6f4",
   "metadata": {},
   "outputs": [
    {
     "data": {
      "text/plain": [
       "array([12, 12, 12])"
      ]
     },
     "execution_count": 95,
     "metadata": {},
     "output_type": "execute_result"
    }
   ],
   "source": [
    "arr_slice = arr[5:8]\n",
    "arr_slice"
   ]
  },
  {
   "cell_type": "code",
   "execution_count": 96,
   "id": "6dce4722-e278-451d-bd03-c758f3439fac",
   "metadata": {},
   "outputs": [
    {
     "data": {
      "text/plain": [
       "array([    0,     1,     2,     3,     4,    12, 12345,    12,     8,\n",
       "           9])"
      ]
     },
     "execution_count": 96,
     "metadata": {},
     "output_type": "execute_result"
    }
   ],
   "source": [
    "arr_slice[1]=12345\n",
    "arr"
   ]
  },
  {
   "cell_type": "code",
   "execution_count": 97,
   "id": "c49723a0-f56e-459e-a750-a77e99076276",
   "metadata": {},
   "outputs": [],
   "source": [
    "arr2d = np.array([[1, 2, 3], [4, 5, 6], [7, 8, 9]])"
   ]
  },
  {
   "cell_type": "code",
   "execution_count": 98,
   "id": "5451a86a-eaf1-454a-bc1f-0e55d03289f6",
   "metadata": {},
   "outputs": [
    {
     "data": {
      "text/plain": [
       "array([[[ 1,  2,  3],\n",
       "        [ 4,  5,  6]],\n",
       "\n",
       "       [[ 7,  8,  9],\n",
       "        [10, 11, 12]]])"
      ]
     },
     "execution_count": 98,
     "metadata": {},
     "output_type": "execute_result"
    }
   ],
   "source": [
    "arr3d = np.array([[[1, 2, 3], [4, 5, 6]], [[7, 8, 9], [10, 11, 12]]])\n",
    "arr3d"
   ]
  },
  {
   "cell_type": "code",
   "execution_count": 99,
   "id": "6af59abe-9614-42f7-9fa6-3661a40ebf30",
   "metadata": {},
   "outputs": [
    {
     "data": {
      "text/plain": [
       "(2, 2, 3)"
      ]
     },
     "execution_count": 99,
     "metadata": {},
     "output_type": "execute_result"
    }
   ],
   "source": [
    "arr3d.shape"
   ]
  },
  {
   "cell_type": "code",
   "execution_count": 100,
   "id": "40ac6832-b8d5-4bd0-a496-6b1c30bf097e",
   "metadata": {},
   "outputs": [
    {
     "data": {
      "text/plain": [
       "9"
      ]
     },
     "execution_count": 100,
     "metadata": {},
     "output_type": "execute_result"
    }
   ],
   "source": [
    "arr2d[2][2]"
   ]
  },
  {
   "cell_type": "code",
   "execution_count": 104,
   "id": "8937beab-dea3-448f-8f4b-30b5eb2fd146",
   "metadata": {},
   "outputs": [
    {
     "data": {
      "text/plain": [
       "array([[1, 2, 3],\n",
       "       [4, 5, 6]])"
      ]
     },
     "execution_count": 104,
     "metadata": {},
     "output_type": "execute_result"
    }
   ],
   "source": [
    "arr2d[:2][:2]"
   ]
  },
  {
   "cell_type": "code",
   "execution_count": 105,
   "id": "334da0da-dc0e-4479-98be-a0c90ada162e",
   "metadata": {},
   "outputs": [],
   "source": [
    "names = np.array([\"Bob\", \"Joe\", \"Will\", \"Bob\", \"Will\", \"Joe\", \"Joe\"])\n",
    "data = np.array([[4, 7], [0, 2], [-5, 6], [0, 0], [1, 2],\n",
    "                 [-12, -4], [3, 4]])"
   ]
  },
  {
   "cell_type": "code",
   "execution_count": 106,
   "id": "8343836e-e54f-47b5-8355-45401455e630",
   "metadata": {},
   "outputs": [
    {
     "data": {
      "text/plain": [
       "array([ True, False, False,  True, False, False, False])"
      ]
     },
     "execution_count": 106,
     "metadata": {},
     "output_type": "execute_result"
    }
   ],
   "source": [
    "names == \"Bob\""
   ]
  },
  {
   "cell_type": "code",
   "execution_count": 109,
   "id": "ebdbbead-6463-4779-8fcb-03833ac38f34",
   "metadata": {},
   "outputs": [
    {
     "data": {
      "text/plain": [
       "array(['Bob', 'Bob'], dtype='<U4')"
      ]
     },
     "execution_count": 109,
     "metadata": {},
     "output_type": "execute_result"
    }
   ],
   "source": [
    "names[names==\"Bob\"]"
   ]
  },
  {
   "cell_type": "code",
   "execution_count": 110,
   "id": "83174ba2-e156-4345-b220-54007d1eb7f8",
   "metadata": {},
   "outputs": [
    {
     "data": {
      "text/plain": [
       "array([[4, 7],\n",
       "       [0, 0]])"
      ]
     },
     "execution_count": 110,
     "metadata": {},
     "output_type": "execute_result"
    }
   ],
   "source": [
    "data[names==\"Bob\"] #순서가 똑같지만 배열이 다른 상태라면 불린참조로 참조가능"
   ]
  },
  {
   "cell_type": "code",
   "execution_count": 111,
   "id": "5abc67ea-2e20-4d9e-8e4f-0a2cef0a8833",
   "metadata": {},
   "outputs": [
    {
     "data": {
      "text/plain": [
       "array([7, 0])"
      ]
     },
     "execution_count": 111,
     "metadata": {},
     "output_type": "execute_result"
    }
   ],
   "source": [
    "data[names==\"Bob\",1] # 특정조건을 만족하는 자료에서 1열에 해당하는 값을 출력"
   ]
  },
  {
   "cell_type": "code",
   "execution_count": 113,
   "id": "665d6b43-47db-4d8c-b5ea-579e32370d00",
   "metadata": {},
   "outputs": [
    {
     "data": {
      "text/plain": [
       "array([[7],\n",
       "       [0]])"
      ]
     },
     "execution_count": 113,
     "metadata": {},
     "output_type": "execute_result"
    }
   ],
   "source": [
    "data[names==\"Bob\",1:] #1열부터 뒤에끝까지 모두 추출"
   ]
  },
  {
   "cell_type": "code",
   "execution_count": 114,
   "id": "9e61a0a0-ae1d-4b14-b407-a08df665615b",
   "metadata": {},
   "outputs": [
    {
     "data": {
      "text/plain": [
       "array(['Bob', 'Joe', 'Will', 'Bob', 'Will', 'Joe', 'Joe'], dtype='<U4')"
      ]
     },
     "execution_count": 114,
     "metadata": {},
     "output_type": "execute_result"
    }
   ],
   "source": [
    "names"
   ]
  },
  {
   "cell_type": "code",
   "execution_count": 115,
   "id": "44e0df41-4a20-4df4-84d1-54fe11e3b026",
   "metadata": {},
   "outputs": [
    {
     "data": {
      "text/plain": [
       "array([False,  True,  True, False,  True,  True,  True])"
      ]
     },
     "execution_count": 115,
     "metadata": {},
     "output_type": "execute_result"
    }
   ],
   "source": [
    "names !=\"Bob\"#not equal,!="
   ]
  },
  {
   "cell_type": "code",
   "execution_count": 118,
   "id": "a04081fd-02c7-41fd-a9a1-510689b99456",
   "metadata": {},
   "outputs": [
    {
     "data": {
      "text/plain": [
       "array([False,  True,  True, False,  True,  True,  True])"
      ]
     },
     "execution_count": 118,
     "metadata": {},
     "output_type": "execute_result"
    }
   ],
   "source": [
    "names == \"Bob\"\n",
    "#!(names==\"Bob\")#문법오류\n",
    "~(names==\"Bob\") # ~는 부정"
   ]
  },
  {
   "cell_type": "code",
   "execution_count": 119,
   "id": "0c67abd8-3d5c-4559-9a19-5a94fcffa15d",
   "metadata": {},
   "outputs": [
    {
     "data": {
      "text/plain": [
       "array(['Bob', 'Joe', 'Will', 'Bob', 'Will', 'Joe', 'Joe'], dtype='<U4')"
      ]
     },
     "execution_count": 119,
     "metadata": {},
     "output_type": "execute_result"
    }
   ],
   "source": [
    "names"
   ]
  },
  {
   "cell_type": "code",
   "execution_count": 120,
   "id": "df9a02ae-6a4b-4df8-bd41-0d7b2266e61b",
   "metadata": {},
   "outputs": [
    {
     "data": {
      "text/plain": [
       "array([[  4,   7],\n",
       "       [  0,   2],\n",
       "       [ -5,   6],\n",
       "       [  0,   0],\n",
       "       [  1,   2],\n",
       "       [-12,  -4],\n",
       "       [  3,   4]])"
      ]
     },
     "execution_count": 120,
     "metadata": {},
     "output_type": "execute_result"
    }
   ],
   "source": [
    "data"
   ]
  },
  {
   "cell_type": "code",
   "execution_count": 121,
   "id": "17cd7055-36fa-4cc7-8e71-55e84b346671",
   "metadata": {},
   "outputs": [
    {
     "data": {
      "text/plain": [
       "array([[  0,   2],\n",
       "       [ -5,   6],\n",
       "       [  1,   2],\n",
       "       [-12,  -4],\n",
       "       [  3,   4]])"
      ]
     },
     "execution_count": 121,
     "metadata": {},
     "output_type": "execute_result"
    }
   ],
   "source": [
    "data[names!=\"Bob\"]"
   ]
  },
  {
   "cell_type": "code",
   "execution_count": 122,
   "id": "2de5a3ea-7134-431d-a658-e0dba62b84cf",
   "metadata": {},
   "outputs": [
    {
     "data": {
      "text/plain": [
       "array([[ 4,  7],\n",
       "       [-5,  6],\n",
       "       [ 0,  0],\n",
       "       [ 1,  2]])"
      ]
     },
     "execution_count": 122,
     "metadata": {},
     "output_type": "execute_result"
    }
   ],
   "source": [
    "data[(names =='Bob') | (names =='Will')] # |: or (또는) , &: and(그리고)\n"
   ]
  },
  {
   "cell_type": "code",
   "execution_count": 124,
   "id": "78e07b7c-b280-4fc7-898c-614c39e353e7",
   "metadata": {},
   "outputs": [
    {
     "data": {
      "text/plain": [
       "array([[False, False],\n",
       "       [False, False],\n",
       "       [ True, False],\n",
       "       [False, False],\n",
       "       [False, False],\n",
       "       [ True,  True],\n",
       "       [False, False]])"
      ]
     },
     "execution_count": 124,
     "metadata": {},
     "output_type": "execute_result"
    }
   ],
   "source": [
    "data<0 #배열의 모든 요소와 비교"
   ]
  },
  {
   "cell_type": "code",
   "execution_count": 126,
   "id": "9b266946-efa7-48b3-b629-4500720dddaa",
   "metadata": {},
   "outputs": [
    {
     "data": {
      "text/plain": [
       "array([ -5, -12,  -4])"
      ]
     },
     "execution_count": 126,
     "metadata": {},
     "output_type": "execute_result"
    }
   ],
   "source": [
    "data[data<0] # 결과가 2차원array에서 1차원 array가 됨"
   ]
  },
  {
   "cell_type": "code",
   "execution_count": 127,
   "id": "375b140c-dfc3-4fb0-b295-b87a26c22385",
   "metadata": {},
   "outputs": [
    {
     "data": {
      "text/plain": [
       "array(['Bob', 'Joe', 'Will', 'Bob', 'Will', 'Joe', 'Joe'], dtype='<U4')"
      ]
     },
     "execution_count": 127,
     "metadata": {},
     "output_type": "execute_result"
    }
   ],
   "source": [
    "names"
   ]
  },
  {
   "cell_type": "code",
   "execution_count": 128,
   "id": "d44a0e30-5136-42fa-b305-ca3f2e8d14f1",
   "metadata": {},
   "outputs": [
    {
     "data": {
      "text/plain": [
       "array([[  4,   7],\n",
       "       [  0,   2],\n",
       "       [ -5,   6],\n",
       "       [  0,   0],\n",
       "       [  1,   2],\n",
       "       [-12,  -4],\n",
       "       [  3,   4]])"
      ]
     },
     "execution_count": 128,
     "metadata": {},
     "output_type": "execute_result"
    }
   ],
   "source": [
    "data"
   ]
  },
  {
   "cell_type": "code",
   "execution_count": 131,
   "id": "36092f70-efec-4c30-95a7-e85f6137f5d3",
   "metadata": {},
   "outputs": [
    {
     "data": {
      "text/plain": [
       "array([[  7,   7],\n",
       "       [  0,   2],\n",
       "       [  7,   7],\n",
       "       [  7,   7],\n",
       "       [  7,   7],\n",
       "       [-12,  -4],\n",
       "       [  3,   4]])"
      ]
     },
     "execution_count": 131,
     "metadata": {},
     "output_type": "execute_result"
    }
   ],
   "source": [
    "data[names!=\"Joe\"]=7\n",
    "data"
   ]
  },
  {
   "cell_type": "code",
   "execution_count": 132,
   "id": "22832ddc-420e-4044-b835-5263262718bc",
   "metadata": {},
   "outputs": [
    {
     "data": {
      "text/plain": [
       "array([[0., 0., 0., 0.],\n",
       "       [1., 1., 1., 1.],\n",
       "       [2., 2., 2., 2.],\n",
       "       [3., 3., 3., 3.],\n",
       "       [4., 4., 4., 4.],\n",
       "       [5., 5., 5., 5.],\n",
       "       [6., 6., 6., 6.],\n",
       "       [7., 7., 7., 7.]])"
      ]
     },
     "execution_count": 132,
     "metadata": {},
     "output_type": "execute_result"
    }
   ],
   "source": [
    "arr = np.zeros((8, 4))\n",
    "for i in range(8):\n",
    "    arr[i] = i\n",
    "arr"
   ]
  },
  {
   "cell_type": "code",
   "execution_count": 133,
   "id": "dd6beca6-5402-4d41-8808-2f9be595fb0a",
   "metadata": {},
   "outputs": [
    {
     "data": {
      "text/plain": [
       "array([[3., 3., 3., 3.],\n",
       "       [4., 4., 4., 4.]])"
      ]
     },
     "execution_count": 133,
     "metadata": {},
     "output_type": "execute_result"
    }
   ],
   "source": [
    "arr[3:5]"
   ]
  },
  {
   "cell_type": "code",
   "execution_count": 134,
   "id": "be87ba80-8f73-46c9-bbd4-56532474f937",
   "metadata": {},
   "outputs": [
    {
     "data": {
      "text/plain": [
       "array([[4., 4., 4., 4.],\n",
       "       [3., 3., 3., 3.],\n",
       "       [6., 6., 6., 6.],\n",
       "       [0., 0., 0., 0.]])"
      ]
     },
     "execution_count": 134,
     "metadata": {},
     "output_type": "execute_result"
    }
   ],
   "source": [
    "arr[[4,3,6,0]] #여러개의 행을 내가 원하는 순서대로 추출하고싶을때 대괄호 하나 안에 행을 여러개 추출"
   ]
  },
  {
   "cell_type": "code",
   "execution_count": 137,
   "id": "fb664a20-593e-4407-9904-3faa5de5fd8f",
   "metadata": {},
   "outputs": [
    {
     "data": {
      "text/plain": [
       "array([7., 7., 7., 7.])"
      ]
     },
     "execution_count": 137,
     "metadata": {},
     "output_type": "execute_result"
    }
   ],
   "source": [
    "arr[7]"
   ]
  },
  {
   "cell_type": "code",
   "execution_count": 138,
   "id": "b716b4be-3fcb-4660-9e8a-57ad58831443",
   "metadata": {},
   "outputs": [
    {
     "data": {
      "text/plain": [
       "array([7., 7., 7., 7.])"
      ]
     },
     "execution_count": 138,
     "metadata": {},
     "output_type": "execute_result"
    }
   ],
   "source": [
    "arr[-1]"
   ]
  },
  {
   "cell_type": "code",
   "execution_count": 139,
   "id": "eb1e4516-3b44-4a91-ac26-d0d9665ef318",
   "metadata": {},
   "outputs": [
    {
     "data": {
      "text/plain": [
       "array([[7., 7., 7., 7.],\n",
       "       [5., 5., 5., 5.],\n",
       "       [3., 3., 3., 3.]])"
      ]
     },
     "execution_count": 139,
     "metadata": {},
     "output_type": "execute_result"
    }
   ],
   "source": [
    "arr[[-1,-3,-5]]"
   ]
  },
  {
   "cell_type": "code",
   "execution_count": 144,
   "id": "aed62a69-6475-4b4e-b1ce-4f45e8554f04",
   "metadata": {},
   "outputs": [
    {
     "data": {
      "text/plain": [
       "array([[5., 5., 5., 5.],\n",
       "       [4., 4., 4., 4.],\n",
       "       [3., 3., 3., 3.]])"
      ]
     },
     "execution_count": 144,
     "metadata": {},
     "output_type": "execute_result"
    }
   ],
   "source": [
    "arr[5:2:-1]"
   ]
  },
  {
   "cell_type": "code",
   "execution_count": 167,
   "id": "3b9f0b05-be39-463e-8fba-334d03ba5019",
   "metadata": {},
   "outputs": [
    {
     "data": {
      "text/plain": [
       "array([[ 0,  1,  2,  3],\n",
       "       [ 4,  5,  6,  7],\n",
       "       [ 8,  9, 10, 11],\n",
       "       [12, 13, 14, 15],\n",
       "       [16, 17, 18, 19],\n",
       "       [20, 21, 22, 23],\n",
       "       [24, 25, 26, 27],\n",
       "       [28, 29, 30, 31]])"
      ]
     },
     "execution_count": 167,
     "metadata": {},
     "output_type": "execute_result"
    }
   ],
   "source": [
    "arr = np.arange(32).reshape((8, 4))\n",
    "arr"
   ]
  },
  {
   "cell_type": "code",
   "execution_count": 168,
   "id": "e2e5bbdb-a3be-4473-a282-91c362696257",
   "metadata": {},
   "outputs": [
    {
     "data": {
      "text/plain": [
       "array([[ 4,  5,  6,  7],\n",
       "       [20, 21, 22, 23],\n",
       "       [28, 29, 30, 31],\n",
       "       [ 8,  9, 10, 11]])"
      ]
     },
     "execution_count": 168,
     "metadata": {},
     "output_type": "execute_result"
    }
   ],
   "source": [
    "arr[[1,5,7,2]]"
   ]
  },
  {
   "cell_type": "code",
   "execution_count": 172,
   "id": "4a2c69ad-9802-4307-9756-40aa0d8e73cb",
   "metadata": {},
   "outputs": [
    {
     "data": {
      "text/plain": [
       "array([ 4, 23, 29, 10])"
      ]
     },
     "execution_count": 172,
     "metadata": {},
     "output_type": "execute_result"
    }
   ],
   "source": [
    "#배열명 [[행번호],[열번호]] => (행번호,열번호) 이런식으로 쌍을 이뤄서 쌍에대한 요소값을 추출해버림\n",
    "arr[[1,5,7,2],[0,3,1,2]]"
   ]
  },
  {
   "cell_type": "code",
   "execution_count": 173,
   "id": "283b3d44-b8ed-4727-9380-e83c002cbd0e",
   "metadata": {},
   "outputs": [
    {
     "data": {
      "text/plain": [
       "array([[ 4,  7,  5,  6],\n",
       "       [20, 23, 21, 22],\n",
       "       [28, 31, 29, 30],\n",
       "       [ 8, 11,  9, 10]])"
      ]
     },
     "execution_count": 173,
     "metadata": {},
     "output_type": "execute_result"
    }
   ],
   "source": [
    "arr[[1,5,7,2]][:,[0,3,1,2]]"
   ]
  },
  {
   "cell_type": "code",
   "execution_count": 175,
   "id": "c11ea890-499d-45b8-a266-368193bb569e",
   "metadata": {},
   "outputs": [
    {
     "data": {
      "text/plain": [
       "array([[ 4,  7,  5,  6],\n",
       "       [20, 23, 21, 22],\n",
       "       [28, 31, 29, 30],\n",
       "       [ 8, 11,  9, 10]])"
      ]
     },
     "execution_count": 175,
     "metadata": {},
     "output_type": "execute_result"
    }
   ],
   "source": [
    "arr[:,[0,3,1,2]][[1,5,7,2]]"
   ]
  },
  {
   "cell_type": "code",
   "execution_count": 176,
   "id": "424dd036-98c2-41d6-a910-73d015e1a833",
   "metadata": {},
   "outputs": [],
   "source": [
    "arr[[1,5,7,2],[0,3,1,2]]=0"
   ]
  },
  {
   "cell_type": "code",
   "execution_count": 177,
   "id": "733328a8-d243-4f76-8f8d-c2fd5c592a95",
   "metadata": {},
   "outputs": [
    {
     "data": {
      "text/plain": [
       "array([[ 0,  1,  2,  3],\n",
       "       [ 0,  5,  6,  7],\n",
       "       [ 8,  9,  0, 11],\n",
       "       [12, 13, 14, 15],\n",
       "       [16, 17, 18, 19],\n",
       "       [20, 21, 22,  0],\n",
       "       [24, 25, 26, 27],\n",
       "       [28,  0, 30, 31]])"
      ]
     },
     "execution_count": 177,
     "metadata": {},
     "output_type": "execute_result"
    }
   ],
   "source": [
    "arr"
   ]
  },
  {
   "cell_type": "code",
   "execution_count": 178,
   "id": "8d0a90cd-2ead-4fc7-bbea-e6537a355189",
   "metadata": {},
   "outputs": [
    {
     "data": {
      "text/plain": [
       "array([[ 0,  1,  2,  3],\n",
       "       [ 0,  0,  0,  0],\n",
       "       [ 0,  0,  0,  0],\n",
       "       [12, 13, 14, 15],\n",
       "       [16, 17, 18, 19],\n",
       "       [ 0,  0,  0,  0],\n",
       "       [24, 25, 26, 27],\n",
       "       [ 0,  0,  0,  0]])"
      ]
     },
     "execution_count": 178,
     "metadata": {},
     "output_type": "execute_result"
    }
   ],
   "source": [
    "arr[[1,5,7,2]]=0\n",
    "arr"
   ]
  },
  {
   "cell_type": "code",
   "execution_count": 182,
   "id": "5456f151-df71-474e-a351-a8806b3b3128",
   "metadata": {},
   "outputs": [
    {
     "data": {
      "text/plain": [
       "array([[ 0,  1,  2,  3,  4],\n",
       "       [ 5,  6,  7,  8,  9],\n",
       "       [10, 11, 12, 13, 14]])"
      ]
     },
     "execution_count": 182,
     "metadata": {},
     "output_type": "execute_result"
    }
   ],
   "source": [
    "arr=np.arange(15).reshape((3,5)) #3행 5열\n",
    "arr"
   ]
  },
  {
   "cell_type": "code",
   "execution_count": 183,
   "id": "f0656e35-985f-4450-a485-0ec7cdc7a771",
   "metadata": {},
   "outputs": [
    {
     "data": {
      "text/plain": [
       "array([[ 0,  5, 10],\n",
       "       [ 1,  6, 11],\n",
       "       [ 2,  7, 12],\n",
       "       [ 3,  8, 13],\n",
       "       [ 4,  9, 14]])"
      ]
     },
     "execution_count": 183,
     "metadata": {},
     "output_type": "execute_result"
    }
   ],
   "source": [
    "arr.T #5행 3열 "
   ]
  },
  {
   "cell_type": "code",
   "execution_count": 189,
   "id": "d25f8759-0664-4a2c-97db-b9ba36072a8a",
   "metadata": {},
   "outputs": [
    {
     "data": {
      "text/plain": [
       "array([[ 0,  1,  0],\n",
       "       [ 1,  2, -2],\n",
       "       [ 6,  3,  2],\n",
       "       [-1,  0, -1],\n",
       "       [ 1,  0,  1]])"
      ]
     },
     "execution_count": 189,
     "metadata": {},
     "output_type": "execute_result"
    }
   ],
   "source": [
    "arr = np.array([[0, 1, 0], [1, 2, -2], [6, 3, 2], [-1, 0, -1], [1, 0, 1]])\n",
    "arr"
   ]
  },
  {
   "cell_type": "code",
   "execution_count": 188,
   "id": "d34e3dfc-6bf1-47db-b6c8-a9a4f1d52173",
   "metadata": {},
   "outputs": [
    {
     "data": {
      "text/plain": [
       "array([[ 0,  1,  6, -1,  1],\n",
       "       [ 1,  2,  3,  0,  0],\n",
       "       [ 0, -2,  2, -1,  1]])"
      ]
     },
     "execution_count": 188,
     "metadata": {},
     "output_type": "execute_result"
    }
   ],
   "source": [
    "arr.T"
   ]
  },
  {
   "cell_type": "code",
   "execution_count": 187,
   "id": "afd67dd3-2b26-4def-bc35-ba110a956317",
   "metadata": {},
   "outputs": [
    {
     "data": {
      "text/plain": [
       "array([[ 1,  2,  3,  0,  0],\n",
       "       [ 2,  9,  8,  1, -1],\n",
       "       [ 3,  8, 49, -8,  8],\n",
       "       [ 0,  1, -8,  2, -2],\n",
       "       [ 0, -1,  8, -2,  2]])"
      ]
     },
     "execution_count": 187,
     "metadata": {},
     "output_type": "execute_result"
    }
   ],
   "source": [
    "arr@arr.T # 5,3 @ 3,5 =5,5 행렬의 곱\n"
   ]
  },
  {
   "cell_type": "code",
   "execution_count": 190,
   "id": "d034ed75-30f3-4da2-bb28-6fada8a33a1d",
   "metadata": {},
   "outputs": [
    {
     "data": {
      "text/plain": [
       "array([[39, 20, 12],\n",
       "       [20, 14,  2],\n",
       "       [12,  2, 10]])"
      ]
     },
     "execution_count": 190,
     "metadata": {},
     "output_type": "execute_result"
    }
   ],
   "source": [
    "arr.T @ arr #3,5 @ 5,3= 3,3"
   ]
  },
  {
   "cell_type": "code",
   "execution_count": 192,
   "id": "eb12275b-b616-4f41-a259-25b693d75396",
   "metadata": {},
   "outputs": [
    {
     "data": {
      "text/plain": [
       "array([0, 1, 2, 3, 4, 5, 6, 7, 8, 9])"
      ]
     },
     "execution_count": 192,
     "metadata": {},
     "output_type": "execute_result"
    }
   ],
   "source": [
    "arr=np.arange(10)\n",
    "arr"
   ]
  },
  {
   "cell_type": "code",
   "execution_count": 193,
   "id": "1863da03-3e07-4b77-af76-34507fc2bf1a",
   "metadata": {},
   "outputs": [
    {
     "data": {
      "text/plain": [
       "array([0.        , 1.        , 1.41421356, 1.73205081, 2.        ,\n",
       "       2.23606798, 2.44948974, 2.64575131, 2.82842712, 3.        ])"
      ]
     },
     "execution_count": 193,
     "metadata": {},
     "output_type": "execute_result"
    }
   ],
   "source": [
    "np.sqrt(arr) #제곱근"
   ]
  },
  {
   "cell_type": "code",
   "execution_count": 194,
   "id": "6d5815f4-dd95-4a59-b959-bda0fa608717",
   "metadata": {},
   "outputs": [],
   "source": [
    "xarr = np.array([1.1, 1.2, 1.3, 1.4, 1.5])\n",
    "yarr = np.array([2.1, 2.2, 2.3, 2.4, 2.5])\n",
    "cond = np.array([True, False, True, True, False])"
   ]
  },
  {
   "cell_type": "code",
   "execution_count": 196,
   "id": "8b7fae35-e918-4da3-9583-a6889b75b57b",
   "metadata": {},
   "outputs": [],
   "source": [
    "x=[]\n",
    "for i in range(len(xarr)):\n",
    "    if cond[i]==True:\n",
    "        x.append(xarr[i])\n",
    "    else:\n",
    "        x.append(yarr[i])"
   ]
  },
  {
   "cell_type": "code",
   "execution_count": 202,
   "id": "c436b643-a117-4e91-a03e-69f3d6a3c0b7",
   "metadata": {},
   "outputs": [
    {
     "data": {
      "text/plain": [
       "array([1.1, 2.2, 1.3, 1.4, 2.5])"
      ]
     },
     "execution_count": 202,
     "metadata": {},
     "output_type": "execute_result"
    }
   ],
   "source": [
    "np.array(x)"
   ]
  },
  {
   "cell_type": "code",
   "execution_count": 201,
   "id": "b38fa2ef-9c16-460d-8553-33faec59a811",
   "metadata": {},
   "outputs": [
    {
     "data": {
      "text/plain": [
       "array([1.1, 2.2, 1.3, 1.4, 2.5])"
      ]
     },
     "execution_count": 201,
     "metadata": {},
     "output_type": "execute_result"
    }
   ],
   "source": [
    "result = np.where(cond, xarr, yarr)\n",
    "result"
   ]
  },
  {
   "cell_type": "code",
   "execution_count": 203,
   "id": "b9b06e0e-c5de-4325-b808-7a48f0e88003",
   "metadata": {},
   "outputs": [
    {
     "data": {
      "text/plain": [
       "[(1.1, 2.1, True),\n",
       " (1.2, 2.2, False),\n",
       " (1.3, 2.3, True),\n",
       " (1.4, 2.4, True),\n",
       " (1.5, 2.5, False)]"
      ]
     },
     "execution_count": 203,
     "metadata": {},
     "output_type": "execute_result"
    }
   ],
   "source": [
    "[(x,y,z) for x,y,z  in zip(xarr, yarr, cond)]"
   ]
  },
  {
   "cell_type": "code",
   "execution_count": 204,
   "id": "d1b17fe7-09bc-4e55-91aa-325f80814710",
   "metadata": {},
   "outputs": [
    {
     "data": {
      "text/plain": [
       "[1.1, 2.2, 1.3, 1.4, 2.5]"
      ]
     },
     "execution_count": 204,
     "metadata": {},
     "output_type": "execute_result"
    }
   ],
   "source": [
    "[x if z else y for x,y,z  in zip(xarr, yarr, cond)]"
   ]
  },
  {
   "cell_type": "code",
   "execution_count": 205,
   "id": "1e15658c-6f46-46e5-a582-cf9cb9bae2bf",
   "metadata": {},
   "outputs": [
    {
     "data": {
      "text/plain": [
       "array([1.1, 2.2, 1.3, 1.4, 2.5])"
      ]
     },
     "execution_count": 205,
     "metadata": {},
     "output_type": "execute_result"
    }
   ],
   "source": [
    "#np.where(조건, 참, 거짓) 참이면 2째 값 참조 거짓이면 세번째 값 참조\n",
    "np.where(cond,xarr,yarr)"
   ]
  },
  {
   "cell_type": "code",
   "execution_count": 208,
   "id": "b2da3270-1bae-47ac-98ab-85fbb8e92fcb",
   "metadata": {},
   "outputs": [
    {
     "data": {
      "text/plain": [
       "array([[ True, False, False,  True],\n",
       "       [ True, False,  True, False],\n",
       "       [ True,  True,  True, False],\n",
       "       [False, False, False, False]])"
      ]
     },
     "execution_count": 208,
     "metadata": {},
     "output_type": "execute_result"
    }
   ],
   "source": [
    "arr=np.random.standard_normal((4,4))\n",
    "arr>0"
   ]
  },
  {
   "cell_type": "code",
   "execution_count": 209,
   "id": "426509eb-94db-41ee-95d3-6a3b51cf601c",
   "metadata": {},
   "outputs": [
    {
     "data": {
      "text/plain": [
       "array([[ 1, -1, -1,  1],\n",
       "       [ 1, -1,  1, -1],\n",
       "       [ 1,  1,  1, -1],\n",
       "       [-1, -1, -1, -1]])"
      ]
     },
     "execution_count": 209,
     "metadata": {},
     "output_type": "execute_result"
    }
   ],
   "source": [
    "np.where(arr>0,1,-1)"
   ]
  },
  {
   "cell_type": "code",
   "execution_count": 210,
   "id": "ac2d4e7d-3535-4ba6-87cd-cedac1209565",
   "metadata": {},
   "outputs": [
    {
     "data": {
      "text/plain": [
       "array([[ 0,  1,  2,  3],\n",
       "       [ 4,  5,  6,  7],\n",
       "       [ 8,  9, 10, 11]])"
      ]
     },
     "execution_count": 210,
     "metadata": {},
     "output_type": "execute_result"
    }
   ],
   "source": [
    "arr=np.arange(12).reshape(3,4)\n",
    "arr"
   ]
  },
  {
   "cell_type": "code",
   "execution_count": 214,
   "id": "62806972-c23c-4f2b-8252-8301f0bfdd6f",
   "metadata": {},
   "outputs": [
    {
     "data": {
      "text/plain": [
       "array([[ 3,  1,  2,  3],\n",
       "       [ 4,  5,  3,  7],\n",
       "       [ 8,  3, 10, 11]])"
      ]
     },
     "execution_count": 214,
     "metadata": {},
     "output_type": "execute_result"
    }
   ],
   "source": [
    "np.where(arr%3==0,3,arr)"
   ]
  },
  {
   "cell_type": "code",
   "execution_count": 217,
   "id": "4dad0d77-a0a7-414b-b7b4-bb749dc7f976",
   "metadata": {},
   "outputs": [
    {
     "data": {
      "text/plain": [
       "array([1.5, 5.5, 9.5])"
      ]
     },
     "execution_count": 217,
     "metadata": {},
     "output_type": "execute_result"
    }
   ],
   "source": [
    "np.mean(arr,axis=1) #행단위"
   ]
  },
  {
   "cell_type": "code",
   "execution_count": 218,
   "id": "fb887a9d-83e0-42b4-b85a-f131c7ed8796",
   "metadata": {},
   "outputs": [
    {
     "data": {
      "text/plain": [
       "array([4., 5., 6., 7.])"
      ]
     },
     "execution_count": 218,
     "metadata": {},
     "output_type": "execute_result"
    }
   ],
   "source": [
    "np.mean(arr,axis=0) #열단위"
   ]
  },
  {
   "cell_type": "code",
   "execution_count": 219,
   "id": "721a2e1b-d097-44e0-ad5f-d9b7104d17c6",
   "metadata": {},
   "outputs": [
    {
     "data": {
      "text/plain": [
       "array([ 0,  1,  3,  6, 10, 15, 21, 28])"
      ]
     },
     "execution_count": 219,
     "metadata": {},
     "output_type": "execute_result"
    }
   ],
   "source": [
    "arr = np.array([0, 1, 2, 3, 4, 5, 6, 7])\n",
    "arr.cumsum() # 누적 합 1차원 구조 array로 나옴"
   ]
  },
  {
   "cell_type": "code",
   "execution_count": 220,
   "id": "f66c1bd9-c338-49bf-9f24-7cecfcc9c2e6",
   "metadata": {},
   "outputs": [
    {
     "data": {
      "text/plain": [
       "28"
      ]
     },
     "execution_count": 220,
     "metadata": {},
     "output_type": "execute_result"
    }
   ],
   "source": [
    "arr.sum()"
   ]
  },
  {
   "cell_type": "code",
   "execution_count": 222,
   "id": "67fc52fc-f4da-4c52-9f65-b710add83e6e",
   "metadata": {},
   "outputs": [
    {
     "data": {
      "text/plain": [
       "array([ 2.22465959e+00, -6.79400410e-01,  7.27368782e-01, -8.68730734e-01,\n",
       "       -1.21385091e+00, -4.70630931e-01, -9.19241697e-01, -8.38826689e-01,\n",
       "        4.35155305e-01, -5.57804717e-01, -5.67454871e-01, -3.72641553e-01,\n",
       "       -9.26556901e-01,  1.75510839e+00,  1.20980999e+00,  1.27002473e+00,\n",
       "       -9.74378127e-01, -6.34709255e-01, -3.95700752e-01, -2.89435900e-01,\n",
       "       -7.34297072e-01, -7.28504679e-01,  8.38775073e-01,  2.66893213e-01,\n",
       "        7.21194339e-01,  9.10982642e-01, -1.02090261e+00, -1.41341604e+00,\n",
       "        1.29660784e+00,  2.52275209e-01,  1.12748110e+00, -5.68363447e-01,\n",
       "        3.09362168e-01, -5.77385473e-01, -1.16863407e+00, -8.25019972e-01,\n",
       "       -2.64440949e+00, -1.52985803e-01, -7.51921003e-01, -1.32609252e-01,\n",
       "        1.45729970e+00,  6.09511845e-01, -4.93779257e-01,  1.23997988e+00,\n",
       "       -1.35722140e-01,  1.43004181e+00, -8.46852451e-01,  6.03282130e-01,\n",
       "        1.26357226e+00, -2.55490556e-01, -4.45688380e-01,  4.68366681e-01,\n",
       "       -9.61603924e-01, -1.82450454e+00,  6.25428156e-01,  1.02287238e+00,\n",
       "        1.10742460e+00,  9.09370895e-02, -3.50108657e-01,  2.17957016e-01,\n",
       "       -8.94813130e-01, -1.74149395e+00, -1.05225574e+00,  1.43660279e+00,\n",
       "       -5.76207386e-01, -2.42029443e+00, -1.06232963e+00,  2.37372262e-01,\n",
       "        9.57369064e-04,  6.52531808e-02, -1.36752411e+00, -3.02800519e-02,\n",
       "        9.40489321e-01, -6.42436751e-01,  1.04017925e+00, -1.08292226e+00,\n",
       "        4.29213588e-01, -2.36223669e-01,  6.41817816e-01, -3.31660557e-01,\n",
       "        1.39407223e+00, -1.07674194e+00, -1.92465982e-01, -8.71187651e-01,\n",
       "        4.20851997e-01, -1.21141107e+00, -2.58866912e-01, -5.81646850e-01,\n",
       "       -1.26042063e+00,  4.64574793e-01, -1.07024091e+00,  8.04222698e-01,\n",
       "       -1.56735508e-01,  2.01039001e+00, -8.87104430e-01, -9.77936232e-01,\n",
       "       -2.67217350e-01,  4.83337822e-01, -4.00332733e-01,  4.49880415e-01])"
      ]
     },
     "execution_count": 222,
     "metadata": {},
     "output_type": "execute_result"
    }
   ],
   "source": [
    "arr = np.random.standard_normal(100)\n",
    "arr"
   ]
  },
  {
   "cell_type": "code",
   "execution_count": 224,
   "id": "fb4916fd-9dff-4cf8-955b-957a752c397d",
   "metadata": {},
   "outputs": [
    {
     "data": {
      "text/plain": [
       "41"
      ]
     },
     "execution_count": 224,
     "metadata": {},
     "output_type": "execute_result"
    }
   ],
   "source": [
    "(arr>0).sum() #True:1, False:0 즉 양수의 개수가 41개"
   ]
  },
  {
   "cell_type": "code",
   "execution_count": 225,
   "id": "7f410698-1c91-46f1-b0dc-93e7bd83c1e1",
   "metadata": {},
   "outputs": [
    {
     "data": {
      "text/plain": [
       "59"
      ]
     },
     "execution_count": 225,
     "metadata": {},
     "output_type": "execute_result"
    }
   ],
   "source": [
    "(arr<=0).sum()"
   ]
  },
  {
   "cell_type": "code",
   "execution_count": 226,
   "id": "37430690-9815-45f2-9077-e3c4131d7e2e",
   "metadata": {},
   "outputs": [
    {
     "data": {
      "text/plain": [
       "1"
      ]
     },
     "execution_count": 226,
     "metadata": {},
     "output_type": "execute_result"
    }
   ],
   "source": [
    "bools=np.array([False,False,True,False])\n",
    "bools.sum()"
   ]
  },
  {
   "cell_type": "code",
   "execution_count": 227,
   "id": "b7f9cf3c-f8c9-4070-868a-102f6280d58c",
   "metadata": {},
   "outputs": [
    {
     "data": {
      "text/plain": [
       "True"
      ]
     },
     "execution_count": 227,
     "metadata": {},
     "output_type": "execute_result"
    }
   ],
   "source": [
    "bools.any()"
   ]
  },
  {
   "cell_type": "code",
   "execution_count": 228,
   "id": "91b5694e-3e95-41ba-9fda-1786a810fe05",
   "metadata": {},
   "outputs": [
    {
     "data": {
      "text/plain": [
       "False"
      ]
     },
     "execution_count": 228,
     "metadata": {},
     "output_type": "execute_result"
    }
   ],
   "source": [
    "bools.all()"
   ]
  },
  {
   "cell_type": "code",
   "execution_count": 229,
   "id": "55d35ae2-b777-4a16-a5cc-5c2e2f7182ae",
   "metadata": {},
   "outputs": [],
   "source": [
    "arr2 = np.array([5, -10, 7, 1, 0, -3])"
   ]
  },
  {
   "cell_type": "code",
   "execution_count": 230,
   "id": "89b1da2b-71c2-48cf-bac8-809b323425ac",
   "metadata": {},
   "outputs": [
    {
     "data": {
      "text/plain": [
       "array([-10,  -3,   0,   1,   5,   7])"
      ]
     },
     "execution_count": 230,
     "metadata": {},
     "output_type": "execute_result"
    }
   ],
   "source": [
    "np.sort(arr2)"
   ]
  },
  {
   "cell_type": "code",
   "execution_count": 231,
   "id": "bcf09d70-3a7e-4ff7-b130-08f4b176efec",
   "metadata": {},
   "outputs": [
    {
     "data": {
      "text/plain": [
       "array([  5, -10,   7,   1,   0,  -3])"
      ]
     },
     "execution_count": 231,
     "metadata": {},
     "output_type": "execute_result"
    }
   ],
   "source": [
    "arr2 # 정렬한것이 적용되지 않음"
   ]
  },
  {
   "cell_type": "code",
   "execution_count": 232,
   "id": "d8c2a0df-f512-4e42-9816-aec0609221ab",
   "metadata": {},
   "outputs": [
    {
     "data": {
      "text/plain": [
       "array(['Bob', 'Joe', 'Will'], dtype='<U4')"
      ]
     },
     "execution_count": 232,
     "metadata": {},
     "output_type": "execute_result"
    }
   ],
   "source": [
    "names = np.array([\"Bob\", \"Will\", \"Joe\", \"Bob\", \"Will\", \"Joe\", \"Joe\"])\n",
    "np.unique(names) #중복을 제거"
   ]
  },
  {
   "cell_type": "code",
   "execution_count": 233,
   "id": "edd85f72-c0c4-493f-a1b4-f36978d5e8bb",
   "metadata": {},
   "outputs": [
    {
     "data": {
      "text/plain": [
       "array([1, 2, 3, 4])"
      ]
     },
     "execution_count": 233,
     "metadata": {},
     "output_type": "execute_result"
    }
   ],
   "source": [
    "ints = np.array([3, 3, 3, 2, 2, 1, 1, 4, 4])\n",
    "np.unique(ints)"
   ]
  },
  {
   "cell_type": "code",
   "execution_count": 235,
   "id": "c45a6dc0-a1dc-46cc-a258-9c4c6f02ca78",
   "metadata": {},
   "outputs": [
    {
     "data": {
      "text/plain": [
       "{'Bob', 'Joe', 'Will'}"
      ]
     },
     "execution_count": 235,
     "metadata": {},
     "output_type": "execute_result"
    }
   ],
   "source": [
    "set(ints)\n",
    "set(names)"
   ]
  },
  {
   "cell_type": "code",
   "execution_count": 237,
   "id": "f33dfed6-e138-4f7f-91e5-638eb30b97c6",
   "metadata": {},
   "outputs": [],
   "source": [
    "np.save(\"data\",arr)#arr에 저장된 데이터가 binary 형태로 data.npy에 저장됨"
   ]
  },
  {
   "cell_type": "code",
   "execution_count": 238,
   "id": "327794b8-ff8e-4886-8200-d9e6fe857ed0",
   "metadata": {},
   "outputs": [
    {
     "data": {
      "text/plain": [
       "array([ 2.22465959e+00, -6.79400410e-01,  7.27368782e-01, -8.68730734e-01,\n",
       "       -1.21385091e+00, -4.70630931e-01, -9.19241697e-01, -8.38826689e-01,\n",
       "        4.35155305e-01, -5.57804717e-01, -5.67454871e-01, -3.72641553e-01,\n",
       "       -9.26556901e-01,  1.75510839e+00,  1.20980999e+00,  1.27002473e+00,\n",
       "       -9.74378127e-01, -6.34709255e-01, -3.95700752e-01, -2.89435900e-01,\n",
       "       -7.34297072e-01, -7.28504679e-01,  8.38775073e-01,  2.66893213e-01,\n",
       "        7.21194339e-01,  9.10982642e-01, -1.02090261e+00, -1.41341604e+00,\n",
       "        1.29660784e+00,  2.52275209e-01,  1.12748110e+00, -5.68363447e-01,\n",
       "        3.09362168e-01, -5.77385473e-01, -1.16863407e+00, -8.25019972e-01,\n",
       "       -2.64440949e+00, -1.52985803e-01, -7.51921003e-01, -1.32609252e-01,\n",
       "        1.45729970e+00,  6.09511845e-01, -4.93779257e-01,  1.23997988e+00,\n",
       "       -1.35722140e-01,  1.43004181e+00, -8.46852451e-01,  6.03282130e-01,\n",
       "        1.26357226e+00, -2.55490556e-01, -4.45688380e-01,  4.68366681e-01,\n",
       "       -9.61603924e-01, -1.82450454e+00,  6.25428156e-01,  1.02287238e+00,\n",
       "        1.10742460e+00,  9.09370895e-02, -3.50108657e-01,  2.17957016e-01,\n",
       "       -8.94813130e-01, -1.74149395e+00, -1.05225574e+00,  1.43660279e+00,\n",
       "       -5.76207386e-01, -2.42029443e+00, -1.06232963e+00,  2.37372262e-01,\n",
       "        9.57369064e-04,  6.52531808e-02, -1.36752411e+00, -3.02800519e-02,\n",
       "        9.40489321e-01, -6.42436751e-01,  1.04017925e+00, -1.08292226e+00,\n",
       "        4.29213588e-01, -2.36223669e-01,  6.41817816e-01, -3.31660557e-01,\n",
       "        1.39407223e+00, -1.07674194e+00, -1.92465982e-01, -8.71187651e-01,\n",
       "        4.20851997e-01, -1.21141107e+00, -2.58866912e-01, -5.81646850e-01,\n",
       "       -1.26042063e+00,  4.64574793e-01, -1.07024091e+00,  8.04222698e-01,\n",
       "       -1.56735508e-01,  2.01039001e+00, -8.87104430e-01, -9.77936232e-01,\n",
       "       -2.67217350e-01,  4.83337822e-01, -4.00332733e-01,  4.49880415e-01])"
      ]
     },
     "execution_count": 238,
     "metadata": {},
     "output_type": "execute_result"
    }
   ],
   "source": [
    "np.load(\"data.npy\")"
   ]
  },
  {
   "cell_type": "code",
   "execution_count": 239,
   "id": "3b693847-51de-4cc4-8418-92ccbcad4f6f",
   "metadata": {},
   "outputs": [
    {
     "data": {
      "text/plain": [
       "array([0, 1, 2, 3, 4, 5, 6, 7, 8, 9])"
      ]
     },
     "execution_count": 239,
     "metadata": {},
     "output_type": "execute_result"
    }
   ],
   "source": [
    "brr=np.arange(10)\n",
    "brr"
   ]
  },
  {
   "cell_type": "code",
   "execution_count": 240,
   "id": "4d021fb5-9e8b-43b1-83fb-dd427e081834",
   "metadata": {},
   "outputs": [],
   "source": [
    "np.savez(\"data2.npz\",a=arr,b=brr) #여러개의 array를 zip으로 묶어 저장"
   ]
  },
  {
   "cell_type": "code",
   "execution_count": 244,
   "id": "3f3a0239-013a-4fef-bac0-1c3ecee72528",
   "metadata": {},
   "outputs": [
    {
     "data": {
      "text/plain": [
       "array([ 2.22465959e+00, -6.79400410e-01,  7.27368782e-01, -8.68730734e-01,\n",
       "       -1.21385091e+00, -4.70630931e-01, -9.19241697e-01, -8.38826689e-01,\n",
       "        4.35155305e-01, -5.57804717e-01, -5.67454871e-01, -3.72641553e-01,\n",
       "       -9.26556901e-01,  1.75510839e+00,  1.20980999e+00,  1.27002473e+00,\n",
       "       -9.74378127e-01, -6.34709255e-01, -3.95700752e-01, -2.89435900e-01,\n",
       "       -7.34297072e-01, -7.28504679e-01,  8.38775073e-01,  2.66893213e-01,\n",
       "        7.21194339e-01,  9.10982642e-01, -1.02090261e+00, -1.41341604e+00,\n",
       "        1.29660784e+00,  2.52275209e-01,  1.12748110e+00, -5.68363447e-01,\n",
       "        3.09362168e-01, -5.77385473e-01, -1.16863407e+00, -8.25019972e-01,\n",
       "       -2.64440949e+00, -1.52985803e-01, -7.51921003e-01, -1.32609252e-01,\n",
       "        1.45729970e+00,  6.09511845e-01, -4.93779257e-01,  1.23997988e+00,\n",
       "       -1.35722140e-01,  1.43004181e+00, -8.46852451e-01,  6.03282130e-01,\n",
       "        1.26357226e+00, -2.55490556e-01, -4.45688380e-01,  4.68366681e-01,\n",
       "       -9.61603924e-01, -1.82450454e+00,  6.25428156e-01,  1.02287238e+00,\n",
       "        1.10742460e+00,  9.09370895e-02, -3.50108657e-01,  2.17957016e-01,\n",
       "       -8.94813130e-01, -1.74149395e+00, -1.05225574e+00,  1.43660279e+00,\n",
       "       -5.76207386e-01, -2.42029443e+00, -1.06232963e+00,  2.37372262e-01,\n",
       "        9.57369064e-04,  6.52531808e-02, -1.36752411e+00, -3.02800519e-02,\n",
       "        9.40489321e-01, -6.42436751e-01,  1.04017925e+00, -1.08292226e+00,\n",
       "        4.29213588e-01, -2.36223669e-01,  6.41817816e-01, -3.31660557e-01,\n",
       "        1.39407223e+00, -1.07674194e+00, -1.92465982e-01, -8.71187651e-01,\n",
       "        4.20851997e-01, -1.21141107e+00, -2.58866912e-01, -5.81646850e-01,\n",
       "       -1.26042063e+00,  4.64574793e-01, -1.07024091e+00,  8.04222698e-01,\n",
       "       -1.56735508e-01,  2.01039001e+00, -8.87104430e-01, -9.77936232e-01,\n",
       "       -2.67217350e-01,  4.83337822e-01, -4.00332733e-01,  4.49880415e-01])"
      ]
     },
     "execution_count": 244,
     "metadata": {},
     "output_type": "execute_result"
    }
   ],
   "source": [
    "x=np.load(\"data2.npz\")\n",
    "x['a']"
   ]
  },
  {
   "cell_type": "code",
   "execution_count": 245,
   "id": "e226a924-5baa-4d57-92f5-4f6efe75a8d0",
   "metadata": {},
   "outputs": [
    {
     "data": {
      "text/plain": [
       "array([0, 1, 2, 3, 4, 5, 6, 7, 8, 9])"
      ]
     },
     "execution_count": 245,
     "metadata": {},
     "output_type": "execute_result"
    }
   ],
   "source": [
    "x['b']"
   ]
  },
  {
   "cell_type": "code",
   "execution_count": 246,
   "id": "3c06a7ed-4c0e-4fa0-8729-c80402b16543",
   "metadata": {},
   "outputs": [
    {
     "data": {
      "text/plain": [
       "9"
      ]
     },
     "execution_count": 246,
     "metadata": {},
     "output_type": "execute_result"
    }
   ],
   "source": [
    "brr.max()"
   ]
  },
  {
   "cell_type": "code",
   "execution_count": 247,
   "id": "8dc6fc07-2b33-41fa-8e3f-2c8c78be2e08",
   "metadata": {},
   "outputs": [
    {
     "data": {
      "text/plain": [
       "0"
      ]
     },
     "execution_count": 247,
     "metadata": {},
     "output_type": "execute_result"
    }
   ],
   "source": [
    "brr.min()"
   ]
  },
  {
   "cell_type": "code",
   "execution_count": 248,
   "id": "d6400dfc-6876-4acb-8032-f0dec017c208",
   "metadata": {},
   "outputs": [
    {
     "data": {
      "text/plain": [
       "4.5"
      ]
     },
     "execution_count": 248,
     "metadata": {},
     "output_type": "execute_result"
    }
   ],
   "source": [
    "brr.mean()"
   ]
  },
  {
   "cell_type": "code",
   "execution_count": 250,
   "id": "4dbd8cbb-8a46-4e06-8565-466ab52ed2bb",
   "metadata": {},
   "outputs": [],
   "source": [
    "# 시계열 (time series) ->Series (pandas에서 시계열 데이터를 분석할때 쓰는 자료구조,클래스)\n",
    "# 표 (table) -> DataFrame (pandas에서 표 데이터를 분석할때 쓰는 자료구조,클래스)\n",
    "#분석 데이터유형이 대부분 두가지중 하나이므로 Series나 DataFrame 형식으로 데이터 분석을 함. pandas에서 Series와 DataFrame클래스를 제공"
   ]
  },
  {
   "cell_type": "code",
   "execution_count": 251,
   "id": "f3c91110-76c1-4629-91e9-771b6ed9481b",
   "metadata": {},
   "outputs": [],
   "source": [
    "import pandas as pd"
   ]
  },
  {
   "cell_type": "code",
   "execution_count": 252,
   "id": "e6de9420-bc2e-4a2f-a618-4c1ea800959c",
   "metadata": {},
   "outputs": [],
   "source": [
    "#python:list,set,dict,tuple\n",
    "#numpy:n-dimensional array\n",
    "\n",
    "#pandas : Series, DataFrame\n",
    "\n",
    "#Series: numpy 1차원 array와 매우 유사함. 차이점은 Series는 index가 있음.\n",
    "# 시리즈 = 데이터(1차원 구조) + 인덱스\n",
    "# DataFrame = numpy의 2차원 array와 매우 유사함 . 차이점은 DataFrame에는 행 index, 열 index가 있음.\n",
    "# DataFrame = 데이터(2차원) + 행 index + 열 index\n"
   ]
  },
  {
   "cell_type": "code",
   "execution_count": 255,
   "id": "3028c0fb-6298-47be-875c-92215bbb0f8c",
   "metadata": {},
   "outputs": [
    {
     "data": {
      "text/plain": [
       "array([1, 2, 3])"
      ]
     },
     "execution_count": 255,
     "metadata": {},
     "output_type": "execute_result"
    }
   ],
   "source": [
    "li=[1,2,3]\n",
    "li\n",
    "np.array(li)"
   ]
  },
  {
   "cell_type": "code",
   "execution_count": 256,
   "id": "c3d3b7d0-a63e-443d-bc49-c046d3cc7acd",
   "metadata": {},
   "outputs": [
    {
     "data": {
      "text/plain": [
       "0    10\n",
       "1    20\n",
       "2    30\n",
       "3    40\n",
       "dtype: int64"
      ]
     },
     "execution_count": 256,
     "metadata": {},
     "output_type": "execute_result"
    }
   ],
   "source": [
    "s=pd.Series([10,20,30,40]) #행 인덱스가 자동 부여(0~)\n",
    "s\n"
   ]
  },
  {
   "cell_type": "code",
   "execution_count": 257,
   "id": "895426c4-d31a-4c0e-8ba8-3c493fb0a934",
   "metadata": {},
   "outputs": [
    {
     "data": {
      "text/plain": [
       "월    10\n",
       "화    20\n",
       "수    30\n",
       "목    40\n",
       "dtype: int64"
      ]
     },
     "execution_count": 257,
     "metadata": {},
     "output_type": "execute_result"
    }
   ],
   "source": [
    "s2=pd.Series([10,20,30,40],index=['월','화','수','목']) #행인덱스 직접 부여. 인덱스는 문자 숫자 다 가능 한글 영어 다 가능\n",
    "#pd.Series(데이터,인덱스) 일반적으로 인덱스가 시간의 흐름을 나타냄 시계열 데이터가 아닌 데이터도 Series자료구조로 나타낼 수 있긴 함.\n",
    "s2"
   ]
  },
  {
   "cell_type": "code",
   "execution_count": 259,
   "id": "ed579957-1bbf-483f-890f-daeedf6bccd2",
   "metadata": {},
   "outputs": [
    {
     "data": {
      "text/plain": [
       "홍길동    90\n",
       "임꺽정    70\n",
       "세종     60\n",
       "인조     80\n",
       "dtype: int64"
      ]
     },
     "execution_count": 259,
     "metadata": {},
     "output_type": "execute_result"
    }
   ],
   "source": [
    "s3=pd.Series([90,70,60,80],index=['홍길동','임꺽정','세종','인조']) #몸무게\n",
    "s3"
   ]
  },
  {
   "cell_type": "code",
   "execution_count": 260,
   "id": "6629370b-c02d-4ef2-90d9-cbf7bb0ac4ae",
   "metadata": {},
   "outputs": [
    {
     "data": {
      "text/plain": [
       "0    10\n",
       "1    11\n",
       "2    12\n",
       "3    13\n",
       "4    14\n",
       "dtype: int64"
      ]
     },
     "execution_count": 260,
     "metadata": {},
     "output_type": "execute_result"
    }
   ],
   "source": [
    "pd.Series(list(range(10,15)))"
   ]
  },
  {
   "cell_type": "code",
   "execution_count": 262,
   "id": "8010a115-6662-408d-9b57-b1f324b35804",
   "metadata": {},
   "outputs": [
    {
     "data": {
      "text/plain": [
       "홍길동    90\n",
       "임꺽정    70\n",
       "세종     60\n",
       "인조     80\n",
       "dtype: int64"
      ]
     },
     "execution_count": 262,
     "metadata": {},
     "output_type": "execute_result"
    }
   ],
   "source": [
    "s3"
   ]
  },
  {
   "cell_type": "code",
   "execution_count": 263,
   "id": "b92a4e77-4d85-4453-8b64-8136337d99f9",
   "metadata": {},
   "outputs": [
    {
     "data": {
      "text/plain": [
       "Index(['홍길동', '임꺽정', '세종', '인조'], dtype='object')"
      ]
     },
     "execution_count": 263,
     "metadata": {},
     "output_type": "execute_result"
    }
   ],
   "source": [
    "s3.index"
   ]
  },
  {
   "cell_type": "code",
   "execution_count": 264,
   "id": "d8144414-53d3-4758-b0a4-bc83e9eeb4d1",
   "metadata": {},
   "outputs": [
    {
     "data": {
      "text/plain": [
       "array([90, 70, 60, 80], dtype=int64)"
      ]
     },
     "execution_count": 264,
     "metadata": {},
     "output_type": "execute_result"
    }
   ],
   "source": [
    "s3.values"
   ]
  },
  {
   "cell_type": "code",
   "execution_count": 265,
   "id": "c6c7a768-1e77-432c-902a-be216c1c61e2",
   "metadata": {},
   "outputs": [],
   "source": [
    "s3.index.name=\"인물\""
   ]
  },
  {
   "cell_type": "code",
   "execution_count": 266,
   "id": "7c3a5dc1-18f2-49ec-8313-6684af19ca2c",
   "metadata": {},
   "outputs": [],
   "source": [
    "s3.name=\"몸무게\""
   ]
  },
  {
   "cell_type": "code",
   "execution_count": 267,
   "id": "b2cff070-827d-4945-9bb6-5326688e58c4",
   "metadata": {},
   "outputs": [
    {
     "data": {
      "text/plain": [
       "인물\n",
       "홍길동    90\n",
       "임꺽정    70\n",
       "세종     60\n",
       "인조     80\n",
       "Name: 몸무게, dtype: int64"
      ]
     },
     "execution_count": 267,
     "metadata": {},
     "output_type": "execute_result"
    }
   ],
   "source": [
    "s3"
   ]
  },
  {
   "cell_type": "code",
   "execution_count": 268,
   "id": "01c16b59-be8e-4b0e-ba6d-63a2c7d0e590",
   "metadata": {},
   "outputs": [
    {
     "data": {
      "text/plain": [
       "인물\n",
       "홍길동    9.0\n",
       "임꺽정    7.0\n",
       "세종     6.0\n",
       "인조     8.0\n",
       "Name: 몸무게, dtype: float64"
      ]
     },
     "execution_count": 268,
     "metadata": {},
     "output_type": "execute_result"
    }
   ],
   "source": [
    "s3/10 # s3에 해당하는 모든데이터들에 대해 모두 연산"
   ]
  },
  {
   "cell_type": "code",
   "execution_count": 269,
   "id": "870e02ed-613c-483a-8ae0-756a0e822fef",
   "metadata": {},
   "outputs": [
    {
     "data": {
      "text/plain": [
       "인물\n",
       "홍길동    90\n",
       "임꺽정    70\n",
       "세종     60\n",
       "인조     80\n",
       "Name: 몸무게, dtype: int64"
      ]
     },
     "execution_count": 269,
     "metadata": {},
     "output_type": "execute_result"
    }
   ],
   "source": [
    "s3"
   ]
  },
  {
   "cell_type": "code",
   "execution_count": 272,
   "id": "429618e6-e4c4-45f8-8519-0ca3d8d9154d",
   "metadata": {},
   "outputs": [
    {
     "data": {
      "text/plain": [
       "60"
      ]
     },
     "execution_count": 272,
     "metadata": {},
     "output_type": "execute_result"
    }
   ],
   "source": [
    "s3['세종'] #index는 변수가 아니므로 따옴표로 묶어줘야함 \n"
   ]
  },
  {
   "cell_type": "code",
   "execution_count": 273,
   "id": "cb2a2762-4a5f-4f61-8e75-4129c5af6e71",
   "metadata": {},
   "outputs": [
    {
     "name": "stderr",
     "output_type": "stream",
     "text": [
      "C:\\Users\\master\\AppData\\Local\\Temp\\ipykernel_2428\\3055280449.py:1: FutureWarning: Series.__getitem__ treating keys as positions is deprecated. In a future version, integer keys will always be treated as labels (consistent with DataFrame behavior). To access a value by position, use `ser.iloc[pos]`\n",
      "  s3[2]\n"
     ]
    },
    {
     "data": {
      "text/plain": [
       "60"
      ]
     },
     "execution_count": 273,
     "metadata": {},
     "output_type": "execute_result"
    }
   ],
   "source": [
    "s3[2] #"
   ]
  },
  {
   "cell_type": "code",
   "execution_count": 274,
   "id": "46c63da9-2f7b-40cb-96e1-25d50e6dcfb9",
   "metadata": {},
   "outputs": [
    {
     "data": {
      "text/plain": [
       "60"
      ]
     },
     "execution_count": 274,
     "metadata": {},
     "output_type": "execute_result"
    }
   ],
   "source": [
    "s3.iloc[2] #iloc는 속성"
   ]
  },
  {
   "cell_type": "code",
   "execution_count": 275,
   "id": "897f947c-2a41-48e9-8a40-a59b64245534",
   "metadata": {},
   "outputs": [
    {
     "data": {
      "text/plain": [
       "70"
      ]
     },
     "execution_count": 275,
     "metadata": {},
     "output_type": "execute_result"
    }
   ],
   "source": [
    "s3['임꺽정']"
   ]
  },
  {
   "cell_type": "code",
   "execution_count": 277,
   "id": "4c5d9000-df1f-4d00-b262-9e24b7969dc7",
   "metadata": {},
   "outputs": [
    {
     "data": {
      "text/plain": [
       "인물\n",
       "임꺽정    70\n",
       "세종     60\n",
       "Name: 몸무게, dtype: int64"
      ]
     },
     "execution_count": 277,
     "metadata": {},
     "output_type": "execute_result"
    }
   ],
   "source": [
    "s3[['임꺽정','세종']] #array처럼 대괄호를 하나 더 써서 행 인덱스를 여러개 추출"
   ]
  },
  {
   "cell_type": "code",
   "execution_count": 278,
   "id": "2e6c9b8a-0776-4da2-afd9-0c1eddebb1a6",
   "metadata": {},
   "outputs": [
    {
     "data": {
      "text/plain": [
       "인물\n",
       "임꺽정    70\n",
       "세종     60\n",
       "Name: 몸무게, dtype: int64"
      ]
     },
     "execution_count": 278,
     "metadata": {},
     "output_type": "execute_result"
    }
   ],
   "source": [
    "s3.iloc[[1,2]]"
   ]
  },
  {
   "cell_type": "code",
   "execution_count": 279,
   "id": "9b0cc12d-58cd-4e85-acf7-6265fc9fa16b",
   "metadata": {},
   "outputs": [
    {
     "data": {
      "text/plain": [
       "인물\n",
       "홍길동    90\n",
       "임꺽정    70\n",
       "세종     60\n",
       "인조     80\n",
       "Name: 몸무게, dtype: int64"
      ]
     },
     "execution_count": 279,
     "metadata": {},
     "output_type": "execute_result"
    }
   ],
   "source": [
    "s3"
   ]
  },
  {
   "cell_type": "code",
   "execution_count": 280,
   "id": "05f074b1-49a4-4f6e-902c-301644d834b1",
   "metadata": {},
   "outputs": [
    {
     "data": {
      "text/plain": [
       "인물\n",
       "홍길동     True\n",
       "임꺽정    False\n",
       "세종     False\n",
       "인조      True\n",
       "Name: 몸무게, dtype: bool"
      ]
     },
     "execution_count": 280,
     "metadata": {},
     "output_type": "execute_result"
    }
   ],
   "source": [
    "s3>70"
   ]
  },
  {
   "cell_type": "code",
   "execution_count": 281,
   "id": "e4e998de-891f-4e88-b831-785aff4fdd1d",
   "metadata": {},
   "outputs": [
    {
     "data": {
      "text/plain": [
       "인물\n",
       "홍길동    90\n",
       "인조     80\n",
       "Name: 몸무게, dtype: int64"
      ]
     },
     "execution_count": 281,
     "metadata": {},
     "output_type": "execute_result"
    }
   ],
   "source": [
    "s3[s3>70]"
   ]
  },
  {
   "cell_type": "code",
   "execution_count": 285,
   "id": "5e265026-fb31-4f61-900f-994142e6f128",
   "metadata": {},
   "outputs": [
    {
     "data": {
      "text/plain": [
       "인물\n",
       "임꺽정    70\n",
       "세종     60\n",
       "인조     80\n",
       "Name: 몸무게, dtype: int64"
      ]
     },
     "execution_count": 285,
     "metadata": {},
     "output_type": "execute_result"
    }
   ],
   "source": [
    "\n",
    "s3[(s3>=60) & (s3<=80)]"
   ]
  },
  {
   "cell_type": "code",
   "execution_count": 286,
   "id": "833743c7-e9d6-46d1-80ba-ead099add3ff",
   "metadata": {},
   "outputs": [
    {
     "data": {
      "text/plain": [
       "인물\n",
       "임꺽정    70\n",
       "세종     60\n",
       "Name: 몸무게, dtype: int64"
      ]
     },
     "execution_count": 286,
     "metadata": {},
     "output_type": "execute_result"
    }
   ],
   "source": [
    "s3.iloc[1:3]"
   ]
  },
  {
   "cell_type": "code",
   "execution_count": 287,
   "id": "27e05ea5-80ab-493d-ad4c-680d14db30d1",
   "metadata": {},
   "outputs": [
    {
     "data": {
      "text/plain": [
       "인물\n",
       "임꺽정    70\n",
       "세종     60\n",
       "인조     80\n",
       "Name: 몸무게, dtype: int64"
      ]
     },
     "execution_count": 287,
     "metadata": {},
     "output_type": "execute_result"
    }
   ],
   "source": [
    "s3['임꺽정':'인조'] # 인조 포함"
   ]
  },
  {
   "cell_type": "code",
   "execution_count": 51,
   "id": "a6c453a6-ac80-47bc-850a-dc128e953b29",
   "metadata": {},
   "outputs": [
    {
     "data": {
      "text/plain": [
       "10"
      ]
     },
     "execution_count": 51,
     "metadata": {},
     "output_type": "execute_result"
    }
   ],
   "source": [
    "r=[1,0]\n",
    "x=np.ones(20)*np.random.choice(r,size=20)\n",
    "list(x).count(1)"
   ]
  },
  {
   "cell_type": "code",
   "execution_count": 137,
   "id": "c096bf64-503f-4fda-962a-647131a81617",
   "metadata": {},
   "outputs": [
    {
     "data": {
      "text/plain": [
       "0.5015"
      ]
     },
     "execution_count": 137,
     "metadata": {},
     "output_type": "execute_result"
    }
   ],
   "source": [
    "r=[1,0]\n",
    "x=np.random.choice(r,size=10000)\n",
    "x.mean()"
   ]
  },
  {
   "cell_type": "code",
   "execution_count": 72,
   "id": "012354d3-2861-4e0a-b1d1-34d93ef05d51",
   "metadata": {},
   "outputs": [
    {
     "data": {
      "text/plain": [
       "97"
      ]
     },
     "execution_count": 72,
     "metadata": {},
     "output_type": "execute_result"
    }
   ],
   "source": [
    "arr=np.random.choice(100,size=20).reshape((4,5))\n",
    "np.max(arr)"
   ]
  },
  {
   "cell_type": "code",
   "execution_count": 74,
   "id": "a584d9c1-de5e-4b5b-8cfe-4cdd8ae48cbf",
   "metadata": {},
   "outputs": [
    {
     "data": {
      "text/plain": [
       "array([244, 181, 380, 301])"
      ]
     },
     "execution_count": 74,
     "metadata": {},
     "output_type": "execute_result"
    }
   ],
   "source": [
    "np.sum(arr,axis=1)"
   ]
  },
  {
   "cell_type": "code",
   "execution_count": 75,
   "id": "f380fecd-bb12-48c6-bcc3-b8295fa9c999",
   "metadata": {},
   "outputs": [
    {
     "data": {
      "text/plain": [
       "array([[34, 44, 35, 58, 73],\n",
       "       [ 9,  8, 28, 57, 79],\n",
       "       [97, 44, 64, 82, 93],\n",
       "       [73, 42, 77, 82, 27]])"
      ]
     },
     "execution_count": 75,
     "metadata": {},
     "output_type": "execute_result"
    }
   ],
   "source": [
    "arr"
   ]
  },
  {
   "cell_type": "code",
   "execution_count": 76,
   "id": "8c4bc8fa-e048-4962-9ced-8939c88e4756",
   "metadata": {},
   "outputs": [
    {
     "data": {
      "text/plain": [
       "array([213, 138, 204, 279, 272])"
      ]
     },
     "execution_count": 76,
     "metadata": {},
     "output_type": "execute_result"
    }
   ],
   "source": [
    "np.sum(arr,axis=0)"
   ]
  },
  {
   "cell_type": "code",
   "execution_count": 77,
   "id": "da082ab3-6e37-4722-96cd-7e3986dcfc32",
   "metadata": {},
   "outputs": [
    {
     "data": {
      "text/plain": [
       "array([73, 79, 97, 82])"
      ]
     },
     "execution_count": 77,
     "metadata": {},
     "output_type": "execute_result"
    }
   ],
   "source": [
    "np.max(arr,axis=1)"
   ]
  },
  {
   "cell_type": "code",
   "execution_count": 78,
   "id": "50d33b23-bef2-4adf-81a6-c31c1008bf64",
   "metadata": {},
   "outputs": [
    {
     "data": {
      "text/plain": [
       "array([53.25, 34.5 , 51.  , 69.75, 68.  ])"
      ]
     },
     "execution_count": 78,
     "metadata": {},
     "output_type": "execute_result"
    }
   ],
   "source": [
    "np.mean(arr,axis=0)"
   ]
  },
  {
   "cell_type": "code",
   "execution_count": 79,
   "id": "efecea37-df23-4bf8-a8de-f19777af3ab5",
   "metadata": {},
   "outputs": [
    {
     "data": {
      "text/plain": [
       "array([ 9,  8, 28, 57, 27])"
      ]
     },
     "execution_count": 79,
     "metadata": {},
     "output_type": "execute_result"
    }
   ],
   "source": [
    "np.min(arr,axis=0)"
   ]
  },
  {
   "cell_type": "code",
   "execution_count": 83,
   "id": "ed5a8725-6f10-4677-afbb-cf449dee0c1a",
   "metadata": {},
   "outputs": [],
   "source": [
    "import pandas as pd\n",
    "arr=pd.Series([1000,300,200,100],index=['서울','부산','인천','광주'])"
   ]
  },
  {
   "cell_type": "code",
   "execution_count": 84,
   "id": "c39daa74-bea0-4e85-8245-0468e2f47637",
   "metadata": {},
   "outputs": [
    {
     "data": {
      "text/plain": [
       "100"
      ]
     },
     "execution_count": 84,
     "metadata": {},
     "output_type": "execute_result"
    }
   ],
   "source": [
    "arr['광주']"
   ]
  },
  {
   "cell_type": "code",
   "execution_count": 87,
   "id": "9fc31703-9a0c-4129-86cf-af8d0ccecc1b",
   "metadata": {},
   "outputs": [],
   "source": [
    "data=pd.Series(list(range(10,60,10)),index=['가','나','다','라','마'])"
   ]
  },
  {
   "cell_type": "code",
   "execution_count": 88,
   "id": "8715d8ca-dacc-488b-bed5-9a4b351f0214",
   "metadata": {},
   "outputs": [
    {
     "data": {
      "text/plain": [
       "가    10\n",
       "나    20\n",
       "다    30\n",
       "라    40\n",
       "마    50\n",
       "dtype: int64"
      ]
     },
     "execution_count": 88,
     "metadata": {},
     "output_type": "execute_result"
    }
   ],
   "source": [
    "data"
   ]
  },
  {
   "cell_type": "code",
   "execution_count": 90,
   "id": "de5ac3bc-acc7-411f-a727-37e12cee3a60",
   "metadata": {},
   "outputs": [
    {
     "data": {
      "text/plain": [
       "나    20\n",
       "라    40\n",
       "dtype: int64"
      ]
     },
     "execution_count": 90,
     "metadata": {},
     "output_type": "execute_result"
    }
   ],
   "source": [
    "data[['나','라']]\n",
    "data.iloc[[1,3]]"
   ]
  },
  {
   "cell_type": "code",
   "execution_count": 99,
   "id": "af7fc164-03f2-47b3-a838-ef9a3ac7ecee",
   "metadata": {},
   "outputs": [
    {
     "data": {
      "text/plain": [
       "0     199\n",
       "1     190\n",
       "2     115\n",
       "3     195\n",
       "4     128\n",
       "5     190\n",
       "6     109\n",
       "7     120\n",
       "8     175\n",
       "9     122\n",
       "10    171\n",
       "11    134\n",
       "12    196\n",
       "13    140\n",
       "14    185\n",
       "dtype: int32"
      ]
     },
     "execution_count": 99,
     "metadata": {},
     "output_type": "execute_result"
    }
   ],
   "source": [
    "np.random.seed(20)\n",
    "sample2 = pd.Series(np.random.randint(100, 200, size=15))\n",
    "sample2"
   ]
  },
  {
   "cell_type": "code",
   "execution_count": 100,
   "id": "9c75a296-1f21-42f9-bfdd-5b6b6aecde56",
   "metadata": {},
   "outputs": [
    {
     "data": {
      "text/plain": [
       "0     199\n",
       "1     190\n",
       "3     195\n",
       "5     190\n",
       "8     175\n",
       "10    171\n",
       "12    196\n",
       "14    185\n",
       "dtype: int32"
      ]
     },
     "execution_count": 100,
     "metadata": {},
     "output_type": "execute_result"
    }
   ],
   "source": [
    "sample2[sample2>160]"
   ]
  },
  {
   "cell_type": "code",
   "execution_count": 107,
   "id": "ec5c5487-61b5-4e52-8f0e-07c0ffbeffe1",
   "metadata": {},
   "outputs": [
    {
     "data": {
      "text/plain": [
       "11    134\n",
       "13    140\n",
       "dtype: int32"
      ]
     },
     "execution_count": 107,
     "metadata": {},
     "output_type": "execute_result"
    }
   ],
   "source": [
    "sample2[(170>=sample2) & (sample2>=130)]"
   ]
  },
  {
   "cell_type": "code",
   "execution_count": 108,
   "id": "a14a0f28-598a-4b21-94d8-cecb60d00cd6",
   "metadata": {},
   "outputs": [
    {
     "data": {
      "text/plain": [
       "가     apple\n",
       "나       NaN\n",
       "다    banana\n",
       "라      kiwi\n",
       "마    gubong\n",
       "dtype: object"
      ]
     },
     "execution_count": 108,
     "metadata": {},
     "output_type": "execute_result"
    }
   ],
   "source": [
    "pd.Series(['apple','NaN','banana','kiwi','gubong'],index=['가','나','다','라','마'],dtype='object')"
   ]
  },
  {
   "cell_type": "code",
   "execution_count": 132,
   "id": "be978281-421c-464d-8bb5-6173e199f276",
   "metadata": {
    "scrolled": true
   },
   "outputs": [
    {
     "name": "stdout",
     "output_type": "stream",
     "text": [
      "[10, 4, 15, 18, 9, 5, 2, 16, 13, 11]\n"
     ]
    },
    {
     "name": "stdin",
     "output_type": "stream",
     "text": [
      "숫자 1\n"
     ]
    },
    {
     "name": "stdout",
     "output_type": "stream",
     "text": [
      "-1\n"
     ]
    }
   ],
   "source": [
    "import random\n",
    "x=range(1,21)\n",
    "arr=list(np.random.choice(x,size=10,replace=False))\n",
    "# if a in arr:\n",
    "#     print(arr.index[a])\n",
    "# else:\n",
    "#     print(-1)\n",
    "print(arr)\n",
    "a=int(input(\"숫자\"))\n",
    "for i in range(len(arr)):\n",
    "    if a==arr[i]:\n",
    "        print(i)\n",
    "        break\n",
    "    elif i==len(arr)-1:\n",
    "        print(-1)"
   ]
  },
  {
   "cell_type": "code",
   "execution_count": null,
   "id": "884bec24-909e-41a3-9376-0ee4a014dc57",
   "metadata": {},
   "outputs": [],
   "source": []
  }
 ],
 "metadata": {
  "kernelspec": {
   "display_name": "Python 3 (ipykernel)",
   "language": "python",
   "name": "python3"
  },
  "language_info": {
   "codemirror_mode": {
    "name": "ipython",
    "version": 3
   },
   "file_extension": ".py",
   "mimetype": "text/x-python",
   "name": "python",
   "nbconvert_exporter": "python",
   "pygments_lexer": "ipython3",
   "version": "3.11.7"
  }
 },
 "nbformat": 4,
 "nbformat_minor": 5
}
