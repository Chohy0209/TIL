{
 "cells": [
  {
   "cell_type": "code",
   "execution_count": 8,
   "id": "f5669267-5b3d-479a-8641-191802e4d591",
   "metadata": {},
   "outputs": [
    {
     "name": "stdin",
     "output_type": "stream",
     "text": [
      "문장을 입력하세요. 혹시줄 바뀜\\n이 있다면  어떻게 될까요\n"
     ]
    },
    {
     "data": {
      "text/plain": [
       "17"
      ]
     },
     "execution_count": 8,
     "metadata": {},
     "output_type": "execute_result"
    }
   ],
   "source": [
    "#공백을 제외한\n",
    "#글자수만을 세는 코드 테스트\n",
    "n_space=[]\n",
    "def wd(user_w):\n",
    "    for i in user_w:\n",
    "        if i !=' ':\n",
    "            n_space.append(i)\n",
    "    return len(n_space)\n",
    "user_w=input(\"문장을 입력하세요.\")\n",
    "wd(user_w)"
   ]
  },
  {
   "cell_type": "code",
   "execution_count": 9,
   "id": "d70a6ada-5106-4c14-9234-4628e43f105e",
   "metadata": {},
   "outputs": [],
   "source": [
    "# 문자와 숫자가섞인 문자열을 입력받을때 구별하여출력해라\n",
    "import re"
   ]
  },
  {
   "cell_type": "code",
   "execution_count": 38,
   "id": "67829aa9-83f1-449d-8bde-4e7da3348ea4",
   "metadata": {},
   "outputs": [
    {
     "name": "stdin",
     "output_type": "stream",
     "text": [
      "입력 바랍니다 c910m6ia 1ho\n"
     ]
    },
    {
     "name": "stdout",
     "output_type": "stream",
     "text": [
      "str=cmia ho\n",
      "int=91061\n"
     ]
    }
   ],
   "source": [
    "user_in=input(\"입력 바랍니다\")\n",
    "user_s=re.findall(\"[a-zA-Zㄱ-ㅎ가-힣() ]+\", user_in)\n",
    "user_n=re.findall(\"[0-9]+\",user_in)\n",
    "print('str=',*user_s,sep='')\n",
    "print('int=',*user_n,sep='')\n"
   ]
  },
  {
   "cell_type": "code",
   "execution_count": 37,
   "id": "b6e6bdee-a6e0-4f14-b59c-391679393ad1",
   "metadata": {},
   "outputs": [
    {
     "data": {
      "text/plain": [
       "['c', 'm', 'ia ', 'ho']"
      ]
     },
     "execution_count": 37,
     "metadata": {},
     "output_type": "execute_result"
    }
   ],
   "source": [
    "user_s"
   ]
  },
  {
   "cell_type": "code",
   "execution_count": null,
   "id": "0b443370-0e0f-4469-bc45-a87da6d2f424",
   "metadata": {},
   "outputs": [],
   "source": []
  }
 ],
 "metadata": {
  "kernelspec": {
   "display_name": "Python 3 (ipykernel)",
   "language": "python",
   "name": "python3"
  },
  "language_info": {
   "codemirror_mode": {
    "name": "ipython",
    "version": 3
   },
   "file_extension": ".py",
   "mimetype": "text/x-python",
   "name": "python",
   "nbconvert_exporter": "python",
   "pygments_lexer": "ipython3",
   "version": "3.11.7"
  }
 },
 "nbformat": 4,
 "nbformat_minor": 5
}
