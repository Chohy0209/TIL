{
 "cells": [
  {
   "cell_type": "code",
   "execution_count": 1,
   "id": "625744f1-6ecb-4b51-b089-01192055216e",
   "metadata": {},
   "outputs": [],
   "source": [
    "import numpy as np"
   ]
  },
  {
   "cell_type": "code",
   "execution_count": 16,
   "id": "bba82ac1-c10f-4b4f-965c-089ed12a457b",
   "metadata": {},
   "outputs": [
    {
     "data": {
      "text/plain": [
       "array([0, 1, 2, 3, 4])"
      ]
     },
     "execution_count": 16,
     "metadata": {},
     "output_type": "execute_result"
    }
   ],
   "source": [
    "arr=np.arange(5)\n",
    "arr"
   ]
  },
  {
   "cell_type": "code",
   "execution_count": 17,
   "id": "8842e29d-3643-4a4f-b656-1623840f3b84",
   "metadata": {},
   "outputs": [
    {
     "data": {
      "text/plain": [
       "array([4, 3, 2, 1, 0])"
      ]
     },
     "execution_count": 17,
     "metadata": {},
     "output_type": "execute_result"
    }
   ],
   "source": [
    "arr[::-1]"
   ]
  },
  {
   "cell_type": "code",
   "execution_count": 18,
   "id": "ed49d8e3-6a25-4a62-9cfe-d1a2548c7077",
   "metadata": {},
   "outputs": [
    {
     "data": {
      "text/plain": [
       "array([4, 3, 2, 1, 0])"
      ]
     },
     "execution_count": 18,
     "metadata": {},
     "output_type": "execute_result"
    }
   ],
   "source": [
    "np.flip(arr) # 배열을 뒤집어주는 함수"
   ]
  },
  {
   "cell_type": "code",
   "execution_count": 30,
   "id": "6323e73b-01fc-4d3c-8def-89c2bfb00334",
   "metadata": {},
   "outputs": [
    {
     "data": {
      "text/plain": [
       "array([[ 0,  1,  2,  3,  4],\n",
       "       [ 5,  6,  7,  8,  9],\n",
       "       [10, 11, 12, 13, 14],\n",
       "       [15, 16, 17, 18, 19],\n",
       "       [20, 21, 22, 23, 24],\n",
       "       [25, 26, 27, 28, 29]])"
      ]
     },
     "execution_count": 30,
     "metadata": {},
     "output_type": "execute_result"
    }
   ],
   "source": [
    "arr2d=np.arange(30).reshape(6,5)\n",
    "arr2d"
   ]
  },
  {
   "cell_type": "code",
   "execution_count": 32,
   "id": "71cdcdcf-c4a6-421d-9f63-0ca275fbc6b3",
   "metadata": {},
   "outputs": [
    {
     "data": {
      "text/plain": [
       "array([[29, 28, 27, 26, 25],\n",
       "       [24, 23, 22, 21, 20],\n",
       "       [19, 18, 17, 16, 15],\n",
       "       [14, 13, 12, 11, 10],\n",
       "       [ 9,  8,  7,  6,  5],\n",
       "       [ 4,  3,  2,  1,  0]])"
      ]
     },
     "execution_count": 32,
     "metadata": {},
     "output_type": "execute_result"
    }
   ],
   "source": [
    "np.flip(arr2d) #default 값으로 지정 -> axis 지정안한경우 : 행방향으로 뒤집어 지고 열 방향으로도 역순으로 뒤집어짐"
   ]
  },
  {
   "cell_type": "code",
   "execution_count": 35,
   "id": "e0d28494-0481-41d5-b472-c75659df84de",
   "metadata": {},
   "outputs": [
    {
     "data": {
      "text/plain": [
       "array([[ 4,  3,  2,  1,  0],\n",
       "       [ 9,  8,  7,  6,  5],\n",
       "       [14, 13, 12, 11, 10],\n",
       "       [19, 18, 17, 16, 15],\n",
       "       [24, 23, 22, 21, 20],\n",
       "       [29, 28, 27, 26, 25]])"
      ]
     },
     "execution_count": 35,
     "metadata": {},
     "output_type": "execute_result"
    }
   ],
   "source": [
    "arr2d[:,::-1]"
   ]
  },
  {
   "cell_type": "code",
   "execution_count": 36,
   "id": "e09373b2-f1d4-4b03-96e2-e361b59f0077",
   "metadata": {},
   "outputs": [
    {
     "data": {
      "text/plain": [
       "array([[29, 28, 27, 26, 25],\n",
       "       [24, 23, 22, 21, 20],\n",
       "       [19, 18, 17, 16, 15],\n",
       "       [14, 13, 12, 11, 10],\n",
       "       [ 9,  8,  7,  6,  5],\n",
       "       [ 4,  3,  2,  1,  0]])"
      ]
     },
     "execution_count": 36,
     "metadata": {},
     "output_type": "execute_result"
    }
   ],
   "source": [
    "arr2d[:,::-1][::-1]"
   ]
  },
  {
   "cell_type": "code",
   "execution_count": 37,
   "id": "37e20be9-9533-4d95-8edd-33d7b14abc55",
   "metadata": {},
   "outputs": [
    {
     "data": {
      "text/plain": [
       "array([[25, 26, 27, 28, 29],\n",
       "       [20, 21, 22, 23, 24],\n",
       "       [15, 16, 17, 18, 19],\n",
       "       [10, 11, 12, 13, 14],\n",
       "       [ 5,  6,  7,  8,  9],\n",
       "       [ 0,  1,  2,  3,  4]])"
      ]
     },
     "execution_count": 37,
     "metadata": {},
     "output_type": "execute_result"
    }
   ],
   "source": [
    "np.flip(arr2d,axis=0)             #axis(축),axes(모든 축) axis=0 (행 방향 뒤집기) axis=1 (열 방향 뒤집기)"
   ]
  },
  {
   "cell_type": "code",
   "execution_count": 38,
   "id": "6613a834-d81d-4944-88cd-b4ad28678d08",
   "metadata": {},
   "outputs": [
    {
     "data": {
      "text/plain": [
       "array([[25, 26, 27, 28, 29],\n",
       "       [20, 21, 22, 23, 24],\n",
       "       [15, 16, 17, 18, 19],\n",
       "       [10, 11, 12, 13, 14],\n",
       "       [ 5,  6,  7,  8,  9],\n",
       "       [ 0,  1,  2,  3,  4]])"
      ]
     },
     "execution_count": 38,
     "metadata": {},
     "output_type": "execute_result"
    }
   ],
   "source": [
    "arr2d[::-1]"
   ]
  },
  {
   "cell_type": "code",
   "execution_count": 39,
   "id": "9591c3a3-1570-4bc1-aebe-4ea7b9717957",
   "metadata": {},
   "outputs": [
    {
     "data": {
      "text/plain": [
       "array([[ 4,  3,  2,  1,  0],\n",
       "       [ 9,  8,  7,  6,  5],\n",
       "       [14, 13, 12, 11, 10],\n",
       "       [19, 18, 17, 16, 15],\n",
       "       [24, 23, 22, 21, 20],\n",
       "       [29, 28, 27, 26, 25]])"
      ]
     },
     "execution_count": 39,
     "metadata": {},
     "output_type": "execute_result"
    }
   ],
   "source": [
    "np.flip(arr2d,axis=1)"
   ]
  },
  {
   "cell_type": "code",
   "execution_count": 41,
   "id": "ba28ac97-ddca-4442-81d4-b9afe244ad42",
   "metadata": {},
   "outputs": [
    {
     "data": {
      "text/plain": [
       "array([[ 4,  3,  2,  1,  0],\n",
       "       [ 9,  8,  7,  6,  5],\n",
       "       [14, 13, 12, 11, 10],\n",
       "       [19, 18, 17, 16, 15],\n",
       "       [24, 23, 22, 21, 20],\n",
       "       [29, 28, 27, 26, 25]])"
      ]
     },
     "execution_count": 41,
     "metadata": {},
     "output_type": "execute_result"
    }
   ],
   "source": [
    "arr2d[:,::-1]"
   ]
  },
  {
   "cell_type": "code",
   "execution_count": 47,
   "id": "be0acbab-392b-4bd3-bf45-4c42a1c8b700",
   "metadata": {},
   "outputs": [],
   "source": [
    "arr1=np.zeros([3,3])\n",
    "arr2=np.ones([3,2])\n",
    "arr12=np.hstack([arr1,arr2])"
   ]
  },
  {
   "cell_type": "code",
   "execution_count": 48,
   "id": "3ebb9a22-c131-4a63-ab7a-6ee1869c3f03",
   "metadata": {},
   "outputs": [],
   "source": [
    "arr3=np.arange(10,151,10).reshape(3,-1)"
   ]
  },
  {
   "cell_type": "code",
   "execution_count": 49,
   "id": "46544f27-f272-4588-8e77-c481b69a85d1",
   "metadata": {},
   "outputs": [
    {
     "data": {
      "text/plain": [
       "array([[  0.,   0.,   0.,   1.,   1.],\n",
       "       [  0.,   0.,   0.,   1.,   1.],\n",
       "       [  0.,   0.,   0.,   1.,   1.],\n",
       "       [ 10.,  20.,  30.,  40.,  50.],\n",
       "       [ 60.,  70.,  80.,  90., 100.],\n",
       "       [110., 120., 130., 140., 150.],\n",
       "       [  0.,   0.,   0.,   1.,   1.],\n",
       "       [  0.,   0.,   0.,   1.,   1.],\n",
       "       [  0.,   0.,   0.,   1.,   1.],\n",
       "       [ 10.,  20.,  30.,  40.,  50.],\n",
       "       [ 60.,  70.,  80.,  90., 100.],\n",
       "       [110., 120., 130., 140., 150.]])"
      ]
     },
     "execution_count": 49,
     "metadata": {},
     "output_type": "execute_result"
    }
   ],
   "source": [
    "arr_v=np.vstack([arr12,arr3])\n",
    "np.vstack([arr_v,arr_v])"
   ]
  },
  {
   "cell_type": "code",
   "execution_count": 60,
   "id": "15fab11a-258a-4faa-8064-28dc3723c547",
   "metadata": {},
   "outputs": [
    {
     "data": {
      "text/plain": [
       "array([0., 0., 0., 1., 1.])"
      ]
     },
     "execution_count": 60,
     "metadata": {},
     "output_type": "execute_result"
    }
   ],
   "source": [
    "arr1=np.zeros([3])\n",
    "arr2=np.ones([2])\n",
    "arr12=np.hstack([arr1,arr2])\n",
    "arr12"
   ]
  },
  {
   "cell_type": "code",
   "execution_count": 61,
   "id": "22d57d22-2adb-410a-87fe-9f7bc6be0fd5",
   "metadata": {},
   "outputs": [],
   "source": [
    "arr12tile=np.tile(arr12,(3,1)) #arr12를 반복해라 행으로 3번 좌우로 1번"
   ]
  },
  {
   "cell_type": "code",
   "execution_count": 62,
   "id": "f9370b25-1b3f-4c6c-a946-99988abcef0c",
   "metadata": {},
   "outputs": [
    {
     "data": {
      "text/plain": [
       "array([[ 10.,  20.,  30.,  40.,  50.],\n",
       "       [ 60.,  70.,  80.,  90., 100.],\n",
       "       [110., 120., 130., 140., 150.]])"
      ]
     },
     "execution_count": 62,
     "metadata": {},
     "output_type": "execute_result"
    }
   ],
   "source": [
    "arr123=np.linspace(10,150,15).reshape(3,-1) #10 부터 150까지 균등한 간격으로 15개 생성\n",
    "arr123"
   ]
  },
  {
   "cell_type": "code",
   "execution_count": 63,
   "id": "5afb20d3-f7aa-484b-9a0e-84fa03fa555a",
   "metadata": {},
   "outputs": [
    {
     "data": {
      "text/plain": [
       "array([[  0.,   0.,   0.,   1.,   1.],\n",
       "       [  0.,   0.,   0.,   1.,   1.],\n",
       "       [  0.,   0.,   0.,   1.,   1.],\n",
       "       [ 10.,  20.,  30.,  40.,  50.],\n",
       "       [ 60.,  70.,  80.,  90., 100.],\n",
       "       [110., 120., 130., 140., 150.]])"
      ]
     },
     "execution_count": 63,
     "metadata": {},
     "output_type": "execute_result"
    }
   ],
   "source": [
    "arr123=np.vstack([arr12tile,arr123])\n",
    "arr123"
   ]
  },
  {
   "cell_type": "code",
   "execution_count": 64,
   "id": "c547bf4c-dfe3-4982-9990-a397a980a126",
   "metadata": {},
   "outputs": [
    {
     "data": {
      "text/plain": [
       "array([[  0.,   0.,   0.,   1.,   1.],\n",
       "       [  0.,   0.,   0.,   1.,   1.],\n",
       "       [  0.,   0.,   0.,   1.,   1.],\n",
       "       [ 10.,  20.,  30.,  40.,  50.],\n",
       "       [ 60.,  70.,  80.,  90., 100.],\n",
       "       [110., 120., 130., 140., 150.],\n",
       "       [  0.,   0.,   0.,   1.,   1.],\n",
       "       [  0.,   0.,   0.,   1.,   1.],\n",
       "       [  0.,   0.,   0.,   1.,   1.],\n",
       "       [ 10.,  20.,  30.,  40.,  50.],\n",
       "       [ 60.,  70.,  80.,  90., 100.],\n",
       "       [110., 120., 130., 140., 150.]])"
      ]
     },
     "execution_count": 64,
     "metadata": {},
     "output_type": "execute_result"
    }
   ],
   "source": [
    "np.tile(arr123,(2,1))"
   ]
  },
  {
   "cell_type": "code",
   "execution_count": 65,
   "id": "04bf066b-3a5d-4ace-9539-3680b8ace356",
   "metadata": {},
   "outputs": [],
   "source": [
    "arr=np.arange(10,15)"
   ]
  },
  {
   "cell_type": "code",
   "execution_count": 66,
   "id": "4456fde4-893d-4c10-a5bd-8173213a9c1a",
   "metadata": {},
   "outputs": [
    {
     "data": {
      "text/plain": [
       "60"
      ]
     },
     "execution_count": 66,
     "metadata": {},
     "output_type": "execute_result"
    }
   ],
   "source": [
    "np.sum(arr) #합계"
   ]
  },
  {
   "cell_type": "code",
   "execution_count": 67,
   "id": "39a75dcf-7cdd-4370-a091-0d565a66dba6",
   "metadata": {},
   "outputs": [
    {
     "data": {
      "text/plain": [
       "60"
      ]
     },
     "execution_count": 67,
     "metadata": {},
     "output_type": "execute_result"
    }
   ],
   "source": [
    "arr.sum() #합계 함수 다른 방법"
   ]
  },
  {
   "cell_type": "code",
   "execution_count": 69,
   "id": "008f8daf-d5f2-4825-82a0-6a5cb8140e55",
   "metadata": {},
   "outputs": [
    {
     "data": {
      "text/plain": [
       "14"
      ]
     },
     "execution_count": 69,
     "metadata": {},
     "output_type": "execute_result"
    }
   ],
   "source": [
    "np.min(arr) # 최소값\n",
    "np.max(arr) # 최대값"
   ]
  },
  {
   "cell_type": "code",
   "execution_count": 70,
   "id": "093b585d-baaa-4027-b223-6701f04582b9",
   "metadata": {},
   "outputs": [
    {
     "data": {
      "text/plain": [
       "14"
      ]
     },
     "execution_count": 70,
     "metadata": {},
     "output_type": "execute_result"
    }
   ],
   "source": [
    "arr.min() # 이 문법도 가능\n",
    "arr.max()"
   ]
  },
  {
   "cell_type": "code",
   "execution_count": 72,
   "id": "06401d04-ed80-4ea9-b20a-2828b36cea2b",
   "metadata": {},
   "outputs": [],
   "source": [
    "arr=np.arange(11,21).reshape(2,-1)"
   ]
  },
  {
   "cell_type": "code",
   "execution_count": 74,
   "id": "caa589f0-951f-4815-afb7-c4ef1c56a5f7",
   "metadata": {},
   "outputs": [
    {
     "data": {
      "text/plain": [
       "155"
      ]
     },
     "execution_count": 74,
     "metadata": {},
     "output_type": "execute_result"
    }
   ],
   "source": [
    "np.sum(arr)\n",
    "arr.sum()"
   ]
  },
  {
   "cell_type": "code",
   "execution_count": 75,
   "id": "8a68fe40-1000-41db-9bee-20953057012c",
   "metadata": {},
   "outputs": [
    {
     "data": {
      "text/plain": [
       "20"
      ]
     },
     "execution_count": 75,
     "metadata": {},
     "output_type": "execute_result"
    }
   ],
   "source": [
    "np.min(arr)\n",
    "arr.min()\n",
    "np.max(arr)\n",
    "arr.max()"
   ]
  },
  {
   "cell_type": "code",
   "execution_count": 80,
   "id": "c9560468-3564-4f25-9d7e-468c59c305a9",
   "metadata": {},
   "outputs": [
    {
     "data": {
      "text/plain": [
       "array([[11, 12, 13, 14, 15],\n",
       "       [16, 17, 18, 19, 20]])"
      ]
     },
     "execution_count": 80,
     "metadata": {},
     "output_type": "execute_result"
    }
   ],
   "source": [
    "arr"
   ]
  },
  {
   "cell_type": "code",
   "execution_count": 79,
   "id": "caad292b-99f7-4720-a7a1-cefaff336658",
   "metadata": {},
   "outputs": [
    {
     "data": {
      "text/plain": [
       "0"
      ]
     },
     "execution_count": 79,
     "metadata": {},
     "output_type": "execute_result"
    }
   ],
   "source": [
    "\n",
    "arr.argmin() #최소값이 저장되어있는 인덱스 번호 추출"
   ]
  },
  {
   "cell_type": "code",
   "execution_count": 77,
   "id": "b39e1fbf-8a92-41ea-b87a-6cf5b4f277ec",
   "metadata": {},
   "outputs": [
    {
     "data": {
      "text/plain": [
       "9"
      ]
     },
     "execution_count": 77,
     "metadata": {},
     "output_type": "execute_result"
    }
   ],
   "source": [
    "arr.argmax() #최대값이 저장되어있는 인덱스 번호 추출 2차원 구조에서도 처음 0부터 쭉 셈"
   ]
  },
  {
   "cell_type": "code",
   "execution_count": 81,
   "id": "caf6d55b-a92b-4192-ba5a-1bf8adf5089f",
   "metadata": {},
   "outputs": [
    {
     "data": {
      "text/plain": [
       "4"
      ]
     },
     "execution_count": 81,
     "metadata": {},
     "output_type": "execute_result"
    }
   ],
   "source": [
    "arr[0].argmin() #0 각각의 행에 대해서 함수 사용하면 행 내에서의 최댓값과 최솟값 인덱스 추출\n",
    "arr[0].argmax() #4"
   ]
  },
  {
   "cell_type": "code",
   "execution_count": 82,
   "id": "20c249d3-efdb-406f-ba77-a8c3ff50afde",
   "metadata": {},
   "outputs": [
    {
     "data": {
      "text/plain": [
       "15.5"
      ]
     },
     "execution_count": 82,
     "metadata": {},
     "output_type": "execute_result"
    }
   ],
   "source": [
    "arr.mean() #전체 요소값에 대한 평균"
   ]
  },
  {
   "cell_type": "code",
   "execution_count": 83,
   "id": "0434855d-7b64-4a4a-8dc2-283341332e52",
   "metadata": {},
   "outputs": [
    {
     "data": {
      "text/plain": [
       "13.0"
      ]
     },
     "execution_count": 83,
     "metadata": {},
     "output_type": "execute_result"
    }
   ],
   "source": [
    "arr[0].mean() #0번 행에 대한 요소의 평균값"
   ]
  },
  {
   "cell_type": "code",
   "execution_count": 85,
   "id": "12a611ed-32c7-4cf2-b36d-9f88469b9ad0",
   "metadata": {},
   "outputs": [
    {
     "data": {
      "text/plain": [
       "15.5"
      ]
     },
     "execution_count": 85,
     "metadata": {},
     "output_type": "execute_result"
    }
   ],
   "source": [
    "np.mean(arr) #도 가능"
   ]
  },
  {
   "cell_type": "code",
   "execution_count": 86,
   "id": "448c5cba-74df-4a8d-b222-d71810c245de",
   "metadata": {},
   "outputs": [
    {
     "data": {
      "text/plain": [
       "15.5"
      ]
     },
     "execution_count": 86,
     "metadata": {},
     "output_type": "execute_result"
    }
   ],
   "source": [
    "#산술평균 -> n을 다 더한후 n개로 나눈 값 ->극단값에 영향을 많이 받음 ex 1000만 2000만 100억 셋의 평균임금은 33억이 넘어감 \n",
    "# arr.median()이 문법은 사용 불가\n",
    "np.median(arr) #데이터의 중위값 (가운데 값) 데이터 개수가 홀수일 경우 가운데 중위수가 추출 되지만 데이터 개수가 짝수이면 가운데 2개의 값의 산술평균으로 함"
   ]
  },
  {
   "cell_type": "code",
   "execution_count": 87,
   "id": "dabd1545-dcc1-437b-ac07-2a1507927308",
   "metadata": {},
   "outputs": [
    {
     "data": {
      "text/plain": [
       "13.0"
      ]
     },
     "execution_count": 87,
     "metadata": {},
     "output_type": "execute_result"
    }
   ],
   "source": [
    "np.median(arr[0])"
   ]
  },
  {
   "cell_type": "code",
   "execution_count": 88,
   "id": "32f322ae-0c85-47fb-972b-175bc87b8165",
   "metadata": {},
   "outputs": [
    {
     "data": {
      "text/plain": [
       "True"
      ]
     },
     "execution_count": 88,
     "metadata": {},
     "output_type": "execute_result"
    }
   ],
   "source": [
    "np.all # 모두 다 True(참)인가? 맞으면 True 아니면 False 출력\n",
    "np.all(2>1)"
   ]
  },
  {
   "cell_type": "code",
   "execution_count": 89,
   "id": "4405f278-98d3-4896-b7d4-7c45bc17c957",
   "metadata": {},
   "outputs": [
    {
     "data": {
      "text/plain": [
       "False"
      ]
     },
     "execution_count": 89,
     "metadata": {},
     "output_type": "execute_result"
    }
   ],
   "source": [
    "np.all([2>1,5>3, 3<1]) # 두개 이상일시 리스트형식으로 묶어줘야함 하나라도 false가 있으면 false 출력"
   ]
  },
  {
   "cell_type": "code",
   "execution_count": 90,
   "id": "5ce22ded-a94d-4e62-b736-d00b7561e847",
   "metadata": {},
   "outputs": [
    {
     "data": {
      "text/plain": [
       "True"
      ]
     },
     "execution_count": 90,
     "metadata": {},
     "output_type": "execute_result"
    }
   ],
   "source": [
    "np.any([True,True,False]) #하나라도 True가 있으면 True 출력"
   ]
  },
  {
   "cell_type": "code",
   "execution_count": 92,
   "id": "fcf31ca1-2398-4fa8-b851-43422ea37b5d",
   "metadata": {},
   "outputs": [
    {
     "data": {
      "text/plain": [
       "False"
      ]
     },
     "execution_count": 92,
     "metadata": {},
     "output_type": "execute_result"
    }
   ],
   "source": [
    "np.all([1,2,0]) # 0은 False 0이 아니면 참\n"
   ]
  },
  {
   "cell_type": "code",
   "execution_count": 94,
   "id": "8a28fa31-5e54-4741-9429-51aad91bf24b",
   "metadata": {},
   "outputs": [
    {
     "data": {
      "text/plain": [
       "True"
      ]
     },
     "execution_count": 94,
     "metadata": {},
     "output_type": "execute_result"
    }
   ],
   "source": [
    "np.all([1,2])"
   ]
  },
  {
   "cell_type": "code",
   "execution_count": 95,
   "id": "04555524-8de8-4b93-994a-0e7e27d194ba",
   "metadata": {},
   "outputs": [
    {
     "data": {
      "text/plain": [
       "False"
      ]
     },
     "execution_count": 95,
     "metadata": {},
     "output_type": "execute_result"
    }
   ],
   "source": [
    "np.all(np.arange(5)) #False가 나오는 이유 -> 0이 하나 포함되어 있기때문에 all함수에서는 False가 출력"
   ]
  },
  {
   "cell_type": "code",
   "execution_count": 96,
   "id": "e4823fc6-e9e4-4a67-8825-b9ddaee90574",
   "metadata": {},
   "outputs": [
    {
     "data": {
      "text/plain": [
       "True"
      ]
     },
     "execution_count": 96,
     "metadata": {},
     "output_type": "execute_result"
    }
   ],
   "source": [
    "np.all(np.arange(1,5)) #0을 빼면 참으로 출력"
   ]
  },
  {
   "cell_type": "code",
   "execution_count": 97,
   "id": "0ae4fde0-bf35-4391-b12c-3bf91cf3b264",
   "metadata": {},
   "outputs": [],
   "source": [
    "a = np.array([1, 2, 3, 2])\n",
    "b = np.array([2, 2, 3, 2])\n",
    "c = np.array([6, 4, 4, 5])"
   ]
  },
  {
   "cell_type": "code",
   "execution_count": 98,
   "id": "bcd4a03f-deb6-46e4-bbf4-7215f0ca72b8",
   "metadata": {},
   "outputs": [
    {
     "data": {
      "text/plain": [
       "True"
      ]
     },
     "execution_count": 98,
     "metadata": {},
     "output_type": "execute_result"
    }
   ],
   "source": [
    "np.all((a <= b) & (b <= c)) "
   ]
  },
  {
   "cell_type": "code",
   "execution_count": 102,
   "id": "bbded00a-8b23-40d3-aa55-27243157513e",
   "metadata": {},
   "outputs": [
    {
     "data": {
      "text/plain": [
       "array([[0, 1, 2, 3, 4],\n",
       "       [5, 6, 7, 8, 9]])"
      ]
     },
     "execution_count": 102,
     "metadata": {},
     "output_type": "execute_result"
    }
   ],
   "source": [
    "arr=np.arange(10).reshape(2,5)\n",
    "arr"
   ]
  },
  {
   "cell_type": "code",
   "execution_count": 103,
   "id": "86e1878b-0b63-4ff0-b374-9e6f2688d24e",
   "metadata": {},
   "outputs": [],
   "source": [
    "#2차원 이상 다차원 배열에 대한 연산시에는 axis를 지정할 수 있음\n",
    "#axis=0 (기본값,열방향 연산), axis=1 (행방향 연산)\n"
   ]
  },
  {
   "cell_type": "code",
   "execution_count": 104,
   "id": "67826e11-29c3-4c50-a6d3-386a08e5a21e",
   "metadata": {},
   "outputs": [
    {
     "data": {
      "text/plain": [
       "array([ 5,  7,  9, 11, 13])"
      ]
     },
     "execution_count": 104,
     "metadata": {},
     "output_type": "execute_result"
    }
   ],
   "source": [
    "arr.sum(axis=0) #열방향 연산 위아래로 연산해서 나열"
   ]
  },
  {
   "cell_type": "code",
   "execution_count": 105,
   "id": "2dfcf2c9-bcfb-4517-a476-666086f5732a",
   "metadata": {},
   "outputs": [
    {
     "data": {
      "text/plain": [
       "array([10, 35])"
      ]
     },
     "execution_count": 105,
     "metadata": {},
     "output_type": "execute_result"
    }
   ],
   "source": [
    "arr.sum(axis=1)  #행방향 연산 좌우로 연산"
   ]
  },
  {
   "cell_type": "code",
   "execution_count": 106,
   "id": "cb9a4058-17e1-40bc-84a9-cc71d57fbf0d",
   "metadata": {},
   "outputs": [
    {
     "data": {
      "text/plain": [
       "array([5, 6, 7, 8, 9])"
      ]
     },
     "execution_count": 106,
     "metadata": {},
     "output_type": "execute_result"
    }
   ],
   "source": [
    "arr.max(axis=0)"
   ]
  },
  {
   "cell_type": "code",
   "execution_count": 107,
   "id": "fb73d386-c27f-4f6f-8402-4816c23e9229",
   "metadata": {},
   "outputs": [
    {
     "data": {
      "text/plain": [
       "array([4, 9])"
      ]
     },
     "execution_count": 107,
     "metadata": {},
     "output_type": "execute_result"
    }
   ],
   "source": [
    "arr.max(axis=1)"
   ]
  },
  {
   "cell_type": "code",
   "execution_count": 131,
   "id": "773dde4c-2f75-4523-b2f9-98b5c320cae5",
   "metadata": {},
   "outputs": [],
   "source": [
    "a = np.array([[4,  3,  5,  7],\n",
    "              [1, 12, 11,  9],\n",
    "              [2, 15,  1, 14]])"
   ]
  },
  {
   "cell_type": "code",
   "execution_count": 109,
   "id": "81f6a87e-113e-437c-9952-155066f934b9",
   "metadata": {},
   "outputs": [
    {
     "data": {
      "text/plain": [
       "array([ 7, 12, 15])"
      ]
     },
     "execution_count": 109,
     "metadata": {},
     "output_type": "execute_result"
    }
   ],
   "source": [
    "np.max(a,axis=1)"
   ]
  },
  {
   "cell_type": "code",
   "execution_count": 116,
   "id": "cf182e51-ee10-44db-9260-f4e1d44581be",
   "metadata": {},
   "outputs": [
    {
     "data": {
      "text/plain": [
       "array([[ 1,  2,  5,  7],\n",
       "       [ 1,  4, 11, 12],\n",
       "       [ 3,  9, 14, 15]])"
      ]
     },
     "execution_count": 116,
     "metadata": {},
     "output_type": "execute_result"
    }
   ],
   "source": [
    "a.sort() #정렬 axis=0 (기본값,열방향 연산)\n",
    "a"
   ]
  },
  {
   "cell_type": "code",
   "execution_count": 130,
   "id": "bd4f254e-babe-4e86-b8ff-65cc72fdd3e2",
   "metadata": {},
   "outputs": [
    {
     "data": {
      "text/plain": [
       "array([[ 1,  3,  1,  7],\n",
       "       [ 2, 12,  5,  9],\n",
       "       [ 4, 15, 11, 14]])"
      ]
     },
     "execution_count": 130,
     "metadata": {},
     "output_type": "execute_result"
    }
   ],
   "source": [
    "a = np.array([[4,  3,  5,  7],\n",
    "              [1, 12, 11,  9],\n",
    "              [2, 15,  1, 14]])\n",
    "a.sort(axis=0) #위에서 아래로 열마다 오름차순 정렬\n",
    "a\n"
   ]
  },
  {
   "cell_type": "code",
   "execution_count": 132,
   "id": "c7ea4597-0786-444d-81b1-c4df1f3eb702",
   "metadata": {},
   "outputs": [
    {
     "data": {
      "text/plain": [
       "array([[ 3,  4,  5,  7],\n",
       "       [ 1,  9, 11, 12],\n",
       "       [ 1,  2, 14, 15]])"
      ]
     },
     "execution_count": 132,
     "metadata": {},
     "output_type": "execute_result"
    }
   ],
   "source": [
    "a = np.array([[4,  3,  5,  7],\n",
    "              [1, 12, 11,  9],\n",
    "              [2, 15,  1, 14]])\n",
    "a.sort(axis=1) #행마다 오름차순 정렬\n",
    "a"
   ]
  },
  {
   "cell_type": "code",
   "execution_count": null,
   "id": "dcca2323-148f-4c63-8e6b-9e5dbdcd89df",
   "metadata": {
    "scrolled": true
   },
   "outputs": [],
   "source": [
    "a = np.array([[4,  3,  5,  7],\n",
    "              [1, 12, 11,  9],\n",
    "              [2, 15,  1, 14]])\n",
    "np.sort(a)\n",
    "#기본 default값이 axis=1"
   ]
  },
  {
   "cell_type": "code",
   "execution_count": 141,
   "id": "b1b4f5ae-1dc2-4084-a1c8-4e7e30a34096",
   "metadata": {},
   "outputs": [],
   "source": [
    "#a.sort() 를 하게되면 a 배열이 바뀌지만 np.sort(a)를 하고 a를 출력하면 a배열이 바뀌진 않음\n",
    "arr=np.array([10,20,30,40,90])"
   ]
  },
  {
   "cell_type": "code",
   "execution_count": 142,
   "id": "4806e95a-9d8a-4812-ac4b-2536267be4d1",
   "metadata": {},
   "outputs": [
    {
     "data": {
      "text/plain": [
       "array([90, 40, 30, 20, 10])"
      ]
     },
     "execution_count": 142,
     "metadata": {},
     "output_type": "execute_result"
    }
   ],
   "source": [
    "arr2=np.sort(arr)[::-1] #내림차순 정렬 np.sort()를 할 경우에 arr 자체가 변하지는 않음\n",
    "arr2"
   ]
  },
  {
   "cell_type": "code",
   "execution_count": 143,
   "id": "ceec2774-e22d-4cad-8056-42e53aa42f52",
   "metadata": {},
   "outputs": [
    {
     "data": {
      "text/plain": [
       "array([10, 20, 30, 40, 90])"
      ]
     },
     "execution_count": 143,
     "metadata": {},
     "output_type": "execute_result"
    }
   ],
   "source": [
    "arr"
   ]
  },
  {
   "cell_type": "code",
   "execution_count": 145,
   "id": "0ea81a18-0688-4162-8151-f0d4b13f81df",
   "metadata": {},
   "outputs": [
    {
     "data": {
      "text/plain": [
       "array([40, 20, 10, 30, 90])"
      ]
     },
     "execution_count": 145,
     "metadata": {},
     "output_type": "execute_result"
    }
   ],
   "source": [
    "arr=np.array([40,20,10,30,90])\n",
    "arr"
   ]
  },
  {
   "cell_type": "raw",
   "id": "f3452a10-07a4-4574-9bc0-9f74ec7510f5",
   "metadata": {},
   "source": [
    "np.sort(arr)"
   ]
  },
  {
   "cell_type": "code",
   "execution_count": 146,
   "id": "0cb67092-ac20-4708-ad42-dc124a78c516",
   "metadata": {},
   "outputs": [
    {
     "data": {
      "text/plain": [
       "array([40, 20, 10, 30, 90])"
      ]
     },
     "execution_count": 146,
     "metadata": {},
     "output_type": "execute_result"
    }
   ],
   "source": [
    "arr #정렬 결과를 반영하지 않음"
   ]
  },
  {
   "cell_type": "code",
   "execution_count": 148,
   "id": "c103719a-e97a-44c1-b13d-d29d910fb3ee",
   "metadata": {},
   "outputs": [
    {
     "data": {
      "text/plain": [
       "array([10, 20, 30, 40, 90])"
      ]
     },
     "execution_count": 148,
     "metadata": {},
     "output_type": "execute_result"
    }
   ],
   "source": [
    "arr.sort() #정렬결과 반영\n",
    "arr"
   ]
  },
  {
   "cell_type": "code",
   "execution_count": 149,
   "id": "a7f14b17-9e79-40c2-8cc7-5fe1c8d5d782",
   "metadata": {},
   "outputs": [
    {
     "data": {
      "text/plain": [
       "5"
      ]
     },
     "execution_count": 149,
     "metadata": {},
     "output_type": "execute_result"
    }
   ],
   "source": [
    "len(arr)"
   ]
  },
  {
   "cell_type": "code",
   "execution_count": 150,
   "id": "282d8755-8da7-4379-aff4-2d72a261163d",
   "metadata": {},
   "outputs": [
    {
     "data": {
      "text/plain": [
       "38.0"
      ]
     },
     "execution_count": 150,
     "metadata": {},
     "output_type": "execute_result"
    }
   ],
   "source": [
    "np.mean(arr)"
   ]
  },
  {
   "cell_type": "code",
   "execution_count": 151,
   "id": "33501948-2741-44dc-88ca-a156d97097a8",
   "metadata": {},
   "outputs": [
    {
     "data": {
      "text/plain": [
       "776.0"
      ]
     },
     "execution_count": 151,
     "metadata": {},
     "output_type": "execute_result"
    }
   ],
   "source": [
    "np.var(arr) #분산 변수의 흩어진 정도를 계산하는 지표(variance) \n",
    "#분산의 제곱근 = 표준편차 , 분산= 각 데이터값에서 데이터의 평균값을 뺀 것의 제곱을 다 합하고 데이터 개수로 나눈 값\n",
    "#기하학적으로 생각해보면 평균과 각각의 데이터 사이의 평균면적임 왜 why? 평균과 데이터를 뺀것의 제곱  즉 밑변을 두번 곱하므로 정사각형의 면적이 되는것이고 이것을 다 더한것을 데이터의 개수로 나누기 떄문\n",
    "#결국 데이터값에서 평균값까지의 밑변을 가지는 정사각형의 면적 평균"
   ]
  },
  {
   "cell_type": "code",
   "execution_count": 152,
   "id": "f0655452-ca85-451c-ba56-6381303cdad3",
   "metadata": {},
   "outputs": [
    {
     "data": {
      "text/plain": [
       "27.85677655436824"
      ]
     },
     "execution_count": 152,
     "metadata": {},
     "output_type": "execute_result"
    }
   ],
   "source": [
    "np.std(arr) #표준편차= 분산의 제곱근"
   ]
  },
  {
   "cell_type": "code",
   "execution_count": 153,
   "id": "9537b368-4829-4f23-b37b-75ebef93603d",
   "metadata": {},
   "outputs": [
    {
     "data": {
      "text/plain": [
       "array([10, 20, 30, 40, 90])"
      ]
     },
     "execution_count": 153,
     "metadata": {},
     "output_type": "execute_result"
    }
   ],
   "source": [
    "arr"
   ]
  },
  {
   "cell_type": "code",
   "execution_count": 155,
   "id": "6918289b-1682-40d1-859c-dc8902313902",
   "metadata": {},
   "outputs": [
    {
     "data": {
      "text/plain": [
       "array([ 5, 10,  9,  3,  8])"
      ]
     },
     "execution_count": 155,
     "metadata": {},
     "output_type": "execute_result"
    }
   ],
   "source": [
    "x=np.array([5,10,9,3,8])\n",
    "x"
   ]
  },
  {
   "cell_type": "code",
   "execution_count": null,
   "id": "7c7dea87-99f2-4d02-9550-a38a7deafdf1",
   "metadata": {},
   "outputs": [],
   "source": [
    "x에 대한 표본분산을 구하시오 #모집단에 있는 표본들의 분산"
   ]
  },
  {
   "cell_type": "code",
   "execution_count": 157,
   "id": "b7641a75-d0fb-4cd0-9c7b-53ed1a47bdf3",
   "metadata": {},
   "outputs": [
    {
     "data": {
      "text/plain": [
       "6.8"
      ]
     },
     "execution_count": 157,
     "metadata": {},
     "output_type": "execute_result"
    }
   ],
   "source": [
    "x.var() #-> 모분산"
   ]
  },
  {
   "cell_type": "code",
   "execution_count": 174,
   "id": "5b83223a-ad10-4567-ba0a-87445abe76dd",
   "metadata": {},
   "outputs": [
    {
     "data": {
      "text/plain": [
       "8.5"
      ]
     },
     "execution_count": 174,
     "metadata": {},
     "output_type": "execute_result"
    }
   ],
   "source": [
    "np.sum(((x-x.mean())**2))/(len(x)-1) #표본분산"
   ]
  },
  {
   "cell_type": "code",
   "execution_count": 194,
   "id": "5d2d9a95-9f30-43ae-b3b4-6a96e822f26a",
   "metadata": {},
   "outputs": [
    {
     "data": {
      "text/plain": [
       "array([  1,   2,   3,   4,   5,   6,   7,   8,   9,  10,  11,  12,  13,\n",
       "        14,  15,  16,  17,  18,  19,  20,  21,  22,  23,  24,  25,  26,\n",
       "        27,  28,  29,  30,  31,  32,  33,  34,  35,  36,  37,  38,  39,\n",
       "        40,  41,  42,  43,  44,  45,  46,  47,  48,  49,  50,  51,  52,\n",
       "        53,  54,  55,  56,  57,  58,  59,  60,  61,  62,  63,  64,  65,\n",
       "        66,  67,  68,  69,  70,  71,  72,  73,  74,  75,  76,  77,  78,\n",
       "        79,  80,  81,  82,  83,  84,  85,  86,  87,  88,  89,  90,  91,\n",
       "        92,  93,  94,  95,  96,  97,  98,  99, 100, 101, 102, 103, 104,\n",
       "       105, 106, 107, 108, 109, 110, 111, 112, 113, 114, 115, 116, 117,\n",
       "       118, 119, 120, 121, 122, 123, 124, 125, 126, 127, 128, 129, 130,\n",
       "       131, 132, 133, 134, 135, 136, 137, 138, 139, 140, 141, 142, 143,\n",
       "       144, 145, 146, 147, 148, 149, 150, 151, 152, 153, 154, 155, 156,\n",
       "       157, 158, 159, 160, 161, 162, 163, 164, 165, 166, 167, 168, 169,\n",
       "       170, 171, 172, 173, 174, 175, 176, 177, 178, 179, 180, 181, 182,\n",
       "       183, 184, 185, 186, 187, 188, 189, 190, 191, 192, 193, 194, 195,\n",
       "       196, 197, 198, 199, 200])"
      ]
     },
     "execution_count": 194,
     "metadata": {},
     "output_type": "execute_result"
    }
   ],
   "source": [
    "x=np.arange(1,201)\n",
    "x"
   ]
  },
  {
   "cell_type": "code",
   "execution_count": 190,
   "id": "108f71fe-bd3e-4fa8-94d3-02c7cbffe478",
   "metadata": {},
   "outputs": [
    {
     "data": {
      "text/plain": [
       "1.0"
      ]
     },
     "execution_count": 190,
     "metadata": {},
     "output_type": "execute_result"
    }
   ],
   "source": [
    "np.percentile(x,0) #최소값"
   ]
  },
  {
   "cell_type": "code",
   "execution_count": 191,
   "id": "61a925f5-b598-47dc-b8aa-6e9640bdf304",
   "metadata": {},
   "outputs": [
    {
     "data": {
      "text/plain": [
       "201.0"
      ]
     },
     "execution_count": 191,
     "metadata": {},
     "output_type": "execute_result"
    }
   ],
   "source": [
    "np.percentile(x,100) #백분위수: 위치를 100으로 나눈 수 \n",
    "# 1사분위수 : 25%에 해당하는 백분위수"
   ]
  },
  {
   "cell_type": "code",
   "execution_count": 192,
   "id": "beab8c9f-103d-427c-9588-e0570fa75738",
   "metadata": {},
   "outputs": [
    {
     "data": {
      "text/plain": [
       "51.0"
      ]
     },
     "execution_count": 192,
     "metadata": {},
     "output_type": "execute_result"
    }
   ],
   "source": [
    "np.percentile(x,25) # 1사분위수 ->데이터에서 25% 위치에 해당하는 값"
   ]
  },
  {
   "cell_type": "code",
   "execution_count": 193,
   "id": "785ac212-3d17-47e0-8730-a103e90090a7",
   "metadata": {},
   "outputs": [
    {
     "data": {
      "text/plain": [
       "101.0"
      ]
     },
     "execution_count": 193,
     "metadata": {},
     "output_type": "execute_result"
    }
   ],
   "source": [
    "np.percentile(x,50) #2사분위 수 ->데이터에서 50%위치에 해당하는값 "
   ]
  },
  {
   "cell_type": "code",
   "execution_count": 195,
   "id": "7db6a040-1d27-4ed8-b633-6d691c68fcb1",
   "metadata": {},
   "outputs": [
    {
     "data": {
      "text/plain": [
       "150.25"
      ]
     },
     "execution_count": 195,
     "metadata": {},
     "output_type": "execute_result"
    }
   ],
   "source": [
    "np.percentile(x,75) # 3사분위 수\n"
   ]
  },
  {
   "cell_type": "code",
   "execution_count": 196,
   "id": "c1eb97fe-eb49-4ffa-9980-294be8c39e18",
   "metadata": {},
   "outputs": [
    {
     "data": {
      "text/plain": [
       "200.0"
      ]
     },
     "execution_count": 196,
     "metadata": {},
     "output_type": "execute_result"
    }
   ],
   "source": [
    "np.percentile(x,100) #백분위 수"
   ]
  },
  {
   "cell_type": "code",
   "execution_count": 197,
   "id": "afd11263-65df-40cb-bd29-56ba7186d832",
   "metadata": {},
   "outputs": [
    {
     "data": {
      "text/plain": [
       "array([ 0,  1,  2,  3,  4,  5,  6,  7,  8,  9, 10])"
      ]
     },
     "execution_count": 197,
     "metadata": {},
     "output_type": "execute_result"
    }
   ],
   "source": [
    "data=np.arange(11)\n",
    "data"
   ]
  },
  {
   "cell_type": "code",
   "execution_count": 198,
   "id": "b9f93c9c-cd9c-4424-9f30-b40a03873d9c",
   "metadata": {},
   "outputs": [
    {
     "data": {
      "text/plain": [
       "5.0"
      ]
     },
     "execution_count": 198,
     "metadata": {},
     "output_type": "execute_result"
    }
   ],
   "source": [
    "np.percentile(data,50) # 데이터가 홀수개 이므로 정확히 가운데있는 5가 출력 (중위수= 2사분위수)"
   ]
  },
  {
   "cell_type": "code",
   "execution_count": 199,
   "id": "13632425-5c3c-4669-99c0-f5706a8badb2",
   "metadata": {},
   "outputs": [
    {
     "data": {
      "text/plain": [
       "2.5"
      ]
     },
     "execution_count": 199,
     "metadata": {},
     "output_type": "execute_result"
    }
   ],
   "source": [
    "np.percentile(data,25)# 1사분위 수"
   ]
  },
  {
   "cell_type": "code",
   "execution_count": 200,
   "id": "0b9b749f-e43d-4c59-9d7c-52ad9ea7a5da",
   "metadata": {},
   "outputs": [
    {
     "data": {
      "text/plain": [
       "7.5"
      ]
     },
     "execution_count": 200,
     "metadata": {},
     "output_type": "execute_result"
    }
   ],
   "source": [
    "np.percentile(data,75) #3사분위 수"
   ]
  },
  {
   "cell_type": "code",
   "execution_count": 201,
   "id": "990d0b5a-0324-4b07-a164-5acf25ff52c3",
   "metadata": {},
   "outputs": [
    {
     "data": {
      "text/plain": [
       "10.0"
      ]
     },
     "execution_count": 201,
     "metadata": {},
     "output_type": "execute_result"
    }
   ],
   "source": [
    "np.percentile(data,100) #백분위 수=4사분위 수"
   ]
  },
  {
   "cell_type": "code",
   "execution_count": 210,
   "id": "d2143875-ec9a-4d18-b1d7-134da5bc4cda",
   "metadata": {},
   "outputs": [
    {
     "data": {
      "text/plain": [
       "array([[ 1,  2,  3,  4,  5,  6],\n",
       "       [ 7,  8,  9, 10, 11, 12],\n",
       "       [13, 14, 15, 16, 17, 18],\n",
       "       [19, 20, 21, 22, 23, 24],\n",
       "       [25, 26, 27, 28, 29, 30]])"
      ]
     },
     "execution_count": 210,
     "metadata": {},
     "output_type": "execute_result"
    }
   ],
   "source": [
    "x=np.arange(1,31).reshape(5,6)\n",
    "x"
   ]
  },
  {
   "cell_type": "code",
   "execution_count": 205,
   "id": "90e7906a-e213-4ffe-8c5c-47ac1b5ef151",
   "metadata": {},
   "outputs": [
    {
     "data": {
      "text/plain": [
       "30"
      ]
     },
     "execution_count": 205,
     "metadata": {},
     "output_type": "execute_result"
    }
   ],
   "source": [
    "np.max(x)\n"
   ]
  },
  {
   "cell_type": "code",
   "execution_count": 207,
   "id": "33794f68-3377-4040-abfb-8972210ccfc0",
   "metadata": {},
   "outputs": [
    {
     "data": {
      "text/plain": [
       "array([ 6, 12, 18, 24, 30])"
      ]
     },
     "execution_count": 207,
     "metadata": {},
     "output_type": "execute_result"
    }
   ],
   "source": [
    "np.max(x,axis=1)"
   ]
  },
  {
   "cell_type": "code",
   "execution_count": 209,
   "id": "3352a1c8-8b6b-486b-9721-c24ce5dfa5aa",
   "metadata": {},
   "outputs": [
    {
     "data": {
      "text/plain": [
       "array([ 21,  57,  93, 129, 165])"
      ]
     },
     "execution_count": 209,
     "metadata": {},
     "output_type": "execute_result"
    }
   ],
   "source": [
    "np.sum(x,axis=1)"
   ]
  },
  {
   "cell_type": "code",
   "execution_count": 211,
   "id": "2d778fee-1151-423a-bfe2-d05c2c80f811",
   "metadata": {},
   "outputs": [
    {
     "data": {
      "text/plain": [
       "array([13., 14., 15., 16., 17., 18.])"
      ]
     },
     "execution_count": 211,
     "metadata": {},
     "output_type": "execute_result"
    }
   ],
   "source": [
    "np.mean(x,axis=0)"
   ]
  },
  {
   "cell_type": "code",
   "execution_count": 212,
   "id": "73db8cee-80f3-4718-97c1-4e5d1ae12b57",
   "metadata": {},
   "outputs": [
    {
     "data": {
      "text/plain": [
       "array([ 1,  7, 13, 19, 25])"
      ]
     },
     "execution_count": 212,
     "metadata": {},
     "output_type": "execute_result"
    }
   ],
   "source": [
    "np.min(x,axis=1)"
   ]
  },
  {
   "cell_type": "code",
   "execution_count": 219,
   "id": "62fce073-5100-412e-946c-6a8f9ba5fe6a",
   "metadata": {},
   "outputs": [
    {
     "data": {
      "text/plain": [
       "array([[  1,   2,   3,   4],\n",
       "       [ 46,  99, 100,  71],\n",
       "       [ 81,  59,  90, 100]])"
      ]
     },
     "execution_count": 219,
     "metadata": {},
     "output_type": "execute_result"
    }
   ],
   "source": [
    "arr=np.array([[  1,    2,    3,    4],\n",
    "       [ 46,   99,  100,   71],\n",
    "       [ 81,   59,   90,  100]])\n",
    "arr"
   ]
  },
  {
   "cell_type": "code",
   "execution_count": 237,
   "id": "ec19eb2d-a184-492a-9067-0c2120a41e1b",
   "metadata": {},
   "outputs": [
    {
     "name": "stdout",
     "output_type": "stream",
     "text": [
      "[[  1   4   2   3]\n",
      " [ 46  71  99 100]\n",
      " [ 81 100  59  90]]\n"
     ]
    }
   ],
   "source": [
    "score = np.array([[  1,    2,    3,    4],\n",
    "                  [ 46,   99,  100,   71],\n",
    "                  [ 81,   59,   90,  100]])\n",
    "\n",
    "# 영어 점수로 정렬된 인덱스 가져오기\n",
    "eng_sorted_indices = np.argsort(score[1])\n",
    "eng_sorted_indices\n",
    "# 영어 점수로 정렬된 배열 생성\n",
    "sorted_score = score[:, eng_sorted_indices]\n",
    "\n",
    "print(sorted_score)"
   ]
  },
  {
   "cell_type": "code",
   "execution_count": null,
   "id": "90f96bdc-0339-46a5-9ac6-4648170963cd",
   "metadata": {},
   "outputs": [],
   "source": []
  }
 ],
 "metadata": {
  "kernelspec": {
   "display_name": "Python 3 (ipykernel)",
   "language": "python",
   "name": "python3"
  },
  "language_info": {
   "codemirror_mode": {
    "name": "ipython",
    "version": 3
   },
   "file_extension": ".py",
   "mimetype": "text/x-python",
   "name": "python",
   "nbconvert_exporter": "python",
   "pygments_lexer": "ipython3",
   "version": "3.11.7"
  }
 },
 "nbformat": 4,
 "nbformat_minor": 5
}
