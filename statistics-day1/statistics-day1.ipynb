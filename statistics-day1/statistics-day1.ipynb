{
 "cells": [
  {
   "cell_type": "markdown",
   "id": "0a2085d8-7b6b-4a30-a975-844a36ccbc4b",
   "metadata": {},
   "source": [
    "<H1>통계 : 판단, 의사결정</H1>\n"
   ]
  },
  {
   "cell_type": "markdown",
   "id": "483e99a2-3e76-420d-aa24-81caa1ca1c72",
   "metadata": {},
   "source": [
    "- 탐색적 데이터 분석(EDA) : 데이터가 주어져있을때 데이터의 구조,패턴,이상치 등과 같은것을 파악하는 단계 데이터에 대한 기본적 이해를하는 단계\n",
    "\n",
    "\n",
    "- 확인적 데이터 분석(CDA) : EDA를 통해 데이터를 이해, 가설 생성 -> CDA를 통해 가설 검증\n",
    "\n",
    "\n",
    "- 머신러닝 : 데이터의 통계적 패턴을 학습\n",
    "\n",
    "  \n",
    "- 딥러닝 : 머신러닝의 신경망을 개선한 학습기법\n",
    "\n",
    "- 데이터 마이닝 : 대규모 데이터셋에서 숨겨진 패턴, 추세, 관계를 찾아내는 과정 (Data Mining)"
   ]
  },
  {
   "cell_type": "markdown",
   "id": "1defeaa0-26c4-443b-b115-03b6f4d4e696",
   "metadata": {
    "jp-MarkdownHeadingCollapsed": true
   },
   "source": [
    "### 빅데이터 3V\n",
    "-  Volume (규모)\n",
    "-  Velocity (속도)\n",
    "-  Variety (다양성)"
   ]
  },
  {
   "cell_type": "markdown",
   "id": "7fc5db1b-30f5-48a7-8006-a259b74f1085",
   "metadata": {},
   "source": [
    "### 데이터 분석 도구\n",
    "- 파이썬, 태블로 , R, 엑셀 등등\n",
    "\n",
    "- CASE(사례) : 데이터 수집 단위. 테이블에서의 한줄 한줄의 행\n",
    "\n",
    "- 데이터(자료) 종류 : 연속형, 범주형\n",
    "    1. 연속형 : 연속적인 값으로 나타낸 자료 (실수)\n",
    "        - 나이 , 키 , 무게 , 가격 , 점수...\n",
    "        - 연산 가능\n",
    "    2. 범주형(category형) : 서로 다른 것으로 구분되는 자료\n",
    "        - 혈액형 , 성별 , 학급\n",
    "        - 연산 불가능"
   ]
  },
  {
   "cell_type": "markdown",
   "id": "67d0ea5e-f9d4-45ab-ba74-a60c1dbe99c5",
   "metadata": {},
   "source": [
    "- 척도(scale) :수집된 데이터의 수준\n",
    "    - 명명척도: 혈액형 (순서x , 연산x, 빈도수o)\n",
    "    - 서열척도: 직급 (사원,대리, 과장 ... 순서 o ,연산 x, 빈도수 o, 데이터 간격 일정치않음)\n",
    "    - 등간척도: 온도 ( 순서o , 연산o , 영점의 기준이 임의적)\n",
    "    - 비율척도: 길이 (등간척도+ 영점의 기준이 절대적(절대영점))\n",
    "\n",
    "    - 척도에 따라 데이터 분석방법이 달라짐"
   ]
  },
  {
   "cell_type": "markdown",
   "id": "97b8620a-1184-4bc5-99d3-8fca65082c49",
   "metadata": {},
   "source": [
    "- 모집단: 분석 대상의 전체\n",
    "\n",
    "  \n",
    "- 표본 : 모집단의 부분 집합\n",
    "    -sample(표본)\n",
    "    -sampling(표본 추출)\n",
    "  \n",
    "      - 단순 무작위 추출 : 모든 케이스에 대해 동일확률로 랜덤하게 추출\n",
    "  \n",
    "      - 계통 추출 : 첫 번째 데이터를 랜덤 추출 => x번째 데이터를 계속하여 추출\n",
    "  \n",
    "      - 층화(stratified random) 추출 : 층 구분 + 층 별 랜덤 추출\n",
    "  \n",
    "      - 군집(cluster random)추출 : 모집단-> 군집으로 나눔 -> 군집 내에서 랜덤추출\n",
    "\n",
    "  "
   ]
  },
  {
   "cell_type": "markdown",
   "id": "eec5b003-b99a-4270-8136-ba72e96d0fe4",
   "metadata": {},
   "source": [
    "- 독립변수 : 원인\n",
    "\n",
    "- 종속변수 : 결과, 독립변수에 의해 값이 결정되는 변수"
   ]
  },
  {
   "cell_type": "markdown",
   "id": "c24c7eb7-be46-41e9-b410-c62bd2d2171e",
   "metadata": {},
   "source": [
    "- 도수분포표 : 데이터를 구간 나눔, 각 구간별 빈도수 표\n",
    "\n",
    "- 히스토그램 : 도수분포표 -> 그래프"
   ]
  },
  {
   "cell_type": "code",
   "execution_count": 5,
   "id": "a4e3c634-1847-4ce9-b209-c2fbea6e2896",
   "metadata": {},
   "outputs": [],
   "source": [
    "import pandas as pd\n",
    "import numpy as np\n",
    "import matplotlib.pyplot as plt\n",
    "import seaborn as sns"
   ]
  },
  {
   "cell_type": "code",
   "execution_count": 6,
   "id": "1dd70af6-559f-43b8-9187-c46853df035a",
   "metadata": {},
   "outputs": [],
   "source": [
    "blood = ['A', 'A', 'A', 'B', 'B', 'AB', 'O']"
   ]
  },
  {
   "cell_type": "code",
   "execution_count": 7,
   "id": "aceb68f6-5a16-4de9-a5be-bc44e38c87c0",
   "metadata": {},
   "outputs": [
    {
     "data": {
      "text/plain": [
       "array(['A', 'AB', 'B', 'O'], dtype='<U2')"
      ]
     },
     "execution_count": 7,
     "metadata": {},
     "output_type": "execute_result"
    }
   ],
   "source": [
    "np.unique(blood)"
   ]
  },
  {
   "cell_type": "code",
   "execution_count": 8,
   "id": "baf79d9f-166b-4615-b4d8-813d20460ca1",
   "metadata": {},
   "outputs": [
    {
     "data": {
      "text/plain": [
       "(array(['A', 'AB', 'B', 'O'], dtype='<U2'), array([3, 1, 2, 1], dtype=int64))"
      ]
     },
     "execution_count": 8,
     "metadata": {},
     "output_type": "execute_result"
    }
   ],
   "source": [
    "np.unique(blood, return_counts=True)"
   ]
  },
  {
   "cell_type": "code",
   "execution_count": 9,
   "id": "09354e0b-4b5e-4b69-8f94-6b8b419fdb4a",
   "metadata": {},
   "outputs": [
    {
     "name": "stderr",
     "output_type": "stream",
     "text": [
      "C:\\Users\\master\\AppData\\Local\\Temp\\ipykernel_6156\\3281061454.py:1: FutureWarning: pandas.value_counts is deprecated and will be removed in a future version. Use pd.Series(obj).value_counts() instead.\n",
      "  pd.value_counts(blood)\n",
      "C:\\Users\\master\\AppData\\Local\\Temp\\ipykernel_6156\\3281061454.py:1: FutureWarning: value_counts with argument that is not not a Series, Index, ExtensionArray, or np.ndarray is deprecated and will raise in a future version.\n",
      "  pd.value_counts(blood)\n"
     ]
    },
    {
     "data": {
      "text/plain": [
       "A     3\n",
       "B     2\n",
       "AB    1\n",
       "O     1\n",
       "Name: count, dtype: int64"
      ]
     },
     "execution_count": 9,
     "metadata": {},
     "output_type": "execute_result"
    }
   ],
   "source": [
    "pd.value_counts(blood)"
   ]
  },
  {
   "cell_type": "code",
   "execution_count": 14,
   "id": "47ea2896-e473-43e0-b330-9eb394b31503",
   "metadata": {},
   "outputs": [
    {
     "name": "stderr",
     "output_type": "stream",
     "text": [
      "C:\\Users\\master\\anaconda3\\Lib\\site-packages\\seaborn\\_oldcore.py:1765: FutureWarning: unique with argument that is not not a Series, Index, ExtensionArray, or np.ndarray is deprecated and will raise in a future version.\n",
      "  order = pd.unique(vector)\n"
     ]
    },
    {
     "data": {
      "text/plain": [
       "<Axes: ylabel='count'>"
      ]
     },
     "execution_count": 14,
     "metadata": {},
     "output_type": "execute_result"
    },
    {
     "data": {
      "image/png": "[encoded data removed]",
      "text/plain": [
       "<Figure size 640x480 with 1 Axes>"
      ]
     },
     "metadata": {},
     "output_type": "display_data"
    }
   ],
   "source": [
    "sns.countplot(x=blood) # 이런 함수로도 빈도수 조사 가능 "
   ]
  },
  {
   "cell_type": "code",
   "execution_count": 15,
   "id": "66375513-a4e0-45a1-913e-037fbe56b30e",
   "metadata": {},
   "outputs": [],
   "source": [
    "x = [1, 1, 1, 2, 3, 5, 5, 7, 8, 9]"
   ]
  },
  {
   "cell_type": "code",
   "execution_count": 17,
   "id": "18b91cca-3626-4d91-8109-04a5c3bdec65",
   "metadata": {},
   "outputs": [],
   "source": [
    "hist, edge=np.histogram(x, 4)"
   ]
  },
  {
   "cell_type": "code",
   "execution_count": 18,
   "id": "144e02bb-1847-4682-860a-b0b43d768e12",
   "metadata": {},
   "outputs": [
    {
     "data": {
      "text/plain": [
       "array([4, 1, 2, 3], dtype=int64)"
      ]
     },
     "execution_count": 18,
     "metadata": {},
     "output_type": "execute_result"
    }
   ],
   "source": [
    "hist #각 구간의 빈도수"
   ]
  },
  {
   "cell_type": "code",
   "execution_count": 19,
   "id": "3a4dc6f2-c55b-4d0e-9dda-b0b5cba147e0",
   "metadata": {},
   "outputs": [
    {
     "data": {
      "text/plain": [
       "array([1., 3., 5., 7., 9.])"
      ]
     },
     "execution_count": 19,
     "metadata": {},
     "output_type": "execute_result"
    }
   ],
   "source": [
    "edge # 구간정보"
   ]
  },
  {
   "cell_type": "markdown",
   "id": "0813b4a7-89ad-4c75-aaa5-7ec864089883",
   "metadata": {},
   "source": [
    "#### 중심 경향치 : 자료의 중심이 되는 숫자 (평균,중위수,최빈수 등)\n",
    "- 무엇을 중심으로 모여있냐 (흩어져있냐)\n",
    "#### 변산성측정치 : 자료가 흩어진 정도를 나타낸 값 \n",
    "- 모여있는 정도(흩어진 정도)\n",
    "- 범위(range): 최대값과 최소값의 차이 , 자료의 퍼짐정도"
   ]
  },
  {
   "cell_type": "code",
   "execution_count": 21,
   "id": "f4f7fe83-2a68-468c-b2ba-b20443e5e37f",
   "metadata": {},
   "outputs": [
    {
     "data": {
      "text/plain": [
       "4.2"
      ]
     },
     "execution_count": 21,
     "metadata": {},
     "output_type": "execute_result"
    }
   ],
   "source": [
    "np.mean(x)"
   ]
  },
  {
   "cell_type": "code",
   "execution_count": 23,
   "id": "4cfc43bd-a2b8-4187-81d2-ef54461d3a5e",
   "metadata": {},
   "outputs": [
    {
     "data": {
      "text/plain": [
       "ModeResult(mode=100, count=2)"
      ]
     },
     "execution_count": 23,
     "metadata": {},
     "output_type": "execute_result"
    }
   ],
   "source": [
    "from scipy.stats import mode\n",
    "x = [100, 100, 200, 400, 1500]\n",
    "mode(x)"
   ]
  },
  {
   "cell_type": "code",
   "execution_count": 31,
   "id": "8f5524dc-08e0-4e16-a62e-7a99f830f476",
   "metadata": {},
   "outputs": [
    {
     "data": {
      "text/plain": [
       "6"
      ]
     },
     "execution_count": 31,
     "metadata": {},
     "output_type": "execute_result"
    }
   ],
   "source": [
    "x = [1, 1, 2, 3, 3, 3, 4, 5, 5, 7]\n",
    "# 범위(range): 최대값과 최소값의 차이 , 자료의 퍼짐정도\n",
    "np.min(x)\n",
    "np.max(x)\n",
    "np.max(x)-np.min(x)"
   ]
  },
  {
   "cell_type": "markdown",
   "id": "8369dbfa-c911-4d4e-af02-6e57a499bb7a",
   "metadata": {},
   "source": [
    "#### 분산\n",
    "- 모분산 : 데이터 편차(데이터 - 데이터의 평균값)의 제곱(면적)을 더한후 1/n-1을 곱해준 값 \n",
    "\n",
    "- 표본분산: 데이터 편차(데이터 - 데이터의 평균값)의 제곱을 더한후 1/n-1 을 곱해준 값\n",
    "\n",
    "- 분산이 크다? 평균값에서 데이터가 많이 벗어나있다. 작다 -> 데이터가 평균값 근처에 많이 모여있다."
   ]
  },
  {
   "cell_type": "code",
   "execution_count": 32,
   "id": "3dccf73e-7067-477c-9be5-5e67350c955d",
   "metadata": {},
   "outputs": [
    {
     "data": {
      "text/plain": [
       "3.2399999999999998"
      ]
     },
     "execution_count": 32,
     "metadata": {},
     "output_type": "execute_result"
    }
   ],
   "source": [
    "np.var(x) #분산 구하는 함수"
   ]
  },
  {
   "cell_type": "code",
   "execution_count": 43,
   "id": "eceadaf3-747a-4648-9c69-bab6abadeffe",
   "metadata": {},
   "outputs": [
    {
     "data": {
      "text/plain": [
       "3.5999999999999996"
      ]
     },
     "execution_count": 43,
     "metadata": {},
     "output_type": "execute_result"
    }
   ],
   "source": [
    "np.sum((x-np.mean(x))**2)/len(x) #모분산\n",
    "np.sum((x-np.mean(x))**2)/(len(x)-1) # 표본분산"
   ]
  },
  {
   "cell_type": "markdown",
   "id": "466954b2-e50b-49cf-a650-e09e4eb36c2f",
   "metadata": {},
   "source": [
    "### 공분산 : 두 변수가 함께 변화하는 정도를 나타내는 지표(두 변수의 관계를 나타내는 양)\n",
    "- 양의 상관관계인지 음의 샹관관계인지를 파악할 수 있으나 공분산의 범위가 음의 무한대~양의 무한대이므로 상관관계가 어느정도 있는지 알 수 없음 또한 데이터의 단위에 따라 공분산 값이 다르게 나옴.\n",
    "\n",
    "- 공분산 값이 0이다 = 두변수가 독립이다\n",
    "\n",
    "- 공분산 > 0 : 두 변수가 같은 방향으로 변화\n",
    "\n",
    "- 공분산 < 0 : 두 변수가 반대 방향으로 변화"
   ]
  },
  {
   "cell_type": "markdown",
   "id": "0b08279d-ebed-4650-8b07-880c3eee4fbf",
   "metadata": {},
   "source": [
    "- 공부시간(독립변수), 성적(종속변수) : 공부시간에 따라 성적이 결정 -> 공분산 값이 0보다 크지않을까?(양의 상관관계) -> 공부시간로부터 성적 예상\n",
    "\n",
    "- 결석일수(독립변수), 성적(종속변수): 결석일 수에 따라 성적이 결정 -> 공분산값이 0보다 작을가능성 높음(음의 상관관계) -> 결석일수로부터 성적예상\n",
    "\n",
    "- 공분산의 크기가 클 때 : 두 변수가 함께 많이변화(양수이건 음수이건) 또한 공분산의 크기는 단위의 영향을 크게 받음. (공분산 값으로만은 절대적 크기로 판단하면 안됨 => 따라서 -1 ~ +1 사이 값으로 표준화 시킴 => 상관계수)\n",
    "\n",
    "- 종속변수 값을 결정하는 변수들 중 상관관계가 큰 변수들이 중요\n",
    "\n",
    "- 공분산은 선형적인 관계 측정, 비선형적인 관계는 측정하지 못함."
   ]
  },
  {
   "cell_type": "markdown",
   "id": "7d97961e-a610-4950-88e3-49dca22dc0b9",
   "metadata": {},
   "source": [
    "### 상관계수 : 두 변수가 함계 변화하는 정도를 -1 ~ +1 사이로 나타낸 수 \n",
    "- 상관계수 = 공분산/ 각 변수의 표준편차 곱\n",
    "- -1 <= 상관계수 <= +1\n",
    "- 피어슨 상관계수 : 일반적인 상관계수\n",
    "- 스피어만 상관계수 : 서열 척도 쪽에서 사용\n",
    "- 켄달 상관계수 등등 여러가지가 있음."
   ]
  },
  {
   "cell_type": "code",
   "execution_count": 64,
   "id": "dabdfeb9-f23a-4b52-ba11-6efe4933f594",
   "metadata": {},
   "outputs": [],
   "source": [
    "x = [8, 3, 6, 6, 9, 4, 3, 9, 3, 4]\n",
    "y = [6, 2, 4, 6, 10, 5, 1, 8, 4, 5]"
   ]
  },
  {
   "cell_type": "code",
   "execution_count": 65,
   "id": "f62d7fad-1e4c-4592-a67c-6dc4e4619af1",
   "metadata": {},
   "outputs": [
    {
     "data": {
      "text/plain": [
       "[<matplotlib.lines.Line2D at 0x1b54f5a8990>]"
      ]
     },
     "execution_count": 65,
     "metadata": {},
     "output_type": "execute_result"
    },
    {
     "data": {
      "image/png": "[encoded data removed]",
      "text/plain": [
       "<Figure size 640x480 with 1 Axes>"
      ]
     },
     "metadata": {},
     "output_type": "display_data"
    }
   ],
   "source": [
    "plt.plot(x,y,'o') "
   ]
  },
  {
   "cell_type": "code",
   "execution_count": 66,
   "id": "11ba0f3d-853a-4b95-b07c-6e66230845b3",
   "metadata": {},
   "outputs": [
    {
     "data": {
      "text/plain": [
       "5.611111111111111"
      ]
     },
     "execution_count": 66,
     "metadata": {},
     "output_type": "execute_result"
    }
   ],
   "source": [
    "np.cov(x,y)[0,1] # 공분산"
   ]
  },
  {
   "cell_type": "code",
   "execution_count": 67,
   "id": "26cf1a0f-5031-492f-9af6-ae3107bdc19d",
   "metadata": {},
   "outputs": [],
   "source": [
    "z = [-3, -2, -1, 0, 1, 2, 3]\n",
    "w = [9, 4, 1, 0, 1, 4, 9]"
   ]
  },
  {
   "cell_type": "code",
   "execution_count": 68,
   "id": "811eda43-e1c9-473e-8276-8fcd2445f276",
   "metadata": {},
   "outputs": [
    {
     "data": {
      "text/plain": [
       "[<matplotlib.lines.Line2D at 0x1b54facbfd0>]"
      ]
     },
     "execution_count": 68,
     "metadata": {},
     "output_type": "execute_result"
    },
    {
     "data": {
      "image/png": "[encoded data removed]",
      "text/plain": [
       "<Figure size 640x480 with 1 Axes>"
      ]
     },
     "metadata": {},
     "output_type": "display_data"
    }
   ],
   "source": [
    "plt.plot(z,w,'o') #선형적 데이터가 아님 공분산이 의미가 없음."
   ]
  },
  {
   "cell_type": "code",
   "execution_count": 69,
   "id": "ffe6c22c-f90f-4ff5-bc19-3800b63616c2",
   "metadata": {},
   "outputs": [
    {
     "data": {
      "text/plain": [
       "0.862517279213578"
      ]
     },
     "execution_count": 69,
     "metadata": {},
     "output_type": "execute_result"
    }
   ],
   "source": [
    "np.corrcoef(x,y)[0,1] # 상관계수"
   ]
  },
  {
   "cell_type": "code",
   "execution_count": 70,
   "id": "04794ef6-7e89-4106-a6bc-1b02e3978abe",
   "metadata": {},
   "outputs": [
    {
     "data": {
      "text/plain": [
       "0.0"
      ]
     },
     "execution_count": 70,
     "metadata": {},
     "output_type": "execute_result"
    }
   ],
   "source": [
    "np.corrcoef(z,w)[0,1]"
   ]
  },
  {
   "cell_type": "code",
   "execution_count": 71,
   "id": "af7c76ba-d772-4e5e-bc21-dd14f3f20cd5",
   "metadata": {},
   "outputs": [
    {
     "data": {
      "text/plain": [
       "0.8625172792135779"
      ]
     },
     "execution_count": 71,
     "metadata": {},
     "output_type": "execute_result"
    }
   ],
   "source": [
    "#공분산/(x의표준편차 * y의 표준편차)\n",
    "np.cov(x,y)[0,1]\n",
    "xsd=np.std(x,ddof=1)#표본 표준편차\n",
    "ysd=np.std(y,ddof=1)\n",
    "\n",
    "np.cov(x,y)[0,1]/(xsd*ysd)"
   ]
  },
  {
   "cell_type": "code",
   "execution_count": 118,
   "id": "fdb47c89-5bb7-4978-805b-9f5c0b80e467",
   "metadata": {},
   "outputs": [
    {
     "data": {
      "text/html": [
       "<div>\n",
       "<style scoped>\n",
       "    .dataframe tbody tr th:only-of-type {\n",
       "        vertical-align: middle;\n",
       "    }\n",
       "\n",
       "    .dataframe tbody tr th {\n",
       "        vertical-align: top;\n",
       "    }\n",
       "\n",
       "    .dataframe thead th {\n",
       "        text-align: right;\n",
       "    }\n",
       "</style>\n",
       "<table border=\"1\" class=\"dataframe\">\n",
       "  <thead>\n",
       "    <tr style=\"text-align: right;\">\n",
       "      <th></th>\n",
       "      <th>radius</th>\n",
       "      <th>texture</th>\n",
       "      <th>perimeter</th>\n",
       "      <th>area</th>\n",
       "      <th>smoothness</th>\n",
       "      <th>compactness</th>\n",
       "      <th>concavity</th>\n",
       "      <th>concave points</th>\n",
       "      <th>symmetry</th>\n",
       "      <th>fractal dimension</th>\n",
       "    </tr>\n",
       "  </thead>\n",
       "  <tbody>\n",
       "    <tr>\n",
       "      <th>0</th>\n",
       "      <td>10.38</td>\n",
       "      <td>122.80</td>\n",
       "      <td>1001.0</td>\n",
       "      <td>0.11840</td>\n",
       "      <td>0.27760</td>\n",
       "      <td>0.30010</td>\n",
       "      <td>0.14710</td>\n",
       "      <td>0.2419</td>\n",
       "      <td>0.07871</td>\n",
       "      <td>1.0950</td>\n",
       "    </tr>\n",
       "    <tr>\n",
       "      <th>1</th>\n",
       "      <td>17.77</td>\n",
       "      <td>132.90</td>\n",
       "      <td>1326.0</td>\n",
       "      <td>0.08474</td>\n",
       "      <td>0.07864</td>\n",
       "      <td>0.08690</td>\n",
       "      <td>0.07017</td>\n",
       "      <td>0.1812</td>\n",
       "      <td>0.05667</td>\n",
       "      <td>0.5435</td>\n",
       "    </tr>\n",
       "    <tr>\n",
       "      <th>2</th>\n",
       "      <td>21.25</td>\n",
       "      <td>130.00</td>\n",
       "      <td>1203.0</td>\n",
       "      <td>0.10960</td>\n",
       "      <td>0.15990</td>\n",
       "      <td>0.19740</td>\n",
       "      <td>0.12790</td>\n",
       "      <td>0.2069</td>\n",
       "      <td>0.05999</td>\n",
       "      <td>0.7456</td>\n",
       "    </tr>\n",
       "    <tr>\n",
       "      <th>3</th>\n",
       "      <td>20.38</td>\n",
       "      <td>77.58</td>\n",
       "      <td>386.1</td>\n",
       "      <td>0.14250</td>\n",
       "      <td>0.28390</td>\n",
       "      <td>0.24140</td>\n",
       "      <td>0.10520</td>\n",
       "      <td>0.2597</td>\n",
       "      <td>0.09744</td>\n",
       "      <td>0.4956</td>\n",
       "    </tr>\n",
       "    <tr>\n",
       "      <th>4</th>\n",
       "      <td>14.34</td>\n",
       "      <td>135.10</td>\n",
       "      <td>1297.0</td>\n",
       "      <td>0.10030</td>\n",
       "      <td>0.13280</td>\n",
       "      <td>0.19800</td>\n",
       "      <td>0.10430</td>\n",
       "      <td>0.1809</td>\n",
       "      <td>0.05883</td>\n",
       "      <td>0.7572</td>\n",
       "    </tr>\n",
       "    <tr>\n",
       "      <th>...</th>\n",
       "      <td>...</td>\n",
       "      <td>...</td>\n",
       "      <td>...</td>\n",
       "      <td>...</td>\n",
       "      <td>...</td>\n",
       "      <td>...</td>\n",
       "      <td>...</td>\n",
       "      <td>...</td>\n",
       "      <td>...</td>\n",
       "      <td>...</td>\n",
       "    </tr>\n",
       "    <tr>\n",
       "      <th>564</th>\n",
       "      <td>22.39</td>\n",
       "      <td>142.00</td>\n",
       "      <td>1479.0</td>\n",
       "      <td>0.11100</td>\n",
       "      <td>0.11590</td>\n",
       "      <td>0.24390</td>\n",
       "      <td>0.13890</td>\n",
       "      <td>0.1726</td>\n",
       "      <td>0.05623</td>\n",
       "      <td>1.1760</td>\n",
       "    </tr>\n",
       "    <tr>\n",
       "      <th>565</th>\n",
       "      <td>28.25</td>\n",
       "      <td>131.20</td>\n",
       "      <td>1261.0</td>\n",
       "      <td>0.09780</td>\n",
       "      <td>0.10340</td>\n",
       "      <td>0.14400</td>\n",
       "      <td>0.09791</td>\n",
       "      <td>0.1752</td>\n",
       "      <td>0.05533</td>\n",
       "      <td>0.7655</td>\n",
       "    </tr>\n",
       "    <tr>\n",
       "      <th>566</th>\n",
       "      <td>28.08</td>\n",
       "      <td>108.30</td>\n",
       "      <td>858.1</td>\n",
       "      <td>0.08455</td>\n",
       "      <td>0.10230</td>\n",
       "      <td>0.09251</td>\n",
       "      <td>0.05302</td>\n",
       "      <td>0.1590</td>\n",
       "      <td>0.05648</td>\n",
       "      <td>0.4564</td>\n",
       "    </tr>\n",
       "    <tr>\n",
       "      <th>567</th>\n",
       "      <td>29.33</td>\n",
       "      <td>140.10</td>\n",
       "      <td>1265.0</td>\n",
       "      <td>0.11780</td>\n",
       "      <td>0.27700</td>\n",
       "      <td>0.35140</td>\n",
       "      <td>0.15200</td>\n",
       "      <td>0.2397</td>\n",
       "      <td>0.07016</td>\n",
       "      <td>0.7260</td>\n",
       "    </tr>\n",
       "    <tr>\n",
       "      <th>568</th>\n",
       "      <td>24.54</td>\n",
       "      <td>47.92</td>\n",
       "      <td>181.0</td>\n",
       "      <td>0.05263</td>\n",
       "      <td>0.04362</td>\n",
       "      <td>0.00000</td>\n",
       "      <td>0.00000</td>\n",
       "      <td>0.1587</td>\n",
       "      <td>0.05884</td>\n",
       "      <td>0.3857</td>\n",
       "    </tr>\n",
       "  </tbody>\n",
       "</table>\n",
       "<p>569 rows × 10 columns</p>\n",
       "</div>"
      ],
      "text/plain": [
       "     radius  texture  perimeter     area  smoothness  compactness  concavity  \\\n",
       "0     10.38   122.80     1001.0  0.11840     0.27760      0.30010    0.14710   \n",
       "1     17.77   132.90     1326.0  0.08474     0.07864      0.08690    0.07017   \n",
       "2     21.25   130.00     1203.0  0.10960     0.15990      0.19740    0.12790   \n",
       "3     20.38    77.58      386.1  0.14250     0.28390      0.24140    0.10520   \n",
       "4     14.34   135.10     1297.0  0.10030     0.13280      0.19800    0.10430   \n",
       "..      ...      ...        ...      ...         ...          ...        ...   \n",
       "564   22.39   142.00     1479.0  0.11100     0.11590      0.24390    0.13890   \n",
       "565   28.25   131.20     1261.0  0.09780     0.10340      0.14400    0.09791   \n",
       "566   28.08   108.30      858.1  0.08455     0.10230      0.09251    0.05302   \n",
       "567   29.33   140.10     1265.0  0.11780     0.27700      0.35140    0.15200   \n",
       "568   24.54    47.92      181.0  0.05263     0.04362      0.00000    0.00000   \n",
       "\n",
       "     concave points  symmetry  fractal dimension  \n",
       "0            0.2419   0.07871             1.0950  \n",
       "1            0.1812   0.05667             0.5435  \n",
       "2            0.2069   0.05999             0.7456  \n",
       "3            0.2597   0.09744             0.4956  \n",
       "4            0.1809   0.05883             0.7572  \n",
       "..              ...       ...                ...  \n",
       "564          0.1726   0.05623             1.1760  \n",
       "565          0.1752   0.05533             0.7655  \n",
       "566          0.1590   0.05648             0.4564  \n",
       "567          0.2397   0.07016             0.7260  \n",
       "568          0.1587   0.05884             0.3857  \n",
       "\n",
       "[569 rows x 10 columns]"
      ]
     },
     "execution_count": 118,
     "metadata": {},
     "output_type": "execute_result"
    }
   ],
   "source": [
    "can=pd.read_csv(\"../../data/cancer/wdbc.data\",header=None)\n",
    "can.drop(can.iloc[:,13:],axis=1,inplace=True)\n",
    "can.drop(can.iloc[:,0:3],axis=1,inplace=True)\n",
    "\n",
    "can.columns=['radius','texture','perimeter','area','smoothness','compactness','concavity','concave points','symmetry','fractal dimension']\n",
    "can"
   ]
  },
  {
   "cell_type": "code",
   "execution_count": 121,
   "id": "3321b8b9-5225-480a-adf0-6453f6078f58",
   "metadata": {},
   "outputs": [
    {
     "data": {
      "text/plain": [
       "array([[1.        , 0.32953306],\n",
       "       [0.32953306, 1.        ]])"
      ]
     },
     "execution_count": 121,
     "metadata": {},
     "output_type": "execute_result"
    }
   ],
   "source": [
    "np.corrcoef(can.radius,can.texture)"
   ]
  },
  {
   "cell_type": "code",
   "execution_count": 138,
   "id": "0a33a762-bbe7-44c9-b88d-9b78cc2176cb",
   "metadata": {},
   "outputs": [
    {
     "data": {
      "text/plain": [
       "array([[1.        , 0.69176501],\n",
       "       [0.69176501, 1.        ]])"
      ]
     },
     "execution_count": 138,
     "metadata": {},
     "output_type": "execute_result"
    }
   ],
   "source": []
  },
  {
   "cell_type": "code",
   "execution_count": 143,
   "id": "fc02f19d-683c-4009-9cdd-1d65dc779bd3",
   "metadata": {},
   "outputs": [
    {
     "data": {
      "text/plain": [
       "array([[1.        , 0.85097704],\n",
       "       [0.85097704, 1.        ]])"
      ]
     },
     "execution_count": 143,
     "metadata": {},
     "output_type": "execute_result"
    }
   ],
   "source": [
    "np.corrcoef(can.texture,can['concavity']) #0.85"
   ]
  },
  {
   "cell_type": "code",
   "execution_count": 145,
   "id": "44d19828-2b28-430d-9afc-515c572b5fb6",
   "metadata": {},
   "outputs": [
    {
     "data": {
      "text/plain": [
       "array([[1.       , 0.9865068],\n",
       "       [0.9865068, 1.       ]])"
      ]
     },
     "execution_count": 145,
     "metadata": {},
     "output_type": "execute_result"
    }
   ],
   "source": [
    "\n",
    "np.corrcoef(can.texture,can['perimeter']) # 0.98"
   ]
  },
  {
   "cell_type": "code",
   "execution_count": 149,
   "id": "edbc6316-cf4c-43ad-b38a-0e6542d492cb",
   "metadata": {},
   "outputs": [
    {
     "data": {
      "text/plain": [
       "array([[1.        , 0.82326887],\n",
       "       [0.82326887, 1.        ]])"
      ]
     },
     "execution_count": 149,
     "metadata": {},
     "output_type": "execute_result"
    }
   ],
   "source": [
    "np.corrcoef(can['perimeter'],can.concavity) #0.82"
   ]
  },
  {
   "cell_type": "code",
   "execution_count": 153,
   "id": "fe4b835b-94d8-4b15-a3a3-d23a211e878e",
   "metadata": {},
   "outputs": [
    {
     "data": {
      "text/plain": [
       "array([[1.        , 0.15129308],\n",
       "       [0.15129308, 1.        ]])"
      ]
     },
     "execution_count": 153,
     "metadata": {},
     "output_type": "execute_result"
    }
   ],
   "source": [
    "np.corrcoef(can['perimeter'],can['concave points'])"
   ]
  },
  {
   "cell_type": "code",
   "execution_count": 212,
   "id": "b218ddcf-6a13-4e41-869e-974ed2e4e6d3",
   "metadata": {},
   "outputs": [
    {
     "data": {
      "text/html": [
       "<div>\n",
       "<style scoped>\n",
       "    .dataframe tbody tr th:only-of-type {\n",
       "        vertical-align: middle;\n",
       "    }\n",
       "\n",
       "    .dataframe tbody tr th {\n",
       "        vertical-align: top;\n",
       "    }\n",
       "\n",
       "    .dataframe thead th {\n",
       "        text-align: right;\n",
       "    }\n",
       "</style>\n",
       "<table border=\"1\" class=\"dataframe\">\n",
       "  <thead>\n",
       "    <tr style=\"text-align: right;\">\n",
       "      <th></th>\n",
       "      <th>radius</th>\n",
       "      <th>texture</th>\n",
       "      <th>perimeter</th>\n",
       "      <th>area</th>\n",
       "      <th>smoothness</th>\n",
       "      <th>compactness</th>\n",
       "      <th>concavity</th>\n",
       "      <th>concave points</th>\n",
       "      <th>symmetry</th>\n",
       "      <th>fractal dimension</th>\n",
       "    </tr>\n",
       "  </thead>\n",
       "  <tbody>\n",
       "    <tr>\n",
       "      <th>radius</th>\n",
       "      <td>1.000000</td>\n",
       "      <td>0.329533</td>\n",
       "      <td>0.321086</td>\n",
       "      <td>-0.023389</td>\n",
       "      <td>0.236702</td>\n",
       "      <td>0.302418</td>\n",
       "      <td>0.293464</td>\n",
       "      <td>0.071401</td>\n",
       "      <td>-0.076437</td>\n",
       "      <td>0.275869</td>\n",
       "    </tr>\n",
       "    <tr>\n",
       "      <th>texture</th>\n",
       "      <td>0.329533</td>\n",
       "      <td>1.000000</td>\n",
       "      <td>0.986507</td>\n",
       "      <td>0.207278</td>\n",
       "      <td>0.556936</td>\n",
       "      <td>0.716136</td>\n",
       "      <td>0.850977</td>\n",
       "      <td>0.183027</td>\n",
       "      <td>-0.261477</td>\n",
       "      <td>0.691765</td>\n",
       "    </tr>\n",
       "    <tr>\n",
       "      <th>perimeter</th>\n",
       "      <td>0.321086</td>\n",
       "      <td>0.986507</td>\n",
       "      <td>1.000000</td>\n",
       "      <td>0.177028</td>\n",
       "      <td>0.498502</td>\n",
       "      <td>0.685983</td>\n",
       "      <td>0.823269</td>\n",
       "      <td>0.151293</td>\n",
       "      <td>-0.283110</td>\n",
       "      <td>0.732562</td>\n",
       "    </tr>\n",
       "    <tr>\n",
       "      <th>area</th>\n",
       "      <td>-0.023389</td>\n",
       "      <td>0.207278</td>\n",
       "      <td>0.177028</td>\n",
       "      <td>1.000000</td>\n",
       "      <td>0.659123</td>\n",
       "      <td>0.521984</td>\n",
       "      <td>0.553695</td>\n",
       "      <td>0.557775</td>\n",
       "      <td>0.584792</td>\n",
       "      <td>0.301467</td>\n",
       "    </tr>\n",
       "    <tr>\n",
       "      <th>smoothness</th>\n",
       "      <td>0.236702</td>\n",
       "      <td>0.556936</td>\n",
       "      <td>0.498502</td>\n",
       "      <td>0.659123</td>\n",
       "      <td>1.000000</td>\n",
       "      <td>0.883121</td>\n",
       "      <td>0.831135</td>\n",
       "      <td>0.602641</td>\n",
       "      <td>0.565369</td>\n",
       "      <td>0.497473</td>\n",
       "    </tr>\n",
       "    <tr>\n",
       "      <th>compactness</th>\n",
       "      <td>0.302418</td>\n",
       "      <td>0.716136</td>\n",
       "      <td>0.685983</td>\n",
       "      <td>0.521984</td>\n",
       "      <td>0.883121</td>\n",
       "      <td>1.000000</td>\n",
       "      <td>0.921391</td>\n",
       "      <td>0.500667</td>\n",
       "      <td>0.336783</td>\n",
       "      <td>0.631925</td>\n",
       "    </tr>\n",
       "    <tr>\n",
       "      <th>concavity</th>\n",
       "      <td>0.293464</td>\n",
       "      <td>0.850977</td>\n",
       "      <td>0.823269</td>\n",
       "      <td>0.553695</td>\n",
       "      <td>0.831135</td>\n",
       "      <td>0.921391</td>\n",
       "      <td>1.000000</td>\n",
       "      <td>0.462497</td>\n",
       "      <td>0.166917</td>\n",
       "      <td>0.698050</td>\n",
       "    </tr>\n",
       "    <tr>\n",
       "      <th>concave points</th>\n",
       "      <td>0.071401</td>\n",
       "      <td>0.183027</td>\n",
       "      <td>0.151293</td>\n",
       "      <td>0.557775</td>\n",
       "      <td>0.602641</td>\n",
       "      <td>0.500667</td>\n",
       "      <td>0.462497</td>\n",
       "      <td>1.000000</td>\n",
       "      <td>0.479921</td>\n",
       "      <td>0.303379</td>\n",
       "    </tr>\n",
       "    <tr>\n",
       "      <th>symmetry</th>\n",
       "      <td>-0.076437</td>\n",
       "      <td>-0.261477</td>\n",
       "      <td>-0.283110</td>\n",
       "      <td>0.584792</td>\n",
       "      <td>0.565369</td>\n",
       "      <td>0.336783</td>\n",
       "      <td>0.166917</td>\n",
       "      <td>0.479921</td>\n",
       "      <td>1.000000</td>\n",
       "      <td>0.000111</td>\n",
       "    </tr>\n",
       "    <tr>\n",
       "      <th>fractal dimension</th>\n",
       "      <td>0.275869</td>\n",
       "      <td>0.691765</td>\n",
       "      <td>0.732562</td>\n",
       "      <td>0.301467</td>\n",
       "      <td>0.497473</td>\n",
       "      <td>0.631925</td>\n",
       "      <td>0.698050</td>\n",
       "      <td>0.303379</td>\n",
       "      <td>0.000111</td>\n",
       "      <td>1.000000</td>\n",
       "    </tr>\n",
       "  </tbody>\n",
       "</table>\n",
       "</div>"
      ],
      "text/plain": [
       "                     radius   texture  perimeter      area  smoothness  \\\n",
       "radius             1.000000  0.329533   0.321086 -0.023389    0.236702   \n",
       "texture            0.329533  1.000000   0.986507  0.207278    0.556936   \n",
       "perimeter          0.321086  0.986507   1.000000  0.177028    0.498502   \n",
       "area              -0.023389  0.207278   0.177028  1.000000    0.659123   \n",
       "smoothness         0.236702  0.556936   0.498502  0.659123    1.000000   \n",
       "compactness        0.302418  0.716136   0.685983  0.521984    0.883121   \n",
       "concavity          0.293464  0.850977   0.823269  0.553695    0.831135   \n",
       "concave points     0.071401  0.183027   0.151293  0.557775    0.602641   \n",
       "symmetry          -0.076437 -0.261477  -0.283110  0.584792    0.565369   \n",
       "fractal dimension  0.275869  0.691765   0.732562  0.301467    0.497473   \n",
       "\n",
       "                   compactness  concavity  concave points  symmetry  \\\n",
       "radius                0.302418   0.293464        0.071401 -0.076437   \n",
       "texture               0.716136   0.850977        0.183027 -0.261477   \n",
       "perimeter             0.685983   0.823269        0.151293 -0.283110   \n",
       "area                  0.521984   0.553695        0.557775  0.584792   \n",
       "smoothness            0.883121   0.831135        0.602641  0.565369   \n",
       "compactness           1.000000   0.921391        0.500667  0.336783   \n",
       "concavity             0.921391   1.000000        0.462497  0.166917   \n",
       "concave points        0.500667   0.462497        1.000000  0.479921   \n",
       "symmetry              0.336783   0.166917        0.479921  1.000000   \n",
       "fractal dimension     0.631925   0.698050        0.303379  0.000111   \n",
       "\n",
       "                   fractal dimension  \n",
       "radius                      0.275869  \n",
       "texture                     0.691765  \n",
       "perimeter                   0.732562  \n",
       "area                        0.301467  \n",
       "smoothness                  0.497473  \n",
       "compactness                 0.631925  \n",
       "concavity                   0.698050  \n",
       "concave points              0.303379  \n",
       "symmetry                    0.000111  \n",
       "fractal dimension           1.000000  "
      ]
     },
     "execution_count": 212,
     "metadata": {},
     "output_type": "execute_result"
    }
   ],
   "source": [
    "x=can.corr()\n",
    "x"
   ]
  },
  {
   "cell_type": "code",
   "execution_count": 221,
   "id": "7f27751b-b5d5-4f67-a025-bbf266799468",
   "metadata": {},
   "outputs": [
    {
     "data": {
      "text/plain": [
       "radius               0.329533\n",
       "texture              0.986507\n",
       "perimeter            0.986507\n",
       "area                 0.659123\n",
       "smoothness           0.883121\n",
       "compactness          0.921391\n",
       "concavity            0.921391\n",
       "concave points       0.602641\n",
       "symmetry             0.584792\n",
       "fractal dimension    0.732562\n",
       "dtype: float64"
      ]
     },
     "execution_count": 221,
     "metadata": {},
     "output_type": "execute_result"
    }
   ],
   "source": [
    "x.replace(1,0).max() #각 변수별 제일 높은 상관계수"
   ]
  },
  {
   "cell_type": "code",
   "execution_count": null,
   "id": "017d588c-8018-4258-9f59-9b343eab0e41",
   "metadata": {},
   "outputs": [],
   "source": [
    "texture perimeter 가장 높은 상관계수\n",
    "compactness concavity 높은 상관계수\n",
    "smoothness compactness도 높은편"
   ]
  },
  {
   "cell_type": "code",
   "execution_count": null,
   "id": "ced54da9-70e2-4106-a494-9f3780d1b079",
   "metadata": {},
   "outputs": [],
   "source": []
  }
 ],
 "metadata": {
  "kernelspec": {
   "display_name": "Python 3 (ipykernel)",
   "language": "python",
   "name": "python3"
  },
  "language_info": {
   "codemirror_mode": {
    "name": "ipython",
    "version": 3
   },
   "file_extension": ".py",
   "mimetype": "text/x-python",
   "name": "python",
   "nbconvert_exporter": "python",
   "pygments_lexer": "ipython3",
   "version": "3.11.7"
  }
 },
 "nbformat": 4,
 "nbformat_minor": 5
}
