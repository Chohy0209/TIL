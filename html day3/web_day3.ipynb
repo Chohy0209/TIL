{
 "cells": [
  {
   "cell_type": "code",
   "execution_count": 1,
   "id": "7f36976d-3f2a-4607-80f3-45326480f822",
   "metadata": {},
   "outputs": [],
   "source": [
    "import urllib.request"
   ]
  },
  {
   "cell_type": "code",
   "execution_count": 2,
   "id": "cf61f619-fa47-4a2b-a206-0d7a523a0ac1",
   "metadata": {},
   "outputs": [],
   "source": [
    "url=\"https://www.multicampus.com/img/saas/main/logo/CUS0001/pc_main.png\""
   ]
  },
  {
   "cell_type": "code",
   "execution_count": 4,
   "id": "b425496e-a05c-46c3-a2be-0a9e29e89f6d",
   "metadata": {},
   "outputs": [
    {
     "name": "stdout",
     "output_type": "stream",
     "text": [
      "이미지를 저장했습니다\n"
     ]
    }
   ],
   "source": [
    "urllib.request.urlretrieve(url,\"multi.png\")\n",
    "print(\"이미지를 저장했습니다\")            "
   ]
  },
  {
   "cell_type": "code",
   "execution_count": 5,
   "id": "2cc1ca11-39a0-48ce-bedd-02ec2575010e",
   "metadata": {},
   "outputs": [],
   "source": [
    "res=urllib.request.urlopen(\"https://finance.naver.com/marketindex\")"
   ]
  },
  {
   "cell_type": "code",
   "execution_count": 6,
   "id": "0d43c115-faac-4b90-b1c7-05205f131ffb",
   "metadata": {},
   "outputs": [
    {
     "data": {
      "text/plain": [
       "<http.client.HTTPResponse at 0x1a030b91b40>"
      ]
     },
     "execution_count": 6,
     "metadata": {},
     "output_type": "execute_result"
    }
   ],
   "source": [
    "res"
   ]
  },
  {
   "cell_type": "code",
   "execution_count": 7,
   "id": "8eb460c7-7e38-4fcb-ac12-4cc410b84399",
   "metadata": {},
   "outputs": [],
   "source": [
    "from bs4 import BeautifulSoup"
   ]
  },
  {
   "cell_type": "code",
   "execution_count": 8,
   "id": "3ccf03fb-33b6-4cd8-bb0c-7f0470ec184f",
   "metadata": {},
   "outputs": [
    {
     "data": {
      "text/plain": [
       "\n",
       "<script language=\"javascript\" src=\"/template/head_js.naver?referer=info.finance.naver.com&amp;menu=marketindex&amp;submenu=market\"></script>\n",
       "<script src=\"https://ssl.pstatic.net/imgstock/static.pc/20240313183844/js/info/jindo.min.ns.1.5.3.euckr.js\" type=\"text/javascript\"></script>\n",
       "<script src=\"https://ssl.pstatic.net/imgstock/static.pc/20240313183844/js/jindo.1.5.3.element-text-patch.js\" type=\"text/javascript\"></script>\n",
       "<div id=\"container\" style=\"padding-bottom:0px;\">\n",
       "<div class=\"market_include\">\n",
       "<div class=\"market_data\">\n",
       "<div class=\"market1\">\n",
       "<div class=\"title\">\n",
       "<h2 class=\"h_market1\"><span>환전 고시 환율</span></h2>\n",
       "</div>\n",
       "<!-- data -->\n",
       "<div class=\"data\">\n",
       "<ul class=\"data_lst\" id=\"exchangeList\">\n",
       "<li class=\"on\">\n",
       "<a class=\"head usd\" href=\"/marketindex/exchangeDetail.naver?marketindexCd=FX_USDKRW\" onclick=\"clickcr(this, 'fr1.usdt', '', '', event);\">\n",
       "<h3 class=\"h_lst\"><span class=\"blind\">미국 USD</span></h3>\n",
       "<div class=\"head_info point_up\">\n",
       "<span class=\"value\">1,329.50</span>\n",
       "<span class=\"txt_krw\"><span class=\"blind\">원</span></span>\n",
       "<span class=\"change\">7.50</span>\n",
       "<span class=\"blind\">상승</span>\n",
       "</div>\n",
       "</a>\n",
       "<a class=\"graph_img\" href=\"/marketindex/exchangeDetail.naver?marketindexCd=FX_USDKRW\" onclick=\"clickcr(this, 'fr1.usdc', '', '', event);\">\n",
       "<img alt=\"\" height=\"153\" src=\"https://ssl.pstatic.net/imgfinance/chart/marketindex/FX_USDKRW.png\" width=\"295\"/>\n",
       "</a>\n",
       "<div class=\"graph_info\">\n",
       "<span class=\"time\">2024.03.15 11:43</span>\n",
       "<span class=\"source\">하나은행 기준</span>\n",
       "<span class=\"count\">고시회차<span class=\"num\">134</span>회</span>\n",
       "</div>\n",
       "</li>\n",
       "<li class=\"\">\n",
       "<a class=\"head jpy\" href=\"/marketindex/exchangeDetail.naver?marketindexCd=FX_JPYKRW\" onclick=\"clickcr(this, 'fr1.jpyt', '', '', event);\">\n",
       "<h3 class=\"h_lst\"><span class=\"blind\">일본 JPY(100엔)</span></h3>\n",
       "<div class=\"head_info point_up\">\n",
       "<span class=\"value\">895.11</span>\n",
       "<span class=\"txt_krw\"><span class=\"blind\">원</span></span>\n",
       "<span class=\"change\">2.44</span>\n",
       "<span class=\"blind\">상승</span>\n",
       "</div>\n",
       "</a>\n",
       "<a class=\"graph_img\" href=\"/marketindex/exchangeDetail.naver?marketindexCd=FX_JPYKRW\" onclick=\"clickcr(this, 'fr1.jpyc', '', '', event);\">\n",
       "<img alt=\"\" height=\"153\" src=\"https://ssl.pstatic.net/imgfinance/chart/marketindex/FX_JPYKRW.png\" width=\"295\"/>\n",
       "</a>\n",
       "<div class=\"graph_info\">\n",
       "<span class=\"time\">2024.03.15 11:43</span>\n",
       "<span class=\"source\">하나은행 기준</span>\n",
       "<span class=\"count\">고시회차<span class=\"num\">134</span>회</span>\n",
       "</div>\n",
       "</li>\n",
       "<li class=\"\">\n",
       "<a class=\"head eur\" href=\"/marketindex/exchangeDetail.naver?marketindexCd=FX_EURKRW\" onclick=\"clickcr(this, 'fr1.eurt', '', '', event);\">\n",
       "<h3 class=\"h_lst\"><span class=\"blind\">유럽연합 EUR</span></h3>\n",
       "<div class=\"head_info point_up\">\n",
       "<span class=\"value\">1,445.70</span>\n",
       "<span class=\"txt_krw\"><span class=\"blind\">원</span></span>\n",
       "<span class=\"change\">4.46</span>\n",
       "<span class=\"blind\">상승</span>\n",
       "</div>\n",
       "</a>\n",
       "<a class=\"graph_img\" href=\"/marketindex/exchangeDetail.naver?marketindexCd=FX_EURKRW\" onclick=\"clickcr(this, 'fr1.eurc', '', '', event);\">\n",
       "<img alt=\"\" height=\"153\" src=\"https://ssl.pstatic.net/imgfinance/chart/marketindex/FX_EURKRW.png\" width=\"295\"/>\n",
       "</a>\n",
       "<div class=\"graph_info\">\n",
       "<span class=\"time\">2024.03.15 11:43</span>\n",
       "<span class=\"source\">하나은행 기준</span>\n",
       "<span class=\"count\">고시회차<span class=\"num\">134</span>회</span>\n",
       "</div>\n",
       "</li>\n",
       "<li class=\"\">\n",
       "<a class=\"head cny\" href=\"/marketindex/exchangeDetail.naver?marketindexCd=FX_CNYKRW\" onclick=\"clickcr(this, 'fr1.cnyt', '', '', event);\">\n",
       "<h3 class=\"h_lst\"><span class=\"blind\">중국 CNY</span></h3>\n",
       "<div class=\"head_info point_up\">\n",
       "<span class=\"value\">184.54</span>\n",
       "<span class=\"txt_krw\"><span class=\"blind\">원</span></span>\n",
       "<span class=\"change\">0.90</span>\n",
       "<span class=\"blind\">상승</span>\n",
       "</div>\n",
       "</a>\n",
       "<a class=\"graph_img\" href=\"/marketindex/exchangeDetail.naver?marketindexCd=FX_CNYKRW\" onclick=\"clickcr(this, 'fr1.cnyc', '', '', event);\">\n",
       "<img alt=\"\" height=\"153\" src=\"https://ssl.pstatic.net/imgfinance/chart/marketindex/FX_CNYKRW.png\" width=\"295\"/>\n",
       "</a>\n",
       "<div class=\"graph_info\">\n",
       "<span class=\"time\">2024.03.15 11:43</span>\n",
       "<span class=\"source\">하나은행 기준</span>\n",
       "<span class=\"count\">고시회차<span class=\"num\">134</span>회</span>\n",
       "</div>\n",
       "</li>\n",
       "</ul>\n",
       "</div>\n",
       "<!-- //data -->\n",
       "</div>\n",
       "<div class=\"market2\">\n",
       "<div class=\"title\">\n",
       "<h2 class=\"h_market2\"><span>국제 시장 환율</span></h2>\n",
       "</div>\n",
       "<!-- data -->\n",
       "<div class=\"data\">\n",
       "<ul class=\"data_lst\" id=\"worldExchangeList\">\n",
       "<li class=\"on\">\n",
       "<a class=\"head jpy_usd\" href=\"/marketindex/worldExchangeDetail.naver?marketindexCd=FX_USDJPY\" onclick=\"clickcr(this, 'fr2.jpyut', '', '', event);\">\n",
       "<h3 class=\"h_lst\"><span class=\"blind\">달러/일본 엔</span></h3>\n",
       "<div class=\"head_info point_up\">\n",
       "<span class=\"value\">148.1200</span>\n",
       "<span class=\"txt_jpy\"><span class=\"blind\">엔</span></span>\n",
       "<span class=\"change\">0.2800</span>\n",
       "<span class=\"blind\">상승</span>\n",
       "</div>\n",
       "</a>\n",
       "<a class=\"graph_img\" href=\"/marketindex/worldExchangeDetail.naver?marketindexCd=FX_USDJPY\" onclick=\"clickcr(this, 'fr2.jpyuc', '', '', event);\">\n",
       "<img alt=\"\" height=\"153\" src=\"https://ssl.pstatic.net/imgfinance/chart/marketindex/FX_USDJPY.png\" width=\"295\"/>\n",
       "</a>\n",
       "<div class=\"graph_info\">\n",
       "<span class=\"time\">2024.03.14</span>\n",
       "<span class=\"source\">모닝스타 기준</span>\n",
       "</div>\n",
       "</li>\n",
       "<li class=\"\">\n",
       "<a class=\"head usd_eur\" href=\"/marketindex/worldExchangeDetail.naver?marketindexCd=FX_EURUSD\" onclick=\"clickcr(this, 'fr2.eurdt', '', '', event);\">\n",
       "<h3 class=\"h_lst\"><span class=\"blind\">유로/달러</span></h3>\n",
       "<div class=\"head_info point_dn\">\n",
       "<span class=\"value\">1.0897</span>\n",
       "<span class=\"txt_usd\"><span class=\"blind\">달러</span></span>\n",
       "<span class=\"change\"> 0.0046</span>\n",
       "<span class=\"blind\">하락</span>\n",
       "</div>\n",
       "</a>\n",
       "<a class=\"graph_img\" href=\"/marketindex/worldExchangeDetail.naver?marketindexCd=FX_EURUSD\" onclick=\"clickcr(this, 'fr2.eurdc', '', '', event);\">\n",
       "<img alt=\"\" height=\"153\" src=\"https://ssl.pstatic.net/imgfinance/chart/marketindex/FX_EURUSD.png\" width=\"295\"/>\n",
       "</a>\n",
       "<div class=\"graph_info\">\n",
       "<span class=\"time\">2024.03.14</span>\n",
       "<span class=\"source\">모닝스타 기준</span>\n",
       "</div>\n",
       "</li>\n",
       "<li class=\"\">\n",
       "<a class=\"head usd_gbp\" href=\"/marketindex/worldExchangeDetail.naver?marketindexCd=FX_GBPUSD\" onclick=\"clickcr(this, 'fr2.gbpdt', '', '', event);\">\n",
       "<h3 class=\"h_lst\"><span class=\"blind\">영국 파운드/달러</span></h3>\n",
       "<div class=\"head_info point_dn\">\n",
       "<span class=\"value\">1.2753</span>\n",
       "<span class=\"txt_usd\"><span class=\"blind\">달러</span></span>\n",
       "<span class=\"change\"> 0.0050</span>\n",
       "<span class=\"blind\">하락</span>\n",
       "</div>\n",
       "</a>\n",
       "<a class=\"graph_img\" href=\"/marketindex/worldExchangeDetail.naver?marketindexCd=FX_GBPUSD\" onclick=\"clickcr(this, 'fr2.gbpdc', '', '', event);\">\n",
       "<img alt=\"\" height=\"153\" src=\"https://ssl.pstatic.net/imgfinance/chart/marketindex/FX_GBPUSD.png\" width=\"295\"/>\n",
       "</a>\n",
       "<div class=\"graph_info\">\n",
       "<span class=\"time\">2024.03.14</span>\n",
       "<span class=\"source\">모닝스타 기준</span>\n",
       "</div>\n",
       "</li>\n",
       "<li class=\"\">\n",
       "<a class=\"head usd_idx\" href=\"/marketindex/worldExchangeDetail.naver?marketindexCd=FX_USDX\" onclick=\"clickcr(this, 'fr2.indt', '', '', event);\">\n",
       "<h3 class=\"h_lst\"><span class=\"blind\">달러인덱스</span></h3>\n",
       "<div class=\"head_info point_up\">\n",
       "<span class=\"value\">103.3400</span>\n",
       "<span class=\"change\">0.5800</span>\n",
       "<span class=\"blind\">상승</span>\n",
       "</div>\n",
       "</a>\n",
       "<a class=\"graph_img\" href=\"/marketindex/worldExchangeDetail.naver?marketindexCd=FX_USDX\" onclick=\"clickcr(this, 'fr2.indc', '', '', event);\">\n",
       "<img alt=\"\" height=\"153\" src=\"https://ssl.pstatic.net/imgfinance/chart/marketindex/FX_USDX.png\" width=\"295\"/>\n",
       "</a>\n",
       "<div class=\"graph_info\">\n",
       "<span class=\"time\">2024.03.14</span>\n",
       "<span class=\"source\">ICE 기준</span>\n",
       "</div>\n",
       "</li>\n",
       "</ul>\n",
       "</div>\n",
       "<!-- //data -->\n",
       "</div>\n",
       "<div class=\"market3\">\n",
       "<div class=\"title\">\n",
       "<h2 class=\"h_market3\"><span>유가·금시세</span></h2>\n",
       "</div>\n",
       "<!-- data -->\n",
       "<div class=\"data\">\n",
       "<ul class=\"data_lst\" id=\"oilGoldList\">\n",
       "<li class=\"on\">\n",
       "<a class=\"head wti\" href=\"/marketindex/worldOilDetail.naver?marketindexCd=OIL_CL&amp;fdtc=2\" onclick=\"clickcr(this, 'fr3.wtit', '', '', event);\">\n",
       "<h3 class=\"h_lst\"><span class=\"blind\">WTI</span></h3>\n",
       "<div class=\"head_info point_up\">\n",
       "<span class=\"value\">81.26</span>\n",
       "<span class=\"txt_usd\"><span class=\"blind\">달러</span></span>\n",
       "<span class=\"change\">1.54</span>\n",
       "<span class=\"blind\">상승</span>\n",
       "</div>\n",
       "</a>\n",
       "<a class=\"graph_img\" href=\"/marketindex/worldOilDetail.naver?marketindexCd=OIL_CL&amp;fdtc=2\" onclick=\"clickcr(this, 'fr3.wtic', '', '', event);\">\n",
       "<img alt=\"\" height=\"153\" src=\"https://ssl.pstatic.net/imgfinance/chart/marketindex/OIL_CL.png\" width=\"295\"/>\n",
       "</a>\n",
       "<div class=\"graph_info\">\n",
       "<span class=\"time\">2024.03.14</span>\n",
       "<span class=\"source\">NYMEX(뉴욕상업거래소) 기준</span>\n",
       "</div>\n",
       "</li>\n",
       "<li class=\"\">\n",
       "<a class=\"head gasoline\" href=\"/marketindex/oilDetail.naver?marketindexCd=OIL_GSL\" onclick=\"clickcr(this, 'fr3.oilt', '', '', event);\">\n",
       "<h3 class=\"h_lst\"><span class=\"blind\">휘발유</span></h3>\n",
       "<div class=\"head_info point_dn\">\n",
       "<span class=\"value\">1638.37</span>\n",
       "<span class=\"txt_krw\"><span class=\"blind\">원</span></span>\n",
       "<span class=\"change\"> 0.13</span>\n",
       "<span class=\"blind\">하락</span>\n",
       "</div>\n",
       "</a>\n",
       "<a class=\"graph_img\" href=\"/marketindex/oilDetail.naver?marketindexCd=OIL_GSL\" onclick=\"clickcr(this, 'fr3.oilc', '', '', event);\">\n",
       "<img alt=\"\" height=\"153\" src=\"https://ssl.pstatic.net/imgfinance/chart/marketindex/OIL_GSL.png\" width=\"295\"/>\n",
       "</a>\n",
       "<div class=\"graph_info\">\n",
       "<span class=\"time\">2024.03.15</span>\n",
       "<span class=\"source\">한국석유공사 Opinet 기준</span>\n",
       "</div>\n",
       "</li>\n",
       "<li class=\"\">\n",
       "<a class=\"head gold_inter\" href=\"/marketindex/worldGoldDetail.naver?marketindexCd=CMDT_GC&amp;fdtc=2\" onclick=\"clickcr(this, 'fr3.agoldt', '', '', event);\">\n",
       "<h3 class=\"h_lst\"><span class=\"blind\">국제 금</span></h3>\n",
       "<div class=\"head_info point_dn\">\n",
       "<span class=\"value\">2167.5</span>\n",
       "<span class=\"txt_usd\"><span class=\"blind\">달러</span></span>\n",
       "<span class=\"change\"> 13.30</span>\n",
       "<span class=\"blind\">하락</span>\n",
       "</div>\n",
       "</a>\n",
       "<a class=\"graph_img\" href=\"/marketindex/worldGoldDetail.naver?marketindexCd=CMDT_GC&amp;fdtc=2\" onclick=\"clickcr(this, 'fr3.agoldc', '', '', event);\">\n",
       "<img alt=\"\" height=\"153\" src=\"https://ssl.pstatic.net/imgfinance/chart/marketindex/CMDT_GC.png\" width=\"295\"/>\n",
       "</a>\n",
       "<div class=\"graph_info\">\n",
       "<span class=\"time\">2024.03.14</span>\n",
       "<span class=\"source\">COMEX(뉴욕상품거래소) 기준</span>\n",
       "</div>\n",
       "</li>\n",
       "<li class=\"\">\n",
       "<a class=\"head gold_domestic\" href=\"/marketindex/goldDetail.naver\" onclick=\"clickcr(this, 'fr3.kgoldt', '', '', event);\">\n",
       "<h3 class=\"h_lst\"><span class=\"blind\">국내 금</span></h3>\n",
       "<div class=\"head_info point_up\">\n",
       "<span class=\"value\">92405.53</span>\n",
       "<span class=\"txt_krw\"><span class=\"blind\">원</span></span>\n",
       "<span class=\"change\">490.84</span>\n",
       "<span class=\"blind\">상승</span>\n",
       "</div>\n",
       "</a>\n",
       "<a class=\"graph_img\" href=\"/marketindex/goldDetail.naver\" onclick=\"clickcr(this, 'fr3.kgoldc', '', '', event);\">\n",
       "<img alt=\"\" height=\"153\" src=\"https://ssl.pstatic.net/imgfinance/chart/marketindex/CMDT_GD.png\" width=\"295\"/>\n",
       "</a>\n",
       "<div class=\"graph_info\">\n",
       "<span class=\"time\">2024.03.15 11:32</span>\n",
       "<span class=\"source\">신한은행 기준</span>\n",
       "\t\t\t\t\t\t\t(<span class=\"num\">79</span>회차)\t\t\t\n",
       "\t\t\t\t\t</div>\n",
       "</li>\n",
       "</ul>\n",
       "</div>\n",
       "<!-- //data -->\n",
       "</div>\n",
       "</div>\n",
       "</div>\n",
       "<div class=\"marketindex_content _replaceNewsLink\" id=\"content\">\n",
       "<div class=\"section_news\">\n",
       "<h3 class=\"h_market\"><span>환율 주요뉴스</span></h3>\n",
       "<div class=\"list_area\">\n",
       "<ul>\n",
       "<li>\n",
       "<p><a href=\"/news/news_read.naver?mode=LSS3D§ion_id=101§ion_id2=258§ion_id3=429&amp;office_id=001&amp;article_id=0014565144\" onclick=\"clickcr(this, 'mhn.list', '001_0014565144', '0', event);\">원/달러 환율, 장 초반 상승…1,320원</a><img alt=\"NEW\" height=\"8\" src=\"https://ssl.pstatic.net/static/nfinance/ico_new.gif\" width=\"8\"/></p>\n",
       "<span>03.15 09:27</span>\n",
       "</li>\n",
       "<li>\n",
       "<p><a href=\"/news/news_read.naver?mode=LSS3D§ion_id=101§ion_id2=258§ion_id3=429&amp;office_id=001&amp;article_id=0014564916\" onclick=\"clickcr(this, 'mhn.list', '001_0014564916', '1', event);\">2월 수입물가지수 1.2% 올라…유가·환율</a><img alt=\"NEW\" height=\"8\" src=\"https://ssl.pstatic.net/static/nfinance/ico_new.gif\" width=\"8\"/></p>\n",
       "<span>03.15 06:00</span>\n",
       "</li>\n",
       "<li>\n",
       "<p><a href=\"/news/news_read.naver?mode=LSS3D§ion_id=101§ion_id2=258§ion_id3=429&amp;office_id=015&amp;article_id=0004959987\" onclick=\"clickcr(this, 'mhn.list', '015_0004959987', '2', event);\">원화 가치 하락…국채금리는 일제히 상승 [</a><img alt=\"NEW\" height=\"8\" src=\"https://ssl.pstatic.net/static/nfinance/ico_new.gif\" width=\"8\"/></p>\n",
       "<span>03.14 17:23</span>\n",
       "</li>\n",
       "<li>\n",
       "<p><a href=\"/news/news_read.naver?mode=LSS3D§ion_id=101§ion_id2=258§ion_id3=429&amp;office_id=001&amp;article_id=0014563812\" onclick=\"clickcr(this, 'mhn.list', '001_0014563812', '3', event);\">원/달러 환율, 3.1원 상승…1,317.</a><img alt=\"NEW\" height=\"8\" src=\"https://ssl.pstatic.net/static/nfinance/ico_new.gif\" width=\"8\"/></p>\n",
       "<span>03.14 15:35</span>\n",
       "</li>\n",
       "<li>\n",
       "<p><a href=\"/news/news_read.naver?mode=LSS3D§ion_id=101§ion_id2=258§ion_id3=429&amp;office_id=001&amp;article_id=0014562955\" onclick=\"clickcr(this, 'mhn.list', '001_0014562955', '4', event);\">한국은행 통화신용정책보고서(2024년 3월</a><img alt=\"NEW\" height=\"8\" src=\"https://ssl.pstatic.net/static/nfinance/ico_new.gif\" width=\"8\"/></p>\n",
       "<span>03.14 13:16</span>\n",
       "</li>\n",
       "<li>\n",
       "<p><a href=\"/news/news_read.naver?mode=LSS3D§ion_id=101§ion_id2=258§ion_id3=429&amp;office_id=001&amp;article_id=0014562948\" onclick=\"clickcr(this, 'mhn.list', '001_0014562948', '5', event);\">발언하는 최창호 통화정책국장</a><img alt=\"NEW\" height=\"8\" src=\"https://ssl.pstatic.net/static/nfinance/ico_new.gif\" width=\"8\"/></p>\n",
       "<span>03.14 13:15</span>\n",
       "</li>\n",
       "<li>\n",
       "<p><a href=\"/news/news_read.naver?mode=LSS3D§ion_id=101§ion_id2=258§ion_id3=429&amp;office_id=001&amp;article_id=0014562947\" onclick=\"clickcr(this, 'mhn.list', '001_0014562947', '6', event);\">발언하는 이상형 부총재보</a><img alt=\"NEW\" height=\"8\" src=\"https://ssl.pstatic.net/static/nfinance/ico_new.gif\" width=\"8\"/></p>\n",
       "<span>03.14 13:15</span>\n",
       "</li>\n",
       "<li>\n",
       "<p><a href=\"/news/news_read.naver?mode=LSS3D§ion_id=101§ion_id2=258§ion_id3=429&amp;office_id=001&amp;article_id=0014561994\" onclick=\"clickcr(this, 'mhn.list', '001_0014561994', '7', event);\">원/달러 환율, 장 초반 보합권…1,310</a><img alt=\"NEW\" height=\"8\" src=\"https://ssl.pstatic.net/static/nfinance/ico_new.gif\" width=\"8\"/></p>\n",
       "<span>03.14 09:14</span>\n",
       "</li>\n",
       "<li>\n",
       "<p><a href=\"/news/news_read.naver?mode=LSS3D§ion_id=101§ion_id2=258§ion_id3=429&amp;office_id=015&amp;article_id=0004959513\" onclick=\"clickcr(this, 'mhn.list', '015_0004959513', '8', event);\">미국 물가 3.2% 상승…원·달러 환율 다</a><img alt=\"NEW\" height=\"8\" src=\"https://ssl.pstatic.net/static/nfinance/ico_new.gif\" width=\"8\"/></p>\n",
       "<span>03.13 17:25</span>\n",
       "</li>\n",
       "<li>\n",
       "<p><a href=\"/news/news_read.naver?mode=LSS3D§ion_id=101§ion_id2=258§ion_id3=429&amp;office_id=001&amp;article_id=0014560826\" onclick=\"clickcr(this, 'mhn.list', '001_0014560826', '9', event);\">원/달러 환율, 3.5원 상승…1,314.</a><img alt=\"NEW\" height=\"8\" src=\"https://ssl.pstatic.net/static/nfinance/ico_new.gif\" width=\"8\"/></p>\n",
       "<span>03.13 15:37</span>\n",
       "</li>\n",
       "</ul>\n",
       "</div>\n",
       "<a class=\"btn_more\" href=\"/news/news_list.naver?mode=LSS3D§ion_id=101§ion_id2=258§ion_id3=429\" onclick=\"clickcr(this, 'mhn.more', '', '', event);\"><img alt=\"더보기\" height=\"18\" src=\"https://ssl.pstatic.net/static/nfinance/btn_more.gif\" width=\"34\"/></a>\n",
       "</div>\n",
       "<div class=\"tab_default1\" id=\"tab_section\">\n",
       "<ul>\n",
       "<li class=\"on\"><a href=\"./?tabSel=exchange#tab_section\" onclick=\"clickcr(this, 'mtb.exnoti', '', '', event);\"><span class=\"tab1\">환전고시 환율</span></a></li>\n",
       "<li class=\"\"><a href=\"./?tabSel=worldExchange#tab_section\" onclick=\"clickcr(this, 'mtb.interex', '', '', event);\"><span class=\"tab2\">국제시장 환율</span></a></li>\n",
       "<li class=\"\"><a href=\"./?tabSel=gold#tab_section\" onclick=\"clickcr(this, 'mtb.oilgold', '', '', event);\"><span class=\"tab3\">유가 금시세</span></a></li>\n",
       "<li class=\"\"><a href=\"./?tabSel=materials#tab_section\" onclick=\"clickcr(this, 'mtb.material', '', '', event);\"><span class=\"tab4\">원자재</span></a></li>\n",
       "</ul>\n",
       "<h2 class=\"blind\">환전고시 환율</h2>\n",
       "</div>\n",
       "<div class=\"section_calculator\">\n",
       "<h3 class=\"h_calculator\"><span>환율계산기 (매매기준율 기준)</span></h3>\n",
       "<div class=\"calculator\">\n",
       "<div class=\"inner\">\n",
       "<div class=\"input\">\n",
       "<div class=\"selectbox-noscript\" id=\"sInput\">\n",
       "<select class=\"selectbox-source\" id=\"select_from\">\n",
       "<option label=\"1\" value=\"1\">대한민국 원 KRW</option>\n",
       "<option class=\"selectbox-default\" label=\"1\" selected=\"selected\" value=\"1329.5\"> 미국 달러 USD</option>\n",
       "<option label=\"1\" value=\"1329.5\"> 미국 달러 USD</option>\n",
       "<option label=\"1\" value=\"1445.7\"> 유럽연합 유로 EUR</option>\n",
       "<option label=\"100\" value=\"8.9511\"> 일본 엔 JPY</option>\n",
       "<option label=\"1\" value=\"184.54\"> 중국 위안 CNY</option>\n",
       "<option label=\"1\" value=\"169.98\"> 홍콩 달러 HKD</option>\n",
       "<option label=\"1\" value=\"42.04\"> 대만 달러 TWD</option>\n",
       "<option label=\"1\" value=\"1692.99\"> 영국 파운드 GBP</option>\n",
       "<option label=\"1\" value=\"3453.34\"> 오만 리알 OMR</option>\n",
       "<option label=\"1\" value=\"981.8\"> 캐나다 달러 CAD</option>\n",
       "<option label=\"1\" value=\"1502.34\"> 스위스 프랑 CHF</option>\n",
       "<option label=\"1\" value=\"128.27\"> 스웨덴 크로나 SEK</option>\n",
       "<option label=\"1\" value=\"872.28\"> 호주 달러 AUD</option>\n",
       "<option label=\"1\" value=\"810.53\"> 뉴질랜드 달러 NZD</option>\n",
       "<option label=\"1\" value=\"57.38\"> 체코 코루나 CZK</option>\n",
       "<option label=\"1\" value=\"1.41\"> 칠레 페소 CLP</option>\n",
       "<option label=\"1\" value=\"41.34\"> 튀르키예 뉴리라 TRY</option>\n",
       "<option label=\"1\" value=\"0.39\"> 몽골 투그릭 MNT</option>\n",
       "<option label=\"1\" value=\"363.75\"> 이스라엘 세켈 ILS</option>\n",
       "<option label=\"1\" value=\"193.9\"> 덴마크 크로네 DKK</option>\n",
       "<option label=\"1\" value=\"125.47\"> 노르웨이 크로네 NOK</option>\n",
       "<option label=\"1\" value=\"354.5\"> 사우디아라비아 리얄 SAR</option>\n",
       "<option label=\"1\" value=\"4325.55\"> 쿠웨이트 디나르 KWD</option>\n",
       "<option label=\"1\" value=\"3529.33\"> 바레인 디나르 BHD</option>\n",
       "<option label=\"1\" value=\"362.01\"> 아랍에미리트 디르함 AED</option>\n",
       "<option label=\"1\" value=\"1875.18\"> 요르단 디나르 JOD</option>\n",
       "<option label=\"1\" value=\"27.81\"> 이집트 파운드 EGP</option>\n",
       "<option label=\"1\" value=\"37.1\"> 태국 바트 THB</option>\n",
       "<option label=\"1\" value=\"993.61\"> 싱가포르 달러 SGD</option>\n",
       "<option label=\"1\" value=\"282.66\"> 말레이시아 링깃 MYR</option>\n",
       "<option label=\"100\" value=\"0.0852\"> 인도네시아 루피아 IDR</option>\n",
       "<option label=\"1\" value=\"364.55\"> 카타르 리얄 QAR</option>\n",
       "<option label=\"1\" value=\"2.96\"> 카자흐스탄 텡게 KZT</option>\n",
       "<option label=\"1\" value=\"993.61\"> 브루나이 달러 BND</option>\n",
       "<option label=\"1\" value=\"16.02\"> 인도 루피 INR</option>\n",
       "<option label=\"1\" value=\"4.76\"> 파키스탄 루피 PKR</option>\n",
       "<option label=\"1\" value=\"12.11\"> 방글라데시 타카 BDT</option>\n",
       "<option label=\"1\" value=\"23.94\"> 필리핀 페소 PHP</option>\n",
       "<option label=\"1\" value=\"79.5\"> 멕시코 페소 MXN</option>\n",
       "<option label=\"1\" value=\"266.18\"> 브라질 레알 BRL</option>\n",
       "<option label=\"100\" value=\"0.0538\"> 베트남 동 VND</option>\n",
       "<option label=\"1\" value=\"70.8\"> 남아프리카 공화국 랜드 ZAR</option>\n",
       "<option label=\"1\" value=\"14.51\"> 러시아 루블 RUB</option>\n",
       "<option label=\"1\" value=\"3.66\"> 헝가리 포린트 HUF</option>\n",
       "<option label=\"1\" value=\"336.52\"> 폴란드 즈워티 PLN</option>\n",
       "<option label=\"1\" value=\"4.35\"> 스리랑카 루피 LKR</option>\n",
       "<option label=\"1\" value=\"9.88\"> 알제리 알제리 디나르 DZD</option>\n",
       "<option label=\"1\" value=\"9.88\"> 케냐 실링 KES</option>\n",
       "<option label=\"1\" value=\"0.34\"> 콜롬비아 페소 COP</option>\n",
       "<option label=\"1\" value=\"0.52\"> 탄자니아 실링 TZS</option>\n",
       "<option label=\"1\" value=\"10.03\"> 네팔 루피 NPR</option>\n",
       "<option label=\"1\" value=\"290.79\"> 루마니아 레우 RON</option>\n",
       "<option label=\"1\" value=\"276.56\"> 리비아 리비아 디나르 LYD</option>\n",
       "<option label=\"1\" value=\"164.95\"> 마카오 파타카 MOP</option>\n",
       "<option label=\"1\" value=\"0.63\"> 미얀마 짯 MMK</option>\n",
       "<option label=\"1\" value=\"23.41\"> 에티오피아 비르 ETB</option>\n",
       "<option label=\"1\" value=\"0.11\"> 우즈베키스탄 숨 UZS</option>\n",
       "<option label=\"1\" value=\"0.33\"> 캄보디아 리엘 KHR</option>\n",
       "<option label=\"1\" value=\"593.22\"> 피지 피지 달러 FJD</option>\n",
       "</select>\n",
       "<div class=\"selectbox-box\" onclick=\"clickcr(this, 'exl*c.clist1', '', '', event);\">\n",
       "<div class=\"selectbox-label\"></div>\n",
       "</div>\n",
       "<div class=\"selectbox-layer ly_calculator\">\n",
       "<div class=\"selectbox-list\"></div>\n",
       "</div>\n",
       "</div>\n",
       "<div class=\"input_area\" id=\"input_from\">\n",
       "<input id=\"input_from_money\" maxlength=\"10\" onclick=\"clickcr(this, 'exl*c.unit1', '', '', event);\" onfocus=\"changeActiveInput('from', 'to'); return false;\" onkeyup=\"calcExchange('from', 'to', 'on', event);\" type=\"text\" value=\"1\"/>\n",
       "<img alt=\"\" height=\"13\" id=\"img_from_monetary\" src=\"https://ssl.pstatic.net/static/nfinance/img_money_USD.gif\" width=\"26\"/>\n",
       "</div>\n",
       "</div>\n",
       "<div class=\"same\"><img alt=\"\" height=\"15\" src=\"https://ssl.pstatic.net/static/nfinance/ico_same.gif\" width=\"28\"/></div>\n",
       "<div class=\"view\">\n",
       "<div class=\"selectbox-noscript\" id=\"sView\">\n",
       "<select class=\"selectbox-source\" id=\"select_to\">\n",
       "<option class=\"selectbox-default\" label=\"1\" value=\"1\">대한민국 원 KRW</option>\n",
       "<option label=\"1\" value=\"1\">대한민국 원 KRW</option>\n",
       "<option label=\"1\" value=\"1329.5\">미국 달러 USD</option>\n",
       "<option label=\"1\" value=\"1445.7\">유럽연합 유로 EUR</option>\n",
       "<option label=\"100\" value=\"8.9511\">일본 엔 JPY</option>\n",
       "<option label=\"1\" value=\"184.54\">중국 위안 CNY</option>\n",
       "<option label=\"1\" value=\"169.98\">홍콩 달러 HKD</option>\n",
       "<option label=\"1\" value=\"42.04\">대만 달러 TWD</option>\n",
       "<option label=\"1\" value=\"1692.99\">영국 파운드 GBP</option>\n",
       "<option label=\"1\" value=\"3453.34\">오만 리알 OMR</option>\n",
       "<option label=\"1\" value=\"981.8\">캐나다 달러 CAD</option>\n",
       "<option label=\"1\" value=\"1502.34\">스위스 프랑 CHF</option>\n",
       "<option label=\"1\" value=\"128.27\">스웨덴 크로나 SEK</option>\n",
       "<option label=\"1\" value=\"872.28\">호주 달러 AUD</option>\n",
       "<option label=\"1\" value=\"810.53\">뉴질랜드 달러 NZD</option>\n",
       "<option label=\"1\" value=\"57.38\">체코 코루나 CZK</option>\n",
       "<option label=\"1\" value=\"1.41\">칠레 페소 CLP</option>\n",
       "<option label=\"1\" value=\"41.34\">튀르키예 뉴리라 TRY</option>\n",
       "<option label=\"1\" value=\"0.39\">몽골 투그릭 MNT</option>\n",
       "<option label=\"1\" value=\"363.75\">이스라엘 세켈 ILS</option>\n",
       "<option label=\"1\" value=\"193.9\">덴마크 크로네 DKK</option>\n",
       "<option label=\"1\" value=\"125.47\">노르웨이 크로네 NOK</option>\n",
       "<option label=\"1\" value=\"354.5\">사우디아라비아 리얄 SAR</option>\n",
       "<option label=\"1\" value=\"4325.55\">쿠웨이트 디나르 KWD</option>\n",
       "<option label=\"1\" value=\"3529.33\">바레인 디나르 BHD</option>\n",
       "<option label=\"1\" value=\"362.01\">아랍에미리트 디르함 AED</option>\n",
       "<option label=\"1\" value=\"1875.18\">요르단 디나르 JOD</option>\n",
       "<option label=\"1\" value=\"27.81\">이집트 파운드 EGP</option>\n",
       "<option label=\"1\" value=\"37.1\">태국 바트 THB</option>\n",
       "<option label=\"1\" value=\"993.61\">싱가포르 달러 SGD</option>\n",
       "<option label=\"1\" value=\"282.66\">말레이시아 링깃 MYR</option>\n",
       "<option label=\"100\" value=\"0.0852\">인도네시아 루피아 IDR</option>\n",
       "<option label=\"1\" value=\"364.55\">카타르 리얄 QAR</option>\n",
       "<option label=\"1\" value=\"2.96\">카자흐스탄 텡게 KZT</option>\n",
       "<option label=\"1\" value=\"993.61\">브루나이 달러 BND</option>\n",
       "<option label=\"1\" value=\"16.02\">인도 루피 INR</option>\n",
       "<option label=\"1\" value=\"4.76\">파키스탄 루피 PKR</option>\n",
       "<option label=\"1\" value=\"12.11\">방글라데시 타카 BDT</option>\n",
       "<option label=\"1\" value=\"23.94\">필리핀 페소 PHP</option>\n",
       "<option label=\"1\" value=\"79.5\">멕시코 페소 MXN</option>\n",
       "<option label=\"1\" value=\"266.18\">브라질 레알 BRL</option>\n",
       "<option label=\"100\" value=\"0.0538\">베트남 동 VND</option>\n",
       "<option label=\"1\" value=\"70.8\">남아프리카 공화국 랜드 ZAR</option>\n",
       "<option label=\"1\" value=\"14.51\">러시아 루블 RUB</option>\n",
       "<option label=\"1\" value=\"3.66\">헝가리 포린트 HUF</option>\n",
       "<option label=\"1\" value=\"336.52\">폴란드 즈워티 PLN</option>\n",
       "<option label=\"1\" value=\"4.35\">스리랑카 루피 LKR</option>\n",
       "<option label=\"1\" value=\"9.88\">알제리 알제리 디나르 DZD</option>\n",
       "<option label=\"1\" value=\"9.88\">케냐 실링 KES</option>\n",
       "<option label=\"1\" value=\"0.34\">콜롬비아 페소 COP</option>\n",
       "<option label=\"1\" value=\"0.52\">탄자니아 실링 TZS</option>\n",
       "<option label=\"1\" value=\"10.03\">네팔 루피 NPR</option>\n",
       "<option label=\"1\" value=\"290.79\">루마니아 레우 RON</option>\n",
       "<option label=\"1\" value=\"276.56\">리비아 리비아 디나르 LYD</option>\n",
       "<option label=\"1\" value=\"164.95\">마카오 파타카 MOP</option>\n",
       "<option label=\"1\" value=\"0.63\">미얀마 짯 MMK</option>\n",
       "<option label=\"1\" value=\"23.41\">에티오피아 비르 ETB</option>\n",
       "<option label=\"1\" value=\"0.11\">우즈베키스탄 숨 UZS</option>\n",
       "<option label=\"1\" value=\"0.33\">캄보디아 리엘 KHR</option>\n",
       "<option label=\"1\" value=\"593.22\">피지 피지 달러 FJD</option>\n",
       "</select>\n",
       "<div class=\"selectbox-box\" onclick=\"clickcr(this, 'exl*c.clist2', '', '', event);\">\n",
       "<div class=\"selectbox-label\"></div>\n",
       "</div>\n",
       "<div class=\"selectbox-layer ly_calculator\">\n",
       "<div class=\"selectbox-list\"></div>\n",
       "</div>\n",
       "</div>\n",
       "<div class=\"input_area\" id=\"input_to\">\n",
       "<input id=\"input_to_money\" maxlength=\"10\" onclick=\"clickcr(this, 'exl*c.unit2', '', '', event);\" onfocus=\"changeActiveInput('to', 'from'); return false;\" onkeyup=\"calcExchange('to', 'from', 'on', event);\" type=\"text\"/>\n",
       "<img alt=\"\" height=\"13\" id=\"img_to_monetary\" src=\"https://ssl.pstatic.net/static/nfinance/img_money_KRW.gif\" width=\"26\"/>\n",
       "</div>\n",
       "</div>\n",
       "</div>\n",
       "</div>\n",
       "</div>\n",
       "<div class=\"section_exchange\">\n",
       "<div id=\"section_ex1\">\n",
       "<h3 class=\"blind\" id=\"exchange1\">환전 고시 환율</h3>\n",
       "<div class=\"exchange_info\">\n",
       "<span class=\"date\">2024.03.15 11:43</span>\n",
       "<span class=\"standard\">하나은행 기준</span>\n",
       "<span class=\"round\">고시회차 <em>134</em>회</span>\n",
       "</div>\n",
       "<iframe frameborder=\"0\" height=\"1800px\" id=\"frame_ex1\" marginheight=\"0\" marginwidth=\"0\" scrolling=\"no\" src=\"/marketindex/exchangeList.naver\" title=\"환전 고시 환율\" width=\"100%\"></iframe>\n",
       "</div>\n",
       "<ul class=\"tbl_info\">\n",
       "<li>통화명과 심볼은 앞에 위치한 통화에 1이 생략된 형태로, 달러/일본 엔(심볼: USDJPY)인 경우 1 USD(달러)가 JPY(일본 엔)으로 얼마인가를 의미합니다.</li>\n",
       "</ul>\n",
       "</div>\n",
       "<script language=\"javascript\" src=\"https://ssl.pstatic.net/imgstock/static.pc/20240313183844/js/jindoComponent/jindo.Component.1.0.3.js\" type=\"text/javascript\"></script>\n",
       "<script language=\"javascript\" src=\"https://ssl.pstatic.net/imgstock/static.pc/20240313183844/js/jindoComponent/jindo.UIComponent.1.0.1.js\" type=\"text/javascript\"></script>\n",
       "<script language=\"javascript\" src=\"https://ssl.pstatic.net/imgstock/static.pc/20240313183844/js/jindoComponent/jindo.HTMLComponent.1.0.1.js\" type=\"text/javascript\"></script>\n",
       "<script language=\"javascript\" src=\"https://ssl.pstatic.net/imgstock/static.pc/20240313183844/js/jindoComponent/jindo.Timer.1.0.3.js\" type=\"text/javascript\"></script>\n",
       "<script language=\"javascript\" src=\"https://ssl.pstatic.net/imgstock/static.pc/20240313183844/js/jindoComponent/jindo.LayerManager.1.0.1.js\" type=\"text/javascript\"></script>\n",
       "<script language=\"javascript\" src=\"https://ssl.pstatic.net/imgstock/static.pc/20240313183844/js/jindoComponent/jindo.LayerPosition.1.0.1.js\" type=\"text/javascript\"></script>\n",
       "<script language=\"javascript\" src=\"https://ssl.pstatic.net/imgstock/static.pc/20240313183844/js/jindoComponent/jindo.RolloverArea.1.0.1.js\" type=\"text/javascript\"></script>\n",
       "<script language=\"javascript\" src=\"https://ssl.pstatic.net/imgstock/static.pc/20240313183844/js/jindoComponent/jindo.RolloverClick.1.0.1.js\" type=\"text/javascript\"></script>\n",
       "<script language=\"javascript\" src=\"https://ssl.pstatic.net/imgstock/static.pc/20240313183844/js/jindoComponent/jindo.SelectBox.1.0.1.js\" type=\"text/javascript\"></script>\n",
       "<script charset=\"euckr\" language=\"javascript\" src=\"https://ssl.pstatic.net/imgstock/static.pc/20240313183844/js/jindoComponent/jindo.TextRange.1.0.1.js\" type=\"text/javascript\"></script>\n",
       "<script charset=\"euckr\" language=\"javascript\" src=\"https://ssl.pstatic.net/imgstock/static.pc/20240313183844/js/jindoComponent/jindo.WatchInput.1.0.1.js\" type=\"text/javascript\"></script>\n",
       "<script charset=\"euckr\" language=\"javascript\" src=\"https://ssl.pstatic.net/imgstock/static.pc/20240313183844/js/jindoComponent/jindo.Formatter.1.1.0.js\" type=\"text/javascript\"></script>\n",
       "<script charset=\"euckr\" language=\"javascript\" src=\"https://ssl.pstatic.net/imgstock/static.pc/20240313183844/js/jindoComponent/jindo.NumberFormatter.1.0.1.js\" type=\"text/javascript\"></script>\n",
       "<script language=\"javascript\" src=\"https://ssl.pstatic.net/imgstock/static.pc/20240313183844/js/exchange.js\" type=\"text/javascript\"></script>\n",
       "<script type=\"text/javascript\">\n",
       "// exchangeDetail.jsp에도 동일 스크립트 있음 - 로딩시 디자인이 0.5초간 디자인이 안뜬다는 이슈로 include하지 않고 같은 스크립트를 두벌로 관리함\n",
       "\n",
       "//환율 계산\n",
       "function calcExchange(str1, str2, cssOn, event) {\n",
       "\tvar oEvent = event || window.event;\n",
       "    var sKeyCode = (undefined === oEvent) ? undefined : jindo.$Event(oEvent).key().keyCode;\n",
       "\t\n",
       "\tif (sKeyCode != 13 && sKeyCode != 27 && sKeyCode != 37 && sKeyCode != 38 && sKeyCode != 110 && sKeyCode != 229) {\n",
       "\t\tif (str1 == '' && str2 == '') {\n",
       "\t\t\tif (jindo.$('input_to').className == 'input_area') {\n",
       "\t\t\t\tstr1 = 'from';\n",
       "\t\t\t\tstr2 = 'to';\n",
       "\t\t\t} else {\n",
       "\t\t\t\tstr1 = 'to';\n",
       "\t\t\t\tstr2 = 'from';\n",
       "\t\t\t}\n",
       "\t\t}\n",
       "\t\t\n",
       "\t\tvar regExp = new RegExp(\"[^0-9\\.\\,]\");\n",
       "\t    var sInputValue = jindo.$('input_' + str1 + '_money').value;\n",
       "\t\t\n",
       "\t    if(regExp.test(sInputValue)){\n",
       "\t\t\talert('숫자, 소수점(.)만 입력하실 수 있습니다.');\n",
       "\t\t\tjindo.$('input_' + str1 + '_money').value = revertInputText(sInputValue);\n",
       "\t\t\treturn false;\n",
       "\t\t}\n",
       "\t\t\n",
       "\t\t// 사용자가 입력한 콤마(,) 제거\n",
       "\t    if (sInputValue.substr(sInputValue.length - 1, 1) == ',') {\n",
       "\t    \tjindo.$('input_' + str1 + '_money').value = revertInputText(sInputValue);\n",
       "\t    \treturn false;\n",
       "\t    }\n",
       "\t\t\n",
       "\t\t// 맨 앞에 있는 숫자 0 없애기\n",
       "\t\tif (sInputValue == '0' || sInputValue == '.' || sInputValue == ',') {\n",
       "\t\t\tjindo.$('input_' + str1 + '_money').value = revertInputText(sInputValue);\n",
       "\t\t\treturn false;\n",
       "\t\t}\n",
       "\t\t\n",
       "\t\t// 소수점 2개가 없도록\n",
       "\t\tvar match = sInputValue.match(/\\./g);\n",
       "\t\tif (match != null && match.length >= 2) {\n",
       "\t\t\tjindo.$('input_' + str1 + '_money').value = revertInputText(sInputValue);\n",
       "\t\t\treturn false;\n",
       "\t\t}\n",
       "\t\t\n",
       "\t\t// 소수점을 입력한 경우, 일단 대기\n",
       "\t\tvar pointPosIndex = sInputValue.indexOf('.');\n",
       "\t\tif (pointPosIndex != -1 && pointPosIndex == sInputValue.length - 1) {\n",
       "\t\t\treturn false;\n",
       "\t\t}\n",
       "\t\t\n",
       "\t\t// 소수점 2자리 유지\n",
       "\t\tif (pointPosIndex != -1 && sInputValue.substring(pointPosIndex + 1, sInputValue.length).length > 2) {\n",
       "\t\t\tjindo.$('input_' + str1 + '_money').value = revertInputText(sInputValue);\n",
       "\t\t\treturn false;\n",
       "\t\t}\n",
       "\t\t\n",
       "\t\tvar e_select_from\t= jindo.$('select_'+str1);\n",
       "\t\tvar e_select_to\t= jindo.$('select_'+str2);\n",
       "\t\n",
       "\t\tvar input_from_money\t= jindo.$('input_'+str1+'_money').value ;\n",
       "\t\tvar input_from\t\t= e_select_from.options[e_select_from.selectedIndex].value ;\n",
       "\t\tvar input_to\t\t= e_select_to.options[e_select_to.selectedIndex].value ;\n",
       "\t\tvar unit_from\t= e_select_from.options[e_select_from.selectedIndex].text ;\n",
       "\t\tvar unit_to\t\t= e_select_to.options[e_select_to.selectedIndex].text ;\n",
       "\t\tinput_from_money = input_from_money.replace(/ |,|\\t/g, \"\") ;\n",
       "\t\tinput_from\t= input_from.replace(/ |,|\\t/g, \"\") ;\n",
       "\t\tinput_to\t= input_to.replace(/ |,|\\t/g, \"\") ;\n",
       "\t\tunit_from = unit_from.substr(unit_from.length-3, 3);\n",
       "\t\tunit_to = unit_to.substr(unit_to.length-3, 3);\n",
       "\t\n",
       "\t\tvar str1_result = input_from_money * 1 ;\n",
       "\t\tvar str1_str\t= str1_result.toFixed(0) ;\n",
       "\t\tvar str1_len = str1_str.length ;\n",
       "\t\tvar str1_result_str = new String(\"\") ;\n",
       "\t\n",
       "\t\tif(str1_str > str1_result)\n",
       "\t\t\tstr1_str = new String(str1_str-1) ;\n",
       "\t\n",
       "\t\tif (str1_len >= 3) {\n",
       "\t\t\tfor (i = str1_len - 3; i > 0; i-=3)\n",
       "\t\t\t\tstr1_result_str = \",\" + str1_str.substr(i, 3) + str1_result_str ;\n",
       "\t\n",
       "\t\t\tstr1_result_str = str1_str.substr(0, 3+i) + str1_result_str ;\n",
       "\t\n",
       "\t\t\tfor (var i=0; i<input_from_money.length; i++) {\n",
       "\t\t\t\tif (input_from_money.substr(i,1) != '0') {\n",
       "\t\t\t\t\tinput_from_money = input_from_money.substring(i,input_from_money.length) ;\n",
       "\t\t\t\t\tbreak;\n",
       "\t\t\t\t}\n",
       "\t\t\t}\n",
       "\t\n",
       "\t\t\tif (str1_str != input_from_money) {\n",
       "\t\t\t\tstr1_result_str += str1_result.toFixed(input_from_money.split(\".\")[1].length).substr(str1_len, input_from_money.split(\".\")[1].length + 1) ;\n",
       "\t\t\t}\n",
       "\t\t} else\n",
       "\t\t\tstr1_result_str = input_from_money ;\n",
       "\t\n",
       "\t\tvar str2_result = input_from_money * input_from / input_to ;\n",
       "\t\tvar str2_str\t= str2_result.toFixed(0) ;\n",
       "\t\tvar str2_len = str2_str.length ;\n",
       "\t\tvar str2_result_str = new String(\"\") ;\n",
       "\t\n",
       "\t\tif (str2_str > str2_result)\n",
       "\t\t\tstr2_str = new String(str2_str-1) ;\n",
       "\t\n",
       "\t\tif (str2_len >= 3) {\n",
       "\t\t\tfor (i = str2_len - 3; i > 0; i-=3)\n",
       "\t\t\t\tstr2_result_str = \",\" + str2_str.substr(i, 3) + str2_result_str ;\n",
       "\t\n",
       "\t\t\tstr2_result_str = str2_str.substr(0, 3+i) + str2_result_str ;\n",
       "\t\t\tstr2_result_str += str2_result.toFixed(2).substr(str2_len, 3) ;\n",
       "\t\t} else\n",
       "\t\t\tstr2_result_str = str2_result.toFixed(2) ;\n",
       "\t\n",
       "\t\tjindo.$('input_'+str1+'_money').value = str1_result_str;\n",
       "\t\tjindo.$('input_'+str2+'_money').value = str2_result_str;\n",
       "\t\tjindo.$('img_'+str1+'_monetary').src = \"https://ssl.pstatic.net/static/nfinance/img_money_\"+unit_from+\".gif\";\n",
       "\t\tjindo.$('img_'+str2+'_monetary').src = \"https://ssl.pstatic.net/static/nfinance/img_money_\"+unit_to+\".gif\";\n",
       "\t\tjindo.$Element(jindo.$('input_'+str1)).addClass(\"on\");\n",
       "\t\tjindo.$Element(jindo.$('input_'+str2)).removeClass(\"on\");\n",
       "\t\tif (cssOn == \"off\"){\n",
       "\t\t\tjindo.$Element(jindo.$('input_'+str1)).removeClass(\"on\");\n",
       "\t\t}\n",
       "\t}\n",
       "}\n",
       "\n",
       "function revertInputText(sOrgText) {\n",
       "\tvar sResult = sOrgText;\n",
       "\t\n",
       "\tif (sOrgText != '') {\n",
       "\t\tsResult = sOrgText.substr(0, sOrgText.length - 1);\n",
       "\t}\n",
       "\t\n",
       "\treturn sResult;\n",
       "}\n",
       "\n",
       "jindo.$Fn(function(){\n",
       "\tchartMouseOverEvent('exchangeList');\t\t\n",
       "   }).attach(document, \"domready\");\n",
       "</script>\n",
       "</div>\n",
       "<script language=\"javascript\" src=\"https://ssl.pstatic.net/imgstock/static.pc/20240313183844/js/jindo_ellipse.js\"></script>\n",
       "<script language=\"javascript\" src=\"https://ssl.pstatic.net/imgstock/static.pc/20240313183844/js/util.js\"></script>\n",
       "<script type=\"text/javascript\">\n",
       "\n",
       "function ellipseTopNewsTitle() {\n",
       "\tjindo.EllipseText.factory(jindo.$$(\".news_list ul li\"), {nAssistWidth: 10});\n",
       "}\n",
       "\n",
       "var basicDates;\n",
       "\n",
       "function initDate() {\n",
       "\tbasicDates = jindo.$H();\n",
       "\tbasicDates.add('', '');\n",
       "\tbasicDates.add('', '');\n",
       "\tbasicDates.add('', '');\n",
       "\tbasicDates.add('', '');\n",
       "\tbasicDates.add('', '');\n",
       "\tbasicDates.add('', '');\n",
       "}\n",
       "\n",
       "var basicDescriptions;\n",
       "\n",
       "function initDescription() {\n",
       "\tbasicDescriptions = jindo.$H();\n",
       "\tbasicDescriptions.add('CMDT_CDY','<em></em>  기준<span>단위:</span>');\n",
       "\tbasicDescriptions.add('CMDT_PDY','<em></em>  기준<span>단위:</span>');\n",
       "\tbasicDescriptions.add('CMDT_NG','<em></em>  기준<span>단위:</span>');\n",
       "\tbasicDescriptions.add('CMDT_S','<em></em>  기준<span>단위:</span>');\n",
       "\tbasicDescriptions.add('CMDT_C','<em></em>  기준<span>단위:</span>');\n",
       "\tbasicDescriptions.add('CMDT_SB','<em></em>  기준<span>단위:</span>');\n",
       "}\n",
       "\n",
       "function setEvent(num, imgChartUrl){\t\n",
       "\tvar parentElemnt = jindo.$$('.tbl_market')[num];\n",
       "\tvar elementList = jindo.$$('tr',parentElemnt);\n",
       "\t\n",
       "\tjindo.$Fn(function(e){\t\n",
       "\t\tvar elementListSize = elementList.length;\n",
       "\t\t\n",
       "\t\tfor(var i = 0 ; i < elementListSize ; i ++)\n",
       "\t\t{\n",
       "\t\t\tvar selectedElement = jindo.$Element(elementList[i]);\n",
       "\t\t\tvar selectedClassName = selectedElement.className();\n",
       "\t\t\tif (selectedClassName != \"\") {\n",
       "\t\t\t\tselectedElement.removeClass(selectedClassName);\n",
       "\t\t\t\tselectedElement.addClass(selectedClassName.replace(\"on\",\"\"));\n",
       "\t\t\t}\n",
       "\t\t} \n",
       "\t\t\n",
       "\t\tvar ele = jindo.$Element(jindo.$Event(e).currentElement);\n",
       "\t\tvar linkUrl = jindo.$$.getSingle('a' , ele.$value()).href;\n",
       "\t\tvar marketindexCd = linkUrl.split('=')[1];\n",
       "\t\tvar className = ele.className();\n",
       "\t\tele.removeClass(className);\n",
       "\t\tele.addClass(className+\" on\");\n",
       "\t\tvar graphElement = jindo.$Element(jindo.$$('.thum')[num]);\n",
       "\t\tgraphElement.html('<a href=\\\"'+linkUrl+'\\\"><img src=\\\"https://ssl.pstatic.net/imgfinance/chart/marketindex/' + marketindexCd + '.png\\\" width=\\\"295\\\" height=\\\"153\\\" alt=\"\"></a>');\n",
       "\t\t\n",
       "\t\tif (basicDates.hasKey(marketindexCd)) {\n",
       "\t\t\tjindo.$Element(\"basicDate\").text(basicDates.$(marketindexCd));\n",
       "\t\t}\n",
       "\t\tif (basicDescriptions.hasKey(marketindexCd)) {\n",
       "\t\t\tjindo.$Element(\"basicDescription\").html(basicDescriptions.$(marketindexCd));\n",
       "\t\t}\n",
       "\t\n",
       "\t}).attach(elementList, \"mouseover\");\t\n",
       "}\n",
       "\n",
       "jindo.$Fn(function(){\n",
       "\t\tinitDate();\n",
       "\t\tinitDescription();\n",
       "\t\tchartMouseOverEvent('exchangeList');\n",
       "\t\tchartMouseOverEvent('worldExchangeList');\n",
       "\t\tchartMouseOverEvent('oilGoldList');\n",
       "\t\tjindo.$$('title')[0].innerHTML = \"시장지표 : 네이버페이 증권\";\n",
       "}).attach(document, \"domready\");\n",
       "\n",
       "</script>\n",
       "<div class=\"aside\" id=\"marketindex_aside\">\n",
       "<div class=\"section_aside\">\n",
       "<h3 class=\"h_interest\"><span>국내시장금리</span></h3>\n",
       "<table class=\"tbl_exchange market\" summary=\"국제시장 환율 리스트\">\n",
       "<caption>국내시장금리</caption>\n",
       "<colgroup>\n",
       "<col width=\"94\"/>\n",
       "<col width=\"50\"/>\n",
       "<col width=\"75\"/>\n",
       "</colgroup>\n",
       "<thead>\n",
       "<tr>\n",
       "<th>구분</th>\n",
       "<th>금리</th>\n",
       "<th>등락율</th>\n",
       "</tr>\n",
       "</thead>\n",
       "<tbody>\n",
       "<tr class=\"down\">\n",
       "<th class=\"th_inter4\"><a href=\"/marketindex/interestDetail.naver?marketindexCd=IRR_CD91\" onclick=\"clickcr(this, 'rid.local', 'IRR_CD91', '1', event);\"><span>CD금리(91일)</span></a></th>\n",
       "<td>3.64</td>\n",
       "<td><img alt=\"하락\" height=\"6\" src=\"https://ssl.pstatic.net/static/nfinance/ico_down.gif\" width=\"7\"/> 0.01</td>\n",
       "</tr>\n",
       "<tr class=\"up\">\n",
       "<th class=\"th_inter1\"><a href=\"/marketindex/interestDetail.naver?marketindexCd=IRR_CALL\" onclick=\"clickcr(this, 'met.8', 'IRR_CALL', '2', event);\"><span>콜 금리</span></a></th>\n",
       "<td>3.48</td>\n",
       "<td><img alt=\"상승\" height=\"6\" src=\"https://ssl.pstatic.net/static/nfinance/ico_up.gif\" width=\"7\"/> 0.01</td>\n",
       "</tr>\n",
       "<tr class=\"up\">\n",
       "<th class=\"th_inter2\"><a href=\"/marketindex/interestDetail.naver?marketindexCd=IRR_GOVT03Y\" onclick=\"clickcr(this, 'met.8', 'IRR_GOVT03Y', '3', event);\"><span>국고채 (3년)</span></a></th>\n",
       "<td>3.27</td>\n",
       "<td><img alt=\"상승\" height=\"6\" src=\"https://ssl.pstatic.net/static/nfinance/ico_up.gif\" width=\"7\"/> 0.02</td>\n",
       "</tr>\n",
       "<tr class=\"up\">\n",
       "<th class=\"th_inter3\"><a href=\"/marketindex/interestDetail.naver?marketindexCd=IRR_CORP03Y\" onclick=\"clickcr(this, 'met.8', 'IRR_CORP03Y', '4', event);\"><span>회사채 (3년)</span></a></th>\n",
       "<td>3.92</td>\n",
       "<td><img alt=\"상승\" height=\"6\" src=\"https://ssl.pstatic.net/static/nfinance/ico_up.gif\" width=\"7\"/> 0.03</td>\n",
       "</tr>\n",
       "<tr class=\"down\">\n",
       "<th class=\"th_inter5\"><a href=\"/marketindex/interestDetail.naver?marketindexCd=IRR_COFIXBAL\" onclick=\"clickcr(this, 'met.8', 'IRR_COFIXBAL', '5', event);\"><span>COFIX 잔액</span></a></th>\n",
       "<td>3.84</td>\n",
       "<td><img alt=\"하락\" height=\"6\" src=\"https://ssl.pstatic.net/static/nfinance/ico_down.gif\" width=\"7\"/> 0.03</td>\n",
       "</tr>\n",
       "<tr class=\"down\">\n",
       "<th class=\"th_inter6\"><a href=\"/marketindex/interestDetail.naver?marketindexCd=IRR_COFIXNEW\" onclick=\"clickcr(this, 'met.8', 'IRR_COFIXNEW', '6', event);\"><span>COFIX 신규취급액</span></a></th>\n",
       "<td>3.66</td>\n",
       "<td><img alt=\"하락\" height=\"6\" src=\"https://ssl.pstatic.net/static/nfinance/ico_down.gif\" width=\"7\"/> 0.18</td>\n",
       "</tr>\n",
       "</tbody>\n",
       "</table>\n",
       "<table class=\"tbl_exchange tbl_exchange_v1 market\" style=\"margin-top:10px;\" summary=\"달러 인덱스\">\n",
       "<caption>달러 인덱스</caption>\n",
       "<colgroup>\n",
       "<col width=\"88\"/>\n",
       "<col width=\"46\"/>\n",
       "<col width=\"66\"/>\n",
       "</colgroup>\n",
       "<thead>\n",
       "<tr>\n",
       "<th>구분</th>\n",
       "<th>금리</th>\n",
       "<th>등락율</th>\n",
       "</tr>\n",
       "</thead>\n",
       "<tbody>\n",
       "<tr class=\"other_t1 up\">\n",
       "<th class=\"th_inter7\"><a href=\"/marketindex/worldExchangeDetail.naver?marketindexCd=FX_USDX&amp;fdtc=4\" onclick=\"clickcr(this, 'rid.dollar', 'FX_USDX', '', event);\"><span>달러 인덱스</span></a></th>\n",
       "<td>103.3400</td>\n",
       "<td><img alt=\"상승\" height=\"6\" src=\"https://ssl.pstatic.net/static/nfinance/ico_up.gif\" width=\"7\"/> 0.5800</td>\n",
       "</tr>\n",
       "</tbody>\n",
       "</table>\n",
       "</div>\n",
       "<div class=\"section_aside\">\n",
       "<div class=\"tab_search search3\">\n",
       "<a href=\"#\" onclick=\"clickcr(this, 'rch.1', '', '', event); return false;\"><span>최근조회</span></a>\n",
       "<a href=\"#\" onclick=\"clickcr(this, 'rch.3', '', '', event); return false;\"><span>MY STOCK</span></a>\n",
       "</div>\n",
       "<h3 class=\"blind\">최근조회</h3>\n",
       "<table class=\"tbl_search\" summary=\"최근조회 리스트\">\n",
       "<caption>최근조회</caption>\n",
       "<colgroup>\n",
       "<col/>\n",
       "<col width=\"55\"/>\n",
       "<col width=\"87\"/>\n",
       "</colgroup>\n",
       "<thead>\n",
       "<tr>\n",
       "<th>업체명</th>\n",
       "<th>거래량</th>\n",
       "<th>전일비</th>\n",
       "</tr>\n",
       "</thead>\n",
       "<tbody>\n",
       "</tbody>\n",
       "</table>\n",
       "<div class=\"more_info\">\n",
       "<span>\n",
       "<a href=\"#\" onclick=\"clickcr(this, 'rch.5', '', '', event); return false;\"><img alt=\"이전\" height=\"15\" src=\"https://ssl.pstatic.net/static/nfinance/btn_prev2.gif\" width=\"17\"/></a>\n",
       "<a href=\"#\" onclick=\"clickcr(this, 'rch.6', '', '', event); return false;\"><img alt=\"다음\" height=\"15\" src=\"https://ssl.pstatic.net/static/nfinance/btn_next2.gif\" width=\"17\"/></a>\n",
       "</span>\n",
       "<a class=\"btn_more _mystock_more_info\" href=\"#\" onclick=\"javascript:openMyitemNew('https://' + window.location.hostname); clickcr(this, 'rch.7', '', '', event);\"><img alt=\"더보기\" height=\"10\" src=\"https://ssl.pstatic.net/static/nfinance/btn_more5.gif\" width=\"33\"/></a>\n",
       "</div>\n",
       "</div>\n",
       "<div class=\"section_aside\">\n",
       "<h3 class=\"h_report\"><span>경제분석 리포트 </span></h3>\n",
       "<ul class=\"list_report\">\n",
       "<li><a href=\"/research/economy_read.naver?nid=9978\" onclick=\"clickcr(this, 'rer.list', '', '', event);\">미리보는 바이든과 트럼프 2.0</a></li>\n",
       "<li><a href=\"/research/economy_read.naver?nid=9977\" onclick=\"clickcr(this, 'rer.list', '', '', event);\">3월 FOMC Preview: 두...</a></li>\n",
       "<li><a href=\"/research/economy_read.naver?nid=9976\" onclick=\"clickcr(this, 'rer.list', '', '', event);\">3월과 6월 FOMC, 무엇에 초...</a></li>\n",
       "<li><a href=\"/research/economy_read.naver?nid=9975\" onclick=\"clickcr(this, 'rer.list', '', '', event);\">Market Weekly Chec...</a></li>\n",
       "<li><a href=\"/research/economy_read.naver?nid=9974\" onclick=\"clickcr(this, 'rer.list', '', '', event);\">[자주포] 자산전략 주간 포인트:...</a></li>\n",
       "</ul>\n",
       "<a class=\"btn_more\" href=\"/research/economy_list.naver\" onclick=\"clickcr(this, 'rer.more', '', '', event);\"><img alt=\"경제분석 리포트 더보기\" height=\"18\" src=\"https://ssl.pstatic.net/static/nfinance/btn_more.gif\" width=\"34\"/></a>\n",
       "</div>\n",
       "</div>\n",
       "<script language=\"javascript\" src=\"https://ssl.pstatic.net/imgstock/static.pc/20240313183844/js/info/myStock.js\" type=\"text/javascript\"></script>\n",
       "<script language=\"javascript\" src=\"https://ssl.pstatic.net/imgstock/static.pc/20240313183844/js/util.js\" type=\"text/javascript\"></script>\n",
       "<script language=\"javascript\">\n",
       "\n",
       "function toggleTabSearch(e){\n",
       "\tvar currentElement = jindo.$Element(jindo.$Event(e).currentElement);\n",
       "\tvar parentElement = currentElement.parent();\n",
       "\tvar id = currentElement.className();\n",
       "\tvar order = parentElement.indexOf(currentElement) + 3;\n",
       "\tparentElement.className(\"tab_search search\"+ order);\n",
       "\n",
       "\t// 페이징을 위해서 order값에 따라 최근조회인지 mystock인지 type을 저장\n",
       "\tif (order == 3) {\n",
       "\t\tcurrentType = \"recent\";\n",
       "\t} else {\n",
       "\t\tcurrentType = \"mystock\";\n",
       "\t}\n",
       "}\n",
       "\n",
       "jindo.$Fn(function(){\n",
       "\tif ('true' == 'true') {\n",
       "\t\tgetStockRightMenuData('000000', 'recent', 1, 'https://' + window.location.hostname, 'https://ssl.pstatic.net/static/nfinance');\n",
       "\n",
       "\t\tvar tabSearchArea = jindo.$$.getSingle('.tab_search');\n",
       "\t\tvar moreInfoArea = jindo.$Element(jindo.$$.getSingle('.tbl_search')).next().$value();\n",
       "\n",
       "\t\tjindo.$Fn(function(e) {toggleTabSearch(e); getStockRightMenuData('000000', 'recent', 1, 'https://' + window.location.hostname, 'https://ssl.pstatic.net/static/nfinance'); }).attach(jindo.$$.getSingle('a' ,tabSearchArea), 'click');\n",
       "\t\tjindo.$Fn(function(e) {toggleTabSearch(e); getStockRightMenuData('000000', 'mystock', 1, 'https://' + window.location.hostname, 'https://ssl.pstatic.net/static/nfinance'); }).attach(jindo.$$('a' ,tabSearchArea)[1], 'click');\n",
       "\t\tjindo.$Fn(function(e) {updatePageForPaging (currentType, 'up', 'https://' + window.location.hostname, 'https://ssl.pstatic.net/static/nfinance'); }).attach(jindo.$$.getSingle('a', moreInfoArea), 'click');\n",
       "\t\tjindo.$Fn(function(e) {updatePageForPaging (currentType, 'down', 'https://' + window.location.hostname, 'https://ssl.pstatic.net/static/nfinance'); }).attach(jindo.$$('a', moreInfoArea)[1], 'click');\n",
       "\t}\n",
       "\n",
       "}).attach(document,\"domready\");\n",
       "\n",
       "function openMyitemNew(stockHost) {\n",
       "\tvar selectedElement = jindo.$Element(jindo.$$.getSingle(\".tab_search\"));\n",
       "\tif (selectedElement != null) {\n",
       "\t\tif (selectedElement.hasClass(\"search1\")) {\n",
       "\t\t\tdocument.location.href = stockHost + '/mystock/recentSearchItemList.naver';\n",
       "\t\t} else {\n",
       "\t\t\tdocument.location.href = stockHost + '/mystock/itemList.naver';\n",
       "\t\t}\n",
       "\t}\n",
       "}\n",
       "\n",
       "</script>\n",
       "</div>\n",
       "<div id=\"footer\">\n",
       "<ul>\n",
       "<li class=\"first\">\n",
       "<a href=\"https://new-m.pay.naver.com/member/terms-policy/naver-financial-service\" onclick=\"clickcr(this, 'fot.service', '', '', event);\" target=\"_blank\">이용약관</a>\n",
       "</li>\n",
       "<li>\n",
       "<a href=\"https://new-m.pay.naver.com/member/terms-policy/privacy\" onclick=\"clickcr(this, 'fot.privacy', '', '', event);\" target=\"_blank\"><strong>개인정보처리방침</strong></a>\n",
       "</li>\n",
       "<li>\n",
       "<a href=\"/rules.naver\" onclick=\"clickcr(this, 'fot.policy', '', '', event);\" target=\"_blank\">게시판 운영원칙</a>\n",
       "</li>\n",
       "<li>\n",
       "<a href=\"https://help.naver.com/alias/contents2/finance/finance_1.naver\" onclick=\"clickcr(this, 'fot.help', '', '', event);\" target=\"_blank\">증권 고객센터</a>\n",
       "</li>\n",
       "</ul>\n",
       "<p class=\"desc\">\n",
       "\t\t네이버파이낸셜(주)이 제공하는 금융 정보는 <a class=\"desc_help\" href=\"javascript:;\" onclick=\"togglePanelFooter('footerPanel0');\">콘텐츠 제공업체</a>로부터 받는 투자 참고사항이며, 오류가 발생하거나 지연될 수 있습니다.<br/>\n",
       "\t\t네이버파이낸셜(주)과 콘텐츠 제공업체는 제공된 정보에 의한 투자 결과에 법적인 책임을 지지 않습니다. 게시된 정보는 무단으로 배포할 수 없습니다.\n",
       "\t</p>\n",
       "<div class=\"provider_layer\" id=\"footerPanel0\" onblur=\"hidePannel('footerPanel0')\" style=\"display:none\" tabindex=\"0\">\n",
       "<strong class=\"provider_layer__tit\">네이버파이낸셜에 콘텐츠 제공</strong>\n",
       "<div class=\"provider_layer__txt\">\n",
       "<strong>에프앤가이드</strong> 기업 및 재무정보<br/>\n",
       "<strong>KG제로인</strong> 해외 시세, 시장지표 정보<br/>\n",
       "<strong>한국예탁결제원</strong> 주주총회일, 전자투표 정보<br/>\n",
       "<strong>인포스탁</strong> 국내 테마 정보\n",
       "\t\t</div>\n",
       "<div class=\"provider_layer__info\">\n",
       "<strong class=\"provider_layer__tit\">네이버에 콘텐츠 제공</strong>\n",
       "<div class=\"provider_layer__txt\">\n",
       "<strong>코스콤</strong> 국내 시세 정보\n",
       "\t\t\t</div>\n",
       "</div>\n",
       "<button class=\"button_close\" onclick=\"hidePannel('footerPanel0')\" type=\"button\">\n",
       "<img alt=\"닫기\" height=\"20\" src=\"https://ssl.pstatic.net/static/nfinance/2022/footer_close.png\" width=\"20\"/>\n",
       "</button>\n",
       "</div>\n",
       "<address>\n",
       "<a class=\"logo\" href=\"https://www.naverfincorp.com/\" onclick=\"clickcr(this, 'fot.nhn', '', '', event);\" target=\"_blank\"><img alt=\"NAVER FINANCIAL\" height=\"12\" src=\"https://ssl.pstatic.net/static/nfinance/img/logo_financial.png\" width=\"160\"/></a>\n",
       "</address>\n",
       "</div>\n",
       "<script type=\"text/javascript\">\n",
       "function isVisible(obj) {\n",
       "    if (obj == document) return true\n",
       " \n",
       "    if (!obj) return false\n",
       "    if (!obj.parentNode) return false\n",
       "    if (obj.style) {\n",
       "        if (obj.style.display == 'none') return false\n",
       "        if (obj.style.visibility == 'hidden') return false\n",
       "    }\n",
       " \n",
       "    if (window.getComputedStyle) {\n",
       "        var style = window.getComputedStyle(obj, \"\")\n",
       "        if (style.display == 'none') return false\n",
       "        if (style.visibility == 'hidden') return false\n",
       "    }\n",
       " \n",
       "    var style = obj.currentStyle\n",
       "    if (style) {\n",
       "        if (style['display'] == 'none') return false\n",
       "        if (style['visibility'] == 'hidden') return false\n",
       "    }\n",
       " \n",
       "    return isVisible(obj.parentNode)\n",
       "}\n",
       "\n",
       "function isChildOf(myobj, containerObj) {\n",
       "\twhile(myobj != undefined) {\n",
       "\t\tif (myobj == document.body) {\n",
       "\t\t\tbreak;\n",
       "\t\t} \n",
       "\t\tif (myobj == containerObj) {\n",
       "\t\t\treturn true;\n",
       "\t\t}\n",
       "\t\tmyobj = myobj.parentElement;\n",
       "\t}\n",
       "\treturn false;\t\n",
       "}\n",
       "\n",
       "function gnbLayerClose(e){\n",
       "\tvar target = e.target ? e.target : e.srcElement;\n",
       "\tif (isVisible(document.getElementById('gnb_service_lyr')) || isVisible(document.getElementById('gnb_notice_lyr')) ||isVisible(document.getElementById('gnb_my_lyr')) ) {\n",
       "\t\tif (!isChildOf(target, document.getElementById('gnb'))) {\n",
       "\t\t\tgnbAllLayerClose();\n",
       "\t\t}\n",
       "\t}\t\n",
       "}\n",
       "\n",
       "function showPannel(layerId){\n",
       "\tvar layer = jindo.$(layerId);\n",
       "\tlayer.style.display='block';\n",
       "\n",
       "\tif (layerId == \"summary_lyr\") {\n",
       "\t\tvar layerHeight = jindo.$Element(layer).height();\n",
       "\t\tjindo.$Element(\"summary_ifr\").height(layerHeight);\n",
       "\t}\n",
       "}\n",
       "\n",
       "function hidePannel(layerId){\n",
       "\tvar layer = jindo.$(layerId);\n",
       "\tlayer.style.display='none';\n",
       "}\n",
       "\n",
       "function togglePanelFooter(layerId) {\n",
       "\tvar elTargetLayer = jindo.$Element(jindo.$$.getSingle(\"#\" + layerId));\n",
       "\n",
       "\tif (elTargetLayer != null) {\n",
       "\t\tif (elTargetLayer.visible()) {\n",
       "\t\t\thidePannel(layerId);\n",
       "\t\t} else {\n",
       "\t\t\tshowPannel(layerId);\n",
       "\t\t}\n",
       "\t}\n",
       "}\n",
       "\n",
       "var isIE = (navigator.userAgent.toLowerCase().indexOf(\"msie\")!=-1 && window.document.all) ? true:false;\n",
       "if (isIE) {\n",
       "\tdocument.attachEvent('onmousedown', gnbLayerClose);\n",
       "} else {\n",
       "\twindow.addEventListener('mousedown', gnbLayerClose);\n",
       "}\n",
       "\n",
       "// _replaceNewsLink class 하위의 a 태그 조회 후 redirect\n",
       "jindo.$Fn(function () {\n",
       "\tjindo.$$(\"._replaceNewsLink a\").forEach(function(ele){\n",
       "\t\tvar urls = ele.href.split(\"?\");\n",
       "\t\tif (urls[0].indexOf(\"/news_read.naver\") > 0 || urls[0].indexOf(\"/newsRead.naver\") > 0) {\n",
       "\t\t\tvar param = jindo.$S(urls[1]).parseString();\n",
       "\t\t\tvar oid = param.office_id ? param.office_id : param.officeId;\n",
       "\t\t\tvar aid = param.article_id ? param.article_id : param.articleId;\n",
       "\n",
       "\t\t\tele.target = \"_blank\";\n",
       "\t\t\tele.href = jindo.$S(\"https://n.news.naver.com/mnews/article/%s/%s\").format(oid, aid);\n",
       "\t\t}\n",
       "\t});\n",
       "}).attach(document, \"domready\");\n",
       "</script>\n",
       "\n"
      ]
     },
     "execution_count": 8,
     "metadata": {},
     "output_type": "execute_result"
    }
   ],
   "source": [
    "soup=BeautifulSoup(res,'html.parser')\n",
    "soup"
   ]
  },
  {
   "cell_type": "code",
   "execution_count": 38,
   "id": "fe68cd7c-0c66-4c62-b463-203012759aba",
   "metadata": {},
   "outputs": [
    {
     "data": {
      "text/plain": [
       "'1,329.50'"
      ]
     },
     "execution_count": 38,
     "metadata": {},
     "output_type": "execute_result"
    }
   ],
   "source": [
    "dol=soup.select(\"div.head_info.point_up > span.value\")[0].string #select로 하면 리스트 형식으로 나옴\n",
    "dol"
   ]
  },
  {
   "cell_type": "markdown",
   "id": "fb3f457f-35c5-41ce-b9dd-54d01a037ae1",
   "metadata": {},
   "source": [
    "html = \"\"\"\r",
    "<html><body>\r",
    "  <ul>\r",
    "    <li><a href=\"http://www.naver.com\">naver</a></li>\r",
    "    <li><a href=\"http://www.daum.net\">daum</a></li>\r",
    "  </ul>\r",
    "</body></html>\r",
    "\"\"\""
   ]
  },
  {
   "cell_type": "markdown",
   "id": "b4d66d33-0f81-49bf-a399-6758a2e7955c",
   "metadata": {},
   "source": [
    "from bs4 import BeautifulSoup\n"
   ]
  },
  {
   "cell_type": "code",
   "execution_count": 59,
   "id": "06fcfaf0-9b96-4549-a542-5bc756984459",
   "metadata": {},
   "outputs": [],
   "source": [
    "#-- 웹 서버 접속 > 페이지 소스 가져오기 > 뷰티풀숩 객체 생성 > 원하는 내용 추출 > 전처리(정규식) > 데이터 분석 > 시각화 > 모델링 >분류기,문장생성기(자연어처리)\n"
   ]
  },
  {
   "cell_type": "code",
   "execution_count": 63,
   "id": "cdac5fd6-29ca-44e5-9d9e-3770f96dfb93",
   "metadata": {},
   "outputs": [],
   "source": [
    "soup=BeautifulSoup(html, 'html.parser')\n",
    "\n",
    "    "
   ]
  },
  {
   "cell_type": "code",
   "execution_count": 64,
   "id": "6134bf2a-ac51-42c6-bcb2-9f02bec671d6",
   "metadata": {},
   "outputs": [],
   "source": [
    "html = \"\"\"\r",
    "<html><body>\r",
    "  <h1>스크레이핑이란?</h1>\r",
    "  <p>웹 페이지를 분석하는 것</p>\r",
    "  <p>원하는 부분을 추출하는 것</p>\r",
    "</body></html>\r",
    "\"\"\""
   ]
  },
  {
   "cell_type": "code",
   "execution_count": 65,
   "id": "e8f9fb93-9fc0-439f-912f-9d29127bff4a",
   "metadata": {},
   "outputs": [
    {
     "data": {
      "text/plain": [
       "[<h1>스크레이핑이란?</h1>]"
      ]
     },
     "execution_count": 65,
     "metadata": {},
     "output_type": "execute_result"
    }
   ],
   "source": [
    "soup=BeautifulSoup(html, 'html.parser')\n",
    "#html 변수에 담겨있는 문자열 타입에서 특정 태그,속성등에 해당하는것을 추출\n",
    "soup.find_all(\"h1\") #태그 추출 "
   ]
  },
  {
   "cell_type": "code",
   "execution_count": 66,
   "id": "cc9ee214-9b77-46cc-8fe3-529bd27fddef",
   "metadata": {},
   "outputs": [
    {
     "data": {
      "text/plain": [
       "<h1>스크레이핑이란?</h1>"
      ]
     },
     "execution_count": 66,
     "metadata": {},
     "output_type": "execute_result"
    }
   ],
   "source": [
    "soup.html.body # body 태그 추출\n",
    "soup.html.h1 #h1태그 추출\n"
   ]
  },
  {
   "cell_type": "code",
   "execution_count": 69,
   "id": "7edbdb23-17dd-40b2-a542-f65b50708c3b",
   "metadata": {},
   "outputs": [
    {
     "data": {
      "text/plain": [
       "<p>웹 페이지를 분석하는 것</p>"
      ]
     },
     "execution_count": 69,
     "metadata": {},
     "output_type": "execute_result"
    }
   ],
   "source": [
    "soup.p"
   ]
  },
  {
   "cell_type": "code",
   "execution_count": 68,
   "id": "8d5c1421-4838-4877-b93d-872aacd601b2",
   "metadata": {},
   "outputs": [
    {
     "data": {
      "text/plain": [
       "\n",
       "<html><body>\n",
       "<h1>스크레이핑이란?</h1>\n",
       "<p>웹 페이지를 분석하는 것</p>\n",
       "<p>원하는 부분을 추출하는 것</p>\n",
       "</body></html>"
      ]
     },
     "execution_count": 68,
     "metadata": {},
     "output_type": "execute_result"
    }
   ],
   "source": [
    "soup"
   ]
  },
  {
   "cell_type": "code",
   "execution_count": 73,
   "id": "795d3800-d467-4e30-9506-5c2f8eac4f56",
   "metadata": {},
   "outputs": [
    {
     "data": {
      "text/plain": [
       "'웹 페이지를 분석하는 것'"
      ]
     },
     "execution_count": 73,
     "metadata": {},
     "output_type": "execute_result"
    }
   ],
   "source": [
    "soup.html.body.p.string # 텍스트만 출력"
   ]
  },
  {
   "cell_type": "code",
   "execution_count": 74,
   "id": "0bb1ad3b-b653-4a77-baf2-5fda79afe1bc",
   "metadata": {},
   "outputs": [
    {
     "data": {
      "text/plain": [
       "<p>웹 페이지를 분석하는 것</p>"
      ]
     },
     "execution_count": 74,
     "metadata": {},
     "output_type": "execute_result"
    }
   ],
   "source": [
    "soup.html.body.p #(종속관계임. 여기서 p태그 쓰면 첫번째 p태그만 나옴 두번째 p태그가 나오려면 .next_sibling 사용)"
   ]
  },
  {
   "cell_type": "code",
   "execution_count": 75,
   "id": "add91003-6940-40f1-a7d4-a73098a31bfe",
   "metadata": {},
   "outputs": [
    {
     "data": {
      "text/plain": [
       "'\\n'"
      ]
     },
     "execution_count": 75,
     "metadata": {},
     "output_type": "execute_result"
    }
   ],
   "source": [
    "p1=soup.html.body.p\n",
    "p1.next_sibling #줄바꿈 문자도 하나의 sibling 로 치기때문에 줄바꿈 문자가 출력 다음 p태그는 다음 sibling에 속함"
   ]
  },
  {
   "cell_type": "code",
   "execution_count": 77,
   "id": "e1ec9516-3fa8-4939-ad05-1d06a8142cbf",
   "metadata": {},
   "outputs": [
    {
     "data": {
      "text/plain": [
       "'원하는 부분을 추출하는 것'"
      ]
     },
     "execution_count": 77,
     "metadata": {},
     "output_type": "execute_result"
    }
   ],
   "source": [
    "p1.next_sibling.next_sibling.string#이렇게하면 제대로 나옴"
   ]
  },
  {
   "cell_type": "code",
   "execution_count": 78,
   "id": "ddb02981-6b44-44ab-9a5a-efbb38e0056f",
   "metadata": {},
   "outputs": [],
   "source": [
    "html = \"\"\"\n",
    "<html><body>\n",
    "  <h1 id=\"title\">스크레이핑이란?</h1>\n",
    "  <p id=\"body\">웹 페이지를 분석하는 것</p>\n",
    "  <p>원하는 부분을 추출하는 것</p>\n",
    "</body></html>\n",
    "\"\"\"\n",
    "#아이디하고 클래스는 직접 부름 나머지는 속성이라고 얘기함 title에 대한 아이디로 묶여있는 내용을 추출"
   ]
  },
  {
   "cell_type": "code",
   "execution_count": 79,
   "id": "8c9d7c76-ca8c-49b7-9e7f-56bf0403af2f",
   "metadata": {},
   "outputs": [],
   "source": [
    "soup=BeautifulSoup(html,'html.parser')"
   ]
  },
  {
   "cell_type": "code",
   "execution_count": 80,
   "id": "5b32bb95-9960-432b-afdc-4d55a41356ab",
   "metadata": {},
   "outputs": [
    {
     "data": {
      "text/plain": [
       "<h1 id=\"title\">스크레이핑이란?</h1>"
      ]
     },
     "execution_count": 80,
     "metadata": {},
     "output_type": "execute_result"
    }
   ],
   "source": [
    "soup.html.body.h1"
   ]
  },
  {
   "cell_type": "code",
   "execution_count": 82,
   "id": "f3e6179d-0292-49d6-9098-dcb389a75e1a",
   "metadata": {},
   "outputs": [
    {
     "data": {
      "text/plain": [
       "<p>원하는 부분을 추출하는 것</p>"
      ]
     },
     "execution_count": 82,
     "metadata": {},
     "output_type": "execute_result"
    }
   ],
   "source": [
    "soup.html.body.p\n",
    "soup.html.body.p.next_sibling.next_sibling"
   ]
  },
  {
   "cell_type": "code",
   "execution_count": 84,
   "id": "084a822d-b431-494a-bebf-0feaee253abe",
   "metadata": {},
   "outputs": [
    {
     "data": {
      "text/plain": [
       "[<p id=\"body\">웹 페이지를 분석하는 것</p>, <p>원하는 부분을 추출하는 것</p>]"
      ]
     },
     "execution_count": 84,
     "metadata": {},
     "output_type": "execute_result"
    }
   ],
   "source": [
    "soup.find_all(\"p\") # p태그가 모두 추출되서 리스트에 담김"
   ]
  },
  {
   "cell_type": "code",
   "execution_count": 85,
   "id": "1da8eead-f0a9-44c5-82c8-6e59d6809e87",
   "metadata": {},
   "outputs": [
    {
     "data": {
      "text/plain": [
       "<h1 id=\"title\">스크레이핑이란?</h1>"
      ]
     },
     "execution_count": 85,
     "metadata": {},
     "output_type": "execute_result"
    }
   ],
   "source": [
    "soup.find(id=\"title\") #객체 숲에서 아이디가 타이틀인것을 찾아라"
   ]
  },
  {
   "cell_type": "code",
   "execution_count": 86,
   "id": "40ce8e81-48fa-47dd-b813-825418a9a368",
   "metadata": {},
   "outputs": [
    {
     "data": {
      "text/plain": [
       "<p id=\"body\">웹 페이지를 분석하는 것</p>"
      ]
     },
     "execution_count": 86,
     "metadata": {},
     "output_type": "execute_result"
    }
   ],
   "source": [
    "soup.find(id=\"body\")"
   ]
  },
  {
   "cell_type": "code",
   "execution_count": 87,
   "id": "8ab46f6d-8376-4f48-8f68-80eccb0d4d9e",
   "metadata": {},
   "outputs": [],
   "source": [
    "html = \"\"\"\n",
    "<html><body>\n",
    "<div id=\"meigen\">\n",
    "  <h1>위키북스 도서</h1>\n",
    "  <ul class=\"items\">\n",
    "    <li>유니티 게임 이펙트 입문</li>\n",
    "    <li>스위프트로 시작하는 아이폰 앱 개발 교과서</li>\n",
    "    <li>모던 웹사이트 디자인의 정석</li>\n",
    "  </ul>\n",
    "</div>\n",
    "</body></html>\n",
    "\"\"\"\n",
    "#"
   ]
  },
  {
   "cell_type": "code",
   "execution_count": 90,
   "id": "075c665f-2f37-42e7-91de-5546ecd69a6d",
   "metadata": {},
   "outputs": [],
   "source": [
    "soup=BeautifulSoup(html, 'html.parser')"
   ]
  },
  {
   "cell_type": "code",
   "execution_count": 94,
   "id": "4d3a97d9-6b32-4e04-a358-75ba3e88e599",
   "metadata": {},
   "outputs": [
    {
     "data": {
      "text/plain": [
       "<li>스위프트로 시작하는 아이폰 앱 개발 교과서</li>"
      ]
     },
     "execution_count": 94,
     "metadata": {},
     "output_type": "execute_result"
    }
   ],
   "source": [
    "soup.li.next_sibling.next_sibling"
   ]
  },
  {
   "cell_type": "code",
   "execution_count": 96,
   "id": "80c1ae59-6121-4911-87bd-f6ace9235b99",
   "metadata": {},
   "outputs": [
    {
     "data": {
      "text/plain": [
       "'위키북스 도서'"
      ]
     },
     "execution_count": 96,
     "metadata": {},
     "output_type": "execute_result"
    }
   ],
   "source": [
    "soup.h1.string"
   ]
  },
  {
   "cell_type": "code",
   "execution_count": 98,
   "id": "01c91d31-82cb-416f-8444-8bdf0540d700",
   "metadata": {},
   "outputs": [
    {
     "data": {
      "text/plain": [
       "<div id=\"meigen\">\n",
       "<h1>위키북스 도서</h1>\n",
       "<ul class=\"items\">\n",
       "<li>유니티 게임 이펙트 입문</li>\n",
       "<li>스위프트로 시작하는 아이폰 앱 개발 교과서</li>\n",
       "<li>모던 웹사이트 디자인의 정석</li>\n",
       "</ul>\n",
       "</div>"
      ]
     },
     "execution_count": 98,
     "metadata": {},
     "output_type": "execute_result"
    }
   ],
   "source": [
    "soup.find(id=\"meigen\") # meigen아이디 안에있는 모든 내용"
   ]
  },
  {
   "cell_type": "code",
   "execution_count": 105,
   "id": "fb1f3cbc-e739-43f9-97c9-1b8b2dcc048b",
   "metadata": {},
   "outputs": [
    {
     "data": {
      "text/plain": [
       "[<div id=\"meigen\">\n",
       " <h1>위키북스 도서</h1>\n",
       " <ul class=\"items\">\n",
       " <li>유니티 게임 이펙트 입문</li>\n",
       " <li>스위프트로 시작하는 아이폰 앱 개발 교과서</li>\n",
       " <li>모던 웹사이트 디자인의 정석</li>\n",
       " </ul>\n",
       " </div>]"
      ]
     },
     "execution_count": 105,
     "metadata": {},
     "output_type": "execute_result"
    }
   ],
   "source": [
    "soup.select(\"div\") #리스트 형식"
   ]
  },
  {
   "cell_type": "code",
   "execution_count": 103,
   "id": "3afacff6-c643-441a-9512-41774321a62f",
   "metadata": {},
   "outputs": [
    {
     "data": {
      "text/plain": [
       "<div id=\"meigen\">\n",
       "<h1>위키북스 도서</h1>\n",
       "<ul class=\"items\">\n",
       "<li>유니티 게임 이펙트 입문</li>\n",
       "<li>스위프트로 시작하는 아이폰 앱 개발 교과서</li>\n",
       "<li>모던 웹사이트 디자인의 정석</li>\n",
       "</ul>\n",
       "</div>"
      ]
     },
     "execution_count": 103,
     "metadata": {},
     "output_type": "execute_result"
    }
   ],
   "source": [
    "soup.select_one(\"div\")"
   ]
  },
  {
   "cell_type": "code",
   "execution_count": 104,
   "id": "7335ad2f-94c8-4912-aabf-ca553ffaaab6",
   "metadata": {},
   "outputs": [
    {
     "data": {
      "text/plain": [
       "bs4.element.Tag"
      ]
     },
     "execution_count": 104,
     "metadata": {},
     "output_type": "execute_result"
    }
   ],
   "source": [
    "soup.select_one(\"div\")"
   ]
  },
  {
   "cell_type": "code",
   "execution_count": 106,
   "id": "aa3b409f-8d5e-40fd-8381-98b25845f5fe",
   "metadata": {},
   "outputs": [
    {
     "data": {
      "text/plain": [
       "[<li>유니티 게임 이펙트 입문</li>,\n",
       " <li>스위프트로 시작하는 아이폰 앱 개발 교과서</li>,\n",
       " <li>모던 웹사이트 디자인의 정석</li>]"
      ]
     },
     "execution_count": 106,
     "metadata": {},
     "output_type": "execute_result"
    }
   ],
   "source": [
    "soup.select(\"li\") #리스트 형식으로 전체가 나옴"
   ]
  },
  {
   "cell_type": "code",
   "execution_count": 107,
   "id": "3b53ec07-b13d-41c4-b65f-9da44a8f46aa",
   "metadata": {},
   "outputs": [
    {
     "data": {
      "text/plain": [
       "<li>유니티 게임 이펙트 입문</li>"
      ]
     },
     "execution_count": 107,
     "metadata": {},
     "output_type": "execute_result"
    }
   ],
   "source": [
    "soup.select_one(\"li\") #문자열로 하나만 나옴"
   ]
  },
  {
   "cell_type": "code",
   "execution_count": 110,
   "id": "b0313a69-57ee-4f91-94fa-b0423a0be2f9",
   "metadata": {},
   "outputs": [
    {
     "data": {
      "text/plain": [
       "<h1>위키북스 도서</h1>"
      ]
     },
     "execution_count": 110,
     "metadata": {},
     "output_type": "execute_result"
    }
   ],
   "source": [
    "soup.select_one(\"html div h1\")"
   ]
  },
  {
   "cell_type": "code",
   "execution_count": 111,
   "id": "68c84711-968b-42a4-92a4-5dafe197cbb5",
   "metadata": {},
   "outputs": [
    {
     "data": {
      "text/plain": [
       "<div id=\"meigen\">\n",
       "<h1>위키북스 도서</h1>\n",
       "<ul class=\"items\">\n",
       "<li>유니티 게임 이펙트 입문</li>\n",
       "<li>스위프트로 시작하는 아이폰 앱 개발 교과서</li>\n",
       "<li>모던 웹사이트 디자인의 정석</li>\n",
       "</ul>\n",
       "</div>"
      ]
     },
     "execution_count": 111,
     "metadata": {},
     "output_type": "execute_result"
    }
   ],
   "source": [
    "soup.select_one(\"div#meigen\") # #이 아이디를 나타냄"
   ]
  },
  {
   "cell_type": "code",
   "execution_count": 119,
   "id": "0f1bb9db-1ebd-4fe2-9a78-7bbf606b678d",
   "metadata": {},
   "outputs": [
    {
     "data": {
      "text/plain": [
       "'위키북스 도서'"
      ]
     },
     "execution_count": 119,
     "metadata": {},
     "output_type": "execute_result"
    }
   ],
   "source": [
    "soup.select_one(\"div#meigen > h1\").string"
   ]
  },
  {
   "cell_type": "code",
   "execution_count": 130,
   "id": "0bb3bb66-5535-41e6-a98e-c4b039025275",
   "metadata": {},
   "outputs": [
    {
     "data": {
      "text/plain": [
       "'유니티 게임 이펙트 입문'"
      ]
     },
     "execution_count": 130,
     "metadata": {},
     "output_type": "execute_result"
    }
   ],
   "source": [
    "soup.find(\"li\").string"
   ]
  },
  {
   "cell_type": "code",
   "execution_count": 131,
   "id": "6a458409-25ca-4ba0-a274-a6998ea1c4a4",
   "metadata": {},
   "outputs": [
    {
     "ename": "AttributeError",
     "evalue": "'NoneType' object has no attribute 'string'",
     "output_type": "error",
     "traceback": [
      "\u001b[1;31m---------------------------------------------------------------------------\u001b[0m",
      "\u001b[1;31mAttributeError\u001b[0m                            Traceback (most recent call last)",
      "Cell \u001b[1;32mIn[131], line 1\u001b[0m\n\u001b[1;32m----> 1\u001b[0m soup\u001b[38;5;241m.\u001b[39mselect_one(\u001b[38;5;124m\"\u001b[39m\u001b[38;5;124mdiv#meigen > l1\u001b[39m\u001b[38;5;124m\"\u001b[39m)\u001b[38;5;241m.\u001b[39mstring\n",
      "\u001b[1;31mAttributeError\u001b[0m: 'NoneType' object has no attribute 'string'"
     ]
    }
   ],
   "source": [
    "soup.select_one(\"div#meigen > l1\").string #에러가 뜸 div밑에ul밑에 li 이기 때문에.  >는 바로 밑에 자식만 나옴 "
   ]
  },
  {
   "cell_type": "code",
   "execution_count": 136,
   "id": "1d88f86c-5b29-4f3d-8ad6-b846902883d1",
   "metadata": {},
   "outputs": [
    {
     "data": {
      "text/plain": [
       "'유니티 게임 이펙트 입문'"
      ]
     },
     "execution_count": 136,
     "metadata": {},
     "output_type": "execute_result"
    }
   ],
   "source": [
    "soup.select_one(\"html li\").string #에러가 안뜸 띄어쓰기는 자손 모두 포함"
   ]
  },
  {
   "cell_type": "code",
   "execution_count": 137,
   "id": "efd2670b-3987-4325-9828-35f739e2e5dc",
   "metadata": {},
   "outputs": [
    {
     "name": "stdout",
     "output_type": "stream",
     "text": [
      "<li>유니티 게임 이펙트 입문</li>\n",
      "<li>스위프트로 시작하는 아이폰 앱 개발 교과서</li>\n",
      "<li>모던 웹사이트 디자인의 정석</li>\n"
     ]
    }
   ],
   "source": [
    "for li in soup.select(\"div#meigen > ul.items > li\"):\n",
    "    print(li)"
   ]
  },
  {
   "cell_type": "code",
   "execution_count": 152,
   "id": "445b2048-80d7-45d7-bf74-572116a2029f",
   "metadata": {},
   "outputs": [],
   "source": [
    "f=open(\"fruits-vegetables.html\",encoding='utf-8')"
   ]
  },
  {
   "cell_type": "code",
   "execution_count": 153,
   "id": "7b40e99a-1d53-4062-9bb5-74f946a08661",
   "metadata": {},
   "outputs": [],
   "source": [
    "soup=BeautifulSoup(f, 'html.parser')"
   ]
  },
  {
   "cell_type": "code",
   "execution_count": 171,
   "id": "661a3bcb-56fa-4d4b-9ce6-b7b109f5c16b",
   "metadata": {},
   "outputs": [
    {
     "data": {
      "text/plain": [
       "<html>\n",
       "<body>\n",
       "<div id=\"main-goods\" role=\"page\">\n",
       "<h1>과일과 야채</h1>\n",
       "<ul id=\"fr-list\">\n",
       "<li class=\"red green\" data-lo=\"ko\">사과</li>\n",
       "<li class=\"purple\" data-lo=\"us\">포도</li>\n",
       "<li class=\"yellow\" data-lo=\"us\">레몬</li>\n",
       "<li class=\"yellow\" data-lo=\"ko\">오렌지</li>\n",
       "</ul>\n",
       "<ul id=\"ve-list\">\n",
       "<li class=\"white green\" data-lo=\"ko\">무</li>\n",
       "<li class=\"red green\" data-lo=\"us\">파프리카</li>\n",
       "<li class=\"black\" data-lo=\"ko\">가지</li>\n",
       "<li class=\"black\" data-lo=\"us\">아보카도</li>\n",
       "<li class=\"white\" data-lo=\"cn\">연근</li>\n",
       "</ul>\n",
       "</div>\n",
       "</body>\n",
       "</html>"
      ]
     },
     "execution_count": 171,
     "metadata": {},
     "output_type": "execute_result"
    }
   ],
   "source": [
    "soup.html"
   ]
  },
  {
   "cell_type": "code",
   "execution_count": 172,
   "id": "9c935378-1a1e-4d18-afff-d534d090701b",
   "metadata": {},
   "outputs": [
    {
     "data": {
      "text/plain": [
       "'사과'"
      ]
     },
     "execution_count": 172,
     "metadata": {},
     "output_type": "execute_result"
    }
   ],
   "source": [
    "soup.find(\"li\").string"
   ]
  },
  {
   "cell_type": "code",
   "execution_count": 174,
   "id": "f8bb3e6b-21bd-435a-b0ce-d70350b5e39c",
   "metadata": {},
   "outputs": [
    {
     "data": {
      "text/plain": [
       "[<li class=\"red green\" data-lo=\"ko\">사과</li>]"
      ]
     },
     "execution_count": 174,
     "metadata": {},
     "output_type": "execute_result"
    }
   ],
   "source": [
    "soup.select('div#main-goods ul#fr-list li.red')\n"
   ]
  },
  {
   "cell_type": "code",
   "execution_count": 175,
   "id": "b8099ddd-c504-4734-b4e4-b6aea926c86b",
   "metadata": {},
   "outputs": [
    {
     "data": {
      "text/plain": [
       "<li class=\"red green\" data-lo=\"ko\">사과</li>"
      ]
     },
     "execution_count": 175,
     "metadata": {},
     "output_type": "execute_result"
    }
   ],
   "source": [
    "soup.select_one(\"li\")"
   ]
  },
  {
   "cell_type": "code",
   "execution_count": 181,
   "id": "90ba257c-d3af-4474-a8aa-69fd84670d37",
   "metadata": {},
   "outputs": [
    {
     "data": {
      "text/plain": [
       "[<ul id=\"ve-list\">\n",
       " <li class=\"white green\" data-lo=\"ko\">무</li>\n",
       " <li class=\"red green\" data-lo=\"us\">파프리카</li>\n",
       " <li class=\"black\" data-lo=\"ko\">가지</li>\n",
       " <li class=\"black\" data-lo=\"us\">아보카도</li>\n",
       " <li class=\"white\" data-lo=\"cn\">연근</li>\n",
       " </ul>]"
      ]
     },
     "execution_count": 181,
     "metadata": {},
     "output_type": "execute_result"
    }
   ],
   "source": [
    "soup.select(\"#ve-list\")"
   ]
  },
  {
   "cell_type": "code",
   "execution_count": 187,
   "id": "5d05596d-594e-4d7b-ba10-43cc6a466014",
   "metadata": {},
   "outputs": [
    {
     "data": {
      "text/plain": [
       "'아보카도'"
      ]
     },
     "execution_count": 187,
     "metadata": {},
     "output_type": "execute_result"
    }
   ],
   "source": [
    "soup.select(\"#ve-list>li[data-lo='us']\")[1].string #li태그의 data-lo 속성값이 us다. 바깥쪽과 안쪽의 따옴표 다르게 [1]로 리스트에서 요소를 추출한 후 string\n",
    "# 리스트 상태로 string는 불가하기때문"
   ]
  },
  {
   "cell_type": "code",
   "execution_count": 189,
   "id": "32b85939-bd3b-4662-93ca-0f75def60a53",
   "metadata": {},
   "outputs": [
    {
     "data": {
      "text/plain": [
       "'아보카도'"
      ]
     },
     "execution_count": 189,
     "metadata": {},
     "output_type": "execute_result"
    }
   ],
   "source": [
    "soup.select(\"#ve-list >li.black\")[1].string #클래스를 지정할 때 기호는 .  id는 # 속성은[]"
   ]
  },
  {
   "cell_type": "code",
   "execution_count": 199,
   "id": "999bff21-6b13-4858-a443-f20e254ab420",
   "metadata": {},
   "outputs": [],
   "source": [
    "f=open(\"books.html\", encoding='utf-8')"
   ]
  },
  {
   "cell_type": "code",
   "execution_count": 200,
   "id": "83ed00dc-dd99-4474-a189-8cbd7bc313ad",
   "metadata": {},
   "outputs": [
    {
     "data": {
      "text/plain": [
       "<ul id=\"bible\">\n",
       "<li id=\"ge\">Genesis</li>\n",
       "<li id=\"ex\">Exodus</li>\n",
       "<li id=\"le\">Leviticus</li>\n",
       "<li id=\"nu\">Numbers</li>\n",
       "<li id=\"de\">Deuteronomy</li>\n",
       "</ul>"
      ]
     },
     "execution_count": 200,
     "metadata": {},
     "output_type": "execute_result"
    }
   ],
   "source": [
    "soup=BeautifulSoup(f,'html.parser')\n",
    "soup"
   ]
  },
  {
   "cell_type": "code",
   "execution_count": 207,
   "id": "d81bb4e3-e269-49a5-8771-faacdf06386c",
   "metadata": {},
   "outputs": [
    {
     "data": {
      "text/plain": [
       "'Numbers'"
      ]
     },
     "execution_count": 207,
     "metadata": {},
     "output_type": "execute_result"
    }
   ],
   "source": [
    "soup.select_one(\"#nu\")\n",
    "soup.select_one(\"li#nu\")\n",
    "soup.select_one(\"ul>li#nu\")\n",
    "soup.select_one(\"li[id='nu']\")\n",
    "soup.select(\"li\")[3].string\n",
    "soup.find_all(\"li\")[3].string      #모두 같은데이터를 추출"
   ]
  },
  {
   "cell_type": "code",
   "execution_count": 254,
   "id": "e442d661-623a-4a30-842b-54205c52e3e3",
   "metadata": {},
   "outputs": [],
   "source": [
    "res1=urllib.request.urlopen(\"https://ko.wikisource.org/wiki/%EC%A0%80%EC%9E%90:%EC%9C%A4%EB%8F%99%EC%A3%BC\") #페이지 소스를 요청해서 받아서 열어줌 윤동주 위키소스 인데 한글이기 때문에 한글 1글자에 3바이트 16진수 3개가 1바이트 이므로 변환되어있음"
   ]
  },
  {
   "cell_type": "code",
   "execution_count": 255,
   "id": "a7e91c96-29e2-4645-a45c-af5e15b97ecb",
   "metadata": {},
   "outputs": [
    {
     "data": {
      "text/plain": [
       "<http.client.HTTPResponse at 0x1a03445ba90>"
      ]
     },
     "execution_count": 255,
     "metadata": {},
     "output_type": "execute_result"
    }
   ],
   "source": [
    "res1"
   ]
  },
  {
   "cell_type": "code",
   "execution_count": 256,
   "id": "72b4dc94-e950-45d3-8c91-f243badea6a5",
   "metadata": {},
   "outputs": [
    {
     "data": {
      "text/plain": [
       "<!DOCTYPE html>\n",
       "\n",
       "<html class=\"client-nojs\" dir=\"ltr\" lang=\"ko\">\n",
       "<head>\n",
       "<meta charset=\"utf-8\"/>\n",
       "<title>저자:윤동주 - 위키문헌, 우리 모두의 도서관</title>\n",
       "<script>document.documentElement.className=\"client-js\";RLCONF={\"wgBreakFrames\":false,\"wgSeparatorTransformTable\":[\"\",\"\"],\"wgDigitTransformTable\":[\"\",\"\"],\"wgDefaultDateFormat\":\"ko\",\"wgMonthNames\":[\"\",\"1월\",\"2월\",\"3월\",\"4월\",\"5월\",\"6월\",\"7월\",\"8월\",\"9월\",\"10월\",\"11월\",\"12월\"],\"wgRequestId\":\"79f70281-8fd9-4d71-89da-27d3705614fb\",\"wgCanonicalNamespace\":\"저자\",\"wgCanonicalSpecialPageName\":false,\"wgNamespaceNumber\":100,\"wgPageName\":\"저자:윤동주\",\"wgTitle\":\"윤동주\",\"wgCurRevisionId\":312451,\"wgRevisionId\":312451,\"wgArticleId\":1681,\"wgIsArticle\":true,\"wgIsRedirect\":false,\"wgAction\":\"view\",\"wgUserName\":null,\"wgUserGroups\":[\"*\"],\"wgCategories\":[\"저자 ㅇ\",\"일제 강점기의 저자\",\"1917년 태어남\",\"1945년 죽음\",\"저자-PD-old-70\"],\"wgPageViewLanguage\":\"ko\",\"wgPageContentLanguage\":\"ko\",\"wgPageContentModel\":\"wikitext\",\"wgRelevantPageName\":\"저자:윤동주\",\"wgRelevantArticleId\":1681,\"wgIsProbablyEditable\":true,\"wgRelevantPageIsProbablyEditable\":true,\"wgRestrictionEdit\":[],\n",
       "\"wgRestrictionMove\":[],\"wgNoticeProject\":\"wikisource\",\"wgMediaViewerOnClick\":true,\"wgMediaViewerEnabledByDefault\":true,\"wgVisualEditor\":{\"pageLanguageCode\":\"ko\",\"pageLanguageDir\":\"ltr\",\"pageVariantFallbacks\":\"ko\"},\"wgMFDisplayWikibaseDescriptions\":{\"search\":true,\"watchlist\":true,\"tagline\":false,\"nearby\":true},\"wgWMESchemaEditAttemptStepOversample\":false,\"wgWMEPageLength\":4000,\"wgULSCurrentAutonym\":\"한국어\",\"prpProofreadPageBookNamespaces\":[0],\"wgCentralAuthMobileDomain\":false,\"wgEditSubmitButtonLabelPublish\":true,\"wgULSPosition\":\"interlanguage\",\"wgULSisCompactLinksEnabled\":false,\"wgVector2022LanguageInHeader\":false,\"wgULSisLanguageSelectorEmpty\":false,\"wgWikibaseItemId\":\"Q625089\",\"wgCheckUserClientHintsHeadersJsApi\":[\"architecture\",\"bitness\",\"brands\",\"fullVersionList\",\"mobile\",\"model\",\"platform\",\"platformVersion\"]};RLSTATE={\"ext.gadget.Site\":\"ready\",\"ext.globalCssJs.user.styles\":\"ready\",\"site.styles\":\"ready\",\"user.styles\":\"ready\",\"ext.globalCssJs.user\":\"ready\",\"user\":\"ready\",\n",
       "\"user.options\":\"loading\",\"skins.vector.styles.legacy\":\"ready\",\"ext.visualEditor.desktopArticleTarget.noscript\":\"ready\",\"codex-search-styles\":\"ready\",\"ext.uls.interlanguage\":\"ready\",\"wikibase.client.init\":\"ready\",\"ext.wikimediaBadges\":\"ready\"};RLPAGEMODULES=[\"mediawiki.page.media\",\"site\",\"mediawiki.page.ready\",\"skins.vector.legacy.js\",\"ext.centralNotice.geoIP\",\"ext.centralNotice.startUp\",\"ext.gadget.ReferenceTooltips\",\"ext.gadget.Easy_LST\",\"ext.gadget.dynamicNavBars\",\"ext.gadget.dynamicLayoutOverrides\",\"ext.urlShortener.toolbar\",\"ext.centralauth.centralautologin\",\"mmv.head\",\"mmv.bootstrap.autostart\",\"ext.visualEditor.desktopArticleTarget.init\",\"ext.visualEditor.targetLoader\",\"ext.echo.centralauth\",\"ext.eventLogging\",\"ext.wikimediaEvents\",\"ext.navigationTiming\",\"ext.uls.interface\",\"ext.checkUser.clientHints\"];</script>\n",
       "<script>(RLQ=window.RLQ||[]).push(function(){mw.loader.impl(function(){return[\"user.options@12s5i\",function($,jQuery,require,module){mw.user.tokens.set({\"patrolToken\":\"+\\\\\",\"watchToken\":\"+\\\\\",\"csrfToken\":\"+\\\\\"});\n",
       "}];});});</script>\n",
       "<link href=\"/w/load.php?lang=ko&amp;modules=codex-search-styles%7Cext.uls.interlanguage%7Cext.visualEditor.desktopArticleTarget.noscript%7Cext.wikimediaBadges%7Cskins.vector.styles.legacy%7Cwikibase.client.init&amp;only=styles&amp;skin=vector\" rel=\"stylesheet\"/>\n",
       "<script async=\"\" src=\"/w/load.php?lang=ko&amp;modules=startup&amp;only=scripts&amp;raw=1&amp;skin=vector\"></script>\n",
       "<meta content=\"\" name=\"ResourceLoaderDynamicStyles\"/>\n",
       "<link href=\"/w/load.php?lang=ko&amp;modules=ext.gadget.Site&amp;only=styles&amp;skin=vector\" rel=\"stylesheet\"/>\n",
       "<link href=\"/w/load.php?lang=ko&amp;modules=site.styles&amp;only=styles&amp;skin=vector\" rel=\"stylesheet\"/>\n",
       "<meta content=\"MediaWiki 1.42.0-wmf.22\" name=\"generator\"/>\n",
       "<meta content=\"origin\" name=\"referrer\"/>\n",
       "<meta content=\"origin-when-cross-origin\" name=\"referrer\"/>\n",
       "<meta content=\"max-image-preview:standard\" name=\"robots\"/>\n",
       "<meta content=\"telephone=no\" name=\"format-detection\"/>\n",
       "<meta content=\"width=1000\" name=\"viewport\"/>\n",
       "<meta content=\"저자:윤동주 - 위키문헌, 우리 모두의 도서관\" property=\"og:title\"/>\n",
       "<meta content=\"website\" property=\"og:type\"/>\n",
       "<link href=\"//upload.wikimedia.org\" rel=\"preconnect\"/>\n",
       "<link href=\"//ko.m.wikisource.org/wiki/%EC%A0%80%EC%9E%90:%EC%9C%A4%EB%8F%99%EC%A3%BC\" media=\"only screen and (max-width: 720px)\" rel=\"alternate\"/>\n",
       "<link href=\"/w/index.php?title=%EC%A0%80%EC%9E%90:%EC%9C%A4%EB%8F%99%EC%A3%BC&amp;action=edit\" rel=\"alternate\" title=\"편집\" type=\"application/x-wiki\"/>\n",
       "<link href=\"/static/favicon/wikisource.ico\" rel=\"icon\"/>\n",
       "<link href=\"/w/opensearch_desc.php\" rel=\"search\" title=\"위키문헌 (ko)\" type=\"application/opensearchdescription+xml\"/>\n",
       "<link href=\"//ko.wikisource.org/w/api.php?action=rsd\" rel=\"EditURI\" type=\"application/rsd+xml\"/>\n",
       "<link href=\"https://ko.wikisource.org/wiki/%EC%A0%80%EC%9E%90:%EC%9C%A4%EB%8F%99%EC%A3%BC\" rel=\"canonical\"/>\n",
       "<link href=\"https://creativecommons.org/licenses/by-sa/4.0/deed.ko\" rel=\"license\"/>\n",
       "<link href=\"/w/index.php?title=%ED%8A%B9%EC%88%98:%EC%B5%9C%EA%B7%BC%EB%B0%94%EB%80%9C&amp;feed=atom\" rel=\"alternate\" title=\"위키문헌 아톰 피드\" type=\"application/atom+xml\"/>\n",
       "<link href=\"//meta.wikimedia.org\" rel=\"dns-prefetch\">\n",
       "<link href=\"//login.wikimedia.org\" rel=\"dns-prefetch\"/>\n",
       "</link></head>\n",
       "<body class=\"skin-vector-legacy mediawiki ltr sitedir-ltr mw-hide-empty-elt ns-100 ns-subject mw-editable page-저자_윤동주 rootpage-저자_윤동주 skin-vector action-view\"><div class=\"noprint\" id=\"mw-page-base\"></div>\n",
       "<div class=\"noprint\" id=\"mw-head-base\"></div>\n",
       "<div class=\"mw-body\" id=\"content\" role=\"main\">\n",
       "<a id=\"top\"></a>\n",
       "<div id=\"siteNotice\"><!-- CentralNotice --></div>\n",
       "<div class=\"mw-indicators\">\n",
       "</div>\n",
       "<h1 class=\"firstHeading mw-first-heading\" id=\"firstHeading\"><span class=\"mw-page-title-namespace\">저자</span><span class=\"mw-page-title-separator\">:</span><span class=\"mw-page-title-main\">윤동주</span></h1>\n",
       "<div class=\"vector-body\" id=\"bodyContent\">\n",
       "<div class=\"noprint\" id=\"siteSub\">위키문헌 ― 우리 모두의 도서관.</div>\n",
       "<div id=\"contentSub\"><div id=\"mw-content-subtitle\"></div></div>\n",
       "<div id=\"contentSub2\"></div>\n",
       "<div id=\"jump-to-nav\"></div>\n",
       "<a class=\"mw-jump-link\" href=\"#mw-head\">둘러보기로 이동</a>\n",
       "<a class=\"mw-jump-link\" href=\"#searchInput\">검색으로 이동</a>\n",
       "<div class=\"mw-body-content\" id=\"mw-content-text\"><div class=\"mw-content-ltr mw-parser-output\" dir=\"ltr\" lang=\"ko\"><table style=\"width:100%; margin-bottom:5px; border:1px solid #BEA2A2; background:#E4D8D8;\">\n",
       "<tbody><tr>\n",
       "<td style=\"width:30%;\">←<a href=\"/wiki/%EB%B6%84%EB%A5%98:%EC%A0%80%EC%9E%90_%E3%85%87\" title=\"분류:저자 ㅇ\">분류:저자 ㅇ</a><br/>←<a href=\"/wiki/%EB%B6%84%EB%A5%98:%EC%9D%BC%EC%A0%9C_%EA%B0%95%EC%A0%90%EA%B8%B0%EC%9D%98_%EC%A0%80%EC%9E%90\" title=\"분류:일제 강점기의 저자\">분류:일제 강점기의 저자</a>\n",
       "</td>\n",
       "<td style=\"width:45%; text-align:center;\"><span style=\"font-size:115%;\"><b>윤동주</b></span><br/>尹東柱<br/>(1917년 ~ 1945년)\n",
       "</td>\n",
       "<td style=\"width:25%;\">\n",
       "</td></tr></tbody></table>\n",
       "<table style=\"width:100%; border-bottom:1px solid #A88; background:#FFFBFC;\">\n",
       "<tbody><tr>\n",
       "<td><span style=\"float:right; padding:2px; margin:0 0 0.5em 1em; border:1px solid #CCC;\">참고 <span typeof=\"mw:File\"><a class=\"mw-file-description\" href=\"/wiki/%ED%8C%8C%EC%9D%BC:Wikipedia-logo-v2.svg\" title=\"위키백과\"><img alt=\"위키백과\" class=\"mw-file-element\" data-file-height=\"94\" data-file-width=\"103\" decoding=\"async\" height=\"18\" src=\"//upload.wikimedia.org/wikipedia/commons/thumb/8/80/Wikipedia-logo-v2.svg/20px-Wikipedia-logo-v2.svg.png\" srcset=\"//upload.wikimedia.org/wikipedia/commons/thumb/8/80/Wikipedia-logo-v2.svg/30px-Wikipedia-logo-v2.svg.png 1.5x, //upload.wikimedia.org/wikipedia/commons/thumb/8/80/Wikipedia-logo-v2.svg/40px-Wikipedia-logo-v2.svg.png 2x\" width=\"20\"/></a></span> <a class=\"extiw\" href=\"https://ko.wikipedia.org/wiki/%EC%9C%A4%EB%8F%99%EC%A3%BC\" title=\"w:윤동주\">생애</a></span> 한국 일제 강점기의 시인이다. 본관은 파평(坡平), 아호는 해환(海煥)이다. 1941년 연희전문학교 문과를 졸업하였고, 작품집을 내려 했으나 뜻을 이루지 못하였다. 1942년 일본으로 유학을 떠났다가 1943년 사상범으로 체포되어, 1945년 후쿠오카 형무소에서 옥사하였다. 1948년 유고 시집 《하늘과 바람과 별과 시》가 출판되었다. — 우리 모두의 백과사전, <a class=\"extiw\" href=\"https://ko.wikipedia.org/wiki/%EC%9C%84%ED%82%A4%EB%B0%B1%EA%B3%BC:%EB%8C%80%EB%AC%B8\" title=\"w:위키백과:대문\">위키백과</a>의 <a class=\"extiw\" href=\"https://ko.wikipedia.org/wiki/%EC%9C%A4%EB%8F%99%EC%A3%BC\" title=\"w:윤동주\">윤동주</a>에서 인용.\n",
       "</td></tr></tbody></table><figure typeof=\"mw:File/Thumb\"><a class=\"mw-file-description\" href=\"/wiki/%ED%8C%8C%EC%9D%BC:Yun_Dong-joo_01.jpg\"><img class=\"mw-file-element\" data-file-height=\"559\" data-file-width=\"364\" decoding=\"async\" height=\"461\" src=\"//upload.wikimedia.org/wikipedia/commons/thumb/e/e0/Yun_Dong-joo_01.jpg/300px-Yun_Dong-joo_01.jpg\" srcset=\"//upload.wikimedia.org/wikipedia/commons/e/e0/Yun_Dong-joo_01.jpg 1.5x\" width=\"300\"/></a><figcaption><div style=\"display:table; margin-right:auto; margin-left:auto; width:auto; text-align:left;\"> 윤동주 </div></figcaption></figure>\n",
       "<h2><span id=\".EC.A0.80.EC.9E.91\"></span><span class=\"mw-headline\" id=\"저작\">저작</span><span class=\"mw-editsection\"><span class=\"mw-editsection-bracket\">[</span><a href=\"/w/index.php?title=%EC%A0%80%EC%9E%90:%EC%9C%A4%EB%8F%99%EC%A3%BC&amp;action=edit&amp;section=1\" title=\"부분 편집: 저작\"><span>편집</span></a><span class=\"mw-editsection-bracket\">]</span></span></h2>\n",
       "<h3><span id=\".EC.8B.9C\"></span><span class=\"mw-headline\" id=\"시\">시</span><span class=\"mw-editsection\"><span class=\"mw-editsection-bracket\">[</span><a href=\"/w/index.php?title=%EC%A0%80%EC%9E%90:%EC%9C%A4%EB%8F%99%EC%A3%BC&amp;action=edit&amp;section=2\" title=\"부분 편집: 시\"><span>편집</span></a><span class=\"mw-editsection-bracket\">]</span></span></h3>\n",
       "<ul><li><b><a href=\"/wiki/%ED%95%98%EB%8A%98%EA%B3%BC_%EB%B0%94%EB%9E%8C%EA%B3%BC_%EB%B3%84%EA%B3%BC_%EC%8B%9C\" title=\"하늘과 바람과 별과 시\">하늘과 바람과 별과 시</a></b> (<a href=\"/wiki/%ED%95%98%EB%8A%98%EA%B3%BC_%EB%B0%94%EB%9E%8C%EA%B3%BC_%EB%B3%84%EA%B3%BC_%EC%8B%9C_(1955%EB%85%84)\" title=\"하늘과 바람과 별과 시 (1955년)\">증보판</a>)\n",
       "<ul><li><a href=\"/wiki/%ED%95%98%EB%8A%98%EA%B3%BC_%EB%B0%94%EB%9E%8C%EA%B3%BC_%EB%B3%84%EA%B3%BC_%EC%8B%9C/%EC%84%9C%EC%8B%9C\" title=\"하늘과 바람과 별과 시/서시\">서시</a></li>\n",
       "<li><a href=\"/wiki/%ED%95%98%EB%8A%98%EA%B3%BC_%EB%B0%94%EB%9E%8C%EA%B3%BC_%EB%B3%84%EA%B3%BC_%EC%8B%9C/%EC%9E%90%ED%99%94%EC%83%81\" title=\"하늘과 바람과 별과 시/자화상\">자화상</a></li>\n",
       "<li><a href=\"/wiki/%ED%95%98%EB%8A%98%EA%B3%BC_%EB%B0%94%EB%9E%8C%EA%B3%BC_%EB%B3%84%EA%B3%BC_%EC%8B%9C/%EC%86%8C%EB%85%84\" title=\"하늘과 바람과 별과 시/소년\">소년</a></li>\n",
       "<li><a href=\"/wiki/%ED%95%98%EB%8A%98%EA%B3%BC_%EB%B0%94%EB%9E%8C%EA%B3%BC_%EB%B3%84%EA%B3%BC_%EC%8B%9C/%EB%88%88_%EC%98%A4%EB%8A%94_%EC%A7%80%EB%8F%84\" title=\"하늘과 바람과 별과 시/눈 오는 지도\">눈 오는 지도</a></li>\n",
       "<li><a href=\"/wiki/%ED%95%98%EB%8A%98%EA%B3%BC_%EB%B0%94%EB%9E%8C%EA%B3%BC_%EB%B3%84%EA%B3%BC_%EC%8B%9C/%EB%8F%8C%EC%95%84%EC%99%80_%EB%B3%B4%EB%8A%94_%EB%B0%A4\" title=\"하늘과 바람과 별과 시/돌아와 보는 밤\">돌아와 보는 밤</a></li>\n",
       "<li><a href=\"/wiki/%ED%95%98%EB%8A%98%EA%B3%BC_%EB%B0%94%EB%9E%8C%EA%B3%BC_%EB%B3%84%EA%B3%BC_%EC%8B%9C/%EB%B3%91%EC%9B%90\" title=\"하늘과 바람과 별과 시/병원\">병원</a></li>\n",
       "<li><a href=\"/wiki/%ED%95%98%EB%8A%98%EA%B3%BC_%EB%B0%94%EB%9E%8C%EA%B3%BC_%EB%B3%84%EA%B3%BC_%EC%8B%9C/%EC%83%88%EB%A1%9C%EC%9A%B4_%EA%B8%B8\" title=\"하늘과 바람과 별과 시/새로운 길\">새로운 길</a></li>\n",
       "<li><a href=\"/wiki/%ED%95%98%EB%8A%98%EA%B3%BC_%EB%B0%94%EB%9E%8C%EA%B3%BC_%EB%B3%84%EA%B3%BC_%EC%8B%9C/%EA%B0%84%ED%8C%90_%EC%97%86%EB%8A%94_%EA%B1%B0%EB%A6%AC\" title=\"하늘과 바람과 별과 시/간판 없는 거리\">간판 없는 거리</a></li>\n",
       "<li><a href=\"/wiki/%ED%95%98%EB%8A%98%EA%B3%BC_%EB%B0%94%EB%9E%8C%EA%B3%BC_%EB%B3%84%EA%B3%BC_%EC%8B%9C/%ED%83%9C%EC%B4%88%EC%9D%98_%EC%95%84%EC%B9%A8\" title=\"하늘과 바람과 별과 시/태초의 아침\">태초의 아침</a></li>\n",
       "<li><a href=\"/wiki/%ED%95%98%EB%8A%98%EA%B3%BC_%EB%B0%94%EB%9E%8C%EA%B3%BC_%EB%B3%84%EA%B3%BC_%EC%8B%9C/%EB%98%90_%ED%83%9C%EC%B4%88%EC%9D%98_%EC%95%84%EC%B9%A8\" title=\"하늘과 바람과 별과 시/또 태초의 아침\">또 태초의 아침</a></li>\n",
       "<li><a href=\"/wiki/%ED%95%98%EB%8A%98%EA%B3%BC_%EB%B0%94%EB%9E%8C%EA%B3%BC_%EB%B3%84%EA%B3%BC_%EC%8B%9C/%EC%83%88%EB%B2%BD%EC%9D%B4_%EC%98%AC_%EB%95%8C%EA%B9%8C%EC%A7%80\" title=\"하늘과 바람과 별과 시/새벽이 올 때까지\">새벽이 올 때까지</a></li>\n",
       "<li><a href=\"/wiki/%ED%95%98%EB%8A%98%EA%B3%BC_%EB%B0%94%EB%9E%8C%EA%B3%BC_%EB%B3%84%EA%B3%BC_%EC%8B%9C/%EB%AC%B4%EC%84%9C%EC%9A%B4_%EC%8B%9C%EA%B0%84\" title=\"하늘과 바람과 별과 시/무서운 시간\">무서운 시간</a></li>\n",
       "<li><a href=\"/wiki/%ED%95%98%EB%8A%98%EA%B3%BC_%EB%B0%94%EB%9E%8C%EA%B3%BC_%EB%B3%84%EA%B3%BC_%EC%8B%9C/%EC%8B%AD%EC%9E%90%EA%B0%80\" title=\"하늘과 바람과 별과 시/십자가\">십자가</a></li>\n",
       "<li><a href=\"/wiki/%ED%95%98%EB%8A%98%EA%B3%BC_%EB%B0%94%EB%9E%8C%EA%B3%BC_%EB%B3%84%EA%B3%BC_%EC%8B%9C/%EB%B0%94%EB%9E%8C%EC%9D%B4_%EB%B6%88%EC%96%B4\" title=\"하늘과 바람과 별과 시/바람이 불어\">바람이 불어</a></li>\n",
       "<li><a href=\"/wiki/%ED%95%98%EB%8A%98%EA%B3%BC_%EB%B0%94%EB%9E%8C%EA%B3%BC_%EB%B3%84%EA%B3%BC_%EC%8B%9C/%EC%8A%AC%ED%94%88_%EC%A1%B1%EC%86%8D\" title=\"하늘과 바람과 별과 시/슬픈 족속\">슬픈 족속</a></li>\n",
       "<li><a href=\"/wiki/%ED%95%98%EB%8A%98%EA%B3%BC_%EB%B0%94%EB%9E%8C%EA%B3%BC_%EB%B3%84%EA%B3%BC_%EC%8B%9C/%EB%88%88%EA%B0%90%EA%B3%A0_%EA%B0%84%EB%8B%A4\" title=\"하늘과 바람과 별과 시/눈감고 간다\">눈감고 간다</a></li>\n",
       "<li><a href=\"/wiki/%ED%95%98%EB%8A%98%EA%B3%BC_%EB%B0%94%EB%9E%8C%EA%B3%BC_%EB%B3%84%EA%B3%BC_%EC%8B%9C/%EB%98%90_%EB%8B%A4%EB%A5%B8_%EA%B3%A0%ED%96%A5\" title=\"하늘과 바람과 별과 시/또 다른 고향\">또 다른 고향</a></li>\n",
       "<li><a href=\"/wiki/%ED%95%98%EB%8A%98%EA%B3%BC_%EB%B0%94%EB%9E%8C%EA%B3%BC_%EB%B3%84%EA%B3%BC_%EC%8B%9C/%EA%B8%B8\" title=\"하늘과 바람과 별과 시/길\">길</a></li>\n",
       "<li><a href=\"/wiki/%ED%95%98%EB%8A%98%EA%B3%BC_%EB%B0%94%EB%9E%8C%EA%B3%BC_%EB%B3%84%EA%B3%BC_%EC%8B%9C/%EB%B3%84_%ED%97%A4%EB%8A%94_%EB%B0%A4\" title=\"하늘과 바람과 별과 시/별 헤는 밤\">별 헤는 밤</a></li></ul></li></ul>\n",
       "<ul><li><a class=\"mw-redirect\" href=\"/wiki/%ED%9D%B0_%EA%B7%B8%EB%A6%BC%EC%9E%90\" title=\"흰 그림자\">흰 그림자</a></li>\n",
       "<li><a href=\"/wiki/%EC%82%AC%EB%9E%91%EC%8A%A4%EB%9F%B0_%EC%B6%94%EC%96%B5\" title=\"사랑스런 추억\">사랑스런 추억</a></li>\n",
       "<li><a class=\"mw-redirect\" href=\"/wiki/%ED%9D%90%EB%A5%B4%EB%8A%94_%EA%B1%B0%EB%A6%AC\" title=\"흐르는 거리\">흐르는 거리</a></li>\n",
       "<li><b><a href=\"/wiki/%EC%89%BD%EA%B2%8C_%EC%94%8C%EC%96%B4%EC%A7%84_%EC%8B%9C\" title=\"쉽게 씌어진 시\">쉽게 씌어진 시</a></b></li>\n",
       "<li><a class=\"mw-redirect\" href=\"/wiki/%EB%B4%84_(%EC%9C%A4%EB%8F%99%EC%A3%BC)\" title=\"봄 (윤동주)\">봄</a></li></ul>\n",
       "<ul><li><a href=\"/wiki/%EC%B0%B8%ED%9A%8C%EB%A1%9D\" title=\"참회록\">참회록</a></li>\n",
       "<li><a href=\"/wiki/%EA%B0%84\" title=\"간\">간(肝)</a></li>\n",
       "<li><a class=\"mw-redirect\" href=\"/wiki/%EC%9C%84%EB%A1%9C\" title=\"위로\">위로</a></li>\n",
       "<li><a class=\"mw-redirect\" href=\"/wiki/%ED%8C%94%EB%B3%B5\" title=\"팔복\">팔복</a></li>\n",
       "<li><a class=\"mw-redirect\" href=\"/wiki/%EB%AA%BB%EC%9E%90%EB%8A%94%EB%B0%A4\" title=\"못자는밤\">못자는밤</a></li>\n",
       "<li><a class=\"mw-redirect\" href=\"/wiki/%EB%8B%AC%EA%B0%99%EC%9D%B4\" title=\"달같이\">달같이</a></li>\n",
       "<li><a class=\"mw-redirect\" href=\"/wiki/%EA%B3%A0%EC%B6%94%EB%B0%AD\" title=\"고추밭\">고추밭</a></li>\n",
       "<li><a class=\"mw-redirect\" href=\"/wiki/%EC%95%84%EC%9A%B0%EC%9D%98_%EC%9D%B8%EC%83%81%ED%99%94\" title=\"아우의 인상화\">아우의 인상화</a></li>\n",
       "<li><a class=\"mw-redirect\" href=\"/wiki/%EC%82%AC%EB%9E%91%EC%9D%98_%EC%A0%84%EB%8B%B9\" title=\"사랑의 전당\">사랑의 전당</a></li>\n",
       "<li><a class=\"mw-redirect\" href=\"/wiki/%EC%9D%B4%EC%A0%81_(%EC%9C%A4%EB%8F%99%EC%A3%BC)\" title=\"이적 (윤동주)\">이적</a></li>\n",
       "<li><a class=\"mw-redirect\" href=\"/wiki/%EB%B9%84%EC%98%A4%EB%8A%94_%EB%B0%A4\" title=\"비오는 밤\">비오는 밤</a></li>\n",
       "<li><a class=\"mw-redirect\" href=\"/wiki/%EC%82%B0%EA%B3%A8%EB%AC%BC\" title=\"산골물\">산골물</a></li>\n",
       "<li><a class=\"mw-redirect\" href=\"/wiki/%EC%9C%A0%EC%96%B8_(%EC%9C%A4%EB%8F%99%EC%A3%BC)\" title=\"유언 (윤동주)\">유언</a></li>\n",
       "<li><a class=\"mw-redirect\" href=\"/wiki/%EC%B0%BD_(%EC%9C%A4%EB%8F%99%EC%A3%BC)\" title=\"창 (윤동주)\">창</a></li>\n",
       "<li><a class=\"mw-redirect\" href=\"/wiki/%EB%B0%94%EB%8B%A4_(%EC%9C%A4%EB%8F%99%EC%A3%BC)\" title=\"바다 (윤동주)\">바다</a></li>\n",
       "<li><a class=\"mw-redirect\" href=\"/wiki/%EB%B9%84%EB%A1%9C%EB%B4%89_(%EC%9C%A4%EB%8F%99%EC%A3%BC)\" title=\"비로봉 (윤동주)\">비로봉</a></li>\n",
       "<li><a class=\"mw-redirect\" href=\"/wiki/%EC%82%B0%ED%98%91%EC%9D%98_%EC%98%A4%ED%9B%84\" title=\"산협의 오후\">산협의 오후</a></li>\n",
       "<li><a class=\"mw-redirect\" href=\"/wiki/%EB%AA%85%EC%83%81_(%EC%9C%A4%EB%8F%99%EC%A3%BC)\" title=\"명상 (윤동주)\">명상</a></li>\n",
       "<li><a class=\"mw-redirect\" href=\"/wiki/%EC%86%8C%EB%82%99%EB%B9%84_(%EC%9C%A4%EB%8F%99%EC%A3%BC)\" title=\"소낙비 (윤동주)\">소낙비</a></li>\n",
       "<li><a class=\"mw-redirect\" href=\"/wiki/%ED%95%9C%EB%82%9C%EA%B3%84\" title=\"한난계\">한난계</a></li>\n",
       "<li><a class=\"mw-redirect\" href=\"/wiki/%ED%92%8D%EA%B2%BD\" title=\"풍경\">풍경</a></li>\n",
       "<li><a class=\"mw-redirect\" href=\"/wiki/%EB%8B%AC%EB%B0%A4_(%EC%9C%A4%EB%8F%99%EC%A3%BC)\" title=\"달밤 (윤동주)\">달밤</a></li>\n",
       "<li><a class=\"mw-redirect\" href=\"/wiki/%EC%9E%A5_(%EC%9C%A4%EB%8F%99%EC%A3%BC)\" title=\"장 (윤동주)\">장</a></li>\n",
       "<li><a class=\"mw-redirect\" href=\"/wiki/%EB%B0%A4_(%EC%9C%A4%EB%8F%99%EC%A3%BC)\" title=\"밤 (윤동주)\">밤</a></li>\n",
       "<li><a class=\"mw-redirect\" href=\"/wiki/%ED%99%A9%ED%98%BC%EC%9D%B4_%EB%B0%94%EB%8B%A4%EA%B0%80_%EB%90%98%EC%96%B4\" title=\"황혼이 바다가 되어\">황혼이 바다가 되어</a></li>\n",
       "<li><a class=\"mw-redirect\" href=\"/wiki/%EC%95%84%EC%B9%A8_(%EC%9C%A4%EB%8F%99%EC%A3%BC)\" title=\"아침 (윤동주)\">아침</a></li>\n",
       "<li><a class=\"mw-redirect\" href=\"/wiki/%EB%B9%A8%EB%9E%98\" title=\"빨래\">빨래</a></li>\n",
       "<li><a class=\"mw-redirect\" href=\"/wiki/%EA%BF%88%EC%9D%80_%EA%B9%A8%EC%96%B4%EC%A7%80%EA%B3%A0\" title=\"꿈은 깨어지고\">꿈은 깨어지고</a></li>\n",
       "<li><a class=\"mw-redirect\" href=\"/wiki/%EC%82%B0%EB%A6%BC_(%EC%9C%A4%EB%8F%99%EC%A3%BC)\" title=\"산림 (윤동주)\">산림</a></li>\n",
       "<li><a class=\"mw-redirect\" href=\"/wiki/%EC%9D%B4%EB%9F%B0%EB%82%A0\" title=\"이런날\">이런날</a></li>\n",
       "<li><a class=\"mw-redirect\" href=\"/wiki/%EC%82%B0%EC%83%81\" title=\"산상\">산상</a></li>\n",
       "<li><a class=\"mw-redirect\" href=\"/wiki/%EC%96%91%EC%A7%80%EC%AA%BD\" title=\"양지쪽\">양지쪽</a></li>\n",
       "<li><a class=\"mw-redirect\" href=\"/wiki/%EB%8B%AD_(%EC%9C%A4%EB%8F%99%EC%A3%BC)\" title=\"닭 (윤동주)\">닭</a></li>\n",
       "<li><a class=\"mw-redirect\" href=\"/wiki/%EA%B0%80%EC%8A%B4_1\" title=\"가슴 1\">가슴 1</a></li>\n",
       "<li><a class=\"mw-redirect\" href=\"/wiki/%EA%B0%80%EC%8A%B4_2\" title=\"가슴 2\">가슴 2</a></li>\n",
       "<li><a class=\"mw-redirect\" href=\"/wiki/%EB%B9%84%EB%91%98%EA%B8%B0_(%EC%9C%A4%EB%8F%99%EC%A3%BC)\" title=\"비둘기 (윤동주)\">비둘기</a></li>\n",
       "<li><a class=\"mw-redirect\" href=\"/wiki/%ED%99%A9%ED%98%BC_(%EC%9C%A4%EB%8F%99%EC%A3%BC)\" title=\"황혼 (윤동주)\">황혼</a></li>\n",
       "<li><a class=\"mw-redirect\" href=\"/wiki/%EB%82%A8%EC%AA%BD_%ED%95%98%EB%8A%98\" title=\"남쪽 하늘\">남쪽 하늘</a></li>\n",
       "<li><a class=\"mw-redirect\" href=\"/wiki/%EC%B0%BD%EA%B3%B5\" title=\"창공\">창공</a></li>\n",
       "<li><a class=\"mw-redirect\" href=\"/wiki/%EA%B1%B0%EB%A6%AC%EC%97%90%EC%84%9C\" title=\"거리에서\">거리에서</a></li>\n",
       "<li><a href=\"/wiki/%EC%82%B6%EA%B3%BC_%EC%A3%BD%EC%9D%8C\" title=\"삶과 죽음\">삶과 죽음</a></li>\n",
       "<li><a class=\"mw-redirect\" href=\"/wiki/%EC%B4%88%ED%95%9C%EB%8C%80\" title=\"초한대\">초한대</a></li></ul>\n",
       "<ul><li><a class=\"mw-redirect\" href=\"/wiki/%EC%82%B0%EC%9A%B8%EB%A6%BC\" title=\"산울림\">산울림</a></li>\n",
       "<li><a class=\"mw-redirect\" href=\"/wiki/%ED%95%B4%EB%B0%94%EB%9D%BC%EA%B8%B0_%EC%96%BC%EA%B5%B4\" title=\"해바라기 얼굴\">해바라기 얼굴</a></li>\n",
       "<li><a class=\"mw-redirect\" href=\"/wiki/%EA%B7%80%EB%9A%9C%EB%9D%BC%EB%AF%B8%EC%99%80_%EB%82%98%EC%99%80\" title=\"귀뚜라미와 나와\">귀뚜라미와 나와</a></li>\n",
       "<li><a class=\"mw-redirect\" href=\"/wiki/%EC%95%A0%EA%B8%B0%EC%9D%98_%EC%83%88%EB%B2%BD\" title=\"애기의 새벽\">애기의 새벽</a></li>\n",
       "<li><a class=\"mw-redirect\" href=\"/wiki/%ED%96%87%EB%B9%9B%C2%B7%EB%B0%94%EB%9E%8C\" title=\"햇빛·바람\">햇빛·바람</a></li>\n",
       "<li><a class=\"mw-redirect\" href=\"/wiki/%EB%B0%98%EB%94%94%EB%B6%88\" title=\"반디불\">반디불</a></li>\n",
       "<li><a class=\"mw-redirect\" href=\"/wiki/%EB%91%98_%EB%8B%A4\" title=\"둘 다\">둘 다</a></li>\n",
       "<li><a class=\"mw-redirect\" href=\"/wiki/%EA%B1%B0%EC%A7%93%EB%B6%80%EB%A6%AC\" title=\"거짓부리\">거짓부리</a></li>\n",
       "<li><a class=\"mw-redirect\" href=\"/wiki/%EB%88%88_(%EC%9C%A4%EB%8F%99%EC%A3%BC)\" title=\"눈 (윤동주)\">눈</a></li>\n",
       "<li><a class=\"mw-redirect\" href=\"/wiki/%EC%B0%B8%EC%83%88_(%EC%9C%A4%EB%8F%99%EC%A3%BC)\" title=\"참새 (윤동주)\">참새</a></li>\n",
       "<li><a class=\"mw-redirect\" href=\"/wiki/%EB%B2%84%EC%84%A0%EB%B3%B8\" title=\"버선본\">버선본</a></li>\n",
       "<li><a class=\"mw-redirect\" href=\"/wiki/%ED%8E%B8%EC%A7%80_(%EC%9C%A4%EB%8F%99%EC%A3%BC)\" title=\"편지 (윤동주)\">편지</a></li>\n",
       "<li><a class=\"mw-redirect\" href=\"/wiki/%EB%B4%84_2_(%EC%9C%A4%EB%8F%99%EC%A3%BC)\" title=\"봄 2 (윤동주)\">봄</a></li>\n",
       "<li><a class=\"mw-redirect\" href=\"/wiki/%EB%AC%B4%EC%96%BC_%EB%A8%B9%EA%B5%AC_%EC%82%AC%EB%82%98\" title=\"무얼 먹구 사나\">무얼 먹구 사나</a></li>\n",
       "<li><a href=\"/wiki/%ED%95%98%EB%8A%98%EA%B3%BC_%EB%B0%94%EB%9E%8C%EA%B3%BC_%EB%B3%84%EA%B3%BC_%EC%8B%9C_(1955%EB%85%84)/%EA%B5%B4%EB%9A%9D\" title=\"하늘과 바람과 별과 시 (1955년)/굴뚝\">굴뚝</a></li>\n",
       "<li><a class=\"mw-redirect\" href=\"/wiki/%ED%96%87%EB%B9%84\" title=\"햇비\">햇비</a></li>\n",
       "<li><a class=\"mw-redirect\" href=\"/wiki/%EB%B9%97%EC%9E%90%EB%A3%A8\" title=\"빗자루\">빗자루</a></li>\n",
       "<li><a class=\"mw-redirect\" href=\"/wiki/%EA%B8%B0%EC%99%93%EC%9E%A5_%EB%82%B4%EC%99%B8\" title=\"기왓장 내외\">기왓장 내외</a></li>\n",
       "<li><a class=\"mw-redirect\" href=\"/wiki/%EC%98%A4%EC%A4%8C%EC%8B%B8%EA%B0%9C_%EC%A7%80%EB%8F%84\" title=\"오줌싸개 지도\">오줌싸개 지도</a></li>\n",
       "<li><a class=\"mw-redirect\" href=\"/wiki/%EB%B3%91%EC%95%84%EB%A6%AC\" title=\"병아리\">병아리</a></li>\n",
       "<li><a class=\"mw-redirect\" href=\"/wiki/%EC%A1%B0%EA%B0%9C%EA%BB%8D%EC%A7%88\" title=\"조개껍질\">조개껍질</a></li>\n",
       "<li><a class=\"mw-redirect\" href=\"/wiki/%EA%B2%A8%EC%9A%B8_(%EC%9C%A4%EB%8F%99%EC%A3%BC)\" title=\"겨울 (윤동주)\">겨울</a></li></ul>\n",
       "<table class=\"notice metadata plainlinks stub\" style=\"width: auto; margin: 0 0 0 1em; padding: 0 0.5em 0 2em;\">\n",
       "<tbody><tr>\n",
       "<td><span typeof=\"mw:File\"><a class=\"mw-file-description\" href=\"/wiki/%ED%8C%8C%EC%9D%BC:Wiki_letter_w.svg\"><img class=\"mw-file-element\" data-file-height=\"44\" data-file-width=\"44\" decoding=\"async\" height=\"26\" src=\"//upload.wikimedia.org/wikipedia/commons/thumb/6/6c/Wiki_letter_w.svg/26px-Wiki_letter_w.svg.png\" srcset=\"//upload.wikimedia.org/wikipedia/commons/thumb/6/6c/Wiki_letter_w.svg/39px-Wiki_letter_w.svg.png 1.5x, //upload.wikimedia.org/wikipedia/commons/thumb/6/6c/Wiki_letter_w.svg/52px-Wiki_letter_w.svg.png 2x\" width=\"26\"/></a></span> 이 문서의 일부는 아직 미완성입니다. 자료를 찾을 수 있다면 이 글에 직접 기여해주세요.\n",
       "</td></tr></tbody></table>\n",
       "<h3><span id=\".EC.82.B0.EB.AC.B8\"></span><span class=\"mw-headline\" id=\"산문\">산문</span><span class=\"mw-editsection\"><span class=\"mw-editsection-bracket\">[</span><a href=\"/w/index.php?title=%EC%A0%80%EC%9E%90:%EC%9C%A4%EB%8F%99%EC%A3%BC&amp;action=edit&amp;section=3\" title=\"부분 편집: 산문\"><span>편집</span></a><span class=\"mw-editsection-bracket\">]</span></span></h3>\n",
       "<ul><li><a class=\"mw-redirect\" href=\"/wiki/%ED%8A%B8%EB%A3%A8%EA%B2%8C%EB%84%A4%ED%94%84%EC%9D%98_%EC%96%B8%EB%8D%95\" title=\"트루게네프의 언덕\">트루게네프의 언덕</a></li>\n",
       "<li><a href=\"/wiki/%EB%8B%AC%EC%9D%84_%EC%8F%98%EB%8B%A4\" title=\"달을 쏘다\">달을 쏘다</a></li>\n",
       "<li><a href=\"/wiki/%EB%B3%84%EB%98%A5_%EB%96%A8%EC%96%B4%EC%A7%84_%EB%8D%B0\" title=\"별똥 떨어진 데\">별똥 떨어진 데</a></li>\n",
       "<li><a class=\"mw-redirect\" href=\"/wiki/%ED%99%94%EC%9B%90%EC%97%90_%EA%BD%83%EC%9D%B4_%ED%95%80%EB%8B%A4\" title=\"화원에 꽃이 핀다\">화원에 꽃이 핀다</a></li>\n",
       "<li><a href=\"/wiki/%EC%A2%85%EC%8B%9C\" title=\"종시\">종시</a></li></ul>\n",
       "<div class=\"licenseContainer licenseBanner dynlayout-exempt\" style=\"box-sizing:border-box; margin-top:1em; margin-bottom:0.25em; clear:both; width:auto; page-break-before:always; break-before:page;\">\n",
       "<div class=\"licFrame-top\" style=\"display:table; border-collapse:collapse; border-spacing:0px 0px; empty-cells:hide; border:2px solid #88A; box-sizing:border-box; margin:0 auto 0 auto; width:100%;\">\n",
       "<div style=\"display:table-row-group; background-color:#F7F8FF;\">\n",
       "<div style=\"display:table-row;\">\n",
       "<div class=\"licFrame-leftfield\" style=\"display:table-cell; padding:5px 5px 5px 5px; text-align:left; vertical-align:middle; width:auto;\"><span id=\"imageLeft\"><span class=\"mw-default-size\" typeof=\"mw:File\"><span><img alt=\"\" class=\"mw-file-element\" data-file-height=\"196\" data-file-width=\"196\" decoding=\"async\" height=\"48\" src=\"//upload.wikimedia.org/wikipedia/commons/thumb/6/62/PD-icon.svg/48px-PD-icon.svg.png\" srcset=\"//upload.wikimedia.org/wikipedia/commons/thumb/6/62/PD-icon.svg/72px-PD-icon.svg.png 1.5x, //upload.wikimedia.org/wikipedia/commons/thumb/6/62/PD-icon.svg/96px-PD-icon.svg.png 2x\" width=\"48\"/></span></span></span>\n",
       "</div>\n",
       "<div class=\"licFrame-centerfield\" style=\"display:table-cell; padding:5px 5px 5px 5px; text-align:center; vertical-align:middle; width:auto;\"><div class=\"reduP\" id=\"licFrame-centertext\" style=\"display:block; margin:0 auto 0 auto; text-align:left; width:100%;\">\n",
       "<p>이 저자의 저작물은 저자가 사망한 지 70년이 넘었으므로, 저자가 사망한 후 70년(또는 그 이하)이 지나면 저작권이 소멸하는 국가에서 <a class=\"extiw\" href=\"https://ko.wikipedia.org/wiki/%ED%8D%BC%EB%B8%94%EB%A6%AD_%EB%8F%84%EB%A9%94%EC%9D%B8\" title=\"w:퍼블릭 도메인\">퍼블릭 도메인</a>입니다. \n",
       "</p>\n",
       "<hr/>\n",
       "<figure class=\"mw-halign-left\" typeof=\"mw:File\"><a class=\"mw-file-description\" href=\"/wiki/%ED%8C%8C%EC%9D%BC:Nuvola_apps_important.svg\" title=\"주의\"><img alt=\"주의\" class=\"mw-file-element\" data-file-height=\"500\" data-file-width=\"600\" decoding=\"async\" height=\"29\" src=\"//upload.wikimedia.org/wikipedia/commons/thumb/f/f7/Nuvola_apps_important.svg/35px-Nuvola_apps_important.svg.png\" srcset=\"//upload.wikimedia.org/wikipedia/commons/thumb/f/f7/Nuvola_apps_important.svg/53px-Nuvola_apps_important.svg.png 1.5x, //upload.wikimedia.org/wikipedia/commons/thumb/f/f7/Nuvola_apps_important.svg/70px-Nuvola_apps_important.svg.png 2x\" width=\"35\"/></a><figcaption>주의</figcaption></figure> <span style=\"font-size:85%;\">1923년에서 1977년 사이에 출판되었다면 미국에서 퍼블릭 도메인이 아닐 수 있습니다. 미국에서 퍼블릭 도메인인 저작물에는 {{<a href=\"/wiki/%ED%8B%80:PD-1996\" title=\"틀:PD-1996\">PD-1996</a>}}를 사용하십시오.</span>\n",
       "</div>\n",
       "</div>\n",
       "<div class=\"licFrame-rightfield\" style=\"display:table-cell; padding:5px 5px 5px 5px; text-align:right; vertical-align:middle; width:auto;\"><span id=\"noimageRight\"> </span>\n",
       "</div>\n",
       "</div>\n",
       "</div>\n",
       "</div>\n",
       "<div class=\"licensetpl\" style=\"display:none\"><span class=\"licensetpl_short\">Public domain</span><span class=\"licensetpl_long\">Public domain</span><span class=\"licensetpl_link_req\">false</span><span class=\"licensetpl_attr_req\">false</span>\n",
       "</div>\n",
       "</div>\n",
       "<!-- \n",
       "NewPP limit report\n",
       "Parsed by mw2388\n",
       "Cached time: 20240304023951\n",
       "Cache expiry: 2592000\n",
       "Reduced expiry: false\n",
       "Complications: []\n",
       "CPU time usage: 0.036 seconds\n",
       "Real time usage: 0.073 seconds\n",
       "Preprocessor visited node count: 307/1000000\n",
       "Post‐expand include size: 7329/2097152 bytes\n",
       "Template argument size: 1970/2097152 bytes\n",
       "Highest expansion depth: 7/100\n",
       "Expensive parser function count: 0/500\n",
       "Unstrip recursion depth: 0/20\n",
       "Unstrip post‐expand size: 0/5000000 bytes\n",
       "Number of Wikibase entities loaded: 0/400\n",
       "-->\n",
       "<!--\n",
       "Transclusion expansion time report (%,ms,calls,template)\n",
       "100.00%   28.483      1 -total\n",
       " 74.85%   21.320      1 틀:글쓴이\n",
       " 53.25%   15.167      1 틀:Bc\n",
       " 13.41%    3.821      1 틀:PD-old-70\n",
       " 10.65%    3.033      1 틀:미완성\n",
       "  7.74%    2.205      1 틀:저작권\n",
       "  6.18%    1.761      1 틀:위키백과_인용\n",
       "-->\n",
       "<!-- Saved in parser cache with key kowikisource:pcache:idhash:1681-0!canonical and timestamp 20240304023951 and revision id 312451. Rendering was triggered because: page-view\n",
       " -->\n",
       "</div><!--esi <esi:include src=\"/esitest-fa8a495983347898/content\" /> --><noscript><img alt=\"\" height=\"1\" src=\"https://login.wikimedia.org/wiki/Special:CentralAutoLogin/start?type=1x1\" style=\"border: none; position: absolute;\" width=\"1\"/></noscript>\n",
       "<div class=\"printfooter\" data-nosnippet=\"\">원본 주소 \"<a dir=\"ltr\" href=\"https://ko.wikisource.org/w/index.php?title=저자:윤동주&amp;oldid=312451\">https://ko.wikisource.org/w/index.php?title=저자:윤동주&amp;oldid=312451</a>\"</div></div>\n",
       "<div class=\"catlinks\" data-mw=\"interface\" id=\"catlinks\"><div class=\"mw-normal-catlinks\" id=\"mw-normal-catlinks\"><a href=\"/wiki/%ED%8A%B9%EC%88%98:%EB%B6%84%EB%A5%98\" title=\"특수:분류\">분류</a>: <ul><li><a href=\"/wiki/%EB%B6%84%EB%A5%98:%EC%A0%80%EC%9E%90_%E3%85%87\" title=\"분류:저자 ㅇ\">저자 ㅇ</a></li><li><a href=\"/wiki/%EB%B6%84%EB%A5%98:%EC%9D%BC%EC%A0%9C_%EA%B0%95%EC%A0%90%EA%B8%B0%EC%9D%98_%EC%A0%80%EC%9E%90\" title=\"분류:일제 강점기의 저자\">일제 강점기의 저자</a></li><li><a href=\"/wiki/%EB%B6%84%EB%A5%98:1917%EB%85%84_%ED%83%9C%EC%96%B4%EB%82%A8\" title=\"분류:1917년 태어남\">1917년 태어남</a></li><li><a href=\"/wiki/%EB%B6%84%EB%A5%98:1945%EB%85%84_%EC%A3%BD%EC%9D%8C\" title=\"분류:1945년 죽음\">1945년 죽음</a></li><li><a href=\"/wiki/%EB%B6%84%EB%A5%98:%EC%A0%80%EC%9E%90-PD-old-70\" title=\"분류:저자-PD-old-70\">저자-PD-old-70</a></li></ul></div></div>\n",
       "</div>\n",
       "</div>\n",
       "<div id=\"mw-navigation\">\n",
       "<h2>둘러보기 메뉴</h2>\n",
       "<div id=\"mw-head\">\n",
       "<nav aria-labelledby=\"p-personal-label\" class=\"mw-portlet mw-portlet-personal vector-user-menu-legacy vector-menu\" id=\"p-personal\" role=\"navigation\">\n",
       "<h3 class=\"vector-menu-heading\" id=\"p-personal-label\">\n",
       "<span class=\"vector-menu-heading-label\">개인 도구</span>\n",
       "</h3>\n",
       "<div class=\"vector-menu-content\">\n",
       "<ul class=\"vector-menu-content-list\">\n",
       "<li class=\"mw-list-item\" id=\"pt-anonuserpage\"><span title=\"현재 사용하는 IP 주소의 사용자 문서\">로그인하지 않음</span></li><li class=\"mw-list-item\" id=\"pt-anontalk\"><a accesskey=\"n\" href=\"/wiki/%ED%8A%B9%EC%88%98:%EB%82%B4%EC%82%AC%EC%9A%A9%EC%9E%90%ED%86%A0%EB%A1%A0\" title=\"현재 사용하는 IP 주소에 대한 토론 문서 [n]\"><span>토론</span></a></li><li class=\"mw-list-item\" id=\"pt-anoncontribs\"><a accesskey=\"y\" href=\"/wiki/%ED%8A%B9%EC%88%98:%EB%82%B4%EA%B8%B0%EC%97%AC\" title=\"이 IP 주소의 편집 목록 [y]\"><span>기여</span></a></li><li class=\"mw-list-item\" id=\"pt-createaccount\"><a href=\"/w/index.php?title=%ED%8A%B9%EC%88%98:%EA%B3%84%EC%A0%95%EB%A7%8C%EB%93%A4%EA%B8%B0&amp;returnto=%EC%A0%80%EC%9E%90%3A%EC%9C%A4%EB%8F%99%EC%A3%BC\" title=\"계정을 만들고 로그인하는 것이 좋습니다. 하지만 필수는 아닙니다\"><span>계정 만들기</span></a></li><li class=\"mw-list-item\" id=\"pt-login\"><a accesskey=\"o\" href=\"/w/index.php?title=%ED%8A%B9%EC%88%98:%EB%A1%9C%EA%B7%B8%EC%9D%B8&amp;returnto=%EC%A0%80%EC%9E%90%3A%EC%9C%A4%EB%8F%99%EC%A3%BC\" title=\"꼭 로그인해야 하는 것은 아니지만, 로그인을 권장합니다. [o]\"><span>로그인</span></a></li>\n",
       "</ul>\n",
       "</div>\n",
       "</nav>\n",
       "<div id=\"left-navigation\">\n",
       "<nav aria-labelledby=\"p-namespaces-label\" class=\"mw-portlet mw-portlet-namespaces vector-menu-tabs vector-menu-tabs-legacy vector-menu\" id=\"p-namespaces\" role=\"navigation\">\n",
       "<h3 class=\"vector-menu-heading\" id=\"p-namespaces-label\">\n",
       "<span class=\"vector-menu-heading-label\">이름공간</span>\n",
       "</h3>\n",
       "<div class=\"vector-menu-content\">\n",
       "<ul class=\"vector-menu-content-list\">\n",
       "<li class=\"selected mw-list-item\" id=\"ca-nstab-저자\"><a accesskey=\"c\" href=\"/wiki/%EC%A0%80%EC%9E%90:%EC%9C%A4%EB%8F%99%EC%A3%BC\" title=\"기본 문서 보기 [c]\"><span>저자</span></a></li><li class=\"mw-list-item\" id=\"ca-talk\"><a accesskey=\"t\" href=\"/wiki/%EC%A0%80%EC%9E%90%ED%86%A0%EB%A1%A0:%EC%9C%A4%EB%8F%99%EC%A3%BC\" rel=\"discussion\" title=\"문서의 내용에 대한 토론 문서 [t]\"><span>토론</span></a></li>\n",
       "</ul>\n",
       "</div>\n",
       "</nav>\n",
       "<nav aria-labelledby=\"p-variants-label\" class=\"mw-portlet mw-portlet-variants emptyPortlet vector-menu-dropdown vector-menu\" id=\"p-variants\" role=\"navigation\">\n",
       "<input aria-haspopup=\"true\" aria-labelledby=\"p-variants-label\" class=\"vector-menu-checkbox\" data-event-name=\"ui.dropdown-p-variants\" id=\"p-variants-checkbox\" role=\"button\" type=\"checkbox\"/>\n",
       "<label class=\"vector-menu-heading\" id=\"p-variants-label\">\n",
       "<span class=\"vector-menu-heading-label\">한국어</span>\n",
       "</label>\n",
       "<div class=\"vector-menu-content\">\n",
       "<ul class=\"vector-menu-content-list\">\n",
       "</ul>\n",
       "</div>\n",
       "</nav>\n",
       "</div>\n",
       "<div id=\"right-navigation\">\n",
       "<nav aria-labelledby=\"p-views-label\" class=\"mw-portlet mw-portlet-views vector-menu-tabs vector-menu-tabs-legacy vector-menu\" id=\"p-views\" role=\"navigation\">\n",
       "<h3 class=\"vector-menu-heading\" id=\"p-views-label\">\n",
       "<span class=\"vector-menu-heading-label\">보기</span>\n",
       "</h3>\n",
       "<div class=\"vector-menu-content\">\n",
       "<ul class=\"vector-menu-content-list\">\n",
       "<li class=\"selected mw-list-item\" id=\"ca-view\"><a href=\"/wiki/%EC%A0%80%EC%9E%90:%EC%9C%A4%EB%8F%99%EC%A3%BC\"><span>읽기</span></a></li><li class=\"mw-list-item\" id=\"ca-edit\"><a accesskey=\"e\" href=\"/w/index.php?title=%EC%A0%80%EC%9E%90:%EC%9C%A4%EB%8F%99%EC%A3%BC&amp;action=edit\" title=\"이 문서 편집하기 [e]\"><span>편집</span></a></li><li class=\"mw-list-item\" id=\"ca-history\"><a accesskey=\"h\" href=\"/w/index.php?title=%EC%A0%80%EC%9E%90:%EC%9C%A4%EB%8F%99%EC%A3%BC&amp;action=history\" title=\"문서의 과거 판 [h]\"><span>역사 보기</span></a></li>\n",
       "</ul>\n",
       "</div>\n",
       "</nav>\n",
       "<nav aria-labelledby=\"p-cactions-label\" class=\"mw-portlet mw-portlet-cactions emptyPortlet vector-menu-dropdown vector-menu\" id=\"p-cactions\" role=\"navigation\" title=\"더 많은 옵션\">\n",
       "<input aria-haspopup=\"true\" aria-labelledby=\"p-cactions-label\" class=\"vector-menu-checkbox\" data-event-name=\"ui.dropdown-p-cactions\" id=\"p-cactions-checkbox\" role=\"button\" type=\"checkbox\"/>\n",
       "<label class=\"vector-menu-heading\" id=\"p-cactions-label\">\n",
       "<span class=\"vector-menu-heading-label\">더 보기</span>\n",
       "</label>\n",
       "<div class=\"vector-menu-content\">\n",
       "<ul class=\"vector-menu-content-list\">\n",
       "</ul>\n",
       "</div>\n",
       "</nav>\n",
       "<div class=\"vector-search-box-vue vector-search-box-show-thumbnail vector-search-box-auto-expand-width vector-search-box\" id=\"p-search\" role=\"search\">\n",
       "<h3>검색</h3>\n",
       "<form action=\"/w/index.php\" class=\"vector-search-box-form\" id=\"searchform\">\n",
       "<div class=\"vector-search-box-inner\" data-search-loc=\"header-navigation\" id=\"simpleSearch\">\n",
       "<input accesskey=\"f\" aria-label=\"위키문헌 검색\" autocapitalize=\"sentences\" class=\"vector-search-box-input\" id=\"searchInput\" name=\"search\" placeholder=\"위키문헌 검색\" title=\"위키문헌 검색 [f]\" type=\"search\"/>\n",
       "<input name=\"title\" type=\"hidden\" value=\"특수:검색\"/>\n",
       "<input class=\"searchButton mw-fallbackSearchButton\" id=\"mw-searchButton\" name=\"fulltext\" title=\"이 문자열이 포함된 문서 찾기\" type=\"submit\" value=\"검색\"/>\n",
       "<input class=\"searchButton\" id=\"searchButton\" name=\"go\" title=\"이 이름의 문서가 존재하면 그 문서로 바로가기\" type=\"submit\" value=\"보기\"/>\n",
       "</div>\n",
       "</form>\n",
       "</div>\n",
       "</div>\n",
       "</div>\n",
       "<div class=\"vector-legacy-sidebar\" id=\"mw-panel\">\n",
       "<div id=\"p-logo\" role=\"banner\">\n",
       "<a class=\"mw-wiki-logo\" href=\"/wiki/%EC%9C%84%ED%82%A4%EB%AC%B8%ED%97%8C:%EB%8C%80%EB%AC%B8\" title=\"대문으로 가기\"></a>\n",
       "</div>\n",
       "<nav aria-labelledby=\"p-navigation-label\" class=\"mw-portlet mw-portlet-navigation vector-menu-portal portal vector-menu\" id=\"p-navigation\" role=\"navigation\">\n",
       "<h3 class=\"vector-menu-heading\" id=\"p-navigation-label\">\n",
       "<span class=\"vector-menu-heading-label\">둘러보기</span>\n",
       "</h3>\n",
       "<div class=\"vector-menu-content\">\n",
       "<ul class=\"vector-menu-content-list\">\n",
       "<li class=\"mw-list-item\" id=\"n-mainpage-description\"><a accesskey=\"z\" href=\"/wiki/%EC%9C%84%ED%82%A4%EB%AC%B8%ED%97%8C:%EB%8C%80%EB%AC%B8\" title=\"대문으로 가기 [z]\"><span>대문</span></a></li><li class=\"mw-list-item\" id=\"n-portal\"><a href=\"/wiki/%EC%9C%84%ED%82%A4%EB%AC%B8%ED%97%8C:%EC%82%AC%EC%9A%A9%EC%9E%90_%EB%AA%A8%EC%9E%84\" title=\"프로젝트에 대해 여러분이 할 수 있고, 정보를 찾을 수 있는 곳\"><span>사용자 모임</span></a></li><li class=\"mw-list-item\" id=\"n-recentchanges\"><a accesskey=\"r\" href=\"/wiki/%ED%8A%B9%EC%88%98:%EC%B5%9C%EA%B7%BC%EB%B0%94%EB%80%9C\" title=\"위키의 최근 바뀐 목록 [r]\"><span>최근 바뀜</span></a></li><li class=\"mw-list-item\" id=\"n-index\"><a href=\"/wiki/%ED%8A%B9%EC%88%98:%EB%AA%A8%EB%93%A0%EB%AC%B8%EC%84%9C\"><span>모든 문서 나열</span></a></li><li class=\"mw-list-item\" id=\"n-임의-작품으로\"><a href=\"/wiki/%ED%8A%B9%EC%88%98:%EC%9E%84%EC%9D%98%EC%B5%9C%EC%83%81%EC%9C%84%EB%AC%B8%EC%84%9C/Main\"><span>임의 작품으로</span></a></li><li class=\"mw-list-item\" id=\"n-임의-저자로\"><a href=\"/wiki/%ED%8A%B9%EC%88%98:%EC%9E%84%EC%9D%98%EB%AC%B8%EC%84%9C/Author\"><span>임의 저자로</span></a></li><li class=\"mw-list-item\" id=\"n-임의-포털로\"><a href=\"/wiki/%ED%8A%B9%EC%88%98:%EC%9E%84%EC%9D%98%EB%AC%B8%EC%84%9C/Portal\"><span>임의 포털로</span></a></li><li class=\"mw-list-item\" id=\"n-help\"><a href=\"/wiki/%EC%9C%84%ED%82%A4%EB%AC%B8%ED%97%8C:%EB%8F%84%EC%9B%80%EB%A7%90\" title=\"도움말\"><span>도움말</span></a></li><li class=\"mw-list-item\" id=\"n-sitesupport\"><a href=\"//donate.wikimedia.org/wiki/Special:FundraiserRedirector?utm_source=donate&amp;utm_medium=sidebar&amp;utm_campaign=C13_ko.wikisource.org&amp;uselang=ko\" title=\"지원을 기다립니다\"><span>기부하기</span></a></li>\n",
       "</ul>\n",
       "</div>\n",
       "</nav>\n",
       "<nav aria-labelledby=\"p-do-label\" class=\"mw-portlet mw-portlet-do emptyPortlet vector-menu-portal portal vector-menu\" id=\"p-do\" role=\"navigation\">\n",
       "<h3 class=\"vector-menu-heading\" id=\"p-do-label\">\n",
       "<span class=\"vector-menu-heading-label\"></span>\n",
       "</h3>\n",
       "<div class=\"vector-menu-content\">\n",
       "<ul class=\"vector-menu-content-list\">\n",
       "</ul>\n",
       "</div>\n",
       "</nav>\n",
       "<nav aria-labelledby=\"p-tb-label\" class=\"mw-portlet mw-portlet-tb vector-menu-portal portal vector-menu\" id=\"p-tb\" role=\"navigation\">\n",
       "<h3 class=\"vector-menu-heading\" id=\"p-tb-label\">\n",
       "<span class=\"vector-menu-heading-label\">도구</span>\n",
       "</h3>\n",
       "<div class=\"vector-menu-content\">\n",
       "<ul class=\"vector-menu-content-list\">\n",
       "<li class=\"mw-list-item\" id=\"t-whatlinkshere\"><a accesskey=\"j\" href=\"/wiki/%ED%8A%B9%EC%88%98:%EA%B0%80%EB%A6%AC%ED%82%A4%EB%8A%94%EB%AC%B8%EC%84%9C/%EC%A0%80%EC%9E%90:%EC%9C%A4%EB%8F%99%EC%A3%BC\" title=\"여기를 가리키는 모든 위키 문서의 목록 [j]\"><span>여기를 가리키는 문서</span></a></li><li class=\"mw-list-item\" id=\"t-recentchangeslinked\"><a accesskey=\"k\" href=\"/wiki/%ED%8A%B9%EC%88%98:%EB%A7%81%ED%81%AC%EC%B5%9C%EA%B7%BC%EB%B0%94%EB%80%9C/%EC%A0%80%EC%9E%90:%EC%9C%A4%EB%8F%99%EC%A3%BC\" rel=\"nofollow\" title=\"이 문서에서 링크한 문서의 최근 바뀜 [k]\"><span>가리키는 글의 최근 바뀜</span></a></li><li class=\"mw-list-item\" id=\"t-upload\"><a accesskey=\"u\" href=\"//commons.wikimedia.org/wiki/Special:UploadWizard?uselang=ko\" title=\"파일 올리기 [u]\"><span>파일 올리기</span></a></li><li class=\"mw-list-item\" id=\"t-specialpages\"><a accesskey=\"q\" href=\"/wiki/%ED%8A%B9%EC%88%98:%ED%8A%B9%EC%88%98%EB%AC%B8%EC%84%9C\" title=\"모든 특수 문서의 목록 [q]\"><span>특수 문서 목록</span></a></li><li class=\"mw-list-item\" id=\"t-permalink\"><a href=\"/w/index.php?title=%EC%A0%80%EC%9E%90:%EC%9C%A4%EB%8F%99%EC%A3%BC&amp;oldid=312451\" title=\"이 문서의 이 판에 대한 고유 링크\"><span>고유 링크</span></a></li><li class=\"mw-list-item\" id=\"t-info\"><a href=\"/w/index.php?title=%EC%A0%80%EC%9E%90:%EC%9C%A4%EB%8F%99%EC%A3%BC&amp;action=info\" title=\"이 문서에 대한 자세한 정보\"><span>문서 정보</span></a></li><li class=\"mw-list-item\" id=\"t-cite\"><a href=\"/w/index.php?title=%ED%8A%B9%EC%88%98:%EC%9D%B4%EB%AC%B8%EC%84%9C%EC%9D%B8%EC%9A%A9&amp;page=%EC%A0%80%EC%9E%90%3A%EC%9C%A4%EB%8F%99%EC%A3%BC&amp;id=312451&amp;wpFormIdentifier=titleform\" title=\"이 문서를 인용하는 방법에 대한 정보\"><span>이 문서 인용하기</span></a></li><li class=\"mw-list-item\" id=\"t-urlshortener\"><a href=\"/w/index.php?title=%ED%8A%B9%EC%88%98:UrlShortener&amp;url=https%3A%2F%2Fko.wikisource.org%2Fwiki%2F%25EC%25A0%2580%25EC%259E%2590%3A%25EC%259C%25A4%25EB%258F%2599%25EC%25A3%25BC\"><span>축약된 URL 얻기</span></a></li><li class=\"mw-list-item\" id=\"t-urlshortener-qrcode\"><a href=\"/w/index.php?title=%ED%8A%B9%EC%88%98:QrCode&amp;url=https%3A%2F%2Fko.wikisource.org%2Fwiki%2F%25EC%25A0%2580%25EC%259E%2590%3A%25EC%259C%25A4%25EB%258F%2599%25EC%25A3%25BC\"><span>QR 코드 다운로드</span></a></li><li class=\"mw-list-item\" id=\"t-wikibase\"><a accesskey=\"g\" href=\"https://www.wikidata.org/wiki/Special:EntityPage/Q625089\" title=\"데이터 저장소에 연결된 항목을 가리키는 링크 [g]\"><span>위키데이터 항목</span></a></li>\n",
       "</ul>\n",
       "</div>\n",
       "</nav>\n",
       "<nav aria-labelledby=\"p-electronpdfservice-sidebar-portlet-heading-label\" class=\"mw-portlet mw-portlet-electronpdfservice-sidebar-portlet-heading vector-menu-portal portal vector-menu\" id=\"p-electronpdfservice-sidebar-portlet-heading\" role=\"navigation\">\n",
       "<h3 class=\"vector-menu-heading\" id=\"p-electronpdfservice-sidebar-portlet-heading-label\">\n",
       "<span class=\"vector-menu-heading-label\">인쇄/내보내기</span>\n",
       "</h3>\n",
       "<div class=\"vector-menu-content\">\n",
       "<ul class=\"vector-menu-content-list\">\n",
       "<li class=\"mw-list-item\" id=\"t-print\"><a accesskey=\"p\" href=\"javascript:print();\" rel=\"alternate\" title=\"이 문서의 인쇄용 판 [p]\"><span>인쇄용 판</span></a></li><li class=\"mw-list-item\" id=\"wikisource-download-epub\"><a href=\"https://ws-export.wmcloud.org/?format=epub&amp;lang=ko&amp;page=%EC%A0%80%EC%9E%90%3A%EC%9C%A4%EB%8F%99%EC%A3%BC\" title=\"이 작품의 EPUB 버전 다운로드\"><span>EPUB 다운로드</span></a></li><li class=\"mw-list-item\" id=\"wikisource-download-mobi\"><a href=\"https://ws-export.wmcloud.org/?format=mobi&amp;lang=ko&amp;page=%EC%A0%80%EC%9E%90%3A%EC%9C%A4%EB%8F%99%EC%A3%BC\" title=\"이 작품의 MOBI 버전 다운로드\"><span>MOBI 다운로드</span></a></li><li class=\"mw-list-item\" id=\"wikisource-download-pdf\"><a href=\"https://ws-export.wmcloud.org/?format=pdf&amp;lang=ko&amp;page=%EC%A0%80%EC%9E%90%3A%EC%9C%A4%EB%8F%99%EC%A3%BC\" title=\"이 작품의 PDF 버전 다운로드\"><span>PDF 다운로드</span></a></li><li class=\"mw-list-item\" id=\"wikisource-download-choose\"><a href=\"https://ws-export.wmcloud.org/?lang=ko&amp;title=%EC%A0%80%EC%9E%90%3A%EC%9C%A4%EB%8F%99%EC%A3%BC\" title=\"기타 포맷과 글꼴 등을 선택하려면 폼을 여십시오.\"><span>기타 형식</span></a></li>\n",
       "</ul>\n",
       "</div>\n",
       "</nav>\n",
       "<nav aria-labelledby=\"p-wikibase-otherprojects-label\" class=\"mw-portlet mw-portlet-wikibase-otherprojects vector-menu-portal portal vector-menu\" id=\"p-wikibase-otherprojects\" role=\"navigation\">\n",
       "<h3 class=\"vector-menu-heading\" id=\"p-wikibase-otherprojects-label\">\n",
       "<span class=\"vector-menu-heading-label\">다른 프로젝트</span>\n",
       "</h3>\n",
       "<div class=\"vector-menu-content\">\n",
       "<ul class=\"vector-menu-content-list\">\n",
       "<li class=\"wb-otherproject-link wb-otherproject-commons mw-list-item\"><a href=\"https://commons.wikimedia.org/wiki/Category:Yun_Dong-ju\" hreflang=\"en\"><span>위키미디어 공용</span></a></li><li class=\"wb-otherproject-link wb-otherproject-wikipedia mw-list-item\"><a href=\"https://ko.wikipedia.org/wiki/%EC%9C%A4%EB%8F%99%EC%A3%BC\" hreflang=\"ko\"><span>위키백과</span></a></li><li class=\"wb-otherproject-link wb-otherproject-wikiquote mw-list-item\"><a href=\"https://ko.wikiquote.org/wiki/%EC%9C%A4%EB%8F%99%EC%A3%BC\" hreflang=\"ko\"><span>위키인용집</span></a></li>\n",
       "</ul>\n",
       "</div>\n",
       "</nav>\n",
       "<nav aria-labelledby=\"p-lang-label\" class=\"mw-portlet mw-portlet-lang vector-menu-portal portal vector-menu\" id=\"p-lang\" role=\"navigation\">\n",
       "<h3 class=\"vector-menu-heading\" id=\"p-lang-label\">\n",
       "<span class=\"vector-menu-heading-label\">다른 언어</span>\n",
       "</h3>\n",
       "<div class=\"vector-menu-content\">\n",
       "<ul class=\"vector-menu-content-list\">\n",
       "<li class=\"interlanguage-link interwiki-ja mw-list-item\"><a class=\"interlanguage-link-target\" href=\"https://ja.wikisource.org/wiki/%E4%BD%9C%E8%80%85:%E5%B0%B9%E6%9D%B1%E6%9F%B1\" hreflang=\"ja\" lang=\"ja\" title=\"作者:尹東柱 – 일본어\"><span>日本語</span></a></li>\n",
       "</ul>\n",
       "<div class=\"after-portlet after-portlet-lang\"><span class=\"wb-langlinks-edit wb-langlinks-link\"><a class=\"wbc-editpage\" href=\"https://www.wikidata.org/wiki/Special:EntityPage/Q625089#sitelinks-wikisource\" title=\"언어 간 링크 편집\">링크 편집</a></span></div>\n",
       "</div>\n",
       "</nav>\n",
       "</div>\n",
       "</div>\n",
       "<footer class=\"mw-footer\" id=\"footer\" role=\"contentinfo\">\n",
       "<ul id=\"footer-info\">\n",
       "<li id=\"footer-info-lastmod\"> 이 문서는 2024년 1월 2일 (화) 12:05에 마지막으로 편집되었습니다.</li>\n",
       "<li id=\"footer-info-copyright\">내용은 <a href=\"https://creativecommons.org/licenses/by-sa/4.0/deed.ko\">크리에이티브 커먼즈 저작자표시-동일조건변경허락 라이선스</a>에 따라 사용할 수 있으며 추가적인 조건이 적용될 수 있습니다.\n",
       "자세한 내용은 <a href=\"https://foundation.wikimedia.org/wiki/Special:MyLanguage/Policy:Terms_of_Use/ko\">이용 약관</a>을 참조하십시오.</li>\n",
       "</ul>\n",
       "<ul id=\"footer-places\">\n",
       "<li id=\"footer-places-privacy\"><a href=\"https://foundation.wikimedia.org/wiki/Special:MyLanguage/Policy:Privacy_policy\">개인정보처리방침</a></li>\n",
       "<li id=\"footer-places-about\"><a href=\"/wiki/%EC%9C%84%ED%82%A4%EB%AC%B8%ED%97%8C:%EC%86%8C%EA%B0%9C\">위키문헌 소개</a></li>\n",
       "<li id=\"footer-places-disclaimers\"><a href=\"/wiki/%EC%9C%84%ED%82%A4%EB%AC%B8%ED%97%8C:%EB%A9%B4%EC%B1%85_%EC%A1%B0%ED%95%AD\">면책 조항</a></li>\n",
       "<li id=\"footer-places-wm-codeofconduct\"><a href=\"https://foundation.wikimedia.org/wiki/Special:MyLanguage/Policy:Universal_Code_of_Conduct\">행동 강령</a></li>\n",
       "<li id=\"footer-places-developers\"><a href=\"https://developer.wikimedia.org\">개발자</a></li>\n",
       "<li id=\"footer-places-statslink\"><a href=\"https://stats.wikimedia.org/#/ko.wikisource.org\">통계</a></li>\n",
       "<li id=\"footer-places-cookiestatement\"><a href=\"https://foundation.wikimedia.org/wiki/Special:MyLanguage/Policy:Cookie_statement\">쿠키 정책</a></li>\n",
       "<li id=\"footer-places-mobileview\"><a class=\"noprint stopMobileRedirectToggle\" href=\"//ko.m.wikisource.org/w/index.php?title=%EC%A0%80%EC%9E%90:%EC%9C%A4%EB%8F%99%EC%A3%BC&amp;mobileaction=toggle_view_mobile\">모바일 보기</a></li>\n",
       "</ul>\n",
       "<ul class=\"noprint\" id=\"footer-icons\">\n",
       "<li id=\"footer-copyrightico\"><a href=\"https://wikimediafoundation.org/\"><img alt=\"Wikimedia Foundation\" height=\"31\" loading=\"lazy\" src=\"/static/images/footer/wikimedia-button.png\" srcset=\"/static/images/footer/wikimedia-button-1.5x.png 1.5x, /static/images/footer/wikimedia-button-2x.png 2x\" width=\"88\"/></a></li>\n",
       "<li id=\"footer-poweredbyico\"><a href=\"https://www.mediawiki.org/\"><img alt=\"Powered by MediaWiki\" height=\"31\" loading=\"lazy\" src=\"/static/images/footer/poweredby_mediawiki_88x31.png\" srcset=\"/static/images/footer/poweredby_mediawiki_132x47.png 1.5x, /static/images/footer/poweredby_mediawiki_176x62.png 2x\" width=\"88\"/></a></li>\n",
       "</ul>\n",
       "</footer>\n",
       "<script>(RLQ=window.RLQ||[]).push(function(){mw.config.set({\"wgHostname\":\"mw2307\",\"wgBackendResponseTime\":94,\"wgPageParseReport\":{\"limitreport\":{\"cputime\":\"0.036\",\"walltime\":\"0.073\",\"ppvisitednodes\":{\"value\":307,\"limit\":1000000},\"postexpandincludesize\":{\"value\":7329,\"limit\":2097152},\"templateargumentsize\":{\"value\":1970,\"limit\":2097152},\"expansiondepth\":{\"value\":7,\"limit\":100},\"expensivefunctioncount\":{\"value\":0,\"limit\":500},\"unstrip-depth\":{\"value\":0,\"limit\":20},\"unstrip-size\":{\"value\":0,\"limit\":5000000},\"entityaccesscount\":{\"value\":0,\"limit\":400},\"timingprofile\":[\"100.00%   28.483      1 -total\",\" 74.85%   21.320      1 틀:글쓴이\",\" 53.25%   15.167      1 틀:Bc\",\" 13.41%    3.821      1 틀:PD-old-70\",\" 10.65%    3.033      1 틀:미완성\",\"  7.74%    2.205      1 틀:저작권\",\"  6.18%    1.761      1 틀:위키백과_인용\"]},\"cachereport\":{\"origin\":\"mw2388\",\"timestamp\":\"20240304023951\",\"ttl\":2592000,\"transientcontent\":false}}});});</script>\n",
       "</body>\n",
       "</html>"
      ]
     },
     "execution_count": 256,
     "metadata": {},
     "output_type": "execute_result"
    }
   ],
   "source": [
    "soup=BeautifulSoup(res1,'html.parser')\n",
    "soup"
   ]
  },
  {
   "cell_type": "code",
   "execution_count": 257,
   "id": "852a62d5-4989-4ce1-b6df-52db5478b278",
   "metadata": {},
   "outputs": [
    {
     "data": {
      "text/plain": [
       "[]"
      ]
     },
     "execution_count": 257,
     "metadata": {},
     "output_type": "execute_result"
    }
   ],
   "source": [
    "soup.select(\"mw-content-text  div ul li a\")\n"
   ]
  },
  {
   "cell_type": "code",
   "execution_count": 258,
   "id": "328200b5-c6ec-443f-841a-b5731f5d5df5",
   "metadata": {},
   "outputs": [],
   "source": [
    "#mw-content-text > div.mw-content-ltr.mw-parser-output > ul:nth-child(6) > li > ul > li:nth-child(1) > a\n",
    "#mw-content-text > div.mw-content-ltr.mw-parser-output > ul:nth-child(6) > li > ul > li:nth-child(3) > a\n",
    "\n",
    "#mw-content-text > div.mw-content-ltr.mw-parser-output > ul:nth-child(6) > li > ul > li:nth-child(19) > a"
   ]
  },
  {
   "cell_type": "code",
   "execution_count": 259,
   "id": "fcd35e8d-f6a8-4d0e-8097-eb77922684e5",
   "metadata": {},
   "outputs": [
    {
     "data": {
      "text/plain": [
       "'별 헤는 밤'"
      ]
     },
     "execution_count": 259,
     "metadata": {},
     "output_type": "execute_result"
    }
   ],
   "source": [
    "soup.select(\"#mw-content-text > div.mw-content-ltr.mw-parser-output > ul:nth-child(6) > li > ul > li:nth-child(19) > a\")[0].string"
   ]
  },
  {
   "cell_type": "code",
   "execution_count": 260,
   "id": "9f3f04e6-0d88-4240-9bf2-b5d346b08005",
   "metadata": {},
   "outputs": [
    {
     "data": {
      "text/plain": [
       "[<a href=\"/wiki/%ED%95%98%EB%8A%98%EA%B3%BC_%EB%B0%94%EB%9E%8C%EA%B3%BC_%EB%B3%84%EA%B3%BC_%EC%8B%9C/%EB%B3%84_%ED%97%A4%EB%8A%94_%EB%B0%A4\" title=\"하늘과 바람과 별과 시/별 헤는 밤\">별 헤는 밤</a>]"
      ]
     },
     "execution_count": 260,
     "metadata": {},
     "output_type": "execute_result"
    }
   ],
   "source": [
    "soup.select(\"#mw-content-text > div.mw-content-ltr.mw-parser-output > ul:nth-child(6) > li > ul > li:nth-child(19) > a\")"
   ]
  },
  {
   "cell_type": "code",
   "execution_count": 261,
   "id": "16ae2097-cb8d-45b2-bc67-d74dbc335f51",
   "metadata": {},
   "outputs": [],
   "source": [
    "res2=urllib.request.urlopen(\"https://finance.naver.com/marketindex/\")\n",
    "\n",
    "#exchangeList > li.on > a.head.usd > div > span.value"
   ]
  },
  {
   "cell_type": "code",
   "execution_count": 264,
   "id": "19eef1f6-4891-4170-8a99-d9e5195586af",
   "metadata": {},
   "outputs": [],
   "source": [
    "soup2=BeautifulSoup(res2,'html.parser')"
   ]
  },
  {
   "cell_type": "code",
   "execution_count": 271,
   "id": "f5ced549-7854-4ba3-b7cd-18aee6b01d65",
   "metadata": {},
   "outputs": [
    {
     "data": {
      "text/plain": [
       "'1,329.50'"
      ]
     },
     "execution_count": 271,
     "metadata": {},
     "output_type": "execute_result"
    }
   ],
   "source": [
    "soup2.select(\"#exchangeList > li.on > a.head.usd > div > span.value\")[0].string"
   ]
  },
  {
   "cell_type": "code",
   "execution_count": null,
   "id": "ed029f86-d3b1-406c-82e2-96234d1702b9",
   "metadata": {},
   "outputs": [],
   "source": []
  }
 ],
 "metadata": {
  "kernelspec": {
   "display_name": "Python 3 (ipykernel)",
   "language": "python",
   "name": "python3"
  },
  "language_info": {
   "codemirror_mode": {
    "name": "ipython",
    "version": 3
   },
   "file_extension": ".py",
   "mimetype": "text/x-python",
   "name": "python",
   "nbconvert_exporter": "python",
   "pygments_lexer": "ipython3",
   "version": "3.11.7"
  }
 },
 "nbformat": 4,
 "nbformat_minor": 5
}
